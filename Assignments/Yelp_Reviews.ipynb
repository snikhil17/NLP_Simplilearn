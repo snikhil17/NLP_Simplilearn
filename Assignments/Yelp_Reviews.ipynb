{
  "nbformat": 4,
  "nbformat_minor": 0,
  "metadata": {
    "colab": {
      "name": "Yelp_Reviews.ipynb",
      "provenance": [],
      "authorship_tag": "ABX9TyOsPzD3ORStMwPmzBivCwGe",
      "include_colab_link": true
    },
    "kernelspec": {
      "display_name": "Python 3",
      "name": "python3"
    },
    "language_info": {
      "name": "python"
    }
  },
  "cells": [
    {
      "cell_type": "markdown",
      "metadata": {
        "id": "view-in-github",
        "colab_type": "text"
      },
      "source": [
        "<a href=\"https://colab.research.google.com/github/snikhil17/NLP_course_Simplilearn/blob/main/Assignments/Yelp_Reviews.ipynb\" target=\"_parent\"><img src=\"https://colab.research.google.com/assets/colab-badge.svg\" alt=\"Open In Colab\"/></a>"
      ]
    },
    {
      "cell_type": "markdown",
      "metadata": {
        "id": "LRu7msbhVk9M"
      },
      "source": [
        "## **Home Assignment**\n",
        "- Nikhil Shrestha"
      ]
    },
    {
      "cell_type": "markdown",
      "metadata": {
        "id": "VGobom-cVJEO"
      },
      "source": [
        "## **Problem Statement Home Assignment**\n",
        "\n",
        "- Dataset: **yelp**\n",
        "\n",
        "- **SL = 0.45**\n",
        "\n",
        "- **Task1: Perform EDA on the dataset**\n",
        "- **Task2: You need to create a model that can predict the ``rating`` the customer may provide in ``final feedback`` based on the ``review received by the customer.``**"
      ]
    },
    {
      "cell_type": "markdown",
      "metadata": {
        "id": "L18d5meqxGdN"
      },
      "source": [
        "## **Reference for Data Dictionary**"
      ]
    },
    {
      "cell_type": "markdown",
      "metadata": {
        "id": "AEW8jeerjrh2"
      },
      "source": [
        "About Dataset: https://www.yelp.com/dataset/documentation/main\n",
        "\n",
        "    // integer, number of useful votes received\n",
        "    \"useful\": 0,\n",
        "\n",
        "    // integer, number of funny votes received\n",
        "    \"funny\": 0,\n",
        "\n",
        "    // integer, number of cool votes received\n",
        "    \"cool\": 0"
      ]
    },
    {
      "cell_type": "markdown",
      "metadata": {
        "id": "Nig2-HNmxDZz"
      },
      "source": [
        "## **Aquiring Data**"
      ]
    },
    {
      "cell_type": "code",
      "metadata": {
        "colab": {
          "base_uri": "https://localhost:8080/"
        },
        "id": "y4m8D9p156pz",
        "outputId": "541a05d8-8a20-44f4-e98f-fb3b30d7687d"
      },
      "source": [
        "!wget https://raw.githubusercontent.com/snikhil17/NLP_course_Simplilearn/main/Assignments/yelp.csv"
      ],
      "execution_count": 1,
      "outputs": [
        {
          "output_type": "stream",
          "name": "stdout",
          "text": [
            "--2021-11-27 04:34:28--  https://raw.githubusercontent.com/snikhil17/NLP_course_Simplilearn/main/Assignments/yelp.csv\n",
            "Resolving raw.githubusercontent.com (raw.githubusercontent.com)... 185.199.111.133, 185.199.110.133, 185.199.109.133, ...\n",
            "Connecting to raw.githubusercontent.com (raw.githubusercontent.com)|185.199.111.133|:443... connected.\n",
            "HTTP request sent, awaiting response... 200 OK\n",
            "Length: 8091185 (7.7M) [text/plain]\n",
            "Saving to: ‘yelp.csv’\n",
            "\n",
            "yelp.csv            100%[===================>]   7.72M  --.-KB/s    in 0.09s   \n",
            "\n",
            "2021-11-27 04:34:29 (86.8 MB/s) - ‘yelp.csv’ saved [8091185/8091185]\n",
            "\n"
          ]
        }
      ]
    },
    {
      "cell_type": "markdown",
      "metadata": {
        "id": "Pil22GKkxPEU"
      },
      "source": [
        "## **Loading Libraries**"
      ]
    },
    {
      "cell_type": "code",
      "metadata": {
        "colab": {
          "base_uri": "https://localhost:8080/"
        },
        "id": "EOrewx3LBvfy",
        "outputId": "7791fc47-2bac-46a5-904e-1f9f7643e94a"
      },
      "source": [
        "import pandas as pd\n",
        "import matplotlib.pyplot as plt\n",
        "%matplotlib inline\n",
        "import seaborn as sns\n",
        "import warnings \n",
        "warnings.filterwarnings('ignore')\n",
        "import datetime as dt\n",
        "\n",
        "import re\n",
        "import nltk\n",
        "nltk.download('vader_lexicon')\n",
        "from nltk.sentiment.vader import SentimentIntensityAnalyzer\n",
        "sentimentAnalyser = SentimentIntensityAnalyzer()\n",
        "from nltk.corpus import stopwords\n",
        "nltk.download('stopwords')\n",
        "import string\n",
        "\n",
        "from nltk.stem.porter import PorterStemmer\n",
        "from sklearn.feature_extraction.text import CountVectorizer, TfidfTransformer\n",
        "\n",
        "from sklearn.tree import DecisionTreeClassifier\n",
        "from xgboost import XGBClassifier\n",
        "from sklearn.naive_bayes import GaussianNB, MultinomialNB, CategoricalNB\n",
        "from sklearn.neighbors import KNeighborsClassifier\n",
        "from sklearn.neural_network import MLPClassifier\n",
        "from sklearn.ensemble  import GradientBoostingClassifier, AdaBoostClassifier\n",
        "from sklearn import metrics\n",
        "from sklearn.model_selection import cross_val_score\n",
        "from sklearn.ensemble import RandomForestClassifier, GradientBoostingClassifier\n",
        "from sklearn.model_selection import train_test_split, StratifiedKFold\n",
        "import statistics\n",
        "\n",
        "import warnings\n",
        "warnings.filterwarnings('ignore')"
      ],
      "execution_count": 2,
      "outputs": [
        {
          "output_type": "stream",
          "name": "stdout",
          "text": [
            "[nltk_data] Downloading package vader_lexicon to /root/nltk_data...\n",
            "[nltk_data] Downloading package stopwords to /root/nltk_data...\n",
            "[nltk_data]   Unzipping corpora/stopwords.zip.\n"
          ]
        }
      ]
    },
    {
      "cell_type": "markdown",
      "metadata": {
        "id": "KC3wHIoExSbR"
      },
      "source": [
        "## **Loading Data**"
      ]
    },
    {
      "cell_type": "code",
      "metadata": {
        "colab": {
          "base_uri": "https://localhost:8080/",
          "height": 206
        },
        "id": "ffO_mndBB2MU",
        "outputId": "ab01bfd5-8c9d-4de2-d55c-f995308fd659"
      },
      "source": [
        "df = pd.read_csv('yelp.csv')\n",
        "df.head()"
      ],
      "execution_count": 3,
      "outputs": [
        {
          "output_type": "execute_result",
          "data": {
            "text/html": [
              "<div>\n",
              "<style scoped>\n",
              "    .dataframe tbody tr th:only-of-type {\n",
              "        vertical-align: middle;\n",
              "    }\n",
              "\n",
              "    .dataframe tbody tr th {\n",
              "        vertical-align: top;\n",
              "    }\n",
              "\n",
              "    .dataframe thead th {\n",
              "        text-align: right;\n",
              "    }\n",
              "</style>\n",
              "<table border=\"1\" class=\"dataframe\">\n",
              "  <thead>\n",
              "    <tr style=\"text-align: right;\">\n",
              "      <th></th>\n",
              "      <th>business_id</th>\n",
              "      <th>date</th>\n",
              "      <th>review_id</th>\n",
              "      <th>stars</th>\n",
              "      <th>text</th>\n",
              "      <th>type</th>\n",
              "      <th>user_id</th>\n",
              "      <th>cool</th>\n",
              "      <th>useful</th>\n",
              "      <th>funny</th>\n",
              "    </tr>\n",
              "  </thead>\n",
              "  <tbody>\n",
              "    <tr>\n",
              "      <th>0</th>\n",
              "      <td>9yKzy9PApeiPPOUJEtnvkg</td>\n",
              "      <td>2011-01-26</td>\n",
              "      <td>fWKvX83p0-ka4JS3dc6E5A</td>\n",
              "      <td>5</td>\n",
              "      <td>My wife took me here on my birthday for breakf...</td>\n",
              "      <td>review</td>\n",
              "      <td>rLtl8ZkDX5vH5nAx9C3q5Q</td>\n",
              "      <td>2</td>\n",
              "      <td>5</td>\n",
              "      <td>0</td>\n",
              "    </tr>\n",
              "    <tr>\n",
              "      <th>1</th>\n",
              "      <td>ZRJwVLyzEJq1VAihDhYiow</td>\n",
              "      <td>2011-07-27</td>\n",
              "      <td>IjZ33sJrzXqU-0X6U8NwyA</td>\n",
              "      <td>5</td>\n",
              "      <td>I have no idea why some people give bad review...</td>\n",
              "      <td>review</td>\n",
              "      <td>0a2KyEL0d3Yb1V6aivbIuQ</td>\n",
              "      <td>0</td>\n",
              "      <td>0</td>\n",
              "      <td>0</td>\n",
              "    </tr>\n",
              "    <tr>\n",
              "      <th>2</th>\n",
              "      <td>6oRAC4uyJCsJl1X0WZpVSA</td>\n",
              "      <td>2012-06-14</td>\n",
              "      <td>IESLBzqUCLdSzSqm0eCSxQ</td>\n",
              "      <td>4</td>\n",
              "      <td>love the gyro plate. Rice is so good and I als...</td>\n",
              "      <td>review</td>\n",
              "      <td>0hT2KtfLiobPvh6cDC8JQg</td>\n",
              "      <td>0</td>\n",
              "      <td>1</td>\n",
              "      <td>0</td>\n",
              "    </tr>\n",
              "    <tr>\n",
              "      <th>3</th>\n",
              "      <td>_1QQZuf4zZOyFCvXc0o6Vg</td>\n",
              "      <td>2010-05-27</td>\n",
              "      <td>G-WvGaISbqqaMHlNnByodA</td>\n",
              "      <td>5</td>\n",
              "      <td>Rosie, Dakota, and I LOVE Chaparral Dog Park!!...</td>\n",
              "      <td>review</td>\n",
              "      <td>uZetl9T0NcROGOyFfughhg</td>\n",
              "      <td>1</td>\n",
              "      <td>2</td>\n",
              "      <td>0</td>\n",
              "    </tr>\n",
              "    <tr>\n",
              "      <th>4</th>\n",
              "      <td>6ozycU1RpktNG2-1BroVtw</td>\n",
              "      <td>2012-01-05</td>\n",
              "      <td>1uJFq2r5QfJG_6ExMRCaGw</td>\n",
              "      <td>5</td>\n",
              "      <td>General Manager Scott Petello is a good egg!!!...</td>\n",
              "      <td>review</td>\n",
              "      <td>vYmM4KTsC8ZfQBg-j5MWkw</td>\n",
              "      <td>0</td>\n",
              "      <td>0</td>\n",
              "      <td>0</td>\n",
              "    </tr>\n",
              "  </tbody>\n",
              "</table>\n",
              "</div>"
            ],
            "text/plain": [
              "              business_id        date  ... useful  funny\n",
              "0  9yKzy9PApeiPPOUJEtnvkg  2011-01-26  ...      5      0\n",
              "1  ZRJwVLyzEJq1VAihDhYiow  2011-07-27  ...      0      0\n",
              "2  6oRAC4uyJCsJl1X0WZpVSA  2012-06-14  ...      1      0\n",
              "3  _1QQZuf4zZOyFCvXc0o6Vg  2010-05-27  ...      2      0\n",
              "4  6ozycU1RpktNG2-1BroVtw  2012-01-05  ...      0      0\n",
              "\n",
              "[5 rows x 10 columns]"
            ]
          },
          "metadata": {},
          "execution_count": 3
        }
      ]
    },
    {
      "cell_type": "code",
      "metadata": {
        "colab": {
          "base_uri": "https://localhost:8080/"
        },
        "id": "Byf2zInSB9Xo",
        "outputId": "fd0255c3-8ea6-4448-8054-bcf4be8c0da2"
      },
      "source": [
        "df.info()"
      ],
      "execution_count": 4,
      "outputs": [
        {
          "output_type": "stream",
          "name": "stdout",
          "text": [
            "<class 'pandas.core.frame.DataFrame'>\n",
            "RangeIndex: 10000 entries, 0 to 9999\n",
            "Data columns (total 10 columns):\n",
            " #   Column       Non-Null Count  Dtype \n",
            "---  ------       --------------  ----- \n",
            " 0   business_id  10000 non-null  object\n",
            " 1   date         10000 non-null  object\n",
            " 2   review_id    10000 non-null  object\n",
            " 3   stars        10000 non-null  int64 \n",
            " 4   text         10000 non-null  object\n",
            " 5   type         10000 non-null  object\n",
            " 6   user_id      10000 non-null  object\n",
            " 7   cool         10000 non-null  int64 \n",
            " 8   useful       10000 non-null  int64 \n",
            " 9   funny        10000 non-null  int64 \n",
            "dtypes: int64(4), object(6)\n",
            "memory usage: 781.4+ KB\n"
          ]
        }
      ]
    },
    {
      "cell_type": "markdown",
      "metadata": {
        "id": "CCXtvEJPxZtM"
      },
      "source": [
        "## **Checking:** \n",
        " - Null Values\n",
        " - Duplicates\n",
        " - Constant Variable: Variable with only one value"
      ]
    },
    {
      "cell_type": "code",
      "metadata": {
        "colab": {
          "base_uri": "https://localhost:8080/"
        },
        "id": "sQMsfDz2xjyY",
        "outputId": "7e911140-d712-4c66-8705-d92bd2b35fb4"
      },
      "source": [
        "print(f\"Number of Missing Values: {df.isnull().sum().sum()}\")\n",
        "print(f\"Number of Duplicates: {df.duplicated().sum()}\")\n",
        "print(f\"Number of Constant Variables: {(df.nunique()==1).sum()}\")"
      ],
      "execution_count": 5,
      "outputs": [
        {
          "output_type": "stream",
          "name": "stdout",
          "text": [
            "Number of Missing Values: 0\n",
            "Number of Duplicates: 0\n",
            "Number of Constant Variables: 1\n"
          ]
        }
      ]
    },
    {
      "cell_type": "code",
      "metadata": {
        "colab": {
          "base_uri": "https://localhost:8080/"
        },
        "id": "8mZ0U8uHCCVM",
        "outputId": "95bbb809-4baa-4ef4-ddfd-aaf35667b5c4"
      },
      "source": [
        "# Which Variable is the constant variable\n",
        "(df.nunique()==1)"
      ],
      "execution_count": 6,
      "outputs": [
        {
          "output_type": "execute_result",
          "data": {
            "text/plain": [
              "business_id    False\n",
              "date           False\n",
              "review_id      False\n",
              "stars          False\n",
              "text           False\n",
              "type            True\n",
              "user_id        False\n",
              "cool           False\n",
              "useful         False\n",
              "funny          False\n",
              "dtype: bool"
            ]
          },
          "metadata": {},
          "execution_count": 6
        }
      ]
    },
    {
      "cell_type": "code",
      "metadata": {
        "id": "avJTRXv1CRCo"
      },
      "source": [
        "# Dropping Constant Variable (type) from the Dataset\n",
        "df.drop('type', axis=1, inplace=True)"
      ],
      "execution_count": 7,
      "outputs": []
    },
    {
      "cell_type": "markdown",
      "metadata": {
        "id": "boSp_oAVyngD"
      },
      "source": [
        "## **Converting date column from string to datetime format**"
      ]
    },
    {
      "cell_type": "code",
      "metadata": {
        "id": "_4oEGMCYWbfu"
      },
      "source": [
        "df.date = df.date.apply(lambda x: dt.datetime.strptime(x, '%Y-%m-%d'))"
      ],
      "execution_count": 8,
      "outputs": []
    },
    {
      "cell_type": "markdown",
      "metadata": {
        "id": "1aBC_7akzADL"
      },
      "source": [
        "# **Task1: Perform EDA on the dataset**"
      ]
    },
    {
      "cell_type": "code",
      "metadata": {
        "colab": {
          "base_uri": "https://localhost:8080/"
        },
        "id": "3pq3NccSWzWL",
        "outputId": "fe76829d-ca2f-4c11-bfcc-41b572d136ec"
      },
      "source": [
        "\"\"\"Checking if data is balanced or unbalanced\"\"\"\n",
        "df.stars.value_counts()"
      ],
      "execution_count": 9,
      "outputs": [
        {
          "output_type": "execute_result",
          "data": {
            "text/plain": [
              "4    3526\n",
              "5    3337\n",
              "3    1461\n",
              "2     927\n",
              "1     749\n",
              "Name: stars, dtype: int64"
            ]
          },
          "metadata": {},
          "execution_count": 9
        }
      ]
    },
    {
      "cell_type": "code",
      "metadata": {
        "colab": {
          "base_uri": "https://localhost:8080/",
          "height": 585
        },
        "id": "hIKR9ameWh3D",
        "outputId": "d8301aa5-97f6-4a07-9f38-c49feab2f2ce"
      },
      "source": [
        "plt.figure(figsize= (16,8))\n",
        "for i,col in enumerate(['stars' ,\t'cool', \t'useful' ,\t'funny']):\n",
        "  plt.subplot(2,2, i+1)\n",
        "  sns.countplot(df[col], palette = 'copper_r')\n",
        "  plt.tight_layout()"
      ],
      "execution_count": 10,
      "outputs": [
        {
          "output_type": "display_data",
          "data": {
            "image/png": "[encoded data removed]",
            "text/plain": [
              "<Figure size 1152x576 with 4 Axes>"
            ]
          },
          "metadata": {
            "needs_background": "light"
          }
        }
      ]
    },
    {
      "cell_type": "markdown",
      "metadata": {
        "id": "0mWD8PC_zIl3"
      },
      "source": [
        "### **Observations:**\n",
        "---\n",
        "- **Data is unbalanced because ``stars`` variable has different value counts.**\n",
        "- Most reviews given in order : 4, 5, 3\n",
        "- In terms of votes reveived as cool, useful and funny we can observe that Most of the time people didnt vote, i.e. vote is 0. \n",
        "- But there are times when people have also voted a lot, specifically, **cool has highest of 77 votes**, **useful: 76** and **funny: 57**\n"
      ]
    },
    {
      "cell_type": "markdown",
      "metadata": {
        "id": "MuH-ymI12swW"
      },
      "source": [
        "## **Top-10 users in terms of Number of Reviews**"
      ]
    },
    {
      "cell_type": "code",
      "metadata": {
        "colab": {
          "base_uri": "https://localhost:8080/",
          "height": 444
        },
        "id": "kMhEMOgmXC71",
        "outputId": "49e4c41b-3e4d-4d92-ee2e-cb23908a65a3"
      },
      "source": [
        "user_agg=df.groupby('user_id').agg({'review_id':['count'],'date':['min','max'],\n",
        "                                'useful':['sum'],'funny':['sum'],'cool':['sum'],\n",
        "                               'stars':['mean']})\n",
        "\n",
        "print(\"          Top 10 Users in Yelp\")\n",
        "user_agg.sort_values([('review_id','count')],ascending=False).head(10)\n"
      ],
      "execution_count": 11,
      "outputs": [
        {
          "output_type": "stream",
          "name": "stdout",
          "text": [
            "          Top 10 Users in Yelp\n"
          ]
        },
        {
          "output_type": "execute_result",
          "data": {
            "text/html": [
              "<div>\n",
              "<style scoped>\n",
              "    .dataframe tbody tr th:only-of-type {\n",
              "        vertical-align: middle;\n",
              "    }\n",
              "\n",
              "    .dataframe tbody tr th {\n",
              "        vertical-align: top;\n",
              "    }\n",
              "\n",
              "    .dataframe thead tr th {\n",
              "        text-align: left;\n",
              "    }\n",
              "\n",
              "    .dataframe thead tr:last-of-type th {\n",
              "        text-align: right;\n",
              "    }\n",
              "</style>\n",
              "<table border=\"1\" class=\"dataframe\">\n",
              "  <thead>\n",
              "    <tr>\n",
              "      <th></th>\n",
              "      <th>review_id</th>\n",
              "      <th colspan=\"2\" halign=\"left\">date</th>\n",
              "      <th>useful</th>\n",
              "      <th>funny</th>\n",
              "      <th>cool</th>\n",
              "      <th>stars</th>\n",
              "    </tr>\n",
              "    <tr>\n",
              "      <th></th>\n",
              "      <th>count</th>\n",
              "      <th>min</th>\n",
              "      <th>max</th>\n",
              "      <th>sum</th>\n",
              "      <th>sum</th>\n",
              "      <th>sum</th>\n",
              "      <th>mean</th>\n",
              "    </tr>\n",
              "    <tr>\n",
              "      <th>user_id</th>\n",
              "      <th></th>\n",
              "      <th></th>\n",
              "      <th></th>\n",
              "      <th></th>\n",
              "      <th></th>\n",
              "      <th></th>\n",
              "      <th></th>\n",
              "    </tr>\n",
              "  </thead>\n",
              "  <tbody>\n",
              "    <tr>\n",
              "      <th>fczQCSmaWF78toLEmb0Zsw</th>\n",
              "      <td>38</td>\n",
              "      <td>2007-12-14</td>\n",
              "      <td>2012-07-19</td>\n",
              "      <td>293</td>\n",
              "      <td>147</td>\n",
              "      <td>263</td>\n",
              "      <td>4.131579</td>\n",
              "    </tr>\n",
              "    <tr>\n",
              "      <th>0CMz8YaO3f8xu4KqQgKb9Q</th>\n",
              "      <td>25</td>\n",
              "      <td>2007-01-22</td>\n",
              "      <td>2007-07-20</td>\n",
              "      <td>45</td>\n",
              "      <td>34</td>\n",
              "      <td>44</td>\n",
              "      <td>4.120000</td>\n",
              "    </tr>\n",
              "    <tr>\n",
              "      <th>90a6z--_CUrl84aCzZyPsg</th>\n",
              "      <td>22</td>\n",
              "      <td>2008-02-27</td>\n",
              "      <td>2012-07-23</td>\n",
              "      <td>59</td>\n",
              "      <td>22</td>\n",
              "      <td>44</td>\n",
              "      <td>3.954545</td>\n",
              "    </tr>\n",
              "    <tr>\n",
              "      <th>4ozupHULqGyO42s3zNUzOQ</th>\n",
              "      <td>18</td>\n",
              "      <td>2010-06-26</td>\n",
              "      <td>2012-12-10</td>\n",
              "      <td>130</td>\n",
              "      <td>59</td>\n",
              "      <td>97</td>\n",
              "      <td>4.388889</td>\n",
              "    </tr>\n",
              "    <tr>\n",
              "      <th>0mqHhdKEdak_A1FBhFNXqA</th>\n",
              "      <td>18</td>\n",
              "      <td>2010-04-19</td>\n",
              "      <td>2012-10-19</td>\n",
              "      <td>12</td>\n",
              "      <td>11</td>\n",
              "      <td>2</td>\n",
              "      <td>3.055556</td>\n",
              "    </tr>\n",
              "    <tr>\n",
              "      <th>wHg1YkCzdZq9WBJOTRgxHQ</th>\n",
              "      <td>17</td>\n",
              "      <td>2008-06-13</td>\n",
              "      <td>2012-02-01</td>\n",
              "      <td>100</td>\n",
              "      <td>79</td>\n",
              "      <td>89</td>\n",
              "      <td>3.823529</td>\n",
              "    </tr>\n",
              "    <tr>\n",
              "      <th>0bNXP9quoJEgyVZu9ipGgQ</th>\n",
              "      <td>16</td>\n",
              "      <td>2008-12-05</td>\n",
              "      <td>2012-04-28</td>\n",
              "      <td>115</td>\n",
              "      <td>58</td>\n",
              "      <td>88</td>\n",
              "      <td>2.875000</td>\n",
              "    </tr>\n",
              "    <tr>\n",
              "      <th>_PzSNcfrCjeBxSLXRoMmgQ</th>\n",
              "      <td>16</td>\n",
              "      <td>2009-11-11</td>\n",
              "      <td>2013-01-04</td>\n",
              "      <td>23</td>\n",
              "      <td>13</td>\n",
              "      <td>17</td>\n",
              "      <td>3.750000</td>\n",
              "    </tr>\n",
              "    <tr>\n",
              "      <th>JgDkCER12uiv4lbpmkZ9VA</th>\n",
              "      <td>15</td>\n",
              "      <td>2008-05-27</td>\n",
              "      <td>2011-01-29</td>\n",
              "      <td>30</td>\n",
              "      <td>15</td>\n",
              "      <td>15</td>\n",
              "      <td>2.933333</td>\n",
              "    </tr>\n",
              "    <tr>\n",
              "      <th>joIzw_aUiNvBTuGoytrH7g</th>\n",
              "      <td>15</td>\n",
              "      <td>2009-03-29</td>\n",
              "      <td>2012-01-12</td>\n",
              "      <td>34</td>\n",
              "      <td>18</td>\n",
              "      <td>22</td>\n",
              "      <td>2.933333</td>\n",
              "    </tr>\n",
              "  </tbody>\n",
              "</table>\n",
              "</div>"
            ],
            "text/plain": [
              "                       review_id       date             ... funny cool     stars\n",
              "                           count        min        max  ...   sum  sum      mean\n",
              "user_id                                                 ...                     \n",
              "fczQCSmaWF78toLEmb0Zsw        38 2007-12-14 2012-07-19  ...   147  263  4.131579\n",
              "0CMz8YaO3f8xu4KqQgKb9Q        25 2007-01-22 2007-07-20  ...    34   44  4.120000\n",
              "90a6z--_CUrl84aCzZyPsg        22 2008-02-27 2012-07-23  ...    22   44  3.954545\n",
              "4ozupHULqGyO42s3zNUzOQ        18 2010-06-26 2012-12-10  ...    59   97  4.388889\n",
              "0mqHhdKEdak_A1FBhFNXqA        18 2010-04-19 2012-10-19  ...    11    2  3.055556\n",
              "wHg1YkCzdZq9WBJOTRgxHQ        17 2008-06-13 2012-02-01  ...    79   89  3.823529\n",
              "0bNXP9quoJEgyVZu9ipGgQ        16 2008-12-05 2012-04-28  ...    58   88  2.875000\n",
              "_PzSNcfrCjeBxSLXRoMmgQ        16 2009-11-11 2013-01-04  ...    13   17  3.750000\n",
              "JgDkCER12uiv4lbpmkZ9VA        15 2008-05-27 2011-01-29  ...    15   15  2.933333\n",
              "joIzw_aUiNvBTuGoytrH7g        15 2009-03-29 2012-01-12  ...    18   22  2.933333\n",
              "\n",
              "[10 rows x 7 columns]"
            ]
          },
          "metadata": {},
          "execution_count": 11
        }
      ]
    },
    {
      "cell_type": "markdown",
      "metadata": {
        "id": "WEVvKwne0YOe"
      },
      "source": [
        "### **Table Details:**\n",
        "---\n",
        "- Above table shows ``Top 10 users in Yelp`` in terms of number of reviews given by them.\n",
        "- Since ``review_id`` is has all unique values, review_id is used to display the count of user (when grouped). Hence, it represents the ``number of reviews given by the user``.\n",
        "- ``Date min and max date``, which represents user's first and the last review date.\n",
        "- Sum of funny cool and useful votes shows how many times a user had found review as funny cool or useful. \n",
        "- Mean of ``stars`` given by user in his/her review.\n",
        "\n",
        "### **Observations:**\n",
        "---\n",
        "- Top user have given 38 reviews\n",
        "- Top user is also actively voting the reviews, which proves that user is reading the reviews and hence spending more time on the site.\n"
      ]
    },
    {
      "cell_type": "markdown",
      "metadata": {
        "id": "wSq8UPM724EU"
      },
      "source": [
        "## **Top-10 ``business`` in terms of Number of Reviews and Stars**"
      ]
    },
    {
      "cell_type": "code",
      "metadata": {
        "id": "hkhURqByi-nE"
      },
      "source": [
        "business_agg=df.groupby('business_id').agg({'review_id':['count'],'date':['min','max'],\n",
        "                                'useful':['sum'],'funny':['sum'],'cool':['sum'],\n",
        "                               'stars':['mean']})"
      ],
      "execution_count": 12,
      "outputs": []
    },
    {
      "cell_type": "code",
      "metadata": {
        "colab": {
          "base_uri": "https://localhost:8080/",
          "height": 444
        },
        "id": "MHWfNV5Gj93Q",
        "outputId": "fad73fcd-bb3f-4f74-9b23-1bcd36ba1489"
      },
      "source": [
        "print(\"          Top 10 business in terms of Number of Reviews and Stars in Yelp\")\n",
        "business_agg.sort_values([('review_id','count'), ('stars','mean')],ascending=False).head(10)"
      ],
      "execution_count": 13,
      "outputs": [
        {
          "output_type": "stream",
          "name": "stdout",
          "text": [
            "          Top 10 business in terms of Number of Reviews and Stars in Yelp\n"
          ]
        },
        {
          "output_type": "execute_result",
          "data": {
            "text/html": [
              "<div>\n",
              "<style scoped>\n",
              "    .dataframe tbody tr th:only-of-type {\n",
              "        vertical-align: middle;\n",
              "    }\n",
              "\n",
              "    .dataframe tbody tr th {\n",
              "        vertical-align: top;\n",
              "    }\n",
              "\n",
              "    .dataframe thead tr th {\n",
              "        text-align: left;\n",
              "    }\n",
              "\n",
              "    .dataframe thead tr:last-of-type th {\n",
              "        text-align: right;\n",
              "    }\n",
              "</style>\n",
              "<table border=\"1\" class=\"dataframe\">\n",
              "  <thead>\n",
              "    <tr>\n",
              "      <th></th>\n",
              "      <th>review_id</th>\n",
              "      <th colspan=\"2\" halign=\"left\">date</th>\n",
              "      <th>useful</th>\n",
              "      <th>funny</th>\n",
              "      <th>cool</th>\n",
              "      <th>stars</th>\n",
              "    </tr>\n",
              "    <tr>\n",
              "      <th></th>\n",
              "      <th>count</th>\n",
              "      <th>min</th>\n",
              "      <th>max</th>\n",
              "      <th>sum</th>\n",
              "      <th>sum</th>\n",
              "      <th>sum</th>\n",
              "      <th>mean</th>\n",
              "    </tr>\n",
              "    <tr>\n",
              "      <th>business_id</th>\n",
              "      <th></th>\n",
              "      <th></th>\n",
              "      <th></th>\n",
              "      <th></th>\n",
              "      <th></th>\n",
              "      <th></th>\n",
              "      <th></th>\n",
              "    </tr>\n",
              "  </thead>\n",
              "  <tbody>\n",
              "    <tr>\n",
              "      <th>JokKtdXU7zXHcr20Lrk29A</th>\n",
              "      <td>37</td>\n",
              "      <td>2008-01-14</td>\n",
              "      <td>2012-09-30</td>\n",
              "      <td>34</td>\n",
              "      <td>17</td>\n",
              "      <td>26</td>\n",
              "      <td>4.513514</td>\n",
              "    </tr>\n",
              "    <tr>\n",
              "      <th>ntN85eu27C04nwyPa8IHtw</th>\n",
              "      <td>37</td>\n",
              "      <td>2006-05-12</td>\n",
              "      <td>2012-12-31</td>\n",
              "      <td>37</td>\n",
              "      <td>16</td>\n",
              "      <td>24</td>\n",
              "      <td>3.945946</td>\n",
              "    </tr>\n",
              "    <tr>\n",
              "      <th>hW0Ne_HTHEAgGF1rAdmR-g</th>\n",
              "      <td>34</td>\n",
              "      <td>2008-12-07</td>\n",
              "      <td>2012-10-27</td>\n",
              "      <td>67</td>\n",
              "      <td>66</td>\n",
              "      <td>50</td>\n",
              "      <td>3.264706</td>\n",
              "    </tr>\n",
              "    <tr>\n",
              "      <th>WNy1uzcmm_UHmTyR--o5IA</th>\n",
              "      <td>32</td>\n",
              "      <td>2008-12-26</td>\n",
              "      <td>2012-10-23</td>\n",
              "      <td>45</td>\n",
              "      <td>21</td>\n",
              "      <td>30</td>\n",
              "      <td>4.343750</td>\n",
              "    </tr>\n",
              "    <tr>\n",
              "      <th>VVeogjZya58oiTxK7qUjAQ</th>\n",
              "      <td>31</td>\n",
              "      <td>2007-11-16</td>\n",
              "      <td>2012-09-17</td>\n",
              "      <td>79</td>\n",
              "      <td>30</td>\n",
              "      <td>47</td>\n",
              "      <td>4.193548</td>\n",
              "    </tr>\n",
              "    <tr>\n",
              "      <th>V1nEpIRmEa1768oj_tuxeQ</th>\n",
              "      <td>30</td>\n",
              "      <td>2008-06-10</td>\n",
              "      <td>2012-12-16</td>\n",
              "      <td>45</td>\n",
              "      <td>20</td>\n",
              "      <td>37</td>\n",
              "      <td>4.333333</td>\n",
              "    </tr>\n",
              "    <tr>\n",
              "      <th>SDwYQ6eSu1htn8vHWv128g</th>\n",
              "      <td>25</td>\n",
              "      <td>2006-01-25</td>\n",
              "      <td>2012-11-19</td>\n",
              "      <td>27</td>\n",
              "      <td>11</td>\n",
              "      <td>16</td>\n",
              "      <td>4.240000</td>\n",
              "    </tr>\n",
              "    <tr>\n",
              "      <th>uKSX1n1RoAzGq4bV8GPHVg</th>\n",
              "      <td>25</td>\n",
              "      <td>2010-01-28</td>\n",
              "      <td>2012-12-30</td>\n",
              "      <td>29</td>\n",
              "      <td>19</td>\n",
              "      <td>10</td>\n",
              "      <td>3.920000</td>\n",
              "    </tr>\n",
              "    <tr>\n",
              "      <th>-sC66z4SO3tR7nFCjfQwuQ</th>\n",
              "      <td>24</td>\n",
              "      <td>2009-06-30</td>\n",
              "      <td>2012-12-06</td>\n",
              "      <td>50</td>\n",
              "      <td>28</td>\n",
              "      <td>40</td>\n",
              "      <td>4.458333</td>\n",
              "    </tr>\n",
              "    <tr>\n",
              "      <th>EWMwV5V9BxNs_U6nNVMeqw</th>\n",
              "      <td>24</td>\n",
              "      <td>2006-06-12</td>\n",
              "      <td>2012-11-25</td>\n",
              "      <td>57</td>\n",
              "      <td>31</td>\n",
              "      <td>50</td>\n",
              "      <td>4.166667</td>\n",
              "    </tr>\n",
              "  </tbody>\n",
              "</table>\n",
              "</div>"
            ],
            "text/plain": [
              "                       review_id       date             ... funny cool     stars\n",
              "                           count        min        max  ...   sum  sum      mean\n",
              "business_id                                             ...                     \n",
              "JokKtdXU7zXHcr20Lrk29A        37 2008-01-14 2012-09-30  ...    17   26  4.513514\n",
              "ntN85eu27C04nwyPa8IHtw        37 2006-05-12 2012-12-31  ...    16   24  3.945946\n",
              "hW0Ne_HTHEAgGF1rAdmR-g        34 2008-12-07 2012-10-27  ...    66   50  3.264706\n",
              "WNy1uzcmm_UHmTyR--o5IA        32 2008-12-26 2012-10-23  ...    21   30  4.343750\n",
              "VVeogjZya58oiTxK7qUjAQ        31 2007-11-16 2012-09-17  ...    30   47  4.193548\n",
              "V1nEpIRmEa1768oj_tuxeQ        30 2008-06-10 2012-12-16  ...    20   37  4.333333\n",
              "SDwYQ6eSu1htn8vHWv128g        25 2006-01-25 2012-11-19  ...    11   16  4.240000\n",
              "uKSX1n1RoAzGq4bV8GPHVg        25 2010-01-28 2012-12-30  ...    19   10  3.920000\n",
              "-sC66z4SO3tR7nFCjfQwuQ        24 2009-06-30 2012-12-06  ...    28   40  4.458333\n",
              "EWMwV5V9BxNs_U6nNVMeqw        24 2006-06-12 2012-11-25  ...    31   50  4.166667\n",
              "\n",
              "[10 rows x 7 columns]"
            ]
          },
          "metadata": {},
          "execution_count": 13
        }
      ]
    },
    {
      "cell_type": "markdown",
      "metadata": {
        "id": "9-dwdlxk3OfX"
      },
      "source": [
        "### **Table Details:**\n",
        "---\n",
        "- Above table shows ``business`` in terms of Number of Reviews and Stars.\n",
        "- Since ``review_id`` is has all unique values, review_id is used to display the count of ``business_id`` (when grouped). Hence, it represents the ``number of reviews obtained by business``.\n",
        "- ``Date min and max date``, which represents user's first and the last review obtained.\n",
        "- Sum of funny cool and useful votes shows how many times a business_review was considered: useful, funny, cool. \n",
        "- Median of ``stars`` obtained by business.\n",
        "\n",
        "### **Observations:**\n",
        "---\n",
        "- Top business (in terms of reviews and stars) have reveived 37 reviews and stars mean is 4.5.\n",
        "- Top business received 32 useful votes, out of which 34 times users found the reviews useful.\n",
        "- But if we observe 5th business_id, we will see that it has received 31 reviews and 79 users have found that as useful review, and mean rating given to 5th observation is 4.1 (approx). "
      ]
    },
    {
      "cell_type": "markdown",
      "metadata": {
        "id": "Nfp1E6DY7nBN"
      },
      "source": [
        "## **Checking the impact of lenght of text in review written:**\n",
        "- Just a thought, very bad reviews are usually longer than very good reviews.\n",
        "- Let's check this"
      ]
    },
    {
      "cell_type": "code",
      "metadata": {
        "id": "tLg2uGAsOSFT"
      },
      "source": [
        "df1 = df.copy()"
      ],
      "execution_count": 14,
      "outputs": []
    },
    {
      "cell_type": "code",
      "metadata": {
        "id": "YOGKufzlMKFG"
      },
      "source": [
        "df1['num_char_review'] = df1['text'].apply(lambda x :  len(x)) # Creating a new column 'num_char_review'"
      ],
      "execution_count": 15,
      "outputs": []
    },
    {
      "cell_type": "code",
      "metadata": {
        "colab": {
          "base_uri": "https://localhost:8080/",
          "height": 143
        },
        "id": "CKGv8J5uOYGC",
        "outputId": "be5c17c4-df5a-408e-dfae-f25af79d08ff"
      },
      "source": [
        "df1.drop('text', axis =1, inplace = True)  # Dropping 'text' col from df1 dataset\n",
        "df1.head(3)                                # Printing first 3 rows of df1."
      ],
      "execution_count": 16,
      "outputs": [
        {
          "output_type": "execute_result",
          "data": {
            "text/html": [
              "<div>\n",
              "<style scoped>\n",
              "    .dataframe tbody tr th:only-of-type {\n",
              "        vertical-align: middle;\n",
              "    }\n",
              "\n",
              "    .dataframe tbody tr th {\n",
              "        vertical-align: top;\n",
              "    }\n",
              "\n",
              "    .dataframe thead th {\n",
              "        text-align: right;\n",
              "    }\n",
              "</style>\n",
              "<table border=\"1\" class=\"dataframe\">\n",
              "  <thead>\n",
              "    <tr style=\"text-align: right;\">\n",
              "      <th></th>\n",
              "      <th>business_id</th>\n",
              "      <th>date</th>\n",
              "      <th>review_id</th>\n",
              "      <th>stars</th>\n",
              "      <th>user_id</th>\n",
              "      <th>cool</th>\n",
              "      <th>useful</th>\n",
              "      <th>funny</th>\n",
              "      <th>num_char_review</th>\n",
              "    </tr>\n",
              "  </thead>\n",
              "  <tbody>\n",
              "    <tr>\n",
              "      <th>0</th>\n",
              "      <td>9yKzy9PApeiPPOUJEtnvkg</td>\n",
              "      <td>2011-01-26</td>\n",
              "      <td>fWKvX83p0-ka4JS3dc6E5A</td>\n",
              "      <td>5</td>\n",
              "      <td>rLtl8ZkDX5vH5nAx9C3q5Q</td>\n",
              "      <td>2</td>\n",
              "      <td>5</td>\n",
              "      <td>0</td>\n",
              "      <td>889</td>\n",
              "    </tr>\n",
              "    <tr>\n",
              "      <th>1</th>\n",
              "      <td>ZRJwVLyzEJq1VAihDhYiow</td>\n",
              "      <td>2011-07-27</td>\n",
              "      <td>IjZ33sJrzXqU-0X6U8NwyA</td>\n",
              "      <td>5</td>\n",
              "      <td>0a2KyEL0d3Yb1V6aivbIuQ</td>\n",
              "      <td>0</td>\n",
              "      <td>0</td>\n",
              "      <td>0</td>\n",
              "      <td>1345</td>\n",
              "    </tr>\n",
              "    <tr>\n",
              "      <th>2</th>\n",
              "      <td>6oRAC4uyJCsJl1X0WZpVSA</td>\n",
              "      <td>2012-06-14</td>\n",
              "      <td>IESLBzqUCLdSzSqm0eCSxQ</td>\n",
              "      <td>4</td>\n",
              "      <td>0hT2KtfLiobPvh6cDC8JQg</td>\n",
              "      <td>0</td>\n",
              "      <td>1</td>\n",
              "      <td>0</td>\n",
              "      <td>76</td>\n",
              "    </tr>\n",
              "  </tbody>\n",
              "</table>\n",
              "</div>"
            ],
            "text/plain": [
              "              business_id       date  ... funny  num_char_review\n",
              "0  9yKzy9PApeiPPOUJEtnvkg 2011-01-26  ...     0              889\n",
              "1  ZRJwVLyzEJq1VAihDhYiow 2011-07-27  ...     0             1345\n",
              "2  6oRAC4uyJCsJl1X0WZpVSA 2012-06-14  ...     0               76\n",
              "\n",
              "[3 rows x 9 columns]"
            ]
          },
          "metadata": {},
          "execution_count": 16
        }
      ]
    },
    {
      "cell_type": "code",
      "metadata": {
        "colab": {
          "base_uri": "https://localhost:8080/",
          "height": 502
        },
        "id": "2qRz5WfIPyA1",
        "outputId": "b66d2590-6ad5-4555-bedf-371641ca55f3"
      },
      "source": [
        "plt.figure(figsize= (16,8))\n",
        "sns.barplot(x = 'stars',  y = 'num_char_review' , data = df1, palette = 'copper_r')\n",
        "plt.xlabel('stars', fontsize = 15)\n",
        "plt.ylabel('num_char_review' ,fontsize = 15)\n",
        "plt.xticks(fontsize = 10)\n",
        "plt.yticks(fontsize = 10)\n",
        "plt.show()"
      ],
      "execution_count": 17,
      "outputs": [
        {
          "output_type": "display_data",
          "data": {
            "image/png": "[encoded data removed]",
            "text/plain": [
              "<Figure size 1152x576 with 1 Axes>"
            ]
          },
          "metadata": {
            "needs_background": "light"
          }
        }
      ]
    },
    {
      "cell_type": "markdown",
      "metadata": {
        "id": "-eema9MOS3gY"
      },
      "source": [
        "## **Observation:**\n",
        "- Above plot shows bar plot between ``Stars given by user to the review`` and ``number of characters in the review``.\n",
        "- Reviews with ``1-star`` has more characters in the review than reviews with ``5-stars``"
      ]
    },
    {
      "cell_type": "markdown",
      "metadata": {
        "id": "HVZT-xlbV0B_"
      },
      "source": [
        "# **TASK- 2: Create a model that can predict the ``rating`` the customer may provide in final feedback ``based on the review received by the customer.``**\n",
        "- Use Vader to create a new column for postive and negative review based on sentimental analysis.\n",
        "- Text preprocessing\n",
        "- Use vader for sentimental analysis\n",
        "- Create generalized model with and without vader-sentimental-analysis. Use **accuracy score** to check the generalization of each model.\n",
        "- Model will be multi-class model. Classes being: **1,2,3,4,5**\n",
        "- Evaluate or check the quality of model. Since **data is unbalanced** we use **f1-score** to check the quality of each model.\n"
      ]
    },
    {
      "cell_type": "markdown",
      "metadata": {
        "id": "S_TobWtAeFf3"
      },
      "source": [
        "## **Using vader to create a new column ``labelFromVADER`` which will have value 'positive' if ``compound value`` is more than 0.5, else 'negative'**"
      ]
    },
    {
      "cell_type": "code",
      "metadata": {
        "id": "3beEXErOZNc3"
      },
      "source": [
        "df['labelFromVADER'] = df['text'].apply(lambda review: \"pos\" if sentimentAnalyser.polarity_scores(review)['compound'] > 0.5 else \"neg\")"
      ],
      "execution_count": 18,
      "outputs": []
    },
    {
      "cell_type": "markdown",
      "metadata": {
        "id": "CDzqtcF2Too_"
      },
      "source": [
        "## **Text preprocessing:**\n",
        "- Use decontracted function to decontract the words like ``don't`` -> ``do not`` etc.\n",
        "- Remove words like **not, nor, no** from english stopwords\n",
        "- Normalize (Remove Punctuations and lower case text)\n",
        "- Tokenization\n",
        "- Remove Stopwords\n",
        "- Stemming"
      ]
    },
    {
      "cell_type": "code",
      "metadata": {
        "id": "IdtEFLz1O79M"
      },
      "source": [
        "# Use decontracted function to decontract the words like don't -> do not etc.\n",
        "def decontracted(phrase):\n",
        "    # specific\n",
        "    phrase = re.sub(r\"won\\'t\", \"will not\", phrase)\n",
        "    phrase = re.sub(r\"can\\'t\", \"can not\", phrase)\n",
        "\n",
        "    # general\n",
        "    phrase = re.sub(r\"n\\'t\", \" not\", phrase)\n",
        "    phrase = re.sub(r\"\\'re\", \" are\", phrase)\n",
        "    phrase = re.sub(r\"\\'s\", \" is\", phrase)\n",
        "    phrase = re.sub(r\"\\'d\", \" would\", phrase)\n",
        "    phrase = re.sub(r\"\\'ll\", \" will\", phrase)\n",
        "    phrase = re.sub(r\"\\'t\", \" not\", phrase)\n",
        "    phrase = re.sub(r\"\\'ve\", \" have\", phrase)\n",
        "    phrase = re.sub(r\"\\'m\", \" am\", phrase)\n",
        "    return phrase\n",
        "\n",
        "df['text'] = df['text'].apply(lambda x: decontracted(x))"
      ],
      "execution_count": 19,
      "outputs": []
    },
    {
      "cell_type": "code",
      "metadata": {
        "colab": {
          "base_uri": "https://localhost:8080/",
          "height": 206
        },
        "id": "qpaK2ndyYAMF",
        "outputId": "2d5c0a73-7bda-4903-c640-01d094d4d4af"
      },
      "source": [
        "df.head()"
      ],
      "execution_count": 20,
      "outputs": [
        {
          "output_type": "execute_result",
          "data": {
            "text/html": [
              "<div>\n",
              "<style scoped>\n",
              "    .dataframe tbody tr th:only-of-type {\n",
              "        vertical-align: middle;\n",
              "    }\n",
              "\n",
              "    .dataframe tbody tr th {\n",
              "        vertical-align: top;\n",
              "    }\n",
              "\n",
              "    .dataframe thead th {\n",
              "        text-align: right;\n",
              "    }\n",
              "</style>\n",
              "<table border=\"1\" class=\"dataframe\">\n",
              "  <thead>\n",
              "    <tr style=\"text-align: right;\">\n",
              "      <th></th>\n",
              "      <th>business_id</th>\n",
              "      <th>date</th>\n",
              "      <th>review_id</th>\n",
              "      <th>stars</th>\n",
              "      <th>text</th>\n",
              "      <th>user_id</th>\n",
              "      <th>cool</th>\n",
              "      <th>useful</th>\n",
              "      <th>funny</th>\n",
              "      <th>labelFromVADER</th>\n",
              "    </tr>\n",
              "  </thead>\n",
              "  <tbody>\n",
              "    <tr>\n",
              "      <th>0</th>\n",
              "      <td>9yKzy9PApeiPPOUJEtnvkg</td>\n",
              "      <td>2011-01-26</td>\n",
              "      <td>fWKvX83p0-ka4JS3dc6E5A</td>\n",
              "      <td>5</td>\n",
              "      <td>My wife took me here on my birthday for breakf...</td>\n",
              "      <td>rLtl8ZkDX5vH5nAx9C3q5Q</td>\n",
              "      <td>2</td>\n",
              "      <td>5</td>\n",
              "      <td>0</td>\n",
              "      <td>pos</td>\n",
              "    </tr>\n",
              "    <tr>\n",
              "      <th>1</th>\n",
              "      <td>ZRJwVLyzEJq1VAihDhYiow</td>\n",
              "      <td>2011-07-27</td>\n",
              "      <td>IjZ33sJrzXqU-0X6U8NwyA</td>\n",
              "      <td>5</td>\n",
              "      <td>I have no idea why some people give bad review...</td>\n",
              "      <td>0a2KyEL0d3Yb1V6aivbIuQ</td>\n",
              "      <td>0</td>\n",
              "      <td>0</td>\n",
              "      <td>0</td>\n",
              "      <td>pos</td>\n",
              "    </tr>\n",
              "    <tr>\n",
              "      <th>2</th>\n",
              "      <td>6oRAC4uyJCsJl1X0WZpVSA</td>\n",
              "      <td>2012-06-14</td>\n",
              "      <td>IESLBzqUCLdSzSqm0eCSxQ</td>\n",
              "      <td>4</td>\n",
              "      <td>love the gyro plate. Rice is so good and I als...</td>\n",
              "      <td>0hT2KtfLiobPvh6cDC8JQg</td>\n",
              "      <td>0</td>\n",
              "      <td>1</td>\n",
              "      <td>0</td>\n",
              "      <td>pos</td>\n",
              "    </tr>\n",
              "    <tr>\n",
              "      <th>3</th>\n",
              "      <td>_1QQZuf4zZOyFCvXc0o6Vg</td>\n",
              "      <td>2010-05-27</td>\n",
              "      <td>G-WvGaISbqqaMHlNnByodA</td>\n",
              "      <td>5</td>\n",
              "      <td>Rosie, Dakota, and I LOVE Chaparral Dog Park!!...</td>\n",
              "      <td>uZetl9T0NcROGOyFfughhg</td>\n",
              "      <td>1</td>\n",
              "      <td>2</td>\n",
              "      <td>0</td>\n",
              "      <td>pos</td>\n",
              "    </tr>\n",
              "    <tr>\n",
              "      <th>4</th>\n",
              "      <td>6ozycU1RpktNG2-1BroVtw</td>\n",
              "      <td>2012-01-05</td>\n",
              "      <td>1uJFq2r5QfJG_6ExMRCaGw</td>\n",
              "      <td>5</td>\n",
              "      <td>General Manager Scott Petello is a good egg!!!...</td>\n",
              "      <td>vYmM4KTsC8ZfQBg-j5MWkw</td>\n",
              "      <td>0</td>\n",
              "      <td>0</td>\n",
              "      <td>0</td>\n",
              "      <td>pos</td>\n",
              "    </tr>\n",
              "  </tbody>\n",
              "</table>\n",
              "</div>"
            ],
            "text/plain": [
              "              business_id       date  ... funny  labelFromVADER\n",
              "0  9yKzy9PApeiPPOUJEtnvkg 2011-01-26  ...     0             pos\n",
              "1  ZRJwVLyzEJq1VAihDhYiow 2011-07-27  ...     0             pos\n",
              "2  6oRAC4uyJCsJl1X0WZpVSA 2012-06-14  ...     0             pos\n",
              "3  _1QQZuf4zZOyFCvXc0o6Vg 2010-05-27  ...     0             pos\n",
              "4  6ozycU1RpktNG2-1BroVtw 2012-01-05  ...     0             pos\n",
              "\n",
              "[5 rows x 10 columns]"
            ]
          },
          "metadata": {},
          "execution_count": 20
        }
      ]
    },
    {
      "cell_type": "markdown",
      "metadata": {
        "id": "p0DcWe1thuhH"
      },
      "source": [
        "**Create Features and Labels:**\n",
        "- Since its mentioned that we will be given only review text from the user and using only that we need to predict the stars or rating user will give. \n",
        "- Hence only ``text``, ``labelFromVADER`` and ``stars`` column for creating features and labels."
      ]
    },
    {
      "cell_type": "code",
      "metadata": {
        "id": "b2-Z8M8bhtme"
      },
      "source": [
        "features = df.iloc[:,[4,9]].values\n",
        "label = df.iloc[:,[3]].values"
      ],
      "execution_count": 21,
      "outputs": []
    },
    {
      "cell_type": "markdown",
      "metadata": {
        "id": "yqE85pd1jKFK"
      },
      "source": [
        "**Remove words like not, nor, neither from english stopwords**"
      ]
    },
    {
      "cell_type": "code",
      "metadata": {
        "id": "AiWIJbtsZIg2"
      },
      "source": [
        "# Remove words like not, nor, neither from english stopwords\n",
        "stop_words = stopwords.words('english')\n",
        "for i in ['nor', 'not', 'no']:\n",
        "  stop_words.remove(i)\n"
      ],
      "execution_count": 22,
      "outputs": []
    },
    {
      "cell_type": "code",
      "metadata": {
        "colab": {
          "base_uri": "https://localhost:8080/"
        },
        "id": "OwoeQSP1YKBw",
        "outputId": "17e23b38-36bd-4c6c-b35d-44461edb7e00"
      },
      "source": [
        "'no' in stop_words"
      ],
      "execution_count": 23,
      "outputs": [
        {
          "output_type": "execute_result",
          "data": {
            "text/plain": [
              "False"
            ]
          },
          "metadata": {},
          "execution_count": 23
        }
      ]
    },
    {
      "cell_type": "markdown",
      "metadata": {
        "id": "bXaWPCabjOqd"
      },
      "source": [
        "**Text Preprocessing Function**"
      ]
    },
    {
      "cell_type": "code",
      "metadata": {
        "id": "a-V9m5jejS_m"
      },
      "source": [
        "# Creating an instance of PorterStemmer class, for stemming.\n",
        "stemObject = PorterStemmer()"
      ],
      "execution_count": 24,
      "outputs": []
    },
    {
      "cell_type": "code",
      "metadata": {
        "id": "lp6bl_fzEmiI"
      },
      "source": [
        "\"\"\"Creating a function for:\n",
        "- Normalize (Remove Punctuations and lower case text)\n",
        "- Tokenization\n",
        "- Remove Stopwords\n",
        "- Stemming\n",
        "\"\"\"\n",
        "\n",
        "\n",
        "def textPreprocessing(document):\n",
        "  #1. Remove Punctuations\n",
        "  sentWithoutPunct = ''.join([char for char in document  if char not in string.punctuation])\n",
        "  #2. Extract words out of the sentences\n",
        "  words = sentWithoutPunct.split()\n",
        "  #3. Normalize the data (lowercase | Uppercase | NormalCase)\n",
        "  wordNormalized = [word.lower() for word in words]\n",
        "  # 4. Remove Stopwords\n",
        "  vocabulary = [word for word in wordNormalized if word not in stop_words]\n",
        "  # 5. Apply Stemming\n",
        "  stem_words = [stemObject.stem(word) for word in vocabulary]\n",
        "  # bigrams = [ ' '.join(grams) for grams in ngrams(stem_words, 2)]\n",
        "  # 6. Exclude those words with NER prop and perform Stemming with other words\n",
        "\n",
        "  return stem_words\n",
        "\n"
      ],
      "execution_count": 25,
      "outputs": []
    },
    {
      "cell_type": "markdown",
      "metadata": {
        "id": "Gc-hRdYGsQCd"
      },
      "source": [
        "### **Creating BOW**"
      ]
    },
    {
      "cell_type": "code",
      "metadata": {
        "id": "L919anXFhgmg"
      },
      "source": [
        "# Create BOW in SKlearn\n",
        "wordVector  = CountVectorizer(analyzer = textPreprocessing)\n",
        "finalWordVectorVocab  = wordVector.fit(features )       # Build the Vocabulary for features\n",
        "bagOfWords = finalWordVectorVocab.transform(features) # To create BOW vader_features"
      ],
      "execution_count": 26,
      "outputs": []
    },
    {
      "cell_type": "code",
      "metadata": {
        "colab": {
          "base_uri": "https://localhost:8080/"
        },
        "id": "j8QPbbl26wDa",
        "outputId": "794c55bb-e682-4b39-a7ae-50c9f876f721"
      },
      "source": [
        "bagOfWords.shape"
      ],
      "execution_count": 27,
      "outputs": [
        {
          "output_type": "execute_result",
          "data": {
            "text/plain": [
              "(10000, 64604)"
            ]
          },
          "metadata": {},
          "execution_count": 27
        }
      ]
    },
    {
      "cell_type": "code",
      "metadata": {
        "colab": {
          "base_uri": "https://localhost:8080/"
        },
        "id": "j6vUpbozjjpL",
        "outputId": "2a167933-76d4-43fe-de9b-70476e30cd0c"
      },
      "source": [
        "\"\"\"Vocab created\"\"\"\n",
        "# printing only first 10\n",
        "{key: finalWordVectorVocab.vocabulary_[key] for key in finalWordVectorVocab.vocabulary_.keys() & \\\n",
        " list(finalWordVectorVocab.vocabulary_.keys())[:10]}\n"
      ],
      "execution_count": 28,
      "outputs": [
        {
          "output_type": "execute_result",
          "data": {
            "text/plain": [
              "{'birthday': 11973,\n",
              " 'breakfast': 13048,\n",
              " 'excellent.': 24067,\n",
              " 'made': 36870,\n",
              " 'outsid': 42744,\n",
              " 'perfect': 44242,\n",
              " 'sit': 52624,\n",
              " 'took': 58765,\n",
              " 'weather': 62328,\n",
              " 'wife': 62991}"
            ]
          },
          "metadata": {},
          "execution_count": 28
        }
      ]
    },
    {
      "cell_type": "markdown",
      "metadata": {
        "id": "Z4cVIuMosJVe"
      },
      "source": [
        "### **Apply TFIDF Algo on BOW to create a feature set**"
      ]
    },
    {
      "cell_type": "code",
      "metadata": {
        "id": "-bb0OfrPqxaA"
      },
      "source": [
        "# Apply TFIDF Algo on BOW to create a feature set\n",
        "tfidfObject = TfidfTransformer().fit(bagOfWords)  #Calc IDF Values\n",
        "\n",
        "# Lets create Numeric Feature set\n",
        "processedFeatures = tfidfObject.transform(bagOfWords)"
      ],
      "execution_count": 29,
      "outputs": []
    },
    {
      "cell_type": "code",
      "metadata": {
        "id": "h9PmfLfTsV9T",
        "colab": {
          "base_uri": "https://localhost:8080/"
        },
        "outputId": "fccf5059-5fe1-4418-fe8b-190116ee8c41"
      },
      "source": [
        "for i in range(0,5):\n",
        "  # Create Train Test Split (90% training -10% testing)\n",
        "  X_train, X_test, y_train, y_test = train_test_split(processedFeatures, label , \n",
        "                                                                              stratify = df['stars'],\n",
        "                                                                              test_size= 0.2, random_state =i)\n",
        "  # X_test = X_test.toarray()\n",
        "  # X_train = X_train.toarray()\n",
        "  # model = XGBClassifier( seed = 7, n_estimators=i,learning_rate=0.001, max_depth=6)\n",
        "  # model = KNeighborsClassifier( n_neighbors=i)\n",
        "  # model = MultinomialNB( alpha = 1)\n",
        "  # model = DecisionTreeClassifier( criterion='entropy',  max_depth=i, random_state=7)\n",
        "  model = AdaBoostClassifier(learning_rate=0.5,  n_estimators=40, random_state=i)\n",
        "  model.fit(X_train, y_train)\n",
        "  tr_preds = model.predict(X_train)\n",
        "  ts_preds = model.predict(X_test)\n",
        "  train_score = metrics.accuracy_score(y_train, tr_preds)\n",
        "  test_score = metrics.accuracy_score(y_test, ts_preds)\n",
        "  # if test_score > train_score and test_score > CL:\n",
        "  print(f\"random_state: {i}\")\n",
        "  print(f\"Score of Training set: \\n{train_score}\")\n",
        "  print(f\"Score of Testing set: \\n{test_score}\")\n",
        "  print(\"=\"*50)\n",
        "  # break\n",
        "\n"
      ],
      "execution_count": 30,
      "outputs": [
        {
          "output_type": "stream",
          "name": "stdout",
          "text": [
            "random_state: 0\n",
            "Score of Training set: \n",
            "0.467875\n",
            "Score of Testing set: \n",
            "0.4445\n",
            "==================================================\n",
            "random_state: 1\n",
            "Score of Training set: \n",
            "0.45875\n",
            "Score of Testing set: \n",
            "0.45\n",
            "==================================================\n",
            "random_state: 2\n",
            "Score of Training set: \n",
            "0.463\n",
            "Score of Testing set: \n",
            "0.449\n",
            "==================================================\n",
            "random_state: 3\n",
            "Score of Training set: \n",
            "0.4675\n",
            "Score of Testing set: \n",
            "0.455\n",
            "==================================================\n",
            "random_state: 4\n",
            "Score of Training set: \n",
            "0.4655\n",
            "Score of Testing set: \n",
            "0.4395\n",
            "==================================================\n"
          ]
        }
      ]
    },
    {
      "cell_type": "markdown",
      "metadata": {
        "id": "n0XINIW-Llbr"
      },
      "source": [
        "### Obseravations: \n",
        "- Even after trying different Parameters and combination in textPreprocessing a **generalized model was not achieved.** \n",
        "- Other insights observed: \n",
        "  - **BOW-features gave better results than TF-IDF-Features**\n",
        "  - using **strtify = label in train_test_split when using TF-IDF improves accuracy, but doesn't make the model generalized.**\n",
        "- Hence, trying another approach: change the values of ``stars`` variable to Bad, Neutral and Good, where all the ratings below 3 becomes ``bad``, above 3: ``good`` and ratings == 3: ``Neutral``"
      ]
    },
    {
      "cell_type": "code",
      "metadata": {
        "id": "6ZysULa9EHLM"
      },
      "source": [
        "# Creating a function to convert star values to string.\n",
        "def convert_stars(star):\n",
        "  if star == 1 or star == 2:\n",
        "    star = \"bad\"\n",
        "  elif star == 3:\n",
        "    star = \"neutral\"\n",
        "  else:\n",
        "    star = \"good\"\n",
        "  return star\n"
      ],
      "execution_count": 31,
      "outputs": []
    },
    {
      "cell_type": "code",
      "metadata": {
        "colab": {
          "base_uri": "https://localhost:8080/"
        },
        "id": "LiepJWGRQbSO",
        "outputId": "f0f25299-dc7f-4892-8846-2417e6faafda"
      },
      "source": [
        "df['stars'] = df.stars.apply(lambda x : convert_stars(x))\n",
        "df.stars.value_counts()"
      ],
      "execution_count": 32,
      "outputs": [
        {
          "output_type": "execute_result",
          "data": {
            "text/plain": [
              "good       6863\n",
              "bad        1676\n",
              "neutral    1461\n",
              "Name: stars, dtype: int64"
            ]
          },
          "metadata": {},
          "execution_count": 32
        }
      ]
    },
    {
      "cell_type": "code",
      "metadata": {
        "id": "o_LcHS4SUAbf"
      },
      "source": [
        "label = df.iloc[:,[3]].values"
      ],
      "execution_count": 33,
      "outputs": []
    },
    {
      "cell_type": "code",
      "metadata": {
        "colab": {
          "base_uri": "https://localhost:8080/"
        },
        "id": "7j2U-m1STjbt",
        "outputId": "88d7c013-6105-4943-82b7-1df16e8e83f9"
      },
      "source": [
        "CL = 0.55\n",
        "for i in range(40,90,10):\n",
        "  # Create Train Test Split (90% training -10% testing)\n",
        "  X_train, X_test, y_train, y_test = train_test_split(processedFeatures, label , \n",
        "                                                                              # stratify = df['stars'],\n",
        "                                                                              test_size= 0.2, random_state =4)\n",
        "  # X_test = X_test.toarray()\n",
        "  # X_train = X_train.toarray()\n",
        "  # model = SVC(C= 0.5, random_state=i)\n",
        "  # model = RandomForestClassifier(n_estimators=21, max_depth =i )\n",
        "  # model = MultinomialNB()\n",
        "  # model = DecisionTreeClassifier( criterion='entropy',  max_depth=i+2, random_state=7)\n",
        "  model = AdaBoostClassifier(learning_rate=0.5,  n_estimators=i, random_state=4)\n",
        "  model.fit(X_train, y_train)\n",
        "  tr_preds = model.predict(X_train)\n",
        "  ts_preds = model.predict(X_test)\n",
        "  train_score = metrics.accuracy_score(y_train, tr_preds)\n",
        "  test_score = metrics.accuracy_score(y_test, ts_preds)\n",
        "  if test_score > train_score and test_score > CL:\n",
        "    print(f\"n_estimators: {i}\")\n",
        "    print(f\"Score of Training set: \\n{train_score}\")\n",
        "    print(f\"Score of Testing set: \\n{test_score}\")\n",
        "    print(\"=\"*50)\n",
        "  # break\n",
        "\n"
      ],
      "execution_count": 34,
      "outputs": [
        {
          "output_type": "stream",
          "name": "stdout",
          "text": [
            "n_estimators: 40\n",
            "Score of Training set: \n",
            "0.732875\n",
            "Score of Testing set: \n",
            "0.7375\n",
            "==================================================\n",
            "n_estimators: 50\n",
            "Score of Training set: \n",
            "0.73825\n",
            "Score of Testing set: \n",
            "0.742\n",
            "==================================================\n",
            "n_estimators: 60\n",
            "Score of Training set: \n",
            "0.7465\n",
            "Score of Testing set: \n",
            "0.7485\n",
            "==================================================\n",
            "n_estimators: 70\n",
            "Score of Training set: \n",
            "0.751\n",
            "Score of Testing set: \n",
            "0.7555\n",
            "==================================================\n"
          ]
        }
      ]
    },
    {
      "cell_type": "markdown",
      "metadata": {
        "id": "KwzAo4N5dv8X"
      },
      "source": [
        "### **Observation:**\n",
        "- We can use n_estimators as 70, as it gave highest test_accuracy, its greater than train_accuracy and decided CL. \n",
        "- We finally have a generalized model. \n",
        "- Data is unbalanced, hence f1-score for quality check of the model.\n"
      ]
    },
    {
      "cell_type": "code",
      "metadata": {
        "colab": {
          "base_uri": "https://localhost:8080/"
        },
        "id": "08L7hgt9b4Zz",
        "outputId": "09da0ed2-3a94-4b28-b81b-1766bf00e9aa"
      },
      "source": [
        "CL = 0.55\n",
        "\n",
        "# Create Train Test Split (90% training -10% testing)\n",
        "X_train, X_test, y_train, y_test = train_test_split(processedFeatures, label ,  test_size= 0.2, random_state =4)\n",
        "\n",
        "model = AdaBoostClassifier(learning_rate=0.5,  n_estimators=70, random_state=4)\n",
        "model.fit(X_train, y_train)\n",
        "tr_preds = model.predict(X_train)\n",
        "ts_preds = model.predict(X_test)\n",
        "train_score = metrics.accuracy_score(y_train, tr_preds)\n",
        "test_score = metrics.accuracy_score(y_test, ts_preds)\n",
        "\n",
        "print(f\"Score of Training set: \\n{train_score}\")\n",
        "print(f\"Score of Testing set: \\n{test_score}\")\n",
        "print(\"=\"*50)"
      ],
      "execution_count": 35,
      "outputs": [
        {
          "output_type": "stream",
          "name": "stdout",
          "text": [
            "Score of Training set: \n",
            "0.751\n",
            "Score of Testing set: \n",
            "0.7555\n",
            "==================================================\n"
          ]
        }
      ]
    },
    {
      "cell_type": "markdown",
      "metadata": {
        "id": "C7O-_Drmghsq"
      },
      "source": [
        "## **Checking Model on Whole data for quality test.**\n"
      ]
    },
    {
      "cell_type": "code",
      "metadata": {
        "colab": {
          "base_uri": "https://localhost:8080/"
        },
        "id": "MuoAa-oYgg7c",
        "outputId": "5f1ef73f-2d6d-49f0-b18f-e355f587f64b"
      },
      "source": [
        "CL = 0.55\n",
        "\n",
        "# Create Train Test Split (90% training -10% testing)\n",
        "X_train, X_test, y_train, y_test = train_test_split(processedFeatures, label , test_size= 0.2, random_state =4)\n",
        "\n",
        "preds = model.predict(processedFeatures)\n",
        "Classification_report = metrics.classification_report(label, preds)\n",
        "confusion_matrix = metrics.confusion_matrix(label, preds)\n",
        "\n",
        "print(f\"Classification Report on Whole data: \\n{Classification_report}\\n\")\n",
        "print(\"=\"*50)\n",
        "print(f\"\\nConfusion Matrix on Whole data: \\n{confusion_matrix}\")\n"
      ],
      "execution_count": 36,
      "outputs": [
        {
          "output_type": "stream",
          "name": "stdout",
          "text": [
            "Classification Report on Whole data: \n",
            "              precision    recall  f1-score   support\n",
            "\n",
            "         bad       0.75      0.40      0.52      1676\n",
            "        good       0.76      0.98      0.85      6863\n",
            "     neutral       0.56      0.11      0.18      1461\n",
            "\n",
            "    accuracy                           0.75     10000\n",
            "   macro avg       0.69      0.49      0.52     10000\n",
            "weighted avg       0.73      0.75      0.70     10000\n",
            "\n",
            "\n",
            "==================================================\n",
            "\n",
            "Confusion Matrix on Whole data: \n",
            "[[ 664  960   52]\n",
            " [  94 6695   74]\n",
            " [ 128 1173  160]]\n"
          ]
        }
      ]
    },
    {
      "cell_type": "markdown",
      "metadata": {
        "id": "2S2EW_3Nivmy"
      },
      "source": [
        "## **Deployment Code**"
      ]
    },
    {
      "cell_type": "code",
      "metadata": {
        "colab": {
          "base_uri": "https://localhost:8080/"
        },
        "id": "bD0blU8RkV3k",
        "outputId": "b60a9127-d9f6-42d6-9a6c-843d2794d9d8"
      },
      "source": [
        "print(df.stars[33])\n",
        "print()\n",
        "print(df['text'].iloc[33])"
      ],
      "execution_count": 37,
      "outputs": [
        {
          "output_type": "stream",
          "name": "stdout",
          "text": [
            "good\n",
            "\n",
            "I went here again when I got back to Phoenix after being gone for six months. This is one of my mom is favorite places to eat and I can understand why. The ravioli and the miso soup are so delicious! The wine was ok and I would recommend one of their elixirs over an alcohol beverage. Still a pretty delicious place to go in Phoenix.\n"
          ]
        }
      ]
    },
    {
      "cell_type": "code",
      "metadata": {
        "colab": {
          "base_uri": "https://localhost:8080/"
        },
        "id": "3-zozpUvgbjr",
        "outputId": "f192fe84-575a-485f-e309-f3bdf10d8f1b"
      },
      "source": [
        "# Take the review from user as input.\n",
        "query_review = input(\"Enter an yelp review: \")\n",
        "\n",
        "# Perform All preprocessing step on the given review.\n",
        "decon_query = decontracted(query_review)\n",
        "preprocessed_query = textPreprocessing(decon_query)  \n",
        "bagOfWords = finalWordVectorVocab.transform(preprocessed_query)\n",
        "processedquery = tfidfObject.transform(bagOfWords)\n",
        "print(f\"\\nPredictions: {model.predict(processedquery)}\\n\")\n",
        "print(f\"Selecting first value as final prediction : {model.predict(processedquery)[0]}\\n\")\n",
        "print(f\"Selecting mode as final prediction : {statistics.mode(model.predict(processedquery))}\\n\")\n",
        "\n"
      ],
      "execution_count": 41,
      "outputs": [
        {
          "output_type": "stream",
          "name": "stdout",
          "text": [
            "Enter an yelp review: I went here again when I got back to Phoenix after being gone for six months. This is one of my mom is favorite places to eat and I can understand why. The ravioli and the miso soup are so delicious! The wine was ok and I would recommend one of their elixirs over an alcohol beverage. Still a pretty delicious place to go in Phoenix.\n",
            "\n",
            "Predictions: ['good' 'good' 'good' 'good' 'good' 'good' 'good' 'good' 'good' 'good'\n",
            " 'good' 'good' 'good' 'good' 'good' 'good' 'good' 'good' 'good' 'good'\n",
            " 'good' 'good' 'good' 'good' 'good' 'good' 'good' 'good' 'good' 'good'\n",
            " 'good']\n",
            "\n",
            "Selecting first value as final prediction : good\n",
            "\n",
            "Selecting mode as final prediction : good\n",
            "\n"
          ]
        }
      ]
    },
    {
      "cell_type": "code",
      "metadata": {
        "id": "k5-RZXqtsXCY"
      },
      "source": [
        "no"
      ],
      "execution_count": null,
      "outputs": []
    }
  ]
}