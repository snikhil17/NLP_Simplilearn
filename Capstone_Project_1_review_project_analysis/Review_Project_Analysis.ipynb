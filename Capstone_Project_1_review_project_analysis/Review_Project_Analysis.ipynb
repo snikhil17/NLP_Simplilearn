{
  "nbformat": 4,
  "nbformat_minor": 0,
  "metadata": {
    "colab": {
      "name": "Review Project Analysis.ipynb",
      "provenance": [],
      "authorship_tag": "ABX9TyNVpEe6AiCDixHZ4WPxfnv0",
      "include_colab_link": true
    },
    "kernelspec": {
      "name": "python3",
      "display_name": "Python 3"
    },
    "language_info": {
      "name": "python"
    }
  },
  "cells": [
    {
      "cell_type": "markdown",
      "metadata": {
        "id": "view-in-github",
        "colab_type": "text"
      },
      "source": [
        "<a href=\"https://colab.research.google.com/github/snikhil17/NLP_Simplilearn/blob/main/Capstone_Project_1_review_project_analysis/Review_Project_Analysis.ipynb\" target=\"_parent\"><img src=\"https://colab.research.google.com/assets/colab-badge.svg\" alt=\"Open In Colab\"/></a>"
      ]
    },
    {
      "cell_type": "markdown",
      "source": [
        "# **Project 1: Review Project Analysis.**\n",
        "\n",
        "## **DESCRIPTION**\n",
        "- Help a leading mobile brand understand the voice of the customer by analyzing the reviews of their product on Amazon and the topics that customers are talking about. \n",
        "- You will perform topic modeling on specific parts of speech. You’ll finally interpret the emerging topics.\n",
        "\n",
        "## **Problem Statement:**\n",
        "\n",
        "- A popular mobile phone brand, Lenovo has launched their budget smartphone in the Indian market. \n",
        "- The client wants to understand the VOC (voice of the customer) on the product. \n",
        "- This will be useful to not just evaluate the current product, but to also get some direction for developing the product pipeline. \n",
        "- The client is particularly interested in the different aspects that customers care about. \n",
        "- Product reviews by customers on a leading e-commerce site should provide a good view.\n",
        "\n",
        "**Domain: Amazon reviews for a leading phone brand**\n",
        "\n",
        "**Analysis to be done:** \n",
        "- POS tagging, topic modeling using LDA, and topic interpretation\n",
        "\n",
        "## **Data Dictionary**\n",
        "- **Sentiment:** The sentiment against the review (4,5 star reviews are positive, 1,2 are negative)\n",
        "- **Reviews:** The main text of the review\n",
        "\n",
        "## **Steps to perform:**\n",
        "- Discover the topics in the reviews and present it to business in a consumable format. Employ techniques in syntactic processing and topic modeling.\n",
        "- Perform specific cleanup, POS tagging, and restricting to relevant POS tags, then, perform topic modeling using LDA. Finally, give business-friendly names to the topics and make a table for business.\n",
        "\n",
        "### **Tasks:** \n",
        "- Read the .csv file using Pandas. Take a look at the top few records.\n",
        "- Normalize casings for the review text and extract the text into a list for easier manipulation.\n",
        "- Tokenize the reviews using NLTKs word_tokenize function.\n",
        "- Perform parts-of-speech tagging on each sentence using the NLTK POS tagger.\n",
        "- For the topic model, we should  want to include only nouns.\n",
        "- Find out all the POS tags that correspond to nouns.\n",
        "- Limit the data to only terms with these tags.\n",
        "\n",
        "**Lemmatize.**\n",
        "- Different forms of the terms need to be treated as one.\n",
        "- No need to provide POS tag to lemmatizer for now.\n",
        "- Remove stopwords and punctuation (if there are any). \n",
        "- Create a topic model using LDA on the cleaned-up data with 12 topics.\n",
        "- Print out the top terms for each topic.\n",
        "- What is the coherence of the model with the c_v metric?\n",
        "- Analyze the topics through the business lens.\n",
        "- Determine which of the topics can be combined.\n",
        "\n",
        "**Create topic model using LDA with what you think is the optimal number of topics**\n",
        "- What is the coherence of the model?\n",
        "- The business should  be able to interpret the topics.\n",
        "- Name each of the identified topics.\n",
        "- **Create a table with the topic name and the top 10 terms in each to present to the  business.**"
      ],
      "metadata": {
        "id": "O33LhPdP0KmR"
      }
    },
    {
      "cell_type": "markdown",
      "source": [
        "## **Loading Required Libraries**"
      ],
      "metadata": {
        "id": "NYUPS1iARDtn"
      }
    },
    {
      "cell_type": "code",
      "source": [
        "!pip install pyspellchecker"
      ],
      "metadata": {
        "id": "bQ8gMDL-4EaO",
        "colab": {
          "base_uri": "https://localhost:8080/"
        },
        "outputId": "7e71c306-ecf4-44a1-9e2b-1825cd4de1aa"
      },
      "execution_count": 148,
      "outputs": [
        {
          "output_type": "stream",
          "name": "stdout",
          "text": [
            "Requirement already satisfied: pyspellchecker in /usr/local/lib/python3.7/dist-packages (0.6.2)\n"
          ]
        }
      ]
    },
    {
      "cell_type": "code",
      "execution_count": 149,
      "metadata": {
        "id": "QF04Y-VszhDM",
        "colab": {
          "base_uri": "https://localhost:8080/"
        },
        "outputId": "560876eb-a7a7-4ef3-a881-71d6d1ec1a8b"
      },
      "outputs": [
        {
          "output_type": "stream",
          "name": "stdout",
          "text": [
            "--2022-01-03 10:18:58--  https://raw.githubusercontent.com/snikhil17/NLP_Simplilearn/main/Capstone_Project_1_review_project_analysis/K8%20Reviews%20v0.2.csv\n",
            "Resolving raw.githubusercontent.com (raw.githubusercontent.com)... 185.199.108.133, 185.199.109.133, 185.199.110.133, ...\n",
            "Connecting to raw.githubusercontent.com (raw.githubusercontent.com)|185.199.108.133|:443... connected.\n",
            "HTTP request sent, awaiting response... 200 OK\n",
            "Length: 1712800 (1.6M) [text/plain]\n",
            "Saving to: ‘K8 Reviews v0.2.csv.2’\n",
            "\n",
            "K8 Reviews v0.2.csv 100%[===================>]   1.63M  --.-KB/s    in 0.06s   \n",
            "\n",
            "2022-01-03 10:18:58 (28.6 MB/s) - ‘K8 Reviews v0.2.csv.2’ saved [1712800/1712800]\n",
            "\n"
          ]
        }
      ],
      "source": [
        "!wget https://raw.githubusercontent.com/snikhil17/NLP_Simplilearn/main/Capstone_Project_1_review_project_analysis/K8%20Reviews%20v0.2.csv"
      ]
    },
    {
      "cell_type": "code",
      "source": [
        "!pip install pyLDAvis"
      ],
      "metadata": {
        "id": "n5dQiDbE1kMB",
        "colab": {
          "base_uri": "https://localhost:8080/"
        },
        "outputId": "0fe3275c-43b0-43fb-998f-914162a4ebf9"
      },
      "execution_count": 150,
      "outputs": [
        {
          "output_type": "stream",
          "name": "stdout",
          "text": [
            "Requirement already satisfied: pyLDAvis in /usr/local/lib/python3.7/dist-packages (3.3.1)\n",
            "Requirement already satisfied: jinja2 in /usr/local/lib/python3.7/dist-packages (from pyLDAvis) (2.11.3)\n",
            "Requirement already satisfied: joblib in /usr/local/lib/python3.7/dist-packages (from pyLDAvis) (1.1.0)\n",
            "Requirement already satisfied: scipy in /usr/local/lib/python3.7/dist-packages (from pyLDAvis) (1.4.1)\n",
            "Requirement already satisfied: sklearn in /usr/local/lib/python3.7/dist-packages (from pyLDAvis) (0.0)\n",
            "Requirement already satisfied: numpy>=1.20.0 in /usr/local/lib/python3.7/dist-packages (from pyLDAvis) (1.21.5)\n",
            "Requirement already satisfied: funcy in /usr/local/lib/python3.7/dist-packages (from pyLDAvis) (1.17)\n",
            "Requirement already satisfied: gensim in /usr/local/lib/python3.7/dist-packages (from pyLDAvis) (3.6.0)\n",
            "Requirement already satisfied: future in /usr/local/lib/python3.7/dist-packages (from pyLDAvis) (0.16.0)\n",
            "Requirement already satisfied: setuptools in /usr/local/lib/python3.7/dist-packages (from pyLDAvis) (57.4.0)\n",
            "Requirement already satisfied: pandas>=1.2.0 in /usr/local/lib/python3.7/dist-packages (from pyLDAvis) (1.3.5)\n",
            "Requirement already satisfied: numexpr in /usr/local/lib/python3.7/dist-packages (from pyLDAvis) (2.7.3)\n",
            "Requirement already satisfied: scikit-learn in /usr/local/lib/python3.7/dist-packages (from pyLDAvis) (1.0.1)\n",
            "Requirement already satisfied: pytz>=2017.3 in /usr/local/lib/python3.7/dist-packages (from pandas>=1.2.0->pyLDAvis) (2018.9)\n",
            "Requirement already satisfied: python-dateutil>=2.7.3 in /usr/local/lib/python3.7/dist-packages (from pandas>=1.2.0->pyLDAvis) (2.8.2)\n",
            "Requirement already satisfied: six>=1.5 in /usr/local/lib/python3.7/dist-packages (from python-dateutil>=2.7.3->pandas>=1.2.0->pyLDAvis) (1.15.0)\n",
            "Requirement already satisfied: smart-open>=1.2.1 in /usr/local/lib/python3.7/dist-packages (from gensim->pyLDAvis) (5.2.1)\n",
            "Requirement already satisfied: MarkupSafe>=0.23 in /usr/local/lib/python3.7/dist-packages (from jinja2->pyLDAvis) (2.0.1)\n",
            "Requirement already satisfied: threadpoolctl>=2.0.0 in /usr/local/lib/python3.7/dist-packages (from scikit-learn->pyLDAvis) (3.0.0)\n"
          ]
        }
      ]
    },
    {
      "cell_type": "code",
      "source": [
        "import pandas as pd\n",
        "import numpy as np\n",
        "import matplotlib.pyplot as plt\n",
        "import seaborn as sns\n",
        "\n",
        "import nltk\n",
        "from nltk.corpus import stopwords\n",
        "nltk.download('stopwords')\n",
        "\n",
        "from nltk.stem import WordNetLemmatizer\n",
        "\n",
        "from nltk.corpus import wordnet\n",
        "import string\n",
        "nltk.download('punkt')\n",
        "\n",
        "nltk.download('averaged_perceptron_tagger')\n",
        "nltk.download('wordnet')\n",
        "from spellchecker import SpellChecker\n",
        "\n",
        "#Visualizing the LDA model\n",
        "import pyLDAvis\n",
        "import pyLDAvis.sklearn\n",
        "pyLDAvis.enable_notebook()\n",
        "\n",
        "from sklearn.feature_extraction.text import TfidfVectorizer\n",
        "\n",
        "import gensim\n",
        "from gensim.corpora import Dictionary\n",
        "\n",
        "from IPython.display import clear_output\n",
        "\n",
        "import pyLDAvis.gensim_models as gensim_models\n",
        "from gensim.models.coherencemodel import CoherenceModel"
      ],
      "metadata": {
        "id": "rcUDd07h3GM5",
        "colab": {
          "base_uri": "https://localhost:8080/"
        },
        "outputId": "3d332f0e-b692-4c6e-c1d9-84012c1ae510"
      },
      "execution_count": 151,
      "outputs": [
        {
          "output_type": "stream",
          "name": "stdout",
          "text": [
            "[nltk_data] Downloading package stopwords to /root/nltk_data...\n",
            "[nltk_data]   Package stopwords is already up-to-date!\n",
            "[nltk_data] Downloading package punkt to /root/nltk_data...\n",
            "[nltk_data]   Package punkt is already up-to-date!\n",
            "[nltk_data] Downloading package averaged_perceptron_tagger to\n",
            "[nltk_data]     /root/nltk_data...\n",
            "[nltk_data]   Package averaged_perceptron_tagger is already up-to-\n",
            "[nltk_data]       date!\n",
            "[nltk_data] Downloading package wordnet to /root/nltk_data...\n",
            "[nltk_data]   Package wordnet is already up-to-date!\n"
          ]
        }
      ]
    },
    {
      "cell_type": "markdown",
      "source": [
        "## **Loading Data**"
      ],
      "metadata": {
        "id": "FzRDIN3yRI_3"
      }
    },
    {
      "cell_type": "code",
      "source": [
        "df = pd.read_csv(\"K8 Reviews v0.2.csv\")\n",
        "print(f\"Shape of the Data: {df.shape}\")\n",
        "df.head()"
      ],
      "metadata": {
        "colab": {
          "base_uri": "https://localhost:8080/",
          "height": 223
        },
        "id": "uDAKqn1q3OVa",
        "outputId": "5501f9bb-c03a-4153-beab-2bab2dd7cc51"
      },
      "execution_count": 152,
      "outputs": [
        {
          "output_type": "stream",
          "name": "stdout",
          "text": [
            "Shape of the Data: (14675, 2)\n"
          ]
        },
        {
          "output_type": "execute_result",
          "data": {
            "text/html": [
              "\n",
              "  <div id=\"df-f20ac259-ece9-4506-b7a6-e05a7f236b74\">\n",
              "    <div class=\"colab-df-container\">\n",
              "      <div>\n",
              "<style scoped>\n",
              "    .dataframe tbody tr th:only-of-type {\n",
              "        vertical-align: middle;\n",
              "    }\n",
              "\n",
              "    .dataframe tbody tr th {\n",
              "        vertical-align: top;\n",
              "    }\n",
              "\n",
              "    .dataframe thead th {\n",
              "        text-align: right;\n",
              "    }\n",
              "</style>\n",
              "<table border=\"1\" class=\"dataframe\">\n",
              "  <thead>\n",
              "    <tr style=\"text-align: right;\">\n",
              "      <th></th>\n",
              "      <th>sentiment</th>\n",
              "      <th>review</th>\n",
              "    </tr>\n",
              "  </thead>\n",
              "  <tbody>\n",
              "    <tr>\n",
              "      <th>0</th>\n",
              "      <td>1</td>\n",
              "      <td>Good but need updates and improvements</td>\n",
              "    </tr>\n",
              "    <tr>\n",
              "      <th>1</th>\n",
              "      <td>0</td>\n",
              "      <td>Worst mobile i have bought ever, Battery is dr...</td>\n",
              "    </tr>\n",
              "    <tr>\n",
              "      <th>2</th>\n",
              "      <td>1</td>\n",
              "      <td>when I will get my 10% cash back.... its alrea...</td>\n",
              "    </tr>\n",
              "    <tr>\n",
              "      <th>3</th>\n",
              "      <td>1</td>\n",
              "      <td>Good</td>\n",
              "    </tr>\n",
              "    <tr>\n",
              "      <th>4</th>\n",
              "      <td>0</td>\n",
              "      <td>The worst phone everThey have changed the last...</td>\n",
              "    </tr>\n",
              "  </tbody>\n",
              "</table>\n",
              "</div>\n",
              "      <button class=\"colab-df-convert\" onclick=\"convertToInteractive('df-f20ac259-ece9-4506-b7a6-e05a7f236b74')\"\n",
              "              title=\"Convert this dataframe to an interactive table.\"\n",
              "              style=\"display:none;\">\n",
              "        \n",
              "  <svg xmlns=\"http://www.w3.org/2000/svg\" height=\"24px\"viewBox=\"0 0 24 24\"\n",
              "       width=\"24px\">\n",
              "    <path d=\"M0 0h24v24H0V0z\" fill=\"none\"/>\n",
              "    <path d=\"M18.56 5.44l.94 2.06.94-2.06 2.06-.94-2.06-.94-.94-2.06-.94 2.06-2.06.94zm-11 1L8.5 8.5l.94-2.06 2.06-.94-2.06-.94L8.5 2.5l-.94 2.06-2.06.94zm10 10l.94 2.06.94-2.06 2.06-.94-2.06-.94-.94-2.06-.94 2.06-2.06.94z\"/><path d=\"M17.41 7.96l-1.37-1.37c-.4-.4-.92-.59-1.43-.59-.52 0-1.04.2-1.43.59L10.3 9.45l-7.72 7.72c-.78.78-.78 2.05 0 2.83L4 21.41c.39.39.9.59 1.41.59.51 0 1.02-.2 1.41-.59l7.78-7.78 2.81-2.81c.8-.78.8-2.07 0-2.86zM5.41 20L4 18.59l7.72-7.72 1.47 1.35L5.41 20z\"/>\n",
              "  </svg>\n",
              "      </button>\n",
              "      \n",
              "  <style>\n",
              "    .colab-df-container {\n",
              "      display:flex;\n",
              "      flex-wrap:wrap;\n",
              "      gap: 12px;\n",
              "    }\n",
              "\n",
              "    .colab-df-convert {\n",
              "      background-color: #E8F0FE;\n",
              "      border: none;\n",
              "      border-radius: 50%;\n",
              "      cursor: pointer;\n",
              "      display: none;\n",
              "      fill: #1967D2;\n",
              "      height: 32px;\n",
              "      padding: 0 0 0 0;\n",
              "      width: 32px;\n",
              "    }\n",
              "\n",
              "    .colab-df-convert:hover {\n",
              "      background-color: #E2EBFA;\n",
              "      box-shadow: 0px 1px 2px rgba(60, 64, 67, 0.3), 0px 1px 3px 1px rgba(60, 64, 67, 0.15);\n",
              "      fill: #174EA6;\n",
              "    }\n",
              "\n",
              "    [theme=dark] .colab-df-convert {\n",
              "      background-color: #3B4455;\n",
              "      fill: #D2E3FC;\n",
              "    }\n",
              "\n",
              "    [theme=dark] .colab-df-convert:hover {\n",
              "      background-color: #434B5C;\n",
              "      box-shadow: 0px 1px 3px 1px rgba(0, 0, 0, 0.15);\n",
              "      filter: drop-shadow(0px 1px 2px rgba(0, 0, 0, 0.3));\n",
              "      fill: #FFFFFF;\n",
              "    }\n",
              "  </style>\n",
              "\n",
              "      <script>\n",
              "        const buttonEl =\n",
              "          document.querySelector('#df-f20ac259-ece9-4506-b7a6-e05a7f236b74 button.colab-df-convert');\n",
              "        buttonEl.style.display =\n",
              "          google.colab.kernel.accessAllowed ? 'block' : 'none';\n",
              "\n",
              "        async function convertToInteractive(key) {\n",
              "          const element = document.querySelector('#df-f20ac259-ece9-4506-b7a6-e05a7f236b74');\n",
              "          const dataTable =\n",
              "            await google.colab.kernel.invokeFunction('convertToInteractive',\n",
              "                                                     [key], {});\n",
              "          if (!dataTable) return;\n",
              "\n",
              "          const docLinkHtml = 'Like what you see? Visit the ' +\n",
              "            '<a target=\"_blank\" href=https://colab.research.google.com/notebooks/data_table.ipynb>data table notebook</a>'\n",
              "            + ' to learn more about interactive tables.';\n",
              "          element.innerHTML = '';\n",
              "          dataTable['output_type'] = 'display_data';\n",
              "          await google.colab.output.renderOutput(dataTable, element);\n",
              "          const docLink = document.createElement('div');\n",
              "          docLink.innerHTML = docLinkHtml;\n",
              "          element.appendChild(docLink);\n",
              "        }\n",
              "      </script>\n",
              "    </div>\n",
              "  </div>\n",
              "  "
            ],
            "text/plain": [
              "   sentiment                                             review\n",
              "0          1             Good but need updates and improvements\n",
              "1          0  Worst mobile i have bought ever, Battery is dr...\n",
              "2          1  when I will get my 10% cash back.... its alrea...\n",
              "3          1                                               Good\n",
              "4          0  The worst phone everThey have changed the last..."
            ]
          },
          "metadata": {},
          "execution_count": 152
        }
      ]
    },
    {
      "cell_type": "markdown",
      "source": [
        "## **Checking Missing Values**"
      ],
      "metadata": {
        "id": "thIPc_4KRL9W"
      }
    },
    {
      "cell_type": "code",
      "source": [
        "print(f\"Number of Null Values: {df.isnull().sum().sum()}\")"
      ],
      "metadata": {
        "colab": {
          "base_uri": "https://localhost:8080/"
        },
        "id": "wzJapD0v3Xha",
        "outputId": "11bf6631-e05b-4d6b-9618-f0ccc3f6ffde"
      },
      "execution_count": 153,
      "outputs": [
        {
          "output_type": "stream",
          "name": "stdout",
          "text": [
            "Number of Null Values: 0\n"
          ]
        }
      ]
    },
    {
      "cell_type": "markdown",
      "source": [
        "## **Data is balanced?** "
      ],
      "metadata": {
        "id": "7cqSpWMERP6U"
      }
    },
    {
      "cell_type": "code",
      "source": [
        "df.sentiment.value_counts()"
      ],
      "metadata": {
        "colab": {
          "base_uri": "https://localhost:8080/"
        },
        "id": "Y14eRnLD5CJX",
        "outputId": "687efa03-81c0-468d-cde7-1c925fbc86d2"
      },
      "execution_count": 154,
      "outputs": [
        {
          "output_type": "execute_result",
          "data": {
            "text/plain": [
              "0    7712\n",
              "1    6963\n",
              "Name: sentiment, dtype: int64"
            ]
          },
          "metadata": {},
          "execution_count": 154
        }
      ]
    },
    {
      "cell_type": "markdown",
      "source": [
        "**Observation:**\n",
        "- Data is imbalanced."
      ],
      "metadata": {
        "id": "n9dYALHORT1S"
      }
    },
    {
      "cell_type": "markdown",
      "source": [
        "## **Text Preprocessing:**\n",
        "- Processing texts using regex\n",
        "- Redefining English Stopwords\n",
        "- Only selecting Nouns and Tokenization\n",
        "- Lemmatization, Checking & correcting spellings and selected words which are more than 3 characters\n",
        "- Dropping rows who doesn't have any words after preprocessing "
      ],
      "metadata": {
        "id": "SFWyAhC8RYcs"
      }
    },
    {
      "cell_type": "code",
      "source": [
        ""
      ],
      "metadata": {
        "id": "T24nKcSLXVaz"
      },
      "execution_count": 154,
      "outputs": []
    },
    {
      "cell_type": "code",
      "source": [
        "import re\n",
        "\n",
        "def decontracted(phrase):\n",
        "    # specific\n",
        "    phrase = re.sub(r\"won\\'t\", \"will not\", phrase)\n",
        "    phrase = re.sub(r\"can\\'t\", \"can not\", phrase)\n",
        "\n",
        "    # general\n",
        "    phrase = re.sub(r\"n\\'t\", \" not\", phrase)\n",
        "    phrase = re.sub(r\"\\'re\", \" are\", phrase)\n",
        "    phrase = re.sub(r\"\\'s\", \" is\", phrase)\n",
        "    phrase = re.sub(r\"\\'d\", \" would\", phrase)\n",
        "    phrase = re.sub(r\"\\'ll\", \" will\", phrase)\n",
        "    phrase = re.sub(r\"\\'t\", \" not\", phrase)\n",
        "    phrase = re.sub(r\"\\'ve\", \" have\", phrase)\n",
        "    phrase = re.sub(r\"\\'m\", \" am\", phrase)\n",
        "    return phrase.lower()\n",
        "\n",
        "df['review'] = df['review'].apply(lambda x: decontracted(x))"
      ],
      "metadata": {
        "id": "1-9NNN2p5eck"
      },
      "execution_count": 155,
      "outputs": []
    },
    {
      "cell_type": "markdown",
      "source": [
        "## **Redifining English Stopwords**"
      ],
      "metadata": {
        "id": "5QsUr_fzRhNW"
      }
    },
    {
      "cell_type": "code",
      "source": [
        "# Remove words like 'nor', 'not', 'no' from stop_words\n",
        "stop_words = stopwords.words('english')\n",
        "\n",
        "for i in ['nor', 'not', 'no']:\n",
        "  stop_words.remove(i)\n",
        "\n",
        "punc = list(string.punctuation)\n",
        "stop_words += punc"
      ],
      "metadata": {
        "id": "JGex3lDq6uV-"
      },
      "execution_count": 156,
      "outputs": []
    },
    {
      "cell_type": "markdown",
      "source": [
        "## **Only selecting Nouns and Tokenization**"
      ],
      "metadata": {
        "id": "6hRvpLWIRpqt"
      }
    },
    {
      "cell_type": "code",
      "source": [
        "lemmaObject = WordNetLemmatizer()\n",
        "def only_noun(docs):\n",
        "  noun_docs = []  \n",
        "  for word in docs:\n",
        "    if nltk.pos_tag(word.split())[0][1]  in ['NN', 'NNP', 'NNPS', 'NNS',]:\n",
        "      noun_docs.append(word)\n",
        "  return \" \".join(noun_docs)\n",
        "\n",
        "df.review = df.review.apply(lambda x: nltk.word_tokenize(x))\n",
        "df.review = df.review.apply(only_noun)\n",
        "\n",
        "df.review.head()"
      ],
      "metadata": {
        "colab": {
          "base_uri": "https://localhost:8080/"
        },
        "id": "ZHPZuyK99igV",
        "outputId": "816a1aec-d41f-4c19-f07c-40c60ec2d2c1"
      },
      "execution_count": 157,
      "outputs": [
        {
          "output_type": "execute_result",
          "data": {
            "text/plain": [
              "0                            need updates improvements\n",
              "1    mobile i bought battery hell backup hours inte...\n",
              "2                                   i % cash january..\n",
              "3                                                     \n",
              "4     phone everthey phone problem amazon phone amazon\n",
              "Name: review, dtype: object"
            ]
          },
          "metadata": {},
          "execution_count": 157
        }
      ]
    },
    {
      "cell_type": "markdown",
      "source": [
        "## **Lemmatization, Checking & correcting spellings and selected words which are more than 3 characters**"
      ],
      "metadata": {
        "id": "WfuFeHmQSlrc"
      }
    },
    {
      "cell_type": "code",
      "source": [
        "spell = SpellChecker(distance=1)\n",
        "def Preprocessing(docs):\n",
        "  temp_docs = []\n",
        "  lemma_word = lemmaObject.lemmatize(docs)\n",
        "  # print(lemma_word)\n",
        "  vocab = spell.correction(lemma_word)\n",
        "  # print(vocab)\n",
        "  for word in vocab.split():\n",
        "    if word not in stop_words and len(word) > 3:\n",
        "      temp_docs.append(word)\n",
        "  \n",
        "  return temp_docs"
      ],
      "metadata": {
        "id": "2XHtWWDjhWMJ"
      },
      "execution_count": 158,
      "outputs": []
    },
    {
      "cell_type": "code",
      "source": [
        "df['org_review'] = df.review\n",
        "df['review'] = df.review.apply(Preprocessing)"
      ],
      "metadata": {
        "id": "hedO--eDlGl0"
      },
      "execution_count": 159,
      "outputs": []
    },
    {
      "cell_type": "code",
      "source": [
        "df.head()"
      ],
      "metadata": {
        "colab": {
          "base_uri": "https://localhost:8080/",
          "height": 206
        },
        "id": "EAV-ezv0EvpK",
        "outputId": "75b0af1e-6538-40dc-8f07-6c638feb3be2"
      },
      "execution_count": 160,
      "outputs": [
        {
          "output_type": "execute_result",
          "data": {
            "text/html": [
              "\n",
              "  <div id=\"df-3ae82064-601a-478c-8bba-e23639ca45b9\">\n",
              "    <div class=\"colab-df-container\">\n",
              "      <div>\n",
              "<style scoped>\n",
              "    .dataframe tbody tr th:only-of-type {\n",
              "        vertical-align: middle;\n",
              "    }\n",
              "\n",
              "    .dataframe tbody tr th {\n",
              "        vertical-align: top;\n",
              "    }\n",
              "\n",
              "    .dataframe thead th {\n",
              "        text-align: right;\n",
              "    }\n",
              "</style>\n",
              "<table border=\"1\" class=\"dataframe\">\n",
              "  <thead>\n",
              "    <tr style=\"text-align: right;\">\n",
              "      <th></th>\n",
              "      <th>sentiment</th>\n",
              "      <th>review</th>\n",
              "      <th>org_review</th>\n",
              "    </tr>\n",
              "  </thead>\n",
              "  <tbody>\n",
              "    <tr>\n",
              "      <th>0</th>\n",
              "      <td>1</td>\n",
              "      <td>[need, updates, improvements]</td>\n",
              "      <td>need updates improvements</td>\n",
              "    </tr>\n",
              "    <tr>\n",
              "      <th>1</th>\n",
              "      <td>0</td>\n",
              "      <td>[mobile, bought, battery, hell, backup, hours,...</td>\n",
              "      <td>mobile i bought battery hell backup hours inte...</td>\n",
              "    </tr>\n",
              "    <tr>\n",
              "      <th>2</th>\n",
              "      <td>1</td>\n",
              "      <td>[cash, january..]</td>\n",
              "      <td>i % cash january..</td>\n",
              "    </tr>\n",
              "    <tr>\n",
              "      <th>3</th>\n",
              "      <td>1</td>\n",
              "      <td>[]</td>\n",
              "      <td></td>\n",
              "    </tr>\n",
              "    <tr>\n",
              "      <th>4</th>\n",
              "      <td>0</td>\n",
              "      <td>[phone, everthey, phone, problem, amazon, phon...</td>\n",
              "      <td>phone everthey phone problem amazon phone amazon</td>\n",
              "    </tr>\n",
              "  </tbody>\n",
              "</table>\n",
              "</div>\n",
              "      <button class=\"colab-df-convert\" onclick=\"convertToInteractive('df-3ae82064-601a-478c-8bba-e23639ca45b9')\"\n",
              "              title=\"Convert this dataframe to an interactive table.\"\n",
              "              style=\"display:none;\">\n",
              "        \n",
              "  <svg xmlns=\"http://www.w3.org/2000/svg\" height=\"24px\"viewBox=\"0 0 24 24\"\n",
              "       width=\"24px\">\n",
              "    <path d=\"M0 0h24v24H0V0z\" fill=\"none\"/>\n",
              "    <path d=\"M18.56 5.44l.94 2.06.94-2.06 2.06-.94-2.06-.94-.94-2.06-.94 2.06-2.06.94zm-11 1L8.5 8.5l.94-2.06 2.06-.94-2.06-.94L8.5 2.5l-.94 2.06-2.06.94zm10 10l.94 2.06.94-2.06 2.06-.94-2.06-.94-.94-2.06-.94 2.06-2.06.94z\"/><path d=\"M17.41 7.96l-1.37-1.37c-.4-.4-.92-.59-1.43-.59-.52 0-1.04.2-1.43.59L10.3 9.45l-7.72 7.72c-.78.78-.78 2.05 0 2.83L4 21.41c.39.39.9.59 1.41.59.51 0 1.02-.2 1.41-.59l7.78-7.78 2.81-2.81c.8-.78.8-2.07 0-2.86zM5.41 20L4 18.59l7.72-7.72 1.47 1.35L5.41 20z\"/>\n",
              "  </svg>\n",
              "      </button>\n",
              "      \n",
              "  <style>\n",
              "    .colab-df-container {\n",
              "      display:flex;\n",
              "      flex-wrap:wrap;\n",
              "      gap: 12px;\n",
              "    }\n",
              "\n",
              "    .colab-df-convert {\n",
              "      background-color: #E8F0FE;\n",
              "      border: none;\n",
              "      border-radius: 50%;\n",
              "      cursor: pointer;\n",
              "      display: none;\n",
              "      fill: #1967D2;\n",
              "      height: 32px;\n",
              "      padding: 0 0 0 0;\n",
              "      width: 32px;\n",
              "    }\n",
              "\n",
              "    .colab-df-convert:hover {\n",
              "      background-color: #E2EBFA;\n",
              "      box-shadow: 0px 1px 2px rgba(60, 64, 67, 0.3), 0px 1px 3px 1px rgba(60, 64, 67, 0.15);\n",
              "      fill: #174EA6;\n",
              "    }\n",
              "\n",
              "    [theme=dark] .colab-df-convert {\n",
              "      background-color: #3B4455;\n",
              "      fill: #D2E3FC;\n",
              "    }\n",
              "\n",
              "    [theme=dark] .colab-df-convert:hover {\n",
              "      background-color: #434B5C;\n",
              "      box-shadow: 0px 1px 3px 1px rgba(0, 0, 0, 0.15);\n",
              "      filter: drop-shadow(0px 1px 2px rgba(0, 0, 0, 0.3));\n",
              "      fill: #FFFFFF;\n",
              "    }\n",
              "  </style>\n",
              "\n",
              "      <script>\n",
              "        const buttonEl =\n",
              "          document.querySelector('#df-3ae82064-601a-478c-8bba-e23639ca45b9 button.colab-df-convert');\n",
              "        buttonEl.style.display =\n",
              "          google.colab.kernel.accessAllowed ? 'block' : 'none';\n",
              "\n",
              "        async function convertToInteractive(key) {\n",
              "          const element = document.querySelector('#df-3ae82064-601a-478c-8bba-e23639ca45b9');\n",
              "          const dataTable =\n",
              "            await google.colab.kernel.invokeFunction('convertToInteractive',\n",
              "                                                     [key], {});\n",
              "          if (!dataTable) return;\n",
              "\n",
              "          const docLinkHtml = 'Like what you see? Visit the ' +\n",
              "            '<a target=\"_blank\" href=https://colab.research.google.com/notebooks/data_table.ipynb>data table notebook</a>'\n",
              "            + ' to learn more about interactive tables.';\n",
              "          element.innerHTML = '';\n",
              "          dataTable['output_type'] = 'display_data';\n",
              "          await google.colab.output.renderOutput(dataTable, element);\n",
              "          const docLink = document.createElement('div');\n",
              "          docLink.innerHTML = docLinkHtml;\n",
              "          element.appendChild(docLink);\n",
              "        }\n",
              "      </script>\n",
              "    </div>\n",
              "  </div>\n",
              "  "
            ],
            "text/plain": [
              "   sentiment  ...                                         org_review\n",
              "0          1  ...                          need updates improvements\n",
              "1          0  ...  mobile i bought battery hell backup hours inte...\n",
              "2          1  ...                                 i % cash january..\n",
              "3          1  ...                                                   \n",
              "4          0  ...   phone everthey phone problem amazon phone amazon\n",
              "\n",
              "[5 rows x 3 columns]"
            ]
          },
          "metadata": {},
          "execution_count": 160
        }
      ]
    },
    {
      "cell_type": "code",
      "source": [
        "# lemmaObject = WordNetLemmatizer()\n",
        "\n",
        "# \"\"\"Helper function for lemmatization_check\"\"\"\n",
        "# def get_wordnet_pos(tag):\n",
        "#     if tag.startswith('N'):\n",
        "#         return wordnet.NOUN\n",
        "#     else:\n",
        "#       pass\n",
        "#     # elif tag.startswith('V'):\n",
        "#     #     return wordnet.VERB\n",
        "#     # elif tag.startswith('N'):\n",
        "#     #     return wordnet.NOUN\n",
        "#     # elif tag.startswith('R'):\n",
        "#     #     return wordnet.ADV\n",
        "#     # else:\n",
        "#     #     return wordnet.NOUN\n",
        "\n",
        "# def textPreprocessing(document):\n",
        "\n",
        "#   # rows = [nltk.word_tokenize(title) for title in document]\n",
        "#   # print(\"Tokens: \", rows)\n",
        "#   # wordNoun = [word for words in rows for word in words if nltk.pos_tag(word.split())[0][1].startswith('NN')]\n",
        "#   # print(\"Nouns: \", wordNoun)\n",
        "#   lemma_words = [lemmaObject.lemmatize(word) for word in wordNoun]\n",
        "#   # print(\"Lemma: \",lemma_words)\n",
        "#   no_stop_words = [word for word in lemma_words if word not in stop_words]\n",
        "#   # print(\"NO Stop words: \", no_stop_words)\n",
        "#   no_punct = [char for char in no_stop_words  if char not in string.punctuation]\n",
        "#   # print(\"no_punct: \", no_punct)\n",
        "#   spell = SpellChecker(distance=1)\n",
        "#   vocabulary = [spell.correction(word) for word in no_punct if len(word) > 3]\n",
        "#   # print(\"vocabs: \",vocabulary)\n",
        "#   return vocabulary"
      ],
      "metadata": {
        "id": "F8ZQri4Nst7y"
      },
      "execution_count": 161,
      "outputs": []
    },
    {
      "cell_type": "markdown",
      "source": [
        "## **Dropping rows who doesn't have any words after preprocessing** "
      ],
      "metadata": {
        "id": "RchgnB_yTGi3"
      }
    },
    {
      "cell_type": "code",
      "source": [
        "df = df[df['review'].map(lambda x: len(x)) > 1].reset_index(drop=True)"
      ],
      "metadata": {
        "id": "iqXZjhxlKcY7"
      },
      "execution_count": 162,
      "outputs": []
    },
    {
      "cell_type": "code",
      "source": [
        "df.head()"
      ],
      "metadata": {
        "colab": {
          "base_uri": "https://localhost:8080/",
          "height": 206
        },
        "id": "N-_WQ1aiKRC8",
        "outputId": "94d7b2d5-f433-4b10-e396-48aeb0458a6b"
      },
      "execution_count": 163,
      "outputs": [
        {
          "output_type": "execute_result",
          "data": {
            "text/html": [
              "\n",
              "  <div id=\"df-ad919a38-2103-44b7-af19-c4186ec70e23\">\n",
              "    <div class=\"colab-df-container\">\n",
              "      <div>\n",
              "<style scoped>\n",
              "    .dataframe tbody tr th:only-of-type {\n",
              "        vertical-align: middle;\n",
              "    }\n",
              "\n",
              "    .dataframe tbody tr th {\n",
              "        vertical-align: top;\n",
              "    }\n",
              "\n",
              "    .dataframe thead th {\n",
              "        text-align: right;\n",
              "    }\n",
              "</style>\n",
              "<table border=\"1\" class=\"dataframe\">\n",
              "  <thead>\n",
              "    <tr style=\"text-align: right;\">\n",
              "      <th></th>\n",
              "      <th>sentiment</th>\n",
              "      <th>review</th>\n",
              "      <th>org_review</th>\n",
              "    </tr>\n",
              "  </thead>\n",
              "  <tbody>\n",
              "    <tr>\n",
              "      <th>0</th>\n",
              "      <td>1</td>\n",
              "      <td>[need, updates, improvements]</td>\n",
              "      <td>need updates improvements</td>\n",
              "    </tr>\n",
              "    <tr>\n",
              "      <th>1</th>\n",
              "      <td>0</td>\n",
              "      <td>[mobile, bought, battery, hell, backup, hours,...</td>\n",
              "      <td>mobile i bought battery hell backup hours inte...</td>\n",
              "    </tr>\n",
              "    <tr>\n",
              "      <th>2</th>\n",
              "      <td>1</td>\n",
              "      <td>[cash, january..]</td>\n",
              "      <td>i % cash january..</td>\n",
              "    </tr>\n",
              "    <tr>\n",
              "      <th>3</th>\n",
              "      <td>0</td>\n",
              "      <td>[phone, everthey, phone, problem, amazon, phon...</td>\n",
              "      <td>phone everthey phone problem amazon phone amazon</td>\n",
              "    </tr>\n",
              "    <tr>\n",
              "      <th>4</th>\n",
              "      <td>0</td>\n",
              "      <td>[buyi, disappointedpoor, batterypoor, camerawa...</td>\n",
              "      <td>i buyi disappointedpoor batterypoor camerawast...</td>\n",
              "    </tr>\n",
              "  </tbody>\n",
              "</table>\n",
              "</div>\n",
              "      <button class=\"colab-df-convert\" onclick=\"convertToInteractive('df-ad919a38-2103-44b7-af19-c4186ec70e23')\"\n",
              "              title=\"Convert this dataframe to an interactive table.\"\n",
              "              style=\"display:none;\">\n",
              "        \n",
              "  <svg xmlns=\"http://www.w3.org/2000/svg\" height=\"24px\"viewBox=\"0 0 24 24\"\n",
              "       width=\"24px\">\n",
              "    <path d=\"M0 0h24v24H0V0z\" fill=\"none\"/>\n",
              "    <path d=\"M18.56 5.44l.94 2.06.94-2.06 2.06-.94-2.06-.94-.94-2.06-.94 2.06-2.06.94zm-11 1L8.5 8.5l.94-2.06 2.06-.94-2.06-.94L8.5 2.5l-.94 2.06-2.06.94zm10 10l.94 2.06.94-2.06 2.06-.94-2.06-.94-.94-2.06-.94 2.06-2.06.94z\"/><path d=\"M17.41 7.96l-1.37-1.37c-.4-.4-.92-.59-1.43-.59-.52 0-1.04.2-1.43.59L10.3 9.45l-7.72 7.72c-.78.78-.78 2.05 0 2.83L4 21.41c.39.39.9.59 1.41.59.51 0 1.02-.2 1.41-.59l7.78-7.78 2.81-2.81c.8-.78.8-2.07 0-2.86zM5.41 20L4 18.59l7.72-7.72 1.47 1.35L5.41 20z\"/>\n",
              "  </svg>\n",
              "      </button>\n",
              "      \n",
              "  <style>\n",
              "    .colab-df-container {\n",
              "      display:flex;\n",
              "      flex-wrap:wrap;\n",
              "      gap: 12px;\n",
              "    }\n",
              "\n",
              "    .colab-df-convert {\n",
              "      background-color: #E8F0FE;\n",
              "      border: none;\n",
              "      border-radius: 50%;\n",
              "      cursor: pointer;\n",
              "      display: none;\n",
              "      fill: #1967D2;\n",
              "      height: 32px;\n",
              "      padding: 0 0 0 0;\n",
              "      width: 32px;\n",
              "    }\n",
              "\n",
              "    .colab-df-convert:hover {\n",
              "      background-color: #E2EBFA;\n",
              "      box-shadow: 0px 1px 2px rgba(60, 64, 67, 0.3), 0px 1px 3px 1px rgba(60, 64, 67, 0.15);\n",
              "      fill: #174EA6;\n",
              "    }\n",
              "\n",
              "    [theme=dark] .colab-df-convert {\n",
              "      background-color: #3B4455;\n",
              "      fill: #D2E3FC;\n",
              "    }\n",
              "\n",
              "    [theme=dark] .colab-df-convert:hover {\n",
              "      background-color: #434B5C;\n",
              "      box-shadow: 0px 1px 3px 1px rgba(0, 0, 0, 0.15);\n",
              "      filter: drop-shadow(0px 1px 2px rgba(0, 0, 0, 0.3));\n",
              "      fill: #FFFFFF;\n",
              "    }\n",
              "  </style>\n",
              "\n",
              "      <script>\n",
              "        const buttonEl =\n",
              "          document.querySelector('#df-ad919a38-2103-44b7-af19-c4186ec70e23 button.colab-df-convert');\n",
              "        buttonEl.style.display =\n",
              "          google.colab.kernel.accessAllowed ? 'block' : 'none';\n",
              "\n",
              "        async function convertToInteractive(key) {\n",
              "          const element = document.querySelector('#df-ad919a38-2103-44b7-af19-c4186ec70e23');\n",
              "          const dataTable =\n",
              "            await google.colab.kernel.invokeFunction('convertToInteractive',\n",
              "                                                     [key], {});\n",
              "          if (!dataTable) return;\n",
              "\n",
              "          const docLinkHtml = 'Like what you see? Visit the ' +\n",
              "            '<a target=\"_blank\" href=https://colab.research.google.com/notebooks/data_table.ipynb>data table notebook</a>'\n",
              "            + ' to learn more about interactive tables.';\n",
              "          element.innerHTML = '';\n",
              "          dataTable['output_type'] = 'display_data';\n",
              "          await google.colab.output.renderOutput(dataTable, element);\n",
              "          const docLink = document.createElement('div');\n",
              "          docLink.innerHTML = docLinkHtml;\n",
              "          element.appendChild(docLink);\n",
              "        }\n",
              "      </script>\n",
              "    </div>\n",
              "  </div>\n",
              "  "
            ],
            "text/plain": [
              "   sentiment  ...                                         org_review\n",
              "0          1  ...                          need updates improvements\n",
              "1          0  ...  mobile i bought battery hell backup hours inte...\n",
              "2          1  ...                                 i % cash january..\n",
              "3          0  ...   phone everthey phone problem amazon phone amazon\n",
              "4          0  ...  i buyi disappointedpoor batterypoor camerawast...\n",
              "\n",
              "[5 rows x 3 columns]"
            ]
          },
          "metadata": {},
          "execution_count": 163
        }
      ]
    },
    {
      "cell_type": "markdown",
      "source": [
        "## **Separating Features and Labels**"
      ],
      "metadata": {
        "id": "gJgomACwTJLM"
      }
    },
    {
      "cell_type": "code",
      "source": [
        "features = df['review'].values\n",
        "labels = df['sentiment'].values"
      ],
      "metadata": {
        "id": "e9zZ_k7n2EB-"
      },
      "execution_count": 164,
      "outputs": []
    },
    {
      "cell_type": "markdown",
      "source": [
        "## **Document Term Matrix (BoW)**"
      ],
      "metadata": {
        "id": "sBgznz8NTZZg"
      }
    },
    {
      "cell_type": "code",
      "source": [
        "np.random.seed(100)\n",
        "dictionary = Dictionary(features)\n",
        "print(dictionary)"
      ],
      "metadata": {
        "colab": {
          "base_uri": "https://localhost:8080/"
        },
        "id": "WcCYn9LQyYOs",
        "outputId": "bbc0d5f3-044a-43de-d42f-bd6a54c8ecb4"
      },
      "execution_count": 165,
      "outputs": [
        {
          "output_type": "stream",
          "name": "stdout",
          "text": [
            "Dictionary(13658 unique tokens: ['improvements', 'need', 'updates', 'amazon', 'backup']...)\n"
          ]
        }
      ]
    },
    {
      "cell_type": "code",
      "source": [
        "doc_term_matrix = df['review'].apply(lambda x: dictionary.doc2bow(x))\n",
        "doc_term_matrix[:10]"
      ],
      "metadata": {
        "colab": {
          "base_uri": "https://localhost:8080/"
        },
        "id": "DLDVB_lAyyi2",
        "outputId": "c64da67c-8f90-40c2-80ef-f4c40bd6d5e2"
      },
      "execution_count": 166,
      "outputs": [
        {
          "output_type": "execute_result",
          "data": {
            "text/plain": [
              "0                             [(0, 1), (1, 1), (2, 1)]\n",
              "1    [(3, 1), (4, 1), (5, 2), (6, 1), (7, 1), (8, 1...\n",
              "2                                   [(22, 1), (23, 1)]\n",
              "3                  [(3, 2), (24, 1), (25, 3), (26, 1)]\n",
              "4        [(27, 1), (28, 1), (29, 1), (30, 1), (31, 1)]\n",
              "5    [(16, 1), (25, 1), (32, 1), (33, 1), (34, 1), ...\n",
              "6                           [(5, 1), (38, 1), (39, 1)]\n",
              "7    [(16, 2), (25, 2), (36, 1), (40, 1), (41, 1), ...\n",
              "8                 [(47, 1), (48, 1), (49, 1), (50, 1)]\n",
              "9                  [(9, 1), (25, 1), (51, 1), (52, 1)]\n",
              "Name: review, dtype: object"
            ]
          },
          "metadata": {},
          "execution_count": 166
        }
      ]
    },
    {
      "cell_type": "markdown",
      "source": [
        "## **Latent Dirichlet Allocation(LDA)**"
      ],
      "metadata": {
        "id": "HxW-mNABTpX5"
      }
    },
    {
      "cell_type": "code",
      "source": [
        "Lda = gensim.models.ldamodel.LdaModel\n",
        "ldamodel = Lda(corpus=doc_term_matrix, num_topics=12, id2word=dictionary, passes=10,random_state=45)\n",
        "clear_output()"
      ],
      "metadata": {
        "id": "CP6hDoaxzI7N"
      },
      "execution_count": 167,
      "outputs": []
    },
    {
      "cell_type": "code",
      "source": [
        "ldamodel.print_topics()"
      ],
      "metadata": {
        "colab": {
          "base_uri": "https://localhost:8080/"
        },
        "id": "Bce57SDvzhr6",
        "outputId": "028e14ef-ce42-4853-c196-a81fa67308c0"
      },
      "execution_count": 168,
      "outputs": [
        {
          "output_type": "execute_result",
          "data": {
            "text/plain": [
              "[(0,\n",
              "  '0.030*\"device\" + 0.026*\"feature\" + 0.026*\"dolby\" + 0.016*\"atmos\" + 0.012*\"audio\" + 0.011*\"speakers\" + 0.010*\"sound\" + 0.010*\"earphones\" + 0.009*\"connect\" + 0.009*\"screen\"'),\n",
              " (1,\n",
              "  '0.184*\"camera\" + 0.089*\"quality\" + 0.038*\"battery\" + 0.024*\"front\" + 0.023*\"phone\" + 0.022*\"performance\" + 0.018*\"mode\" + 0.018*\"rear\" + 0.018*\"depth\" + 0.010*\"backup\"'),\n",
              " (2,\n",
              "  '0.374*\"mobile\" + 0.015*\"charger\" + 0.009*\"broken\" + 0.008*\"headphone\" + 0.007*\"change\" + 0.007*\"time\" + 0.006*\"delivery\" + 0.006*\"super\" + 0.005*\"send\" + 0.005*\"contact\"'),\n",
              " (3,\n",
              "  '0.142*\"battery\" + 0.085*\"heating\" + 0.077*\"problem\" + 0.075*\"phone\" + 0.041*\"issue\" + 0.030*\"backup\" + 0.028*\"fast\" + 0.021*\"charge\" + 0.018*\"issues\" + 0.016*\"network\"'),\n",
              " (4,\n",
              "  '0.045*\"phone\" + 0.020*\"earphone\" + 0.018*\"condition\" + 0.013*\"specifications\" + 0.012*\"lenova\" + 0.011*\"user\" + 0.009*\"performance\" + 0.009*\"package\" + 0.009*\"damage\" + 0.009*\"head\"'),\n",
              " (5,\n",
              "  '0.106*\"money\" + 0.045*\"waste\" + 0.042*\"value\" + 0.037*\"glass\" + 0.033*\"worth\" + 0.024*\"gorilla\" + 0.017*\"phone\" + 0.014*\"screen\" + 0.010*\"nahi\" + 0.009*\"class\"'),\n",
              " (6,\n",
              "  '0.055*\"phone\" + 0.048*\"amazon\" + 0.039*\"service\" + 0.028*\"lenovo\" + 0.025*\"return\" + 0.019*\"product\" + 0.017*\"days\" + 0.015*\"customer\" + 0.014*\"screen\" + 0.013*\"problem\"'),\n",
              " (7,\n",
              "  '0.126*\"phone\" + 0.050*\"price\" + 0.048*\"camera\" + 0.041*\"awesome\" + 0.026*\"range\" + 0.021*\"features\" + 0.019*\"processor\" + 0.018*\"sound\" + 0.017*\"everything\" + 0.016*\"performance\"'),\n",
              " (8,\n",
              "  '0.037*\"phone\" + 0.030*\"turbo\" + 0.029*\"charger\" + 0.028*\"call\" + 0.026*\"battery\" + 0.017*\"hours\" + 0.016*\"charge\" + 0.014*\"volte\" + 0.014*\"apps\" + 0.014*\"work\"'),\n",
              " (9,\n",
              "  '0.046*\"screen\" + 0.035*\"cast\" + 0.028*\"option\" + 0.021*\"call\" + 0.017*\"features\" + 0.017*\"smart\" + 0.013*\"support\" + 0.010*\"message\" + 0.010*\"data\" + 0.009*\"feature\"'),\n",
              " (10,\n",
              "  '0.174*\"product\" + 0.055*\"phone\" + 0.029*\"amazon\" + 0.025*\"excellent\" + 0.019*\"lenovo\" + 0.016*\"delivery\" + 0.016*\"heat\" + 0.015*\"time\" + 0.014*\"price\" + 0.013*\"please\"'),\n",
              " (11,\n",
              "  '0.095*\"lenovo\" + 0.086*\"phone\" + 0.083*\"note\" + 0.030*\"update\" + 0.018*\"android\" + 0.013*\"software\" + 0.012*\"redmi\" + 0.011*\"phones\" + 0.010*\"features\" + 0.009*\"killer\"')]"
            ]
          },
          "metadata": {},
          "execution_count": 168
        }
      ]
    },
    {
      "cell_type": "code",
      "source": [
        "pyLDAvis.enable_notebook()\n",
        "vis = gensim_models.prepare(ldamodel,doc_term_matrix,dictionary)\n",
        "vis"
      ],
      "metadata": {
        "colab": {
          "base_uri": "https://localhost:8080/",
          "height": 916
        },
        "id": "r4z5-YMNzmbp",
        "outputId": "57f225a9-246d-48e0-c7d8-0069961c9167"
      },
      "execution_count": 169,
      "outputs": [
        {
          "output_type": "stream",
          "name": "stderr",
          "text": [
            "/usr/local/lib/python3.7/dist-packages/pyLDAvis/_prepare.py:247: FutureWarning: In a future version of pandas all arguments of DataFrame.drop except for the argument 'labels' will be keyword-only\n",
            "  by='saliency', ascending=False).head(R).drop('saliency', 1)\n"
          ]
        },
        {
          "output_type": "execute_result",
          "data": {
            "text/html": [
              "\n",
              "<link rel=\"stylesheet\" type=\"text/css\" href=\"https://cdn.jsdelivr.net/gh/bmabey/pyLDAvis@3.3.1/pyLDAvis/js/ldavis.v1.0.0.css\">\n",
              "\n",
              "\n",
              "<div id=\"ldavis_el2001396752498755367638425929\"></div>\n",
              "<script type=\"text/javascript\">\n",
              "\n",
              "var ldavis_el2001396752498755367638425929_data = {\"mdsDat\": {\"x\": [0.10016244584197843, 0.2061474154502776, 0.15280690367690747, 0.16163571432650217, 0.05356244816093756, 0.0698484054031433, 0.05456962313688428, -0.13820733309611402, -0.16187711367777163, -0.19330807589642768, -0.18381182657092102, -0.12152860675539574], \"y\": [0.10727272400816434, 0.015983813181673474, -0.24675243009239442, -0.13571602944940594, 0.2298153824227869, -0.020041126864014266, 0.20754703612077624, -0.03608960111186149, -0.0636731930217774, -4.459636560896759e-05, -0.015700141700800117, -0.04260183712753836], \"topics\": [1, 2, 3, 4, 5, 6, 7, 8, 9, 10, 11, 12], \"cluster\": [1, 1, 1, 1, 1, 1, 1, 1, 1, 1, 1, 1], \"Freq\": [13.133449051787089, 13.071514278741855, 11.800806887763393, 10.986171749096572, 10.933252100860702, 9.996671641059752, 7.440426590179311, 5.081529402038319, 4.768212652571395, 4.744456783445766, 4.701324416069672, 3.3421844463861734]}, \"tinfo\": {\"Term\": [\"mobile\", \"camera\", \"product\", \"battery\", \"heating\", \"quality\", \"note\", \"problem\", \"lenovo\", \"money\", \"phone\", \"amazon\", \"price\", \"service\", \"awesome\", \"update\", \"screen\", \"issue\", \"call\", \"backup\", \"waste\", \"charger\", \"turbo\", \"range\", \"value\", \"charge\", \"excellent\", \"front\", \"return\", \"worth\", \"killer\", \"update\", \"useless\", \"vibe\", \"hope\", \"future\", \"specs\", \"redmi\", \"suggestion\", \"honor\", \"nougat\", \"premium\", \"difference\", \"percentage\", \"note\", \"buyers\", \"increase\", \"phon\", \"airtel\", \"view\", \"slight\", \"saver\", \"venom\", \"stylish\", \"offers\", \"post\", \".the\", \"years\", \"alot\", \"helps\", \"motorola\", \"android\", \"oreo\", \"version\", \"moto\", \"lenovo\", \"stock\", \"point\", \"software\", \"phones\", \"updates\", \"phone\", \"system\", \"applications\", \"user\", \"reviews\", \"review\", \"bought\", \"features\", \"issues\", \"feel\", \"time\", \"provide\", \"think\", \"price\", \"issue\", \"device\", \"apps\", \"network\", \"heating\", \"drain\", \"headset\", \"hota\", \"k8note\", \"description\", \"wastage\", \"wireless\", \"beast\", \"control\", \"..camera\", \"camra\", \"dose\", \"area\", \"..and\", \"liye\", \"capacity\", \"bettry\", \"planning\", \"reading\", \"fail\", \"cameragood\", \".its\", \"vodafone\", \"recharge\", \"procedure\", \"behave\", \"meeting\", \"orio\", \"handsets\", \"problem\", \"connectivity\", \"discharge\", \"standby\", \"described\", \"connection\", \"battery\", \"backup\", \"life\", \"issue\", \"bluetooth\", \"hour\", \"charge\", \"fast\", \"drains\", \"half\", \"issues\", \"heats\", \"network\", \"hours\", \".and\", \"phone\", \"hang\", \"months\", \"problems\", \"time\", \"performance\", \"heat\", \"games\", \"usage\", \"month\", \"days\", \"rear\", \"picture\", \"build\", \"photo\", \"image\", \"improvement\", \"color\", \"blur\", \"scratches\", \"handy\", \"background\", \"zoom\", \"present\", \"lovers\", \"pics\", \"setup\", \"file\", \"front\", \"manager\", \"thats\", \"duel\", \"bhut\", \".very\", \"continue\", \"fails\", \"menu\", \"shots\", \"accurate\", \"daylight\", \"gimmick\", \"depth\", \"storage\", \"quality\", \"cameras\", \"camera\", \"selfie\", \"mark\", \"mode\", \".but\", \"flash\", \"decent\", \"photos\", \"video\", \"smartphone\", \"needs\", \"performance\", \"upto\", \"battery\", \"clarity\", \"light\", \"sound\", \"display\", \"speed\", \"backup\", \"phone\", \"music\", \"fast\", \"screen\", \"range\", \"everything\", \"headphones\", \"processing\", \"bekar\", \"results\", \"accessories\", \"comparison\", \"awsome\", \"graphics\", \"snapdragon\", \"performance..\", \"scanner\", \"movies\", \"good-\", \"drawback\", \"processors\", \"adapter\", \"baad\", \"budget\", \"features..\", \"prize\", \"delicate\", \"satisfaction\", \"phone.but\", \"..not\", \"buget\", \"conditions\", \"perfect\", \"shutter\", \"deca\", \"superb\", \"bokeh\", \"awesome\", \"core\", \"sensor\", \"processor\", \"expectation\", \"price\", \"print\", \"space\", \"good..\", \"speaker\", \"fine\", \"sound\", \"finger\", \"fingerprint\", \"phone\", \"features\", \"smooth\", \"super\", \"effect\", \"excellent\", \"camera\", \"love\", \"performance\", \"touch\", \"clarity\", \"fast\", \"quality\", \"display\", \"battery\", \"dolby\", \"worth\", \"service\", \"customer\", \"center\", \"care\", \"centre\", \"bill\", \"seller\", \"told\", \"reason\", \"visit\", \"services\", \"product..\", \"satisfactory\", \"concern\", \"warranty\", \"information\", \"awsm\", \"accept\", \"functionality\", \"bulky\", \"select\", \"complaints\", \"september\", \"fact\", \".camera\", \"..it\", \"camera..\", \"category\", \"question\", \"colors\", \"replacement\", \"faulty\", \"return\", \"response\", \"amazon\", \"pick\", \"help\", \"refund\", \"check\", \"tell\", \"request\", \"keeps\", \"days\", \"item\", \"date\", \"experience\", \"want\", \"week\", \"hand\", \"phone\", \"lenovo\", \"please\", \"screen\", \"bought\", \"till\", \"product\", \"issue\", \"time\", \"problem\", \"support\", \"need\", \"device\", \"call\", \"speaker\", \"months\", \"volte\", \"notification\", \"recorder\", \"warm\", \"browsing\", \"whatsapp\", \"facility\", \"lock\", \"stop\", \"party\", \"longer\", \"place\", \"minimum\", \"fone\", \"batter\", \"ring\", \"coverage\", \"tray\", \"miss\", \"turbo\", \"blowing\", \"reality\", \"india\", \"strength\", \"clearity\", \"smartphones\", \"mine\", \"charges\", \"consumes\", \"panel\", \"faster\", \"calls\", \"mins\", \"charger\", \"voice\", \"call\", \"apps\", \"okay\", \"volume\", \"internet\", \"usage\", \"hours\", \"order\", \"handset\", \"auto\", \"work\", \"charge\", \"drains\", \"signal\", \"videos\", \"phone\", \"battery\", \"network\", \"time\", \"video\", \"support\", \"fast\", \"data\", \"heat\", \"issues\", \"days\", \"light\", \"offer\", \"defect\", \"friends\", \"manufacturing\", \"caller\", \"friend\", \"good.i\", \"battry\", \"loss\", \"gift\", \"laptop\", \"worthless\", \"crack\", \"bhai\", \"comments\", \"fraud\", \"hearing\", \"folder\", \"spending\", \"sent\", \"ideal\", \"items\", \"resistant\", \"phone.i\", \"genuine\", \"diya\", \"futures\", \"clock\", \"engineer\", \"iska\", \"product\", \"amount\", \"excellent\", \"policy\", \"scratch\", \"delivery\", \"year\", \"exchange\", \"thanks\", \"phone..\", \"heat\", \"model\", \"amazon\", \"expectations\", \"mind\", \"please\", \"buying\", \"purchase\", \"phone\", \"recommend\", \"time\", \"price\", \"products\", \"return\", \"month\", \"lenovo\", \"awesome\", \"bought\", \"waste\", \"performance\", \"want\", \"suggest\", \"display\", \"dont\", \"cast\", \"cash\", \"operating\", \"icon\", \"detect\", \"discount\", \"crap\", \"line\", \"listen\", \"k4note\", \"amazone\", \"cheat\", \"flashlight\", \"whats\", \"operation\", \"good.battery\", \"anybody\", \"vivo\", \"mujhe\", \"bright\", \"time..\", \"connects\", \"fire\", \"port\", \"disadvantage\", \"beat\", \"breaks\", \"flop\", \"lenovo..\", \"cheaper\", \"message\", \"answer\", \"record\", \"lenevo\", \"smart\", \"option\", \"cool\", \"carry\", \"screen\", \"slot\", \"opening\", \"mistake\", \"gallery\", \"memory\", \"call\", \"support\", \"data\", \"cable\", \"features\", \"feature\", \"card\", \"options\", \"problems\", \"signal\", \"updates\", \"light\", \"work\", \"software\", \"google\", \"speed\", \"contact\", \"need\", \"lenovo\", \"phone\", \"earphones\", \"invoice\", \"minor\", \"mobile..\", \"idea\", \"mobil\", \"copy\", \"share\", \"yellow\", \"split\", \"iphone\", \"variant\", \"atoms\", \"mirror\", \"noise\", \"moment\", \"abhi\", \"tower\", \"spot\", \"book\", \"coolpad\", \"oneplus\", \"style\", \"elegant\", \"bass\", \"unit\", \"rotation\", \"lets\", \"isme\", \"goodgood\", \"water\", \"body\", \"output\", \"home\", \"purpose\", \"brands\", \"audio\", \"hotspot\", \"atmos\", \"feature\", \"speakers\", \"dolby\", \"loud\", \"settings\", \"device\", \"buttons\", \"connect\", \"someone\", \"wifi\", \"cons\", \"music\", \"bluetooth\", \"button\", \"volume\", \"sound\", \"nothing\", \"screen\", \"network\", \"segment\", \"show\", \"mobile\", \"camara\", \"jata\", \"words\", \"bcoz\", \"site\", \"alarm\", \"charging..\", \"issue..\", \"motherboard\", \"files\", \"ones\", \"booting\", \"phone-\", \"website\", \"prompt\", \"properly..\", \"sites\", \"cemera\", \"meets\", \"amozon\", \"remain\", \"poor..\", \"miracast\", \"sucks..\", \"betry\", \"agree\", \"verry\", \"lenove\", \"notice\", \"gold\", \"broken\", \"media\", \"headphone\", \"becomes\", \"change\", \"send\", \"charger\", \"contact\", \"super\", \"delivery\", \"superb\", \"help\", \"hell\", \"time\", \"want\", \"display\", \"data\", \"features\", \"please\", \"star\", \"hang\", \"system\", \"turbo\", \"glass\", \"gorilla\", \"money\", \"value\", \"bahut\", \"ringtone\", \"iron\", \"fall\", \"result\", \"broke\", \"details\", \"protection\", \"ghatiya\", \"money..\", \"custom\", \"kiya\", \"approx\", \"good.camera\", \"operate\", \"gaya\", \"socket\", \"height\", \"maine\", \"karta\", \"stick\", \"microsoft\", \"goodbut\", \"kharab\", \"lena\", \"bilkul\", \"nahi\", \"waste\", \"others\", \"class\", \"worth\", \"hone\", \"screen\", \"stars\", \"application\", \"phone\", \"company\", \"handset\", \"wonderful\", \"display\", \"experience\", \"phone..\", \"earphone\", \"condition\", \"lenova\", \"damage\", \"medium\", \"paisa\", \"beautiful\", \"bakwas\", \"spend\", \"insert\", \"didnt\", \"contain\", \"thik\", \"slim\", \"mast\", \"imei\", \"form\", \".not\", \"plug\", \"package\", \"wire\", \"fulfill\", \"tooth\", \"november\", \"phonei\", \"curve\", \"wasool\", \"repeat\", \"disappoint\", \"jaisa\", \"head\", \"specifications\", \"sims\", \"process\", \"functions\", \"helio\", \"rate\", \"user\", \"reset\", \"phone\", \"weight\", \"interface\", \"performance\", \"speaker\"], \"Freq\": [1815.0, 2779.0, 1539.0, 2779.0, 1131.0, 1222.0, 1147.0, 1174.0, 1802.0, 510.0, 5511.0, 758.0, 758.0, 435.0, 545.0, 404.0, 654.0, 820.0, 462.0, 541.0, 284.0, 391.0, 324.0, 294.0, 203.0, 446.0, 322.0, 306.0, 356.0, 257.0, 126.12715453663051, 399.45311569962115, 61.67982803040598, 53.35103460865811, 64.17183471471168, 47.589703125860275, 47.02909672568321, 160.85186323835745, 34.71934603471985, 30.567745390664818, 29.98789960273953, 27.736194745375414, 27.717539410469552, 25.486012485661824, 1111.0296672674056, 23.30705343994342, 22.960300955108586, 21.874729432885744, 20.994094869508192, 20.98823716305985, 20.55190596393823, 24.551085994162964, 20.430868039733596, 17.568767058200816, 16.833675652189022, 15.977582239660762, 15.881978723593727, 15.852935368614723, 15.644815790270169, 15.298484947861635, 40.999734960679405, 241.46903312244257, 108.454227744386, 71.87596019697993, 82.28154558127643, 1272.5155932631562, 112.58623607036562, 48.484534545895215, 171.23482360238643, 152.21229123893124, 77.59659225416948, 1153.4459708631466, 76.05984615778063, 31.146879071381242, 65.70551375285885, 39.251777241486465, 63.811289837620976, 91.2919442864406, 130.18556595791873, 107.54960172695198, 50.481379981140094, 91.0739457822117, 46.07924877720917, 53.7726645418494, 71.35267383644627, 70.19296976748677, 60.47152576771884, 50.96126215798268, 51.55966958249687, 1129.9351856033927, 152.40278088401772, 55.394775117920375, 26.311478526976977, 21.90859264753112, 19.608983301455403, 16.864691434175246, 16.425963337561715, 14.544618513533104, 13.541051617498015, 12.354632129189874, 12.06075228841381, 11.563115644052898, 11.501792531282808, 10.97708975540893, 10.119005259098826, 32.976439584018785, 9.874367934608152, 9.49616793949396, 9.227128509527603, 8.682020444371078, 8.643614328045972, 7.910894482911522, 7.908362570184141, 7.759975231915584, 7.760702632257153, 7.557984083860696, 7.54141474338786, 7.461658715338225, 7.310862252006782, 1027.6265389431248, 72.0967635709937, 27.433639655623892, 36.97789373137306, 19.2885898736566, 47.05751756706487, 1893.351915776229, 397.7539462278408, 210.27358324495762, 542.7384870472505, 113.90856829532184, 64.05834943568092, 281.627005837838, 374.589813962536, 163.65157331829317, 55.08817276540093, 238.29366611185733, 103.19327738335963, 215.10275059295017, 164.30751434767345, 29.26939606209153, 1005.4122050110001, 61.63349511754558, 99.0051300320998, 79.26075545638443, 192.4636521639311, 169.71318066039194, 96.37085902075606, 53.57721304563735, 67.10694022106557, 59.029861959904814, 72.491959554858, 213.2229534074529, 99.21664966985117, 73.14874948329084, 77.49511139423453, 56.65812108179216, 37.24239235463968, 33.10751776421862, 30.096433361952652, 28.530080137088177, 24.200267333484216, 24.088352486680577, 21.73505370735279, 20.094198629495022, 19.86138296985386, 42.67088403344707, 19.53365900749567, 19.16533121954059, 293.09291362260615, 16.35122525447584, 16.301817876271734, 15.837279634369235, 15.380846161331775, 14.238120056307977, 13.588350801881909, 13.097310695444436, 13.084241475013519, 12.818657348041112, 11.856255334363418, 11.850600518136599, 11.725796759558405, 211.63951506041033, 51.38196145241802, 1072.5320377112462, 71.35679294503976, 2214.2578773067103, 72.94088236769754, 115.5311228283933, 216.69673367601197, 31.475666893737404, 95.12905102690257, 65.96479237064793, 64.99606482060534, 114.54358705088066, 71.85068431365413, 46.05337059149763, 267.9304575588354, 53.830101181812985, 463.21677168704105, 65.59020499579759, 84.85897304734222, 118.17223351232353, 105.5780064190175, 78.82336177644478, 122.10013902248258, 276.0528728181351, 69.47671107718342, 72.78370934655646, 72.27377120911582, 293.62449821510376, 191.47220280678994, 46.42174504055766, 38.25979079998515, 27.28391769193377, 22.335243914322827, 21.318175287598223, 19.719848448918768, 18.878086076208294, 18.463729283370697, 17.886504974145346, 16.60722613842524, 15.479615775019065, 14.91055593861086, 11.648344810319388, 29.531227371165222, 11.167120331951528, 10.480469226452518, 10.38254519264148, 139.47274075016227, 9.709764546722065, 9.651610639740088, 9.475647308953633, 9.336352911641372, 9.187300989575883, 8.996555390885613, 8.65374942518619, 8.524157034212003, 98.562968471604, 7.809395975382466, 56.86778697119266, 173.64149579935045, 45.690720351876365, 456.67649772431713, 80.34650645249994, 89.08898214300028, 214.51458673443585, 26.68172707799141, 560.417774589145, 37.615406190523764, 29.992777429517233, 40.889140329170445, 147.13828459292705, 110.50104233641744, 206.7488850580973, 40.01988131832747, 42.16855894066518, 1411.1824073709513, 231.3054664838835, 61.465819501831014, 87.86413878676231, 57.821684785678606, 130.40442290900307, 537.0940834240054, 71.63708577322602, 177.36010618338304, 69.73289035018756, 60.13573935676914, 114.90635673173291, 135.68059002025544, 80.61211700113432, 151.09728840827208, 67.8557513369073, 63.659619879376706, 434.60296132612666, 169.86557833236964, 129.54943514938918, 110.22437163411455, 73.22625690590965, 54.00127437792422, 37.97632759754996, 32.996430064403455, 32.39198686999758, 25.738847655383314, 23.523290889020114, 21.5889655450083, 21.103733179520553, 20.5597254643974, 75.4317722929496, 18.339479514292744, 18.102395580346144, 17.598674284675152, 17.273760782230436, 16.950096602096657, 16.92307431952114, 15.952427585295359, 16.255316094408293, 15.377355815416989, 15.062367990229276, 14.937899867424143, 13.82804404714278, 13.671448450591438, 13.21979178471294, 13.111698754341232, 138.97566428703294, 52.03878533095291, 282.8678915761572, 53.46891487081976, 535.2961035474575, 24.743750084504, 86.84570052777656, 79.24551000031366, 54.09342522359355, 32.00428614627174, 48.35262670195077, 31.46417590075127, 193.40541071679488, 36.721799993657825, 38.27891580129991, 106.03406400180322, 104.06091996455054, 49.41892134429793, 44.50020030366747, 615.5648618213778, 310.9524075214911, 107.63613981236033, 152.70095579917688, 90.92310374379238, 58.976941635524646, 215.36517408366976, 136.2409146487007, 119.6166233649752, 143.0455897695082, 70.03370669197834, 68.45034081555126, 71.81461369617962, 66.30420008884947, 59.16657342205044, 58.46886136200916, 146.87498607695386, 84.83867936371504, 59.5874035334148, 47.15196527403512, 41.38411304758264, 40.859448607041756, 36.49196708065999, 48.138261961617665, 33.68140498234607, 33.45288297011463, 32.082911027616305, 25.029372269705732, 22.51762708177436, 21.228048881735216, 20.595974863820587, 20.334175162647373, 20.210630732091186, 19.625052287853013, 18.78256071835388, 310.79549004821615, 17.60084378599417, 16.99661053213133, 16.70649698074406, 37.468336090787126, 15.853278955143685, 13.266774266987168, 13.072066028770802, 42.84768948532263, 12.897613723446868, 12.450565129985227, 64.11337843342554, 110.82790304226435, 51.388991508183764, 300.35450222016175, 73.55554586584299, 288.7301238282992, 139.6324696044156, 31.378198076595833, 67.87312016278194, 79.43516529246035, 131.01934406831626, 171.79988475627277, 38.29917048442357, 98.79257205565767, 42.439109453342, 138.9929807335356, 158.91659318149212, 105.26451437597225, 73.3030795127756, 45.74667590426727, 373.8624494370555, 266.84043185484904, 109.8631876420238, 120.60744509594778, 65.8439371242671, 70.74034562128494, 81.43663356474552, 57.21075178396068, 65.47354631897316, 67.06366260719125, 65.58327853544509, 58.336188104232434, 38.67291746439545, 33.686364184803914, 26.872306544703306, 25.022873830506022, 19.10812640964945, 18.99284374783652, 16.955423130718557, 15.688715227046893, 15.684477479360034, 13.381637612129463, 13.359740223194711, 12.74674780852236, 12.041422037881993, 12.02697211450632, 11.678121432689828, 11.579488961162221, 11.37906738266928, 11.354259306909942, 10.579981223280335, 10.217226482456184, 10.152439371159998, 9.894842702476872, 9.863626692167236, 9.827184716181968, 9.80397619111529, 9.331793781002558, 9.28697451214738, 9.218241606554033, 8.906541551223263, 8.549322423609274, 1322.7680645631183, 24.945622963591365, 191.71680946816758, 48.08032098037965, 16.99996990974335, 121.56262523015614, 35.81494149725868, 32.26496875878222, 52.6756354847992, 45.263494516460256, 120.68987923054584, 49.86384477449851, 222.13688052207252, 40.962737979859874, 18.015932317610183, 99.65883101497538, 53.051728071996436, 59.78087151105638, 415.67283209790236, 42.2270624822229, 112.35262467155682, 110.12764258040859, 30.009411185367206, 69.64912256797503, 52.16756581014163, 144.19445565086696, 73.13038186441744, 52.03803405349685, 49.90425466246197, 60.86606049115733, 43.86230580383478, 33.88028847331517, 41.11479438287364, 33.8170531385206, 182.34985886727088, 26.238645763390352, 24.917256804219324, 16.17547532726588, 15.926545728781102, 15.474028523076973, 13.902563152977182, 12.377538248865246, 11.245367300737106, 10.942837211258542, 10.421812161231816, 10.367670287756567, 10.273670337526768, 10.257475992361448, 9.970351134743753, 9.871970578497665, 9.757231328832956, 9.687676368617085, 9.623024666031862, 9.249713650874385, 9.172084478493597, 8.872363414859132, 8.437535398359536, 8.33595428072472, 8.07253424175958, 7.670659862711345, 7.568123470854218, 7.474163399244704, 7.465171374591683, 7.439981379444225, 49.62616352720269, 12.672779009932706, 25.201282005442046, 35.83154696556814, 86.61197419653753, 142.98722442361188, 47.82405592712695, 10.705972708074905, 240.2421111451214, 44.64309548449079, 16.51644961514339, 16.93655758698522, 47.670801180923995, 46.599192564137184, 106.50150615398262, 66.07367750918769, 49.529768442869646, 23.342711112813184, 86.69300755295912, 48.998817241720765, 37.3519592426003, 30.425963732480763, 38.18401336199871, 31.409488936156603, 27.846882846723148, 30.047936164142165, 34.18685115574943, 30.463200696283774, 22.28843640297745, 27.26226227332726, 21.801578871434735, 25.137072593009087, 32.48803401598713, 24.86039472546334, 47.372809298378996, 32.801077523277705, 25.980899736210187, 23.90938348317184, 23.263180068071364, 19.68888294900346, 17.527791666264264, 16.28902779992252, 15.82324898480712, 15.266009409572584, 14.92211137257474, 14.514148394402913, 14.154226751547702, 13.455159384492623, 10.812770280922654, 10.657449821485041, 10.154559650308508, 9.797395732274266, 9.77309214835657, 9.3344302046921, 8.538231846034638, 8.252760835815273, 7.7956050134634705, 7.3650824401793145, 7.288119579196074, 7.277800789775506, 7.053251458722014, 6.856313960831766, 6.755491450662496, 6.6751398311975665, 17.922852755861673, 35.60205508091276, 23.10659754131231, 24.37407372270001, 13.360889872571864, 19.74392631999832, 56.504085218038185, 34.69924491764793, 76.6357394835479, 127.95227216944596, 52.59622586038656, 125.1301308881026, 26.53481462017207, 24.557210690189926, 147.30525017448736, 19.746985670971583, 45.83330941707287, 24.097439451596525, 42.38468381381845, 30.488886279367197, 44.343707119246154, 38.70445014718713, 28.128037974573548, 30.465640654848336, 48.91195085688767, 29.934352268040076, 45.45311985750302, 40.972960027794436, 21.157217201294774, 22.448848421389833, 1814.4273194030898, 21.10919814531557, 16.87969769695138, 15.27141306219695, 13.302051757262507, 13.072281335838175, 12.452153030869441, 12.318585701981892, 11.469831055056744, 11.442867335999171, 10.168996904061398, 9.436041941624305, 9.150433333979377, 8.896910288335443, 8.458864938566759, 7.458311029694755, 7.181062438635193, 7.1809817663650195, 6.718107974060497, 6.489507582624562, 6.384991297267618, 6.307219843969454, 6.233831207922908, 5.654864377420608, 5.637485990828246, 5.534734905005387, 5.430908000866293, 5.420037553495794, 5.415646274117935, 5.223584779653294, 16.91125691470012, 41.291362462833305, 19.420157747408293, 39.819633979955114, 14.854962494456153, 32.72643379809082, 26.17425458023435, 73.77873329660255, 25.24608569923659, 28.533723289776432, 30.918127064645002, 25.08247556562287, 18.880805514695385, 11.57353046316046, 32.61193107548479, 20.21620463068064, 19.798985701877065, 16.144149374891985, 20.17526824877224, 18.12623207627693, 13.534926086592414, 13.367749448838557, 12.504819048032777, 12.694723828589202, 177.43958723022274, 115.03427428333741, 506.8038307170193, 201.93049569056382, 36.04240832995593, 32.848129351337114, 26.20846495637139, 25.84109050697312, 24.672945478439576, 23.427513538057894, 19.02853231178144, 18.690339462981314, 16.65541670931373, 15.65152649292822, 14.928943954719742, 13.60481750756432, 12.340542354413737, 11.294680318249105, 11.176046563240918, 11.133873498754404, 10.468688187146721, 10.19882015255883, 9.988915214590993, 9.864434182806885, 9.85880380310449, 9.686037457859884, 9.641306349537174, 9.616954621916467, 9.61575274380287, 9.053475031346762, 47.673471412664775, 216.39328199520912, 26.23971378732492, 45.520756777681605, 158.69638860879235, 12.559033733230342, 69.13899663309277, 16.398190196428576, 20.393613174917494, 81.44190846327632, 22.218605276015737, 22.397084734898, 13.722518828761586, 16.95854937600754, 16.169415213064187, 14.361601583794242, 68.27351226296575, 60.15981474085797, 41.53860465532294, 29.81820575394079, 22.803492244432906, 22.49678701707685, 22.379791299515677, 20.5238116123647, 17.327833555206347, 15.748744262822056, 15.06132447905814, 14.32395896912884, 13.452677871832375, 13.125833008013803, 12.091366728955416, 11.012329214507114, 10.936174699030728, 10.275558220859988, 10.009698169628042, 30.613639926404186, 9.649890239271327, 9.410039480576556, 9.342436302907512, 7.741899915124643, 7.223574709590496, 7.188363131605475, 7.064685464332774, 6.986787140403065, 6.750490762475504, 6.351124847330214, 29.816736949008366, 43.40837107968055, 20.493275094234942, 21.407224656895227, 21.656470044540903, 14.431285054218213, 22.794434614016282, 36.511947234936216, 13.025582302528573, 153.82251044560786, 17.76106901525852, 15.09114408049469, 31.083330043940467, 12.607026943722017], \"Total\": [1815.0, 2779.0, 1539.0, 2779.0, 1131.0, 1222.0, 1147.0, 1174.0, 1802.0, 510.0, 5511.0, 758.0, 758.0, 435.0, 545.0, 404.0, 654.0, 820.0, 462.0, 541.0, 284.0, 391.0, 324.0, 294.0, 203.0, 446.0, 322.0, 306.0, 356.0, 257.0, 126.93057199337561, 404.4671951886051, 62.483144746124694, 54.15434573344104, 65.17703941373343, 48.393010832263535, 47.833706661642616, 164.09825095466923, 35.52267836977176, 31.3744330587412, 30.79158045333928, 28.539526661399105, 28.520853386309945, 26.289336601519746, 1147.2367126835356, 24.110363266955147, 23.76364305965049, 22.678041891744137, 21.797406100407862, 21.794379013237, 21.35524782877306, 25.51894851024658, 21.326014087086165, 18.372090024377446, 17.636992992168306, 16.780896456270487, 16.68529758407943, 16.656233458683978, 16.448122109871125, 16.101820065420412, 43.46785475969295, 265.64326418737863, 121.79524156960287, 79.36944180668414, 91.74704475971411, 1802.669308701989, 143.24485047682415, 58.67526161207917, 277.028092812659, 248.74558227360103, 124.53473114903817, 5511.751942309617, 142.07256601135117, 37.67059760670508, 122.47258222877758, 54.221173766653216, 128.47306214040174, 266.4706904344238, 547.3869736721526, 450.43832436049144, 106.88890467930044, 717.7698270027488, 90.83782486158388, 172.88697744852294, 758.6826407074384, 820.3457380470819, 355.92588240328257, 204.09343455198646, 471.294477958146, 1131.594921854844, 153.43208360918155, 56.20200117100912, 27.118754527232863, 22.71584348538044, 20.416225850412705, 17.67195894297051, 17.23319101324018, 15.35185647556342, 14.348344651263934, 13.161858882273208, 12.867967754788618, 12.370342961695323, 12.30902994739809, 11.784352062259051, 10.926399976521166, 35.6147791847857, 10.68158746559977, 10.303405605499853, 10.034382024161454, 9.48931413045316, 9.450847882905771, 8.71813365766954, 8.715664255089369, 8.56720743732869, 8.568038578831374, 8.365275133704188, 8.348652480752259, 8.268919914720765, 8.118096408874914, 1174.0315732169154, 81.13517527241702, 30.829976079342245, 42.73702196124561, 22.203411036046337, 56.775388203798045, 2779.6069071892443, 541.6455533453802, 286.73021886015886, 820.3457380470819, 155.47132720556493, 85.43253002412979, 446.5406531979205, 654.0367524992531, 269.64753719509605, 78.1530952368067, 450.43832436049144, 187.48755992750202, 471.294477958146, 353.00036554823026, 40.08340325176761, 5511.751942309617, 113.24366860421856, 247.62066379871985, 179.43811313301146, 717.7698270027488, 730.707730443815, 291.59889852594375, 126.49043005247107, 230.39059609013492, 197.70554993407876, 413.26806532030207, 214.0305746072958, 100.02427371293862, 73.95641215535339, 78.36785143166419, 57.48124963057566, 38.05001781227695, 33.91515211727197, 30.904053322263664, 29.33772078754588, 25.00789390820559, 24.89598309654578, 22.542694894699924, 20.901846131561317, 20.669002381811097, 44.41099345629962, 20.341275775238135, 19.972969473897653, 306.49418469003444, 17.158870461813198, 17.10948926856167, 16.64489522662654, 16.188531256551496, 15.045754588555964, 14.396005219995097, 13.904958578732272, 13.891897730341963, 13.6262866556703, 12.663884534006645, 12.658227216456872, 12.533424407823409, 226.23224534217005, 55.23138595637269, 1222.6483806842473, 77.91109270065715, 2779.5892443308667, 83.71868403061228, 149.55948079488599, 325.98137495213865, 36.72836275367831, 136.9475264613684, 89.47188806974447, 90.0906010438889, 181.2156110152157, 114.23034548536184, 63.24048026999219, 730.707730443815, 91.24814456927713, 2779.6069071892443, 126.46380296274212, 193.20382638032626, 399.86247258624854, 333.21397940899186, 208.96370549268386, 541.6455533453802, 5511.751942309617, 206.62229630460817, 654.0367524992531, 654.2876179366525, 294.43484535717073, 192.28269553768934, 47.23182164036023, 39.06980374311163, 28.093976642096216, 23.145279029255825, 22.128195399751313, 20.529880553765775, 19.688096901248038, 19.27375157744311, 18.696520015031705, 17.417234303047834, 16.289637680851364, 15.720580527107192, 12.458354955906806, 31.590362468492682, 11.977147127090866, 11.29049746153139, 11.192650514377766, 150.41877377609782, 10.519780915742562, 10.46162288242924, 10.285669842437137, 10.146424314490412, 9.997326238834123, 9.806627553847367, 9.463750231806845, 9.33418425280348, 108.62209506789816, 8.619473875895643, 63.56091331808809, 199.91020824818236, 51.30683327616438, 545.0213273220654, 94.64469335135455, 106.25522625508577, 268.76668371939166, 30.42581246692749, 758.6826407074384, 44.81289061537061, 35.23268115100541, 51.11533828219554, 232.90287325630635, 184.192102820974, 399.86247258624854, 52.819403517776955, 56.7924954330394, 5511.751942309617, 547.3869736721526, 97.47001206387712, 166.01018086681302, 93.71887066274694, 322.859522044421, 2779.5892443308667, 137.14901522556733, 730.707730443815, 159.04072285063555, 126.46380296274212, 654.0367524992531, 1222.6483806842473, 333.21397940899186, 2779.6069071892443, 224.1101710601263, 257.75249996801705, 435.40800475050156, 170.67062897274786, 130.3544781962798, 111.02943767234659, 74.03129458826325, 54.806314188891314, 38.78137120892917, 33.8014699339203, 33.19727055160967, 26.543890574473178, 24.329930856533576, 22.394011896358787, 21.908810788245358, 21.364805412002816, 78.49617086202846, 19.1445264362002, 18.907445250668154, 18.40371753504289, 18.078816585441224, 17.75517266357829, 17.728133393895057, 16.757479255061675, 17.07933195229448, 16.182435147497788, 15.867430677918147, 15.742962497477402, 14.633098481490036, 14.476500881443938, 14.024897305089352, 13.916791742535082, 160.5147994343862, 58.32234806703968, 356.74787754754857, 61.67566092537216, 758.1664298149025, 27.405238951225932, 116.05339439219561, 106.19369347559203, 72.27490112632024, 39.673899166105286, 67.48313043460959, 39.061889936993154, 413.26806532030207, 51.47148484670865, 55.10253944138171, 243.73164685775293, 238.1415981071381, 82.26662578009251, 71.35113702950295, 5511.751942309617, 1802.669308701989, 325.90213466725237, 654.2876179366525, 266.4706904344238, 125.57070444825749, 1539.1867156229214, 820.3457380470819, 717.7698270027488, 1174.0315732169154, 228.48781254887595, 221.9564644653421, 355.92588240328257, 462.3094885060452, 232.90287325630635, 247.62066379871985, 147.68127830483778, 85.64512612245981, 60.393636692119095, 47.95821919759102, 42.1903624625503, 41.665687435001715, 37.298210509478686, 49.21966798732153, 34.48765328014902, 34.25912592423215, 32.891293099722446, 25.835625809175014, 23.323871833976256, 22.034345132144225, 21.402216519805656, 21.140411467826347, 21.016879239842496, 20.431311013230253, 19.591440644165463, 324.233531371178, 18.40710782921203, 17.802877790712554, 17.512753198441857, 39.28976245414353, 16.65953494890544, 14.073026749717492, 13.878319180461746, 45.52338988913081, 13.703857976829696, 13.256838696735365, 68.8409494221368, 130.9477026336195, 58.629958647034364, 391.5485819972198, 94.01196227683955, 462.3094885060452, 204.09343455198646, 36.46077526985586, 99.07108449008578, 121.16521605830573, 230.39059609013492, 353.00036554823026, 49.54755223584308, 185.29058362700593, 57.72170251727228, 341.0116082028413, 446.5406531979205, 269.64753719509605, 159.27381169389963, 67.29869749577264, 5511.751942309617, 2779.6069071892443, 471.294477958146, 717.7698270027488, 181.2156110152157, 228.48781254887595, 654.0367524992531, 155.91806226298579, 291.59889852594375, 450.43832436049144, 413.26806532030207, 193.20382638032626, 39.48319829323815, 34.49664104836311, 27.682635757894328, 25.83314609458048, 19.91845744661027, 19.803482044405975, 17.765692077474004, 16.49900500996859, 16.49475723834856, 14.191963979169575, 14.170037155125067, 13.557026623703553, 12.851695814222417, 12.837302357503473, 12.488440365851167, 12.389762928234479, 12.189340143039624, 12.164557953349018, 11.390298087154736, 11.027521720441626, 10.962717974235634, 10.705117065737872, 10.67397143753189, 10.637454809070885, 10.614244211902859, 10.142073304908054, 10.09725376826679, 10.028527745503743, 9.716821498506011, 9.359604884056855, 1539.1867156229214, 28.63600713545692, 322.859522044421, 66.68843540442623, 20.286169973432095, 208.30817132006695, 49.71412905134781, 44.309514367854206, 81.98770435333128, 70.79043547357819, 291.59889852594375, 95.2457264669217, 758.1664298149025, 74.1054888441863, 24.16572133724497, 325.90213466725237, 143.85043547959057, 192.49124569277606, 5511.751942309617, 107.3558029035005, 717.7698270027488, 758.6826407074384, 63.56005359795386, 356.74787754754857, 197.70554993407876, 1802.669308701989, 545.0213273220654, 266.4706904344238, 284.5763714930466, 730.707730443815, 238.1415981071381, 99.99558524068118, 333.21397940899186, 176.86497720126158, 183.15919363176042, 27.047719266275944, 25.726344668914926, 16.98456781906452, 16.73565669321098, 16.283110086602786, 14.711663936466424, 13.186627217682894, 12.05446206837879, 11.751931141018499, 11.23089353035331, 11.176755905985463, 11.082798127931518, 11.066581058345902, 10.779448212187283, 10.681048222597155, 10.56633094528388, 10.49675757596635, 10.432134647326507, 10.058820044014523, 9.98116864964032, 9.681463418114332, 9.246644431059554, 9.14503437887462, 8.883866525374657, 8.479754339870235, 8.37720047325111, 8.283244122567611, 8.274258368586903, 8.249066227242801, 56.00055353568515, 14.354298241321555, 30.190932008838114, 45.374047921452835, 123.63711169233775, 241.7351987358828, 71.33756351622341, 12.430902658837223, 654.2876179366525, 79.0783673169058, 21.761668304006918, 22.773846999827125, 99.97692091410248, 124.22390480790592, 462.3094885060452, 228.48781254887595, 155.91806226298579, 46.48701028914982, 547.3869736721526, 208.07391852089972, 127.29551514475708, 87.0939975201253, 179.43811313301146, 159.27381169389963, 124.53473114903817, 193.20382638032626, 341.0116082028413, 277.028092812659, 79.58571821999026, 208.96370549268386, 85.38875325994924, 221.9564644653421, 1802.669308701989, 5511.751942309617, 48.1809562840568, 33.60921166916696, 26.789061101962904, 24.717523167684046, 24.0713274381405, 20.497017700255963, 18.33592947087964, 17.097205690147113, 16.63139932077248, 16.07415047783302, 15.730247274756357, 15.322295732330273, 14.962362546866308, 14.263314751434102, 11.620938282758988, 11.46563884886051, 10.962738642216301, 10.60554164970143, 10.581239190081035, 10.14257816798785, 9.346413303503793, 9.060907757260553, 8.603759339512115, 8.173231911769209, 8.096258245973958, 8.085943931576951, 7.861391645333873, 7.664517707622166, 7.563646818996565, 7.483277537388639, 20.470793672421824, 41.507401006842514, 26.590541505715343, 28.38626599270253, 15.228035421877541, 23.444670558581514, 74.2642556921761, 44.13943622520387, 114.15319216747667, 208.07391852089972, 76.9716507865181, 224.1101710601263, 35.8317640504866, 33.7032717890079, 355.92588240328257, 26.06998483509523, 91.92674072219542, 38.81493618189949, 106.79482109747158, 60.293217622574794, 206.62229630460817, 155.47132720556493, 76.26879293071167, 99.07108449008578, 399.86247258624854, 96.70528835294203, 654.2876179366525, 471.294477958146, 38.58331766645461, 81.64193443070315, 1815.242524397973, 21.920770470349158, 17.691313732795027, 16.08302200182892, 14.113661112415686, 13.88388001482767, 13.263746467021793, 13.130167533165382, 12.281413432213917, 12.254457720257298, 10.98058938713083, 10.24770186799893, 9.962029115936282, 9.708681221196498, 9.270438543657116, 8.269984377620524, 7.992668265535913, 7.992674970411984, 7.5296896594910425, 7.301077461845904, 7.19658615684347, 7.118800935756585, 7.045404250145332, 6.4664512483494825, 6.449106098384807, 6.346303572583128, 6.242497342628917, 6.231606710941464, 6.22721997474514, 6.035204347086465, 20.38918028704786, 59.335969167305166, 26.05682366224234, 71.88017575460091, 22.254663226788214, 65.11288523502724, 63.81144441820527, 391.5485819972198, 85.38875325994924, 166.01018086681302, 208.30817132006695, 199.91020824818236, 116.05339439219561, 30.846504430052978, 717.7698270027488, 238.1415981071381, 333.21397940899186, 155.91806226298579, 547.3869736721526, 325.90213466725237, 102.07420440237684, 113.24366860421856, 142.07256601135117, 324.233531371178, 178.25115328112477, 115.84582592242478, 510.58544453994614, 203.63800232951473, 36.8539546689712, 33.65968037451525, 27.020020134335788, 26.65264584377652, 25.484499881336212, 24.239068704772194, 19.84013692778158, 19.501893071823847, 17.46695952149596, 16.46307107472954, 15.740525452236586, 14.416369327194502, 13.152119840584275, 12.106239517551938, 11.987597144554902, 11.945414796459492, 11.280252516146415, 11.010365884043088, 10.800457907062244, 10.675977390631012, 10.670434995847069, 10.49765097952405, 10.452857306253762, 10.428518410851218, 10.42729717348747, 9.865024040677628, 55.19415907448004, 284.5763714930466, 30.916139415643215, 59.45899912385199, 257.75249996801705, 15.172947240460113, 654.2876179366525, 34.850779639838784, 64.6295894429908, 5511.751942309617, 121.99237868703162, 185.29058362700593, 29.571000435032143, 333.21397940899186, 243.73164685775293, 70.79043547357819, 69.0861507945628, 60.97247387304584, 42.35124263097598, 30.633787457140805, 23.616150443960574, 23.309416101050914, 23.192431959182557, 21.336462730864884, 18.14053996558382, 16.561410492658208, 15.873970791733983, 15.136600285302997, 14.265307741178924, 13.93847722070072, 12.903992516764369, 11.824988512807092, 11.748851302532561, 11.088190252076501, 10.82234197835281, 33.14001856500845, 10.462532311463228, 10.222676319203673, 10.155073702563882, 8.55458250830862, 8.036219740641048, 8.001028703176111, 7.877310149522511, 7.799439925234923, 7.563134732417124, 7.1637875868875875, 35.44733313867561, 65.31453449773804, 27.81489126493085, 33.650575054196494, 34.88878204785498, 21.651393897744715, 44.55725008544884, 122.47258222877758, 18.95990883093624, 5511.751942309617, 48.412147658807285, 43.652973198629695, 730.707730443815, 232.90287325630635], \"Category\": [\"Default\", \"Default\", \"Default\", \"Default\", \"Default\", \"Default\", \"Default\", \"Default\", \"Default\", \"Default\", \"Default\", \"Default\", \"Default\", \"Default\", \"Default\", \"Default\", \"Default\", \"Default\", \"Default\", \"Default\", \"Default\", \"Default\", \"Default\", \"Default\", \"Default\", \"Default\", \"Default\", \"Default\", \"Default\", \"Default\", \"Topic1\", \"Topic1\", \"Topic1\", \"Topic1\", \"Topic1\", \"Topic1\", \"Topic1\", \"Topic1\", \"Topic1\", \"Topic1\", \"Topic1\", \"Topic1\", \"Topic1\", \"Topic1\", \"Topic1\", \"Topic1\", \"Topic1\", \"Topic1\", \"Topic1\", \"Topic1\", \"Topic1\", \"Topic1\", \"Topic1\", \"Topic1\", \"Topic1\", \"Topic1\", \"Topic1\", \"Topic1\", \"Topic1\", \"Topic1\", \"Topic1\", \"Topic1\", \"Topic1\", \"Topic1\", \"Topic1\", \"Topic1\", \"Topic1\", \"Topic1\", \"Topic1\", \"Topic1\", \"Topic1\", \"Topic1\", \"Topic1\", \"Topic1\", \"Topic1\", \"Topic1\", \"Topic1\", \"Topic1\", \"Topic1\", \"Topic1\", \"Topic1\", \"Topic1\", \"Topic1\", \"Topic1\", \"Topic1\", \"Topic1\", \"Topic1\", \"Topic1\", \"Topic1\", \"Topic2\", \"Topic2\", \"Topic2\", \"Topic2\", \"Topic2\", \"Topic2\", \"Topic2\", \"Topic2\", \"Topic2\", \"Topic2\", \"Topic2\", \"Topic2\", \"Topic2\", \"Topic2\", \"Topic2\", \"Topic2\", \"Topic2\", \"Topic2\", \"Topic2\", \"Topic2\", \"Topic2\", \"Topic2\", \"Topic2\", \"Topic2\", \"Topic2\", \"Topic2\", \"Topic2\", \"Topic2\", \"Topic2\", \"Topic2\", \"Topic2\", \"Topic2\", \"Topic2\", \"Topic2\", \"Topic2\", \"Topic2\", \"Topic2\", \"Topic2\", \"Topic2\", \"Topic2\", \"Topic2\", \"Topic2\", \"Topic2\", \"Topic2\", \"Topic2\", \"Topic2\", \"Topic2\", \"Topic2\", \"Topic2\", \"Topic2\", \"Topic2\", \"Topic2\", \"Topic2\", \"Topic2\", \"Topic2\", \"Topic2\", \"Topic2\", \"Topic2\", \"Topic2\", \"Topic2\", \"Topic2\", \"Topic2\", \"Topic3\", \"Topic3\", \"Topic3\", \"Topic3\", \"Topic3\", \"Topic3\", \"Topic3\", \"Topic3\", \"Topic3\", \"Topic3\", \"Topic3\", \"Topic3\", \"Topic3\", \"Topic3\", \"Topic3\", \"Topic3\", \"Topic3\", \"Topic3\", \"Topic3\", \"Topic3\", \"Topic3\", \"Topic3\", \"Topic3\", \"Topic3\", \"Topic3\", \"Topic3\", \"Topic3\", \"Topic3\", \"Topic3\", \"Topic3\", \"Topic3\", \"Topic3\", \"Topic3\", \"Topic3\", \"Topic3\", \"Topic3\", \"Topic3\", \"Topic3\", \"Topic3\", \"Topic3\", \"Topic3\", \"Topic3\", \"Topic3\", \"Topic3\", \"Topic3\", \"Topic3\", \"Topic3\", \"Topic3\", \"Topic3\", \"Topic3\", \"Topic3\", \"Topic3\", \"Topic3\", \"Topic3\", \"Topic3\", \"Topic3\", \"Topic3\", \"Topic3\", \"Topic4\", \"Topic4\", \"Topic4\", \"Topic4\", \"Topic4\", \"Topic4\", \"Topic4\", \"Topic4\", \"Topic4\", \"Topic4\", \"Topic4\", \"Topic4\", \"Topic4\", \"Topic4\", \"Topic4\", \"Topic4\", \"Topic4\", \"Topic4\", \"Topic4\", \"Topic4\", \"Topic4\", \"Topic4\", \"Topic4\", \"Topic4\", \"Topic4\", \"Topic4\", \"Topic4\", \"Topic4\", \"Topic4\", \"Topic4\", \"Topic4\", \"Topic4\", \"Topic4\", \"Topic4\", \"Topic4\", \"Topic4\", \"Topic4\", \"Topic4\", \"Topic4\", \"Topic4\", \"Topic4\", \"Topic4\", \"Topic4\", \"Topic4\", \"Topic4\", \"Topic4\", \"Topic4\", \"Topic4\", \"Topic4\", \"Topic4\", \"Topic4\", \"Topic4\", \"Topic4\", \"Topic4\", \"Topic4\", \"Topic4\", \"Topic4\", \"Topic4\", \"Topic4\", \"Topic4\", \"Topic4\", \"Topic4\", \"Topic4\", \"Topic4\", \"Topic5\", \"Topic5\", \"Topic5\", \"Topic5\", \"Topic5\", \"Topic5\", \"Topic5\", \"Topic5\", \"Topic5\", \"Topic5\", \"Topic5\", \"Topic5\", \"Topic5\", \"Topic5\", \"Topic5\", \"Topic5\", \"Topic5\", \"Topic5\", \"Topic5\", \"Topic5\", \"Topic5\", \"Topic5\", \"Topic5\", \"Topic5\", \"Topic5\", \"Topic5\", \"Topic5\", \"Topic5\", \"Topic5\", \"Topic5\", \"Topic5\", \"Topic5\", \"Topic5\", \"Topic5\", \"Topic5\", \"Topic5\", \"Topic5\", \"Topic5\", \"Topic5\", \"Topic5\", \"Topic5\", \"Topic5\", \"Topic5\", \"Topic5\", \"Topic5\", \"Topic5\", \"Topic5\", \"Topic5\", \"Topic5\", \"Topic5\", \"Topic5\", \"Topic5\", \"Topic5\", \"Topic5\", \"Topic5\", \"Topic5\", \"Topic5\", \"Topic5\", \"Topic5\", \"Topic5\", \"Topic5\", \"Topic5\", \"Topic5\", \"Topic5\", \"Topic5\", \"Topic6\", \"Topic6\", \"Topic6\", \"Topic6\", \"Topic6\", \"Topic6\", \"Topic6\", \"Topic6\", \"Topic6\", \"Topic6\", \"Topic6\", \"Topic6\", \"Topic6\", \"Topic6\", \"Topic6\", \"Topic6\", \"Topic6\", \"Topic6\", \"Topic6\", \"Topic6\", \"Topic6\", \"Topic6\", \"Topic6\", \"Topic6\", \"Topic6\", \"Topic6\", \"Topic6\", \"Topic6\", \"Topic6\", \"Topic6\", \"Topic6\", \"Topic6\", \"Topic6\", \"Topic6\", \"Topic6\", \"Topic6\", \"Topic6\", \"Topic6\", \"Topic6\", \"Topic6\", \"Topic6\", \"Topic6\", \"Topic6\", \"Topic6\", \"Topic6\", \"Topic6\", \"Topic6\", \"Topic6\", \"Topic6\", \"Topic6\", \"Topic6\", \"Topic6\", \"Topic6\", \"Topic6\", \"Topic6\", \"Topic6\", \"Topic6\", \"Topic6\", \"Topic6\", \"Topic6\", \"Topic6\", \"Topic6\", \"Topic7\", \"Topic7\", \"Topic7\", \"Topic7\", \"Topic7\", \"Topic7\", \"Topic7\", \"Topic7\", \"Topic7\", \"Topic7\", \"Topic7\", \"Topic7\", \"Topic7\", \"Topic7\", \"Topic7\", \"Topic7\", \"Topic7\", \"Topic7\", \"Topic7\", \"Topic7\", \"Topic7\", \"Topic7\", \"Topic7\", \"Topic7\", \"Topic7\", \"Topic7\", \"Topic7\", \"Topic7\", \"Topic7\", \"Topic7\", \"Topic7\", \"Topic7\", \"Topic7\", \"Topic7\", \"Topic7\", \"Topic7\", \"Topic7\", \"Topic7\", \"Topic7\", \"Topic7\", \"Topic7\", \"Topic7\", \"Topic7\", \"Topic7\", \"Topic7\", \"Topic7\", \"Topic7\", \"Topic7\", \"Topic7\", \"Topic7\", \"Topic7\", \"Topic7\", \"Topic7\", \"Topic7\", \"Topic7\", \"Topic7\", \"Topic7\", \"Topic7\", \"Topic7\", \"Topic7\", \"Topic7\", \"Topic7\", \"Topic7\", \"Topic7\", \"Topic8\", \"Topic8\", \"Topic8\", \"Topic8\", \"Topic8\", \"Topic8\", \"Topic8\", \"Topic8\", \"Topic8\", \"Topic8\", \"Topic8\", \"Topic8\", \"Topic8\", \"Topic8\", \"Topic8\", \"Topic8\", \"Topic8\", \"Topic8\", \"Topic8\", \"Topic8\", \"Topic8\", \"Topic8\", \"Topic8\", \"Topic8\", \"Topic8\", \"Topic8\", \"Topic8\", \"Topic8\", \"Topic8\", \"Topic8\", \"Topic8\", \"Topic8\", \"Topic8\", \"Topic8\", \"Topic8\", \"Topic8\", \"Topic8\", \"Topic8\", \"Topic8\", \"Topic8\", \"Topic8\", \"Topic8\", \"Topic8\", \"Topic8\", \"Topic8\", \"Topic8\", \"Topic8\", \"Topic8\", \"Topic8\", \"Topic8\", \"Topic8\", \"Topic8\", \"Topic8\", \"Topic8\", \"Topic8\", \"Topic8\", \"Topic8\", \"Topic8\", \"Topic8\", \"Topic8\", \"Topic8\", \"Topic8\", \"Topic8\", \"Topic8\", \"Topic9\", \"Topic9\", \"Topic9\", \"Topic9\", \"Topic9\", \"Topic9\", \"Topic9\", \"Topic9\", \"Topic9\", \"Topic9\", \"Topic9\", \"Topic9\", \"Topic9\", \"Topic9\", \"Topic9\", \"Topic9\", \"Topic9\", \"Topic9\", \"Topic9\", \"Topic9\", \"Topic9\", \"Topic9\", \"Topic9\", \"Topic9\", \"Topic9\", \"Topic9\", \"Topic9\", \"Topic9\", \"Topic9\", \"Topic9\", \"Topic9\", \"Topic9\", \"Topic9\", \"Topic9\", \"Topic9\", \"Topic9\", \"Topic9\", \"Topic9\", \"Topic9\", \"Topic9\", \"Topic9\", \"Topic9\", \"Topic9\", \"Topic9\", \"Topic9\", \"Topic9\", \"Topic9\", \"Topic9\", \"Topic9\", \"Topic9\", \"Topic9\", \"Topic9\", \"Topic9\", \"Topic9\", \"Topic9\", \"Topic9\", \"Topic9\", \"Topic9\", \"Topic9\", \"Topic9\", \"Topic10\", \"Topic10\", \"Topic10\", \"Topic10\", \"Topic10\", \"Topic10\", \"Topic10\", \"Topic10\", \"Topic10\", \"Topic10\", \"Topic10\", \"Topic10\", \"Topic10\", \"Topic10\", \"Topic10\", \"Topic10\", \"Topic10\", \"Topic10\", \"Topic10\", \"Topic10\", \"Topic10\", \"Topic10\", \"Topic10\", \"Topic10\", \"Topic10\", \"Topic10\", \"Topic10\", \"Topic10\", \"Topic10\", \"Topic10\", \"Topic10\", \"Topic10\", \"Topic10\", \"Topic10\", \"Topic10\", \"Topic10\", \"Topic10\", \"Topic10\", \"Topic10\", \"Topic10\", \"Topic10\", \"Topic10\", \"Topic10\", \"Topic10\", \"Topic10\", \"Topic10\", \"Topic10\", \"Topic10\", \"Topic10\", \"Topic10\", \"Topic10\", \"Topic10\", \"Topic10\", \"Topic10\", \"Topic11\", \"Topic11\", \"Topic11\", \"Topic11\", \"Topic11\", \"Topic11\", \"Topic11\", \"Topic11\", \"Topic11\", \"Topic11\", \"Topic11\", \"Topic11\", \"Topic11\", \"Topic11\", \"Topic11\", \"Topic11\", \"Topic11\", \"Topic11\", \"Topic11\", \"Topic11\", \"Topic11\", \"Topic11\", \"Topic11\", \"Topic11\", \"Topic11\", \"Topic11\", \"Topic11\", \"Topic11\", \"Topic11\", \"Topic11\", \"Topic11\", \"Topic11\", \"Topic11\", \"Topic11\", \"Topic11\", \"Topic11\", \"Topic11\", \"Topic11\", \"Topic11\", \"Topic11\", \"Topic11\", \"Topic11\", \"Topic11\", \"Topic11\", \"Topic11\", \"Topic11\", \"Topic12\", \"Topic12\", \"Topic12\", \"Topic12\", \"Topic12\", \"Topic12\", \"Topic12\", \"Topic12\", \"Topic12\", \"Topic12\", \"Topic12\", \"Topic12\", \"Topic12\", \"Topic12\", \"Topic12\", \"Topic12\", \"Topic12\", \"Topic12\", \"Topic12\", \"Topic12\", \"Topic12\", \"Topic12\", \"Topic12\", \"Topic12\", \"Topic12\", \"Topic12\", \"Topic12\", \"Topic12\", \"Topic12\", \"Topic12\", \"Topic12\", \"Topic12\", \"Topic12\", \"Topic12\", \"Topic12\", \"Topic12\", \"Topic12\", \"Topic12\", \"Topic12\", \"Topic12\", \"Topic12\", \"Topic12\", \"Topic12\", \"Topic12\"], \"logprob\": [30.0, 29.0, 28.0, 27.0, 26.0, 25.0, 24.0, 23.0, 22.0, 21.0, 20.0, 19.0, 18.0, 17.0, 16.0, 15.0, 14.0, 13.0, 12.0, 11.0, 10.0, 9.0, 8.0, 7.0, 6.0, 5.0, 4.0, 3.0, 2.0, 1.0, -4.6668, -3.514, -5.3821, -5.5272, -5.3425, -5.6415, -5.6533, -4.4236, -5.9568, -6.0841, -6.1033, -6.1813, -6.182, -6.266, -2.491, -6.3553, -6.3703, -6.4188, -6.4598, -6.4601, -6.4811, -6.3033, -6.487, -6.638, -6.6807, -6.7329, -6.7389, -6.7407, -6.7539, -6.7763, -5.7905, -4.0173, -4.8178, -5.2291, -5.0939, -2.3553, -4.7804, -5.6228, -4.361, -4.4788, -5.1526, -2.4536, -5.1726, -6.0654, -5.3189, -5.8341, -5.3482, -4.99, -4.6351, -4.8261, -5.5825, -4.9924, -5.6737, -5.5193, -5.2364, -5.2528, -5.4019, -5.573, -5.5613, -2.4694, -4.4728, -5.4849, -6.2293, -6.4125, -6.5234, -6.6741, -6.7005, -6.8221, -6.8936, -6.9853, -7.0094, -7.0515, -7.0569, -7.1035, -7.1849, -6.0036, -7.2094, -7.2485, -7.2772, -7.3381, -7.3425, -7.4311, -7.4314, -7.4504, -7.4503, -7.4768, -7.4789, -7.4896, -7.51, -2.5643, -5.2213, -6.1876, -5.889, -6.5398, -5.648, -1.9533, -3.5135, -4.1509, -3.2027, -4.764, -5.3396, -3.8588, -3.5735, -4.4016, -5.4904, -4.0259, -4.8628, -4.1282, -4.3976, -6.1228, -2.5862, -5.3781, -4.9042, -5.1266, -4.2394, -4.3652, -4.9312, -5.5182, -5.2931, -5.4213, -5.2159, -4.0347, -4.7998, -5.1046, -5.0469, -5.3601, -5.7796, -5.8973, -5.9927, -6.0461, -6.2107, -6.2154, -6.3182, -6.3967, -6.4083, -5.6436, -6.4249, -6.444, -3.7166, -6.6028, -6.6058, -6.6347, -6.664, -6.7412, -6.7879, -6.8247, -6.8257, -6.8462, -6.9242, -6.9247, -6.9353, -4.0422, -5.4578, -2.4193, -5.1294, -1.6944, -5.1074, -4.6475, -4.0186, -5.9479, -4.8419, -5.208, -5.2228, -4.6561, -5.1225, -5.5673, -3.8064, -5.4113, -3.2589, -5.2137, -4.9561, -4.6249, -4.7376, -5.0299, -4.5922, -3.7765, -5.1561, -5.1096, -5.1166, -3.6433, -4.0708, -5.4878, -5.6812, -6.0193, -6.2194, -6.266, -6.3439, -6.3876, -6.4097, -6.4415, -6.5157, -6.586, -6.6235, -6.8704, -5.9401, -6.9126, -6.976, -6.9854, -4.3877, -7.0524, -7.0584, -7.0768, -7.0916, -7.1077, -7.1287, -7.1676, -7.1827, -4.7349, -7.2702, -5.2848, -4.1686, -5.5037, -3.2016, -4.9392, -4.8359, -3.9572, -6.0416, -2.9969, -5.6981, -5.9246, -5.6147, -4.3342, -4.6205, -3.9941, -5.6362, -5.5839, -2.0734, -3.8818, -5.2071, -4.8498, -5.2682, -4.4549, -3.0394, -5.0539, -4.1474, -5.0809, -5.229, -4.5814, -4.4153, -4.9359, -4.3076, -5.1082, -5.172, -3.2463, -4.1857, -4.4567, -4.6182, -5.0272, -5.3317, -5.6838, -5.8243, -5.8428, -6.0727, -6.1627, -6.2485, -6.2713, -6.2974, -4.9975, -6.4117, -6.4247, -6.4529, -6.4715, -6.4905, -6.4921, -6.5511, -6.5323, -6.5878, -6.6085, -6.6168, -6.694, -6.7054, -6.739, -6.7472, -4.3864, -5.3687, -3.6757, -5.3416, -3.0379, -6.1122, -4.8566, -4.9482, -5.33, -5.8549, -5.4422, -5.8719, -4.0559, -5.7174, -5.6758, -4.657, -4.6758, -5.4204, -5.5252, -2.8982, -3.5811, -4.642, -4.2922, -4.8107, -5.2436, -3.9484, -4.4063, -4.5364, -4.3576, -5.0718, -5.0946, -5.0466, -5.1265, -5.2404, -5.2522, -4.2416, -4.7904, -5.1437, -5.3778, -5.5083, -5.521, -5.6341, -5.3571, -5.7142, -5.721, -5.7628, -6.0111, -6.1169, -6.1758, -6.2061, -6.2189, -6.225, -6.2544, -6.2982, -3.492, -6.3632, -6.3982, -6.4154, -5.6077, -6.4678, -6.6459, -6.6607, -5.4735, -6.6741, -6.7094, -5.0705, -4.5232, -5.2917, -3.5262, -4.9331, -3.5657, -4.2922, -5.7851, -5.0135, -4.8562, -4.3558, -4.0848, -5.5857, -4.6381, -5.4831, -4.2967, -4.1628, -4.5747, -4.9366, -5.4081, -3.3073, -3.6445, -4.5319, -4.4386, -5.0439, -4.9722, -4.8313, -5.1844, -5.0495, -5.0255, -5.0479, -5.1649, -5.2807, -5.4188, -5.6448, -5.7161, -5.9857, -5.9918, -6.1053, -6.1829, -6.1832, -6.342, -6.3436, -6.3906, -6.4475, -6.4487, -6.4781, -6.4866, -6.5041, -6.5063, -6.5769, -6.6118, -6.6181, -6.6438, -6.647, -6.6507, -6.6531, -6.7024, -6.7072, -6.7147, -6.7491, -6.79, -1.7484, -5.7191, -3.6798, -5.063, -6.1026, -4.1354, -5.3575, -5.4619, -4.9717, -5.1233, -4.1426, -5.0266, -3.5326, -5.2232, -6.0446, -4.3341, -4.9646, -4.8452, -2.9059, -5.1928, -4.2142, -4.2342, -5.5343, -4.6924, -4.9814, -3.9647, -4.6436, -4.9839, -5.0257, -4.8272, -5.1548, -5.413, -5.2195, -5.4149, -3.3486, -5.2873, -5.339, -5.771, -5.7865, -5.8154, -5.9225, -6.0386, -6.1346, -6.1618, -6.2106, -6.2158, -6.2249, -6.2265, -6.2549, -6.2648, -6.2765, -6.2837, -6.2904, -6.3299, -6.3384, -6.3716, -6.4218, -6.434, -6.4661, -6.5171, -6.5306, -6.5431, -6.5443, -6.5477, -4.65, -6.0151, -5.3276, -4.9757, -4.0931, -3.5918, -4.687, -6.1837, -3.0729, -4.7558, -5.7502, -5.7251, -4.6902, -4.7129, -3.8864, -4.3638, -4.652, -5.4042, -4.0922, -4.6627, -4.9341, -5.1392, -4.9121, -5.1074, -5.2278, -5.1517, -5.0227, -5.138, -5.4505, -5.249, -5.4725, -5.3302, -5.0737, -5.3413, -4.6328, -5.0004, -5.2335, -5.3166, -5.344, -5.5108, -5.6271, -5.7004, -5.7294, -5.7653, -5.788, -5.8158, -5.8409, -5.8915, -6.1102, -6.1246, -6.173, -6.2088, -6.2113, -6.2572, -6.3463, -6.3803, -6.4373, -6.4941, -6.5046, -6.5061, -6.5374, -6.5657, -6.5805, -6.5925, -5.6048, -4.9185, -5.3508, -5.2974, -5.8986, -5.508, -4.4566, -4.9442, -4.1518, -3.6392, -4.5282, -3.6615, -5.2124, -5.2899, -3.4984, -5.5079, -4.6659, -5.3088, -4.7441, -5.0735, -4.6989, -4.8349, -5.1541, -5.0743, -4.6009, -5.0919, -4.6742, -4.778, -5.4389, -5.3797, -0.9824, -5.4362, -5.6598, -5.7599, -5.898, -5.9154, -5.964, -5.9748, -6.0462, -6.0485, -6.1666, -6.2414, -6.2721, -6.3002, -6.3507, -6.4766, -6.5144, -6.5145, -6.5811, -6.6157, -6.6319, -6.6442, -6.6559, -6.7534, -6.7565, -6.7749, -6.7938, -6.7958, -6.7966, -6.8327, -5.6579, -4.7652, -5.5196, -4.8015, -5.7876, -4.9977, -5.2211, -4.1848, -5.2572, -5.1348, -5.0546, -5.2637, -5.5478, -6.0372, -5.0012, -5.4794, -5.5003, -5.7043, -5.4814, -5.5885, -5.8806, -5.8931, -5.9598, -5.9447, -3.2981, -3.7315, -2.2486, -3.1688, -4.8921, -4.9849, -5.2107, -5.2248, -5.2711, -5.3229, -5.5308, -5.5488, -5.664, -5.7262, -5.7735, -5.8663, -5.9639, -6.0524, -6.063, -6.0668, -6.1284, -6.1545, -6.1753, -6.1878, -6.1884, -6.2061, -6.2107, -6.2132, -6.2134, -6.2736, -4.6124, -3.0997, -5.2095, -4.6586, -3.4098, -5.9463, -4.2406, -5.6796, -5.4615, -4.0769, -5.3758, -5.3678, -5.8577, -5.646, -5.6936, -5.8122, -3.912, -4.0385, -4.4089, -4.7404, -5.0086, -5.0222, -5.0274, -5.114, -5.2832, -5.3788, -5.4234, -5.4736, -5.5364, -5.561, -5.6431, -5.7365, -5.7435, -5.8058, -5.832, -4.7141, -5.8686, -5.8938, -5.901, -6.0889, -6.1582, -6.1631, -6.1804, -6.1915, -6.2259, -6.2869, -4.7405, -4.3649, -5.1154, -5.0718, -5.0602, -5.4661, -5.009, -4.5379, -5.5686, -3.0997, -5.2585, -5.4214, -4.6989, -5.6013], \"loglift\": [30.0, 29.0, 28.0, 27.0, 26.0, 25.0, 24.0, 23.0, 22.0, 21.0, 20.0, 19.0, 18.0, 17.0, 16.0, 15.0, 14.0, 13.0, 12.0, 11.0, 10.0, 9.0, 8.0, 7.0, 6.0, 5.0, 4.0, 3.0, 2.0, 1.0, 2.0237, 2.0175, 2.0171, 2.0151, 2.0145, 2.0133, 2.013, 2.01, 2.0071, 2.004, 2.0036, 2.0015, 2.0014, 1.999, 1.9979, 1.9961, 1.9956, 1.9939, 1.9925, 1.9923, 1.9917, 1.9913, 1.9871, 1.9853, 1.9834, 1.981, 1.9807, 1.9806, 1.9799, 1.9788, 1.9716, 1.9346, 1.914, 1.9308, 1.9211, 1.6817, 1.7892, 1.8392, 1.5489, 1.5389, 1.5569, 0.4659, 1.4052, 1.8398, 1.4073, 1.7069, 1.3302, 0.9588, 0.5938, 0.5977, 1.2798, -0.0345, 1.3513, 0.8621, -0.3339, -0.4285, 0.2575, 0.6425, -0.1827, 2.0333, 2.028, 2.0203, 2.0045, 1.9986, 1.9944, 1.988, 1.9868, 1.9807, 1.9768, 1.9714, 1.97, 1.9673, 1.9669, 1.9638, 1.958, 1.9578, 1.9562, 1.9531, 1.9509, 1.9458, 1.9455, 1.9376, 1.9375, 1.9358, 1.9358, 1.9333, 1.933, 1.932, 1.93, 1.9015, 1.9166, 1.918, 1.89, 1.894, 1.847, 1.6508, 1.726, 1.7246, 1.6216, 1.7237, 1.7468, 1.5738, 1.4774, 1.5354, 1.685, 1.398, 1.4376, 1.2504, 1.27, 1.7203, 0.3332, 1.4264, 1.118, 1.2176, 0.7185, 0.5748, 0.9276, 1.1757, 0.8012, 0.826, 0.2941, 2.1332, 2.1289, 2.126, 2.1258, 2.1226, 2.1155, 2.1129, 2.1105, 2.1091, 2.1042, 2.104, 2.1005, 2.0976, 2.0971, 2.097, 2.0965, 2.0957, 2.0923, 2.0888, 2.0886, 2.0873, 2.0858, 2.0818, 2.0793, 2.0772, 2.0771, 2.0759, 2.0711, 2.0711, 2.0704, 2.0703, 2.0648, 2.006, 2.0491, 1.9096, 1.9992, 1.8788, 1.7287, 1.9827, 1.7726, 1.8322, 1.8105, 1.6783, 1.6734, 1.8199, 1.1337, 1.6093, 0.3451, 1.4805, 1.3142, 0.918, 0.9877, 1.1621, 0.6472, -0.857, 1.0471, -0.0587, -0.0661, 2.2058, 2.2043, 2.1912, 2.1876, 2.1793, 2.1729, 2.1712, 2.1683, 2.1665, 2.1656, 2.1642, 2.1609, 2.1575, 2.1556, 2.1413, 2.1411, 2.1385, 2.1341, 2.1334, 2.133, 2.1284, 2.1279, 2.1265, 2.1253, 2.124, 2.1223, 2.1191, 2.1178, 2.1114, 2.1098, 2.0973, 2.0677, 2.0926, 2.0317, 2.0448, 2.0323, 1.9831, 2.0772, 1.9056, 2.0335, 2.0475, 1.9853, 1.7493, 1.6976, 1.5489, 1.931, 1.9108, 0.8461, 1.3471, 1.7475, 1.5723, 1.7256, 1.302, 0.5646, 1.5591, 0.7927, 1.384, 1.4652, 0.4695, 0.0101, 0.7894, -0.7036, 1.0138, 0.8101, 2.2115, 2.2086, 2.2072, 2.2061, 2.2024, 2.1986, 2.1924, 2.1893, 2.1888, 2.1826, 2.1796, 2.1768, 2.1759, 2.175, 2.1735, 2.1704, 2.1698, 2.1686, 2.1678, 2.167, 2.1669, 2.1641, 2.1639, 2.1623, 2.1613, 2.1609, 2.1568, 2.1561, 2.1542, 2.1538, 2.0693, 2.0994, 1.9813, 2.0706, 1.8653, 2.1112, 1.9234, 1.9206, 1.9236, 1.9985, 1.88, 1.9971, 1.4541, 1.8757, 1.8491, 1.3811, 1.3855, 1.7037, 1.7412, 0.0213, 0.456, 1.1055, 0.7583, 1.1381, 1.4576, 0.2467, 0.4181, 0.4215, 0.1083, 1.0309, 1.037, 0.6127, 0.2714, 0.8431, 0.77, 2.2974, 2.2935, 2.2895, 2.286, 2.2836, 2.2834, 2.2811, 2.2807, 2.2793, 2.2791, 2.278, 2.2712, 2.2677, 2.2656, 2.2645, 2.264, 2.2638, 2.2627, 2.2608, 2.2606, 2.2581, 2.2566, 2.2558, 2.2555, 2.2533, 2.2439, 2.2431, 2.2423, 2.2423, 2.2402, 2.2318, 2.1361, 2.1711, 2.0378, 2.0575, 1.8322, 1.9234, 2.1528, 1.9247, 1.8807, 1.7385, 1.5828, 2.0454, 1.674, 1.9954, 1.4054, 1.2698, 1.3623, 1.5269, 1.9169, -0.3878, -0.0405, 0.8467, 0.5193, 1.2905, 1.1305, 0.2196, 1.3003, 0.8092, 0.3983, 0.4621, 1.1054, 2.5775, 2.5745, 2.5685, 2.5664, 2.5567, 2.5564, 2.5516, 2.5479, 2.5479, 2.5394, 2.5394, 2.5366, 2.5331, 2.533, 2.5312, 2.5306, 2.5295, 2.5293, 2.5244, 2.5219, 2.5215, 2.5195, 2.5193, 2.519, 2.5188, 2.515, 2.5146, 2.514, 2.5112, 2.5077, 2.4467, 2.4603, 2.077, 2.2711, 2.4215, 2.0597, 2.2703, 2.281, 2.1558, 2.151, 1.7161, 1.9511, 1.3706, 2.0054, 2.3046, 1.4134, 1.6007, 1.4289, 0.0135, 1.6652, 0.7437, 0.6683, 1.8478, 0.9647, 1.2659, 0.0724, 0.5897, 0.965, 0.8573, 0.1129, 0.9064, 1.5159, 0.5058, 0.9438, 2.9751, 2.9492, 2.9476, 2.9307, 2.93, 2.9286, 2.923, 2.9162, 2.9101, 2.9082, 2.9048, 2.9044, 2.9037, 2.9036, 2.9015, 2.9008, 2.8999, 2.8993, 2.8988, 2.8957, 2.895, 2.8923, 2.888, 2.8869, 2.8838, 2.8793, 2.878, 2.8768, 2.8767, 2.8763, 2.8587, 2.855, 2.7989, 2.7434, 2.6236, 2.4545, 2.5797, 2.8302, 1.9777, 2.4078, 2.7038, 2.6834, 2.2389, 1.9991, 1.5115, 1.7388, 1.8328, 2.2907, 1.1368, 1.5335, 1.7534, 1.9279, 1.4321, 1.356, 1.4817, 1.1186, 0.6795, 0.772, 1.7068, 0.9429, 1.6143, 0.8014, -1.0366, -2.4218, 3.0263, 3.0189, 3.0126, 3.01, 3.009, 3.003, 2.9981, 2.9948, 2.9934, 2.9916, 2.9905, 2.989, 2.9877, 2.9849, 2.9711, 2.9701, 2.9666, 2.9639, 2.9637, 2.9602, 2.9528, 2.9498, 2.9446, 2.9391, 2.938, 2.9379, 2.9347, 2.9318, 2.9302, 2.9289, 2.9103, 2.8897, 2.9028, 2.8908, 2.9124, 2.8714, 2.7699, 2.8026, 2.6447, 2.557, 2.6624, 2.4604, 2.7428, 2.7266, 2.161, 2.7654, 2.3472, 2.5665, 2.1191, 2.3613, 1.5043, 1.6527, 2.0457, 1.864, 0.9421, 1.8705, 0.3763, 0.6006, 2.4424, 1.7521, 3.0477, 3.0105, 3.0012, 2.9964, 2.989, 2.988, 2.9851, 2.9844, 2.9798, 2.9797, 2.9714, 2.9657, 2.9632, 2.9609, 2.9566, 2.9449, 2.9411, 2.9411, 2.9341, 2.9304, 2.9285, 2.9271, 2.9258, 2.9141, 2.9137, 2.9114, 2.9089, 2.9087, 2.9086, 2.9038, 2.8612, 2.6856, 2.7542, 2.4576, 2.644, 2.3603, 2.157, 1.3792, 1.8296, 1.2872, 1.1405, 0.9725, 1.2323, 2.0679, -0.0433, 0.5818, 0.225, 0.7804, -0.2525, 0.159, 1.0278, 0.9115, 0.618, -0.1921, 3.0528, 3.0503, 3.0499, 3.0489, 3.0351, 3.0329, 3.0268, 3.0264, 3.025, 3.0233, 3.0156, 3.0148, 3.0098, 3.0068, 3.0044, 2.9994, 2.9936, 2.9879, 2.9872, 2.987, 2.9827, 2.9808, 2.9792, 2.9783, 2.9782, 2.9769, 2.9765, 2.9763, 2.9763, 2.9715, 2.9108, 2.7834, 2.8933, 2.7902, 2.5723, 2.8683, 0.8099, 2.3034, 1.9039, -1.1574, 1.3543, 0.9443, 2.2896, 0.0793, 0.3444, 1.4622, 3.3867, 3.3851, 3.3792, 3.3716, 3.3635, 3.3631, 3.3629, 3.3597, 3.3527, 3.3482, 3.346, 3.3434, 3.3399, 3.3385, 3.3335, 3.3273, 3.3269, 3.3224, 3.3205, 3.3192, 3.3177, 3.3157, 3.3151, 3.2987, 3.2919, 3.2914, 3.2897, 3.2885, 3.2849, 3.2781, 3.2256, 2.99, 3.0931, 2.9462, 2.9217, 2.9929, 2.7283, 2.1883, 3.0231, -0.1803, 2.3958, 2.3364, 0.2412, 0.4822]}, \"token.table\": {\"Topic\": [2, 2, 5, 4, 2, 4, 5, 3, 10, 5, 2, 12, 1, 3, 9, 5, 4, 3, 4, 10, 1, 10, 1, 5, 7, 8, 5, 7, 10, 1, 3, 5, 8, 8, 1, 6, 11, 1, 5, 11, 1, 3, 6, 8, 2, 4, 6, 9, 9, 6, 9, 1, 6, 8, 3, 4, 7, 5, 4, 4, 3, 2, 3, 4, 11, 12, 9, 6, 1, 2, 3, 4, 6, 7, 10, 2, 8, 12, 5, 10, 2, 4, 10, 2, 7, 3, 11, 5, 6, 2, 5, 9, 3, 8, 9, 1, 4, 9, 10, 1, 2, 4, 5, 6, 7, 10, 8, 9, 8, 8, 11, 1, 7, 10, 6, 1, 3, 4, 4, 3, 5, 4, 5, 8, 9, 4, 9, 1, 1, 4, 5, 6, 7, 6, 8, 5, 6, 8, 7, 5, 6, 10, 1, 2, 3, 4, 6, 5, 2, 3, 4, 2, 2, 9, 4, 5, 6, 8, 9, 5, 1, 8, 8, 8, 5, 10, 5, 5, 1, 3, 8, 10, 11, 2, 5, 6, 10, 5, 6, 10, 5, 6, 10, 8, 8, 1, 2, 5, 6, 3, 4, 7, 11, 6, 7, 3, 5, 7, 1, 2, 5, 6, 7, 11, 4, 5, 5, 12, 4, 6, 8, 9, 2, 8, 1, 2, 8, 4, 6, 9, 6, 5, 8, 10, 11, 12, 3, 2, 3, 8, 9, 9, 1, 4, 6, 7, 8, 12, 11, 5, 12, 2, 5, 6, 8, 9, 10, 1, 3, 5, 10, 3, 1, 2, 3, 5, 6, 7, 10, 1, 4, 1, 3, 7, 4, 4, 5, 7, 10, 3, 4, 2, 10, 2, 11, 8, 1, 2, 5, 6, 9, 12, 1, 8, 12, 2, 11, 8, 1, 2, 3, 4, 5, 7, 10, 11, 12, 7, 3, 4, 6, 9, 1, 2, 3, 5, 7, 10, 2, 2, 2, 6, 4, 5, 3, 12, 9, 3, 4, 9, 9, 7, 4, 4, 7, 1, 7, 4, 12, 1, 7, 10, 1, 2, 3, 5, 6, 7, 11, 6, 5, 2, 3, 11, 2, 3, 4, 6, 10, 6, 9, 5, 8, 3, 6, 8, 9, 1, 3, 4, 6, 7, 8, 10, 4, 1, 2, 3, 4, 7, 9, 3, 10, 2, 4, 5, 6, 10, 1, 3, 4, 3, 4, 9, 8, 1, 3, 4, 5, 8, 8, 8, 7, 6, 12, 7, 7, 7, 3, 4, 12, 5, 6, 12, 1, 7, 3, 6, 8, 1, 2, 4, 6, 7, 11, 7, 11, 7, 3, 11, 5, 10, 4, 4, 7, 8, 11, 7, 11, 9, 1, 3, 6, 8, 9, 10, 11, 11, 4, 1, 2, 4, 4, 5, 6, 2, 3, 5, 6, 7, 8, 11, 2, 3, 1, 2, 6, 10, 11, 1, 12, 1, 5, 6, 10, 4, 2, 7, 1, 2, 4, 6, 7, 11, 2, 3, 1, 2, 4, 5, 6, 7, 11, 6, 12, 3, 9, 10, 12, 5, 6, 8, 9, 10, 1, 1, 9, 10, 11, 1, 1, 2, 1, 9, 2, 5, 6, 2, 5, 6, 8, 9, 7, 3, 12, 3, 1, 6, 5, 12, 1, 6, 12, 2, 6, 9, 9, 11, 7, 9, 1, 2, 3, 5, 6, 7, 9, 10, 1, 2, 5, 6, 7, 8, 12, 5, 7, 7, 12, 10, 8, 2, 11, 1, 3, 5, 11, 1, 11, 7, 11, 1, 8, 9, 12, 10, 1, 2, 3, 5, 6, 7, 8, 12, 8, 9, 1, 2, 3, 4, 3, 4, 6, 8, 8, 8, 2, 6, 6, 7, 4, 9, 1, 4, 7, 10, 3, 11, 3, 7, 1, 2, 3, 4, 6, 12, 7, 10, 12, 2, 10, 3, 4, 8, 3, 5, 8, 11, 5, 7, 6, 6, 9, 2, 6, 10, 9, 6, 1, 8, 9, 10, 9, 1, 2, 3, 4, 6, 1, 2, 5, 6, 7, 8, 9, 7, 11, 11, 1, 2, 5, 7, 10, 1, 2, 4, 5, 7, 10, 10, 1, 3, 9, 12, 1, 9, 4, 8, 1, 3, 4, 6, 9, 11, 12, 1, 2, 3, 5, 6, 8, 9, 3, 5, 8, 1, 2, 5, 6, 9, 9, 1, 3, 5, 6, 7, 8, 1, 2, 3, 5, 7, 9, 10, 6, 1, 12, 7, 1, 1, 6, 9, 10, 8, 10, 11, 8, 8, 1, 5, 6, 8, 10, 1, 3, 6, 8, 4, 6, 1, 2, 2, 5, 11, 3, 9, 9, 12, 12, 6, 6, 1, 4, 8, 1, 2, 3, 4, 6, 7, 12, 4, 1, 1, 2, 3, 4, 5, 6, 7, 8, 11, 12, 10, 5, 7, 11, 4, 7, 12, 1, 3, 4, 5, 8, 3, 1, 3, 4, 6, 8, 5, 6, 3, 10, 3, 6, 2, 1, 2, 5, 6, 7, 8, 9, 10, 12, 1, 4, 6, 2, 7, 8, 10, 8, 1, 1, 3, 1, 3, 4, 7, 1, 4, 4, 1, 2, 5, 10, 1, 2, 5, 7, 8, 2, 7, 12, 4, 1, 3, 4, 6, 4, 5, 7, 5, 5, 7, 10, 10, 11, 1, 3, 5, 9, 10, 1, 2, 5, 7, 8, 11, 1, 9, 1, 3, 4, 5, 7, 11, 5, 4, 1, 6, 12, 2, 6, 3, 5, 2, 1, 2, 4, 7, 9, 1, 8, 6, 1, 8, 5, 7, 10, 12, 5, 7, 1, 5, 7, 1, 9, 12, 7, 3, 5, 8, 11, 4, 2, 5, 7, 10, 1, 2, 3, 4, 5, 7, 8, 1, 2, 6, 9, 6, 11, 9, 4, 5, 1, 4, 3, 7, 3, 1, 3, 4, 5, 6, 7, 8, 9, 11, 12, 2, 3, 9, 5, 3, 4, 5, 5, 10, 1, 4, 7, 5, 5, 5, 8, 9, 3, 9, 3, 1, 3, 8, 9, 12, 4, 2, 5, 6, 8, 2, 12, 10, 10, 1, 12, 1, 3, 4, 6, 8, 4, 8, 1, 3, 8, 6, 3, 4, 11, 12, 4, 11, 1, 2, 3, 5, 6, 8, 9, 3, 9, 3, 4, 6, 9, 3, 4, 4, 5, 6, 12, 1, 4, 9, 1, 12, 1, 1, 2, 3, 4, 6, 8, 11, 12, 7, 9, 9, 2, 8, 11, 1, 2, 3, 7, 9, 10, 5, 7, 11, 11, 1, 3, 6, 9, 6, 2, 3, 2, 6, 9, 1, 10, 1, 2, 5, 7, 8, 9, 1, 2, 3, 4, 10, 3, 4, 10, 5, 6, 8, 9, 1, 2, 3, 5, 8, 10, 2, 5, 4, 5, 7, 3, 12, 1, 2, 3, 5, 6, 7, 8, 1, 3, 4, 5, 7, 1, 2, 3, 4, 5, 6, 7, 9, 10, 8, 5, 12, 1, 2, 3, 4, 5, 8, 12, 9, 6, 6, 10, 9, 1, 2, 1, 2, 3, 4, 6, 8, 1, 3, 4, 6, 1, 2, 4, 6, 7, 1, 1, 3, 6, 12, 4, 11, 9, 1, 10, 1, 8, 1, 3, 6, 3, 5, 6, 9, 1, 5, 8, 2, 6, 8, 9, 6, 6, 9, 1, 3, 5, 6, 7, 9, 10, 6, 5, 11, 12, 2, 5, 7, 11, 5, 9, 10, 1, 5, 6, 3, 12, 8, 6, 1, 2, 6, 8, 9, 12, 2, 3, 11, 10, 1, 2, 3, 4, 5, 6, 8, 9, 12, 1, 4, 11, 7, 5, 7, 1, 9, 3], \"Freq\": [0.933441222893277, 0.9117253199061391, 0.9528066907612559, 0.9177466922835356, 0.7234914614871467, 0.17463587001413886, 0.0748439442917738, 0.8440343558983003, 0.13613457353198394, 0.9453326316323345, 0.9176275925710565, 0.9018604274153111, 0.9589280574334307, 0.9304950388230192, 0.9121808269232197, 0.9780632617146963, 0.9490154809567529, 0.9475765487103188, 0.885700566699711, 0.8009614943455208, 0.9634173856864124, 0.9047217563933464, 0.9727554241829108, 0.7056498137626774, 0.2928116984211484, 0.8904011041484259, 0.10476320898402833, 0.8730267415335694, 0.8337286415023883, 0.9072317370336338, 0.0865822819575667, 0.06966554429817484, 0.9056520758762729, 0.9464023085954303, 0.15472788990592168, 0.5260748256801338, 0.30945577981184336, 0.822922968296161, 0.1592754132186118, 0.9124004453617347, 0.24988554929242143, 0.004899716652792577, 0.6859603313909608, 0.058796599833510925, 0.9748940453700486, 0.23652426609663008, 0.08760158003578891, 0.6745321662755747, 0.9356811102623721, 0.2289122787477285, 0.7675294052129721, 0.017324506318932058, 0.7276292653951464, 0.2425430884650488, 0.02752185877514507, 0.8384992973494199, 0.133939712705706, 0.9520059300112962, 0.9650501059244371, 0.8934434240713832, 0.9640109373037735, 0.7347978720434826, 0.2252395487168464, 0.038770741992244055, 0.9768286829285603, 0.9842306227086947, 0.864596927041069, 0.9812067820436522, 0.001798815504116023, 0.6810315498583263, 0.16657031568114372, 0.05432422822430389, 0.09605674791979563, 0.9697554483032707, 0.921093392880462, 0.9770805259856687, 0.9434235567869557, 0.948585298804318, 0.3145408190933221, 0.6740160409142617, 0.9563343550730958, 0.9610600999626022, 0.9454322396301359, 0.9361904335104839, 0.9347758326332428, 0.9265818969172699, 0.9123140463610863, 0.9852879325890749, 0.9778831181416805, 0.7332541765033539, 0.012864108359707964, 0.25085011301430526, 0.9707464482786026, 0.12046044509449647, 0.8673152046803746, 0.09745290599181942, 0.8965667351247386, 0.8873483497919621, 0.9034304051172344, 0.34150097277732067, 0.056291369139118794, 0.041280337368687116, 0.34150097277732067, 0.0037527579426079195, 0.19514341301561183, 0.0187637897130396, 0.12796085116674424, 0.8530723411116283, 0.954972968063074, 0.8947371521330107, 0.9488813402914178, 0.0842659194779793, 0.20223820674715035, 0.6909805397194303, 0.9717859152405504, 0.006648106316094063, 0.06648106316094063, 0.9240867779370748, 0.9509972029641884, 0.9870678940813902, 0.9574674559415918, 0.35401110942622155, 0.13111522571341538, 0.14422674828475693, 0.36712263199756306, 0.23014973111617779, 0.7671657703872593, 0.9539466388514779, 0.28501825429521943, 0.10427497108361686, 0.19464661268941813, 0.04866165317235453, 0.3684382311621129, 0.47325048143900217, 0.4947618669589568, 0.14276150855843178, 0.6251223632331332, 0.2314466881174576, 0.953889127756398, 0.14509609269862778, 0.8476666468182991, 0.957995524309028, 0.002518357708527224, 0.006475776964784291, 0.7965205666684677, 0.19319401278273135, 0.0007195307738649212, 0.9567351725069803, 0.952295509514946, 0.9112951383288858, 0.07701085676018753, 0.9325481869920278, 0.9265816258127271, 0.0561564621704683, 0.19639340766696034, 0.1728261987469251, 0.227816352893674, 0.2906622433471013, 0.09426883568014097, 0.9907282456443263, 0.08044468108589785, 0.8848914919448764, 0.9612640438936277, 0.993671114134238, 0.9670845264787211, 0.9296531884520131, 0.9972806596199475, 0.9860694778606944, 0.2610850362203718, 0.030715886614161393, 0.12286354645664557, 0.5068121291336629, 0.07678971653540348, 0.6315214482274897, 0.0022394377596719494, 0.35607060378783995, 0.011197188798359747, 0.0434173453349927, 0.7661884470881066, 0.18899315028173294, 0.04393345936826908, 0.9445693764177853, 0.9139258862988076, 0.8485808947541577, 0.8947140014612579, 0.2075409272962322, 0.013836061819748812, 0.7471473382664359, 0.027672123639497625, 0.5218884649502787, 0.47444405904570797, 0.2186380563339326, 0.7736423531816077, 0.9604109627952867, 0.8974398065593546, 0.973016423039839, 0.934123341105047, 0.9608886016554337, 0.3688755025873081, 0.016394466781658137, 0.2787059352881883, 0.04918340034497441, 0.09836680068994882, 0.1803391345982395, 0.9741897887628684, 0.9547975418299937, 0.9829249363629651, 0.9840506082290398, 0.9641978084262576, 0.2610774602846903, 0.23932100526096614, 0.5003984655456565, 0.8278234898419574, 0.15851939167186418, 0.09860088393399585, 0.8874079554059626, 0.929611527856492, 0.04975684029304068, 0.4312259492063526, 0.49756840293040683, 0.9486379691018566, 0.3630454692976557, 0.25764517175962665, 0.292778604272303, 0.08197800919624483, 0.9249104644451378, 0.9724920063626351, 0.9757223108497572, 0.32241078705707965, 0.6728572947278184, 0.9629362310166694, 0.981679168682823, 0.14792165840748253, 0.8452666194713288, 0.9516160687684422, 0.9337289158929608, 0.9516258704970556, 0.874887500056244, 0.9529542101701971, 0.9960706245896888, 0.97931083585314, 0.09620437672384369, 0.0513090009193833, 0.365576631550606, 0.3206812557461456, 0.05772262603430621, 0.1026180018387666, 0.03629596784967792, 0.0907399196241948, 0.6896233891438804, 0.16333185532355063, 0.9480000473051143, 0.10162895109605925, 0.17422105902181587, 0.024197369308585535, 0.46700922765570085, 0.15970263743666455, 0.058073686340605286, 0.014518421585151322, 0.09439763664145662, 0.8967775480938378, 0.2570639839641163, 0.7376618670274642, 0.985603205608719, 0.8750037807812325, 0.06720811723938042, 0.19682377191532835, 0.5856707359431722, 0.1488179738871995, 0.9370901114443515, 0.0618833092463251, 0.8557243735727934, 0.09007624984976773, 0.9796129875588984, 0.9576546809712205, 0.9560425559213694, 0.16857442227822272, 0.13485953782257817, 0.20228930673386727, 0.07585849002520023, 0.4130073345816457, 0.944943152334066, 0.9817378049928914, 0.9005088017869132, 0.9255421525146954, 0.8757710330528431, 0.09730789256142701, 0.9211999378633148, 0.06902471511187547, 0.06302256597171238, 0.31811390442864346, 0.2430870401766049, 0.0570204168315493, 0.12304405737334322, 0.060021491401630836, 0.05101826769138621, 0.018006447420489253, 0.8873925211765753, 0.0624692754183118, 0.303422194888943, 0.07585554872223575, 0.5577613876634981, 0.28835556257113076, 0.16962091915948868, 0.0735023983024451, 0.22616122554598492, 0.19223704171408718, 0.05654030638649623, 0.9700620295781541, 0.9906663353876539, 0.6082013642918693, 0.38939721494296514, 0.9496567198277999, 0.03165522399426, 0.961255675217774, 0.9842783136407091, 0.9754891480963075, 0.2987658707578723, 0.6188721608555926, 0.07469146768946808, 0.8564543470154333, 0.9262288086061656, 0.9933291161011527, 0.4026519000486961, 0.5946858831488435, 0.24825367998120765, 0.722192523581695, 0.887404404708952, 0.09860048941210578, 0.3913340354717207, 0.5532653604945016, 0.05397710834092699, 0.1682177941542753, 0.06974884147860194, 0.20514365140765278, 0.43490454098422393, 0.041028730281530555, 0.012308619084459167, 0.06564596845044889, 0.965193758849402, 0.9269309509526679, 0.9484352479297898, 0.9349182830277243, 0.9755129060130848, 0.5733622744700853, 0.11161452276350993, 0.17583109750415948, 0.12384625128553842, 0.013760694587282046, 0.9296792176346695, 0.058104951102166846, 0.8915964758522352, 0.10287651644448868, 0.004805984368961438, 0.13937354669988172, 0.2354932340791105, 0.615165999227064, 0.23749195039825904, 0.09316991900239394, 0.4220049272461372, 0.04932525123656149, 0.0018268611569096848, 0.1589369206511426, 0.0365372231381937, 0.9505901387200256, 0.46777539867225104, 0.00935550797344502, 0.10291058770789523, 0.10291058770789523, 0.14968812757512032, 0.14968812757512032, 0.9512856876305144, 0.9106979277196109, 0.09772405941581083, 0.6026316997308335, 0.13572786029973727, 0.13029874588774779, 0.038003800883926436, 0.15145949153529367, 0.09466218220955855, 0.7572974576764684, 0.19368756234649762, 0.7395343289593546, 0.0528238806399539, 0.8651787207398107, 0.014604133799847645, 0.6936963554927631, 0.1679475386982479, 0.021906200699771467, 0.10222893659893352, 0.9022992104130646, 0.8450795239667721, 0.9042663154867535, 0.9530575959511818, 0.9362617431058013, 0.9685415346127192, 0.9594272339276345, 0.9753406516682698, 0.9559724609336994, 0.04241516038272387, 0.8803956732047917, 0.9403270352159008, 0.34395009787215486, 0.6305751794322839, 0.9918787687415077, 0.8913314656193754, 0.3100715616820644, 0.21004847726849524, 0.48011080518513194, 0.13439751918740428, 0.4269097668305783, 0.15020899203298127, 0.2608893019520201, 0.031622945691153946, 0.9208554233931078, 0.9421301979076341, 0.973266124483698, 0.9160113441015567, 0.9574398511957799, 0.992980952672146, 0.14713686169648207, 0.8337755496133985, 0.9632090306040374, 0.8021075743184721, 0.17607239436259145, 0.9362376979858298, 0.9086223665120715, 0.9569005207264139, 0.9566762184744619, 0.9354190012365513, 0.08795547940712996, 0.17591095881425992, 0.35182191762851983, 0.2764315067081227, 0.0502602739469314, 0.01256506848673285, 0.03769520546019855, 0.9926986931493658, 0.933912628668835, 0.03838619559353205, 0.7037469192147542, 0.255907970623547, 0.30833425949334525, 0.6306837126000244, 0.0560607744533355, 0.21048020485761904, 0.02158771331873016, 0.0269846416484127, 0.5342959046385714, 0.07016006828587301, 0.01079385665936508, 0.11873242325301586, 0.8622711098069022, 0.959696969608669, 0.05298309454252781, 0.5474919769394541, 0.18544083089884733, 0.11479670484214359, 0.09713567332796764, 0.14105433490410135, 0.8463260094246082, 0.16694449998241556, 0.013912041665201297, 0.26432879163882467, 0.5564816666080519, 0.9739196669199051, 0.9786128403621835, 0.9024278485067329, 0.006858736470234159, 0.3292193505712396, 0.010288104705351237, 0.22290893528261016, 0.4149535564491666, 0.013717472940468317, 0.9985905540719203, 0.0008837084549309029, 0.06933793370091787, 0.54936978239958, 0.18134536506393903, 0.016001061623288737, 0.12267480577854699, 0.053336872077629126, 0.908235030998618, 0.27711841687130273, 0.6466096393663731, 0.42144159411898957, 0.0972557524889976, 0.3890230099559904, 0.0972557524889976, 0.7496549364681969, 0.05170034044608254, 0.034466893630721696, 0.008616723407680424, 0.16371774474592807, 0.9315717067422313, 0.1056849111739893, 0.8454792893919144, 0.13181354738167209, 0.8567880579808687, 0.9880656629542863, 0.9819408886270246, 0.9587460948433527, 0.20389929663081985, 0.792941709119855, 0.7491291663950918, 0.07023085934953985, 0.16387200514892633, 0.464588754023805, 0.045325732099883415, 0.4872516200737467, 0.9420316236743227, 0.9554936286379037, 0.9121825466551091, 0.99162771105937, 0.9302334617988351, 0.9724042754077724, 0.9678650677535584, 0.9707211543135618, 0.9402165188042455, 0.9661012875137003, 0.5726986770464645, 0.06872384124557575, 0.3436192062278787, 0.33838094243376293, 0.6520023037138359, 0.9818736697794715, 0.953576872505479, 0.9622494680142895, 0.9615790529075211, 0.925479489922648, 0.08532987587238798, 0.661916037124381, 0.010970984040735597, 0.16578375883778235, 0.03535094857570359, 0.03535094857570359, 0.004875992906993598, 0.8956623812652709, 0.23976645449370387, 0.5283742237916808, 0.03108083669362828, 0.14874400417664962, 0.04884131480427301, 0.0022200597638305916, 0.0022200597638305916, 0.718844620670895, 0.2719952618754738, 0.9341327085534986, 0.8375457713154764, 0.9609235502102077, 0.9360163762027173, 0.9684870391961828, 0.9366823883287507, 0.15360239890281813, 0.025600399817136354, 0.793612394331227, 0.9589089845777775, 0.992668653589427, 0.9711182949226281, 0.9174287870725953, 0.9590212912916762, 0.17631223940717888, 0.793405077332305, 0.02203902992589736, 0.9917064386035492, 0.8029265097873203, 0.7061750005144443, 0.0011094658295592212, 0.006102062062575716, 0.1725219364964589, 0.013868322869490265, 0.07988153972826392, 0.01775145327294754, 0.0022189316591184425, 0.845997271075725, 0.9132994751957686, 0.031388390228898014, 0.7323957720076204, 0.1848427424590661, 0.04882638480050803, 0.4399498788014452, 0.09834173761444069, 0.3002010937703979, 0.15527642781227477, 0.9100128336007208, 0.9125251660009907, 0.9152145282515897, 0.9752199062448836, 0.9729018528696894, 0.9700051821800505, 0.2511737905875661, 0.7535213717626983, 0.2697795528400007, 0.5249764271481094, 0.15311812458486526, 0.05103937486162175, 0.9676325751261307, 0.9258866694402987, 0.932462310710239, 0.9677489496815386, 0.026745211863137032, 0.053490423726274064, 0.775611144030974, 0.033431514828921295, 0.11366715041833239, 0.9299447426376033, 0.23026597860791084, 0.729175598925051, 0.9739097849404942, 0.9582384724294042, 0.8217965130975398, 0.30589925553186753, 0.31394923594060087, 0.37834907921046773, 0.9357972720750797, 0.1071417980927033, 0.8928483174391941, 0.9525940631390079, 0.20690464522959812, 0.7448567228265532, 0.9367128562875059, 0.9861141479304278, 0.9705453991478228, 0.11939288652993235, 0.8698624590037929, 0.92786596072018, 0.9114290911019066, 0.9698112734582589, 0.2195500830420945, 0.7464702823431213, 0.9757517065397394, 0.9993155050186007, 0.9709710733225025, 0.055217878636909246, 0.08589447787963661, 0.6656822035671837, 0.049082558788363775, 0.1441800164408186, 0.01049915872443153, 0.03149747617329459, 0.18898485703976753, 0.13648906341760988, 0.5249579362215765, 0.11549074596874682, 0.9593883206161874, 0.005875608151546694, 0.9929777776113913, 0.9718721329314829, 0.11633461988127759, 0.29842359013023384, 0.27819148232479424, 0.26301740147071456, 0.040464215610879165, 0.19384488864393454, 0.399805082828115, 0.06865339806139348, 0.23422924044475424, 0.09692244432196727, 0.004038435180081969, 0.8976325392037863, 0.8937617578283675, 0.03269860089615979, 0.010899533632053262, 0.05449766816026631, 0.9432257521486579, 0.04601101229993453, 0.9541632367923891, 0.9585765845691753, 0.08711547747714464, 0.3339426636623878, 0.12099371871825645, 0.23714768868778263, 0.21294894494413136, 0.8696572391877172, 0.12682501404820876, 0.12615086506918172, 0.04054849234366555, 0.21625862583288297, 0.3063663865965842, 0.13516164114555185, 0.11263470095462655, 0.0585700444964058, 0.7273822052522765, 0.12650125308735244, 0.12650125308735244, 0.11033441390038509, 0.45619036516505374, 0.11245622955231557, 0.2333997217123531, 0.08699444172914979, 0.9465672850461462, 0.9684139181714528, 0.0008716596923235399, 0.0026149790769706195, 0.006973277538588319, 0.0026149790769706195, 0.01830485353879434, 0.19647322626924332, 0.072384872836037, 0.22749531462754488, 0.09306626507490473, 0.09306626507490473, 0.31022088358301575, 0.8284723619033353, 0.9924674508443436, 0.9742923084270124, 0.9351712947101763, 0.9877619262338001, 0.9638831294852154, 0.10970693767192113, 0.8502287669573888, 0.8829137448827418, 0.8782456901976043, 0.7811901074179058, 0.22976179629938406, 0.9176150872734745, 0.9717665032377271, 0.9276912698271479, 0.17374383300252744, 0.04550433721494766, 0.16547031714526422, 0.5915563837943196, 0.024820547571789635, 0.3789009683747092, 0.14926401784458243, 0.1148184752650634, 0.34445542579519023, 0.22200894905243201, 0.7669400058174924, 0.8867341499403387, 0.1067365180483741, 0.846543450921351, 0.1293822603858503, 0.8409846925080269, 0.11282207244087838, 0.8649692220467343, 0.06034999636698273, 0.9354249436882324, 0.9438245859366731, 0.9051931817617367, 0.9632469921440246, 0.9509559095741803, 0.9114167788617636, 0.08285607080561487, 0.021896579621898855, 0.23265115848267534, 0.3667677086668058, 0.24223091206725608, 0.010948289810949427, 0.08348070980848939, 0.04242462301742903, 0.9760447442005863, 0.9701013916906567, 0.20918938516613514, 0.18233766877013513, 0.050074822468216214, 0.25599845834294593, 0.11176119797254054, 0.06785501305475676, 0.07547509473470271, 0.00453576290472973, 0.014695871811324325, 0.027940299493135135, 0.9270054083504907, 0.15538822337243058, 0.6356790956144887, 0.19776682974672982, 0.9002407028631257, 0.9400744989743874, 0.8710563207473482, 0.6110661287355514, 0.05628240659406395, 0.18090773548091985, 0.10452446938897592, 0.044221890895335965, 0.9825457581562391, 0.044399748182958, 0.7214959079730675, 0.0110999370457395, 0.088799496365916, 0.1220993075031345, 0.9122343375474076, 0.0729787470037926, 0.968228734678317, 0.022516947318100396, 0.9897597485598525, 0.9676560647167193, 0.8734975933778528, 0.11659942037138904, 0.1380782609661186, 0.33138782631868463, 0.0306840579924708, 0.306840579924708, 0.00306840579924708, 0.02147884059472956, 0.05523130438644744, 0.9240144157338879, 0.8180619682165762, 0.01704295767117867, 0.15338661904060802, 0.059980414531280384, 0.7197649743753646, 0.19493634722666123, 0.8516189826689126, 0.8747916813172739, 0.9534651525736165, 0.9810954586668448, 0.9568532786106606, 0.09358326682391943, 0.021089186889897336, 0.7381215411464067, 0.14498815986804417, 0.13389004631497767, 0.847970293328192, 0.9558746393731554, 0.0017035316984873607, 0.8756152930225034, 0.1218025164418463, 0.0008517658492436804, 0.11703199299935463, 0.4402632117594769, 0.05572952047588316, 0.16718856142764946, 0.211772177808356, 0.9337026119099419, 0.32688891593334635, 0.624060657690934, 0.9726181439214359, 0.03348629329889911, 0.06697258659779821, 0.7999503399181452, 0.09673818064126408, 0.9184157031117471, 0.13968415775534274, 0.859544840513109, 0.9824054797245664, 0.519194024107342, 0.4719945673703108, 0.8464344889142427, 0.8758026440536433, 0.9742643921810351, 0.5063969780220244, 0.07706040969900373, 0.2531984890110122, 0.08806903965600425, 0.05504314978500266, 0.2233867823195958, 0.12987603623232313, 0.24936198956606043, 0.3117024869575755, 0.031170248695757553, 0.05195041449292926, 0.06566835263354706, 0.8536885842361118, 0.005725276465898147, 0.8776030925583874, 0.11123394276602115, 0.0024536899139563488, 0.0016357932759708993, 0.0016357932759708993, 0.9269230082192874, 0.9985231185641658, 0.06732911017279579, 0.40397466103677476, 0.5161898446581011, 0.896916220483653, 0.954901797330126, 0.9951849187473019, 0.9639346689738136, 0.9337931944010978, 0.1862964037256329, 0.19561122391191452, 0.1862964037256329, 0.39122244782382903, 0.027944460558844933, 0.13249011321773826, 0.8280632076108642, 0.9934821495495325, 0.9811195370051501, 0.012187820335467702, 0.7439236494600093, 0.24483563146785117, 0.8428385698865339, 0.8975003419606641, 0.8659637646485001, 0.13082905796847843, 0.1333666642616839, 0.7112888760623142, 0.1333666642616839, 0.15822860894272878, 0.15822860894272878, 0.6856573054184913, 0.9368584184924772, 0.01621385137988233, 0.8593341231337633, 0.11349695965917629, 0.9809884485239186, 0.9505178128201357, 0.005606200137051784, 0.7932773193928275, 0.19621700479681245, 0.005606200137051784, 0.4981589053280105, 0.03891866447875082, 0.09340479474900197, 0.14010719212350295, 0.007783732895750164, 0.14789092501925313, 0.06226986316600131, 0.7192762032013691, 0.11065787741559524, 0.09221489784632937, 0.05532893870779762, 0.946055379784734, 0.9804014664674383, 0.8904275878628752, 0.8870119877745336, 0.95851847929907, 0.9796641891401517, 0.9208307940226721, 0.1478840019544827, 0.8380093444087352, 0.9884885131332614, 0.021397317656950472, 0.11004334795003101, 0.03973787564862231, 0.2338421143938159, 0.03515273615070435, 0.003056759665278639, 0.3668111598334367, 0.06877709246876938, 0.10545820845211305, 0.013755418493753876, 0.15550762253958694, 0.25917937089931153, 0.5442766788885542, 0.9589278026221418, 0.8719678390227332, 0.11944764918119634, 0.9798518932009999, 0.579833293813421, 0.4074504226797013, 0.1505808284816878, 0.8376058584293883, 0.9068220633347819, 0.9368047910006526, 0.999062936955568, 0.9864393015138809, 0.23736567921602042, 0.7417677475500638, 0.9832224989715946, 0.935825437791895, 0.9540383472404286, 0.3429610064392352, 0.14698328847395795, 0.15923189584678776, 0.26946936220225626, 0.07349164423697897, 0.9281308946677126, 0.19463337801934036, 0.14440540949822026, 0.45833021275522084, 0.19463337801934036, 0.2516637556956994, 0.7190393019877125, 0.936337679821224, 0.8758019093624151, 0.9833648463543272, 0.9326700323255583, 0.11381115095526172, 0.1517482012736823, 0.10116546751578818, 0.06322841719736762, 0.5690557547763085, 0.2911747088494227, 0.7036722130527715, 0.18383906579964837, 0.6303053684559372, 0.18383906579964837, 0.9237529517423085, 0.23597001285817956, 0.6258335123629979, 0.10259565776442589, 0.020519131552885178, 0.9627460075740452, 0.8865049772322138, 0.6172659179213251, 0.07219484420132458, 0.05775587536105966, 0.0505363909409272, 0.05775587536105966, 0.10829226630198686, 0.03248767989059606, 0.3606858950995416, 0.6183186773134999, 0.295101461351935, 0.5176779872868691, 0.06252149604913877, 0.122542132256312, 0.14191369593958134, 0.851482175637488, 0.6311643903088673, 0.25332448318519163, 0.055817259006906636, 0.055817259006906636, 0.09094257338217408, 0.2208605353567085, 0.6885651984650324, 0.3215210850308865, 0.6583526979203866, 0.9825707284710353, 0.0382841603097438, 0.05264072042589773, 0.37805608305872, 0.22970496185846281, 0.1531366412389752, 0.12920904104538533, 0.0191420801548719, 0.9371275624789753, 0.9657341639201795, 0.9331752879062367, 0.9450688922497948, 0.865759903288348, 0.023398916305090483, 0.09359566522036193, 0.2155294780773008, 0.382074983864306, 0.048983972290295635, 0.058780766748354765, 0.1469519168708869, 0.1371551224128278, 0.31563138941734403, 0.200856338720128, 0.45910020278886404, 0.9371689161587131, 0.7888590732850287, 0.19546950488478587, 0.00698105374588521, 0.00698105374588521, 0.9858600619709399, 0.054316942225018615, 0.9233880178253164, 0.025451922779302506, 0.9417211428341927, 0.9298261009301602, 0.9797469953672266, 0.9303614963789653, 0.21000927140387968, 0.16000706392676547, 0.13000573944049695, 0.34001501084437663, 0.08000353196338274, 0.08000353196338274, 0.9852860653036642, 0.07830845031383747, 0.21685417009985763, 0.5300879713552076, 0.17468808146932976, 0.005002245802067951, 0.8703907695598234, 0.12505614505169876, 0.3063620734039207, 0.3107386744525481, 0.2888556692094109, 0.0919086220211762, 0.5349378992276934, 0.11261850510056705, 0.09150253539421073, 0.06334790911906896, 0.10557984853178161, 0.09150253539421073, 0.17643841788004366, 0.8065756245944853, 0.21954511523371656, 0.13416645930949345, 0.646438394854832, 0.9351535717316627, 0.9113017563913868, 0.3123427848466984, 0.19087614629520458, 0.1561713924233492, 0.06362538209840153, 0.07519363338901999, 0.14460314113273073, 0.06362538209840153, 0.19909102294079642, 0.03981820458815929, 0.24687286844658757, 0.4698548141402796, 0.03981820458815929, 0.12678159010945927, 0.26749522308808993, 0.012538838582254215, 0.04179612860751405, 0.1671845144300562, 0.16857771871697333, 0.15603888013471912, 0.01393204286917135, 0.045975741468265455, 0.9016980191316898, 0.9762889029534182, 0.8862564924297637, 0.06916467558017039, 0.01886309334004647, 0.20749402674051118, 0.4401388446010843, 0.22006942230054216, 0.044013884460108434, 0.006287697780015491, 0.9429032792758419, 0.9788897044858766, 0.9591851857048417, 0.040094557601810105, 0.8656997945117872, 0.9864829700563089, 0.0098895535845244, 0.6263312995525139, 0.05620921919061022, 0.048179330734808755, 0.024089665367404377, 0.024089665367404377, 0.22483687676244088, 0.06575476168115066, 0.591792855130356, 0.06575476168115066, 0.2739781736714611, 0.008680909871935687, 0.29081048070984555, 0.11285182833516395, 0.5685995966117876, 0.013021364807903533, 0.9922675987566285, 0.5388961251483426, 0.1469716704950025, 0.008165092805277918, 0.30210843379528296, 0.00491067476875883, 0.9919563032892839, 0.9789655716114247, 0.9378217569550831, 0.8023612901021164, 0.9071501368923132, 0.08819515219786378, 0.9786841532695646, 0.6346031633574001, 0.36420703288337747, 0.17830954307479396, 0.10401390012696314, 0.6835199151200435, 0.029718257179132325, 0.9635511976388716, 0.9795097642921935, 0.9526751406449797, 0.9178875833047988, 0.7871338732627472, 0.1595541634992055, 0.05318472116640184, 0.9953868336416244, 0.686375851743148, 0.30281287576903587, 0.0587885531602988, 0.05458937079170603, 0.43671496633364826, 0.10078037684622651, 0.18476402421808194, 0.07558528263466989, 0.08398364737185543, 0.9800197085374857, 0.9554606189877258, 0.025478949839672686, 0.8886282077422469, 0.9619759787163947, 0.06325191338114948, 0.17569975939208188, 0.7590229605737937, 0.09770016893357646, 0.879301520402188, 0.8629580965696216, 0.30388994033653055, 0.5956242830595999, 0.08508918329422856, 0.6196791807591355, 0.37180750845548133, 0.9036214479682019, 0.9840231260784984, 0.1404562491500361, 0.1404562491500361, 0.2340937485833935, 0.08427374949002166, 0.39327749762010106, 0.9557915523991781, 0.9284409363133778, 0.5072537208524679, 0.47343680612897, 0.9326605409290766, 0.1026358022955665, 0.03518941792990851, 0.12902786574299788, 0.10556825378972554, 0.049851675400703725, 0.40761075768810695, 0.09970335080140745, 0.049851675400703725, 0.017594708964954256, 0.13578917761939432, 0.24830021050403536, 0.6168708354709629, 0.9589123309140937, 0.26149507691410623, 0.7241402129929096, 0.9606013292073641, 0.9620357067619759, 0.9759259087152211], \"Term\": [\"..and\", \"..camera\", \"..it\", \"..not\", \".and\", \".and\", \".and\", \".but\", \".but\", \".camera\", \".its\", \".not\", \".the\", \".very\", \"abhi\", \"accept\", \"accessories\", \"accurate\", \"adapter\", \"agree\", \"airtel\", \"alarm\", \"alot\", \"amazon\", \"amazon\", \"amazone\", \"amount\", \"amount\", \"amozon\", \"android\", \"android\", \"answer\", \"answer\", \"anybody\", \"application\", \"application\", \"application\", \"applications\", \"applications\", \"approx\", \"apps\", \"apps\", \"apps\", \"apps\", \"area\", \"atmos\", \"atmos\", \"atmos\", \"atoms\", \"audio\", \"audio\", \"auto\", \"auto\", \"auto\", \"awesome\", \"awesome\", \"awesome\", \"awsm\", \"awsome\", \"baad\", \"background\", \"backup\", \"backup\", \"backup\", \"bahut\", \"bakwas\", \"bass\", \"batter\", \"battery\", \"battery\", \"battery\", \"battery\", \"battery\", \"battry\", \"bcoz\", \"beast\", \"beat\", \"beautiful\", \"becomes\", \"becomes\", \"behave\", \"bekar\", \"betry\", \"bettry\", \"bhai\", \"bhut\", \"bilkul\", \"bill\", \"blowing\", \"bluetooth\", \"bluetooth\", \"bluetooth\", \"blur\", \"body\", \"body\", \"bokeh\", \"bokeh\", \"book\", \"booting\", \"bought\", \"bought\", \"bought\", \"bought\", \"bought\", \"bought\", \"bought\", \"brands\", \"brands\", \"breaks\", \"bright\", \"broke\", \"broken\", \"broken\", \"broken\", \"browsing\", \"budget\", \"budget\", \"budget\", \"buget\", \"build\", \"bulky\", \"button\", \"button\", \"button\", \"button\", \"buttons\", \"buttons\", \"buyers\", \"buying\", \"buying\", \"buying\", \"buying\", \"buying\", \"cable\", \"cable\", \"call\", \"call\", \"call\", \"caller\", \"calls\", \"calls\", \"camara\", \"camera\", \"camera\", \"camera\", \"camera\", \"camera\", \"camera..\", \"cameragood\", \"cameras\", \"cameras\", \"camra\", \"capacity\", \"capacity\", \"card\", \"card\", \"card\", \"card\", \"card\", \"care\", \"carry\", \"carry\", \"cash\", \"cast\", \"category\", \"cemera\", \"center\", \"centre\", \"change\", \"change\", \"change\", \"change\", \"change\", \"charge\", \"charge\", \"charge\", \"charge\", \"charger\", \"charger\", \"charger\", \"charges\", \"charges\", \"charging..\", \"cheaper\", \"cheat\", \"check\", \"check\", \"check\", \"check\", \"clarity\", \"clarity\", \"class\", \"class\", \"clearity\", \"clock\", \"color\", \"colors\", \"comments\", \"company\", \"company\", \"company\", \"company\", \"company\", \"company\", \"comparison\", \"complaints\", \"concern\", \"condition\", \"conditions\", \"connect\", \"connect\", \"connect\", \"connection\", \"connection\", \"connectivity\", \"connectivity\", \"connects\", \"cons\", \"cons\", \"cons\", \"consumes\", \"contact\", \"contact\", \"contact\", \"contact\", \"contain\", \"continue\", \"control\", \"cool\", \"cool\", \"coolpad\", \"copy\", \"core\", \"core\", \"coverage\", \"crack\", \"crap\", \"curve\", \"custom\", \"customer\", \"damage\", \"data\", \"data\", \"data\", \"data\", \"data\", \"data\", \"date\", \"date\", \"date\", \"date\", \"daylight\", \"days\", \"days\", \"days\", \"days\", \"days\", \"days\", \"days\", \"deca\", \"deca\", \"decent\", \"decent\", \"defect\", \"delicate\", \"delivery\", \"delivery\", \"delivery\", \"delivery\", \"depth\", \"depth\", \"described\", \"described\", \"description\", \"details\", \"detect\", \"device\", \"device\", \"device\", \"device\", \"device\", \"didnt\", \"difference\", \"disadvantage\", \"disappoint\", \"discharge\", \"discharge\", \"discount\", \"display\", \"display\", \"display\", \"display\", \"display\", \"display\", \"display\", \"display\", \"display\", \"diya\", \"dolby\", \"dolby\", \"dolby\", \"dolby\", \"dont\", \"dont\", \"dont\", \"dont\", \"dont\", \"dont\", \"dose\", \"drain\", \"drains\", \"drains\", \"drawback\", \"drawback\", \"duel\", \"earphone\", \"earphones\", \"effect\", \"effect\", \"effect\", \"elegant\", \"engineer\", \"everything\", \"excellent\", \"excellent\", \"exchange\", \"exchange\", \"expectation\", \"expectation\", \"expectations\", \"expectations\", \"expectations\", \"experience\", \"experience\", \"experience\", \"experience\", \"experience\", \"experience\", \"experience\", \"facility\", \"fact\", \"fail\", \"fails\", \"fall\", \"fast\", \"fast\", \"fast\", \"fast\", \"fast\", \"faster\", \"faster\", \"faulty\", \"faulty\", \"feature\", \"feature\", \"feature\", \"feature\", \"features\", \"features\", \"features\", \"features\", \"features\", \"features\", \"features\", \"features..\", \"feel\", \"feel\", \"feel\", \"feel\", \"feel\", \"feel\", \"file\", \"files\", \"fine\", \"fine\", \"fine\", \"fine\", \"fine\", \"finger\", \"finger\", \"finger\", \"fingerprint\", \"fingerprint\", \"fingerprint\", \"fire\", \"flash\", \"flash\", \"flash\", \"flash\", \"flash\", \"flashlight\", \"flop\", \"folder\", \"fone\", \"form\", \"fraud\", \"friend\", \"friends\", \"front\", \"front\", \"fulfill\", \"functionality\", \"functions\", \"functions\", \"future\", \"futures\", \"gallery\", \"gallery\", \"gallery\", \"games\", \"games\", \"games\", \"games\", \"games\", \"gaya\", \"genuine\", \"ghatiya\", \"gift\", \"gimmick\", \"glass\", \"gold\", \"gold\", \"good-\", \"good..\", \"good..\", \"good.battery\", \"good.camera\", \"good.i\", \"goodbut\", \"goodgood\", \"google\", \"google\", \"google\", \"google\", \"google\", \"google\", \"google\", \"gorilla\", \"graphics\", \"half\", \"half\", \"half\", \"hand\", \"hand\", \"hand\", \"handset\", \"handset\", \"handset\", \"handset\", \"handset\", \"handset\", \"handset\", \"handsets\", \"handy\", \"hang\", \"hang\", \"hang\", \"hang\", \"hang\", \"head\", \"head\", \"headphone\", \"headphone\", \"headphone\", \"headphone\", \"headphones\", \"headset\", \"hearing\", \"heat\", \"heat\", \"heat\", \"heat\", \"heat\", \"heat\", \"heating\", \"heating\", \"heats\", \"heats\", \"heats\", \"heats\", \"heats\", \"heats\", \"height\", \"helio\", \"helio\", \"hell\", \"hell\", \"hell\", \"hell\", \"help\", \"help\", \"help\", \"help\", \"help\", \"helps\", \"home\", \"home\", \"hone\", \"hone\", \"honor\", \"hope\", \"hota\", \"hotspot\", \"hotspot\", \"hour\", \"hour\", \"hour\", \"hours\", \"hours\", \"hours\", \"icon\", \"idea\", \"ideal\", \"image\", \"imei\", \"improvement\", \"increase\", \"india\", \"information\", \"insert\", \"interface\", \"interface\", \"interface\", \"internet\", \"internet\", \"invoice\", \"iphone\", \"iron\", \"iska\", \"isme\", \"issue\", \"issue\", \"issue\", \"issue\", \"issue\", \"issue\", \"issue\", \"issue..\", \"issues\", \"issues\", \"issues\", \"issues\", \"issues\", \"issues\", \"issues\", \"item\", \"item\", \"items\", \"jaisa\", \"jata\", \"k4note\", \"k8note\", \"karta\", \"keeps\", \"keeps\", \"keeps\", \"kharab\", \"killer\", \"kiya\", \"laptop\", \"lena\", \"lenevo\", \"lenevo\", \"lenevo\", \"lenova\", \"lenove\", \"lenovo\", \"lenovo\", \"lenovo\", \"lenovo\", \"lenovo\", \"lenovo\", \"lenovo\", \"lenovo\", \"lenovo..\", \"lets\", \"life\", \"life\", \"life\", \"life\", \"light\", \"light\", \"light\", \"light\", \"line\", \"listen\", \"liye\", \"lock\", \"longer\", \"loss\", \"loud\", \"loud\", \"love\", \"love\", \"love\", \"love\", \"lovers\", \"maine\", \"manager\", \"manufacturing\", \"mark\", \"mark\", \"mark\", \"mark\", \"mark\", \"mast\", \"media\", \"media\", \"medium\", \"meeting\", \"meets\", \"memory\", \"memory\", \"memory\", \"menu\", \"message\", \"message\", \"microsoft\", \"mind\", \"mind\", \"mine\", \"minimum\", \"minor\", \"mins\", \"mins\", \"miracast\", \"mirror\", \"miss\", \"mistake\", \"mistake\", \"mobil\", \"mobile\", \"mobile..\", \"mode\", \"mode\", \"mode\", \"mode\", \"mode\", \"model\", \"model\", \"model\", \"model\", \"model\", \"model\", \"moment\", \"money\", \"money\", \"money..\", \"month\", \"month\", \"month\", \"month\", \"month\", \"months\", \"months\", \"months\", \"months\", \"months\", \"months\", \"motherboard\", \"moto\", \"moto\", \"moto\", \"moto\", \"motorola\", \"motorola\", \"movies\", \"mujhe\", \"music\", \"music\", \"music\", \"music\", \"music\", \"nahi\", \"nahi\", \"need\", \"need\", \"need\", \"need\", \"need\", \"need\", \"need\", \"needs\", \"needs\", \"needs\", \"network\", \"network\", \"network\", \"network\", \"network\", \"noise\", \"note\", \"note\", \"note\", \"note\", \"note\", \"note\", \"nothing\", \"nothing\", \"nothing\", \"nothing\", \"nothing\", \"nothing\", \"notice\", \"notification\", \"nougat\", \"november\", \"offer\", \"offers\", \"okay\", \"okay\", \"oneplus\", \"ones\", \"opening\", \"opening\", \"operate\", \"operating\", \"operation\", \"option\", \"option\", \"option\", \"option\", \"option\", \"options\", \"options\", \"options\", \"options\", \"order\", \"order\", \"oreo\", \"oreo\", \"orio\", \"others\", \"others\", \"output\", \"output\", \"package\", \"package\", \"paisa\", \"panel\", \"party\", \"percentage\", \"perfect\", \"perfect\", \"performance\", \"performance\", \"performance\", \"performance\", \"performance\", \"performance\", \"performance\", \"performance..\", \"phon\", \"phone\", \"phone\", \"phone\", \"phone\", \"phone\", \"phone\", \"phone\", \"phone\", \"phone\", \"phone\", \"phone-\", \"phone..\", \"phone..\", \"phone..\", \"phone.but\", \"phone.i\", \"phonei\", \"phones\", \"phones\", \"phones\", \"phones\", \"phones\", \"photo\", \"photos\", \"photos\", \"photos\", \"photos\", \"photos\", \"pick\", \"pick\", \"pics\", \"pics\", \"picture\", \"place\", \"planning\", \"please\", \"please\", \"please\", \"please\", \"please\", \"please\", \"please\", \"please\", \"plug\", \"point\", \"point\", \"point\", \"policy\", \"policy\", \"policy\", \"poor..\", \"port\", \"post\", \"premium\", \"present\", \"price\", \"price\", \"price\", \"price\", \"print\", \"print\", \"prize\", \"problem\", \"problem\", \"problem\", \"problem\", \"problems\", \"problems\", \"problems\", \"problems\", \"problems\", \"procedure\", \"process\", \"process\", \"processing\", \"processor\", \"processor\", \"processor\", \"processor\", \"processors\", \"product\", \"product\", \"product..\", \"products\", \"products\", \"prompt\", \"properly..\", \"protection\", \"provide\", \"provide\", \"provide\", \"provide\", \"provide\", \"purchase\", \"purchase\", \"purchase\", \"purchase\", \"purchase\", \"purchase\", \"purpose\", \"purpose\", \"quality\", \"quality\", \"quality\", \"quality\", \"quality\", \"quality\", \"question\", \"range\", \"rate\", \"rate\", \"rate\", \"reading\", \"reality\", \"rear\", \"reason\", \"recharge\", \"recommend\", \"recommend\", \"recommend\", \"recommend\", \"recommend\", \"record\", \"record\", \"recorder\", \"redmi\", \"redmi\", \"refund\", \"refund\", \"remain\", \"repeat\", \"replacement\", \"replacement\", \"request\", \"request\", \"request\", \"reset\", \"reset\", \"reset\", \"resistant\", \"response\", \"response\", \"response\", \"result\", \"results\", \"return\", \"return\", \"return\", \"return\", \"review\", \"review\", \"review\", \"review\", \"review\", \"review\", \"review\", \"reviews\", \"reviews\", \"reviews\", \"reviews\", \"ring\", \"ringtone\", \"rotation\", \"satisfaction\", \"satisfactory\", \"saver\", \"scanner\", \"scratch\", \"scratch\", \"scratches\", \"screen\", \"screen\", \"screen\", \"screen\", \"screen\", \"screen\", \"screen\", \"screen\", \"screen\", \"screen\", \"segment\", \"segment\", \"segment\", \"select\", \"selfie\", \"selfie\", \"seller\", \"send\", \"send\", \"sensor\", \"sensor\", \"sent\", \"september\", \"service\", \"services\", \"settings\", \"settings\", \"setup\", \"share\", \"shots\", \"show\", \"show\", \"show\", \"show\", \"show\", \"shutter\", \"signal\", \"signal\", \"signal\", \"signal\", \"sims\", \"sims\", \"site\", \"sites\", \"slight\", \"slim\", \"slot\", \"slot\", \"slot\", \"slot\", \"slot\", \"smart\", \"smart\", \"smartphone\", \"smartphone\", \"smartphone\", \"smartphones\", \"smooth\", \"smooth\", \"smooth\", \"smooth\", \"snapdragon\", \"socket\", \"software\", \"software\", \"software\", \"software\", \"software\", \"software\", \"software\", \"someone\", \"someone\", \"sound\", \"sound\", \"sound\", \"sound\", \"space\", \"space\", \"speaker\", \"speaker\", \"speaker\", \"speaker\", \"speakers\", \"speakers\", \"speakers\", \"specifications\", \"specifications\", \"specs\", \"speed\", \"speed\", \"speed\", \"speed\", \"speed\", \"speed\", \"speed\", \"spend\", \"spending\", \"split\", \"spot\", \"standby\", \"standby\", \"standby\", \"star\", \"star\", \"star\", \"star\", \"star\", \"star\", \"stars\", \"stars\", \"stars\", \"stick\", \"stock\", \"stock\", \"stock\", \"stock\", \"stop\", \"storage\", \"storage\", \"strength\", \"strength\", \"style\", \"stylish\", \"sucks..\", \"suggest\", \"suggest\", \"suggest\", \"suggest\", \"suggest\", \"suggest\", \"suggestion\", \"super\", \"super\", \"super\", \"super\", \"superb\", \"superb\", \"superb\", \"support\", \"support\", \"support\", \"support\", \"system\", \"system\", \"system\", \"system\", \"system\", \"system\", \"tell\", \"tell\", \"thanks\", \"thanks\", \"thanks\", \"thats\", \"thik\", \"think\", \"think\", \"think\", \"think\", \"think\", \"think\", \"think\", \"till\", \"till\", \"till\", \"till\", \"till\", \"time\", \"time\", \"time\", \"time\", \"time\", \"time\", \"time\", \"time\", \"time\", \"time..\", \"told\", \"tooth\", \"touch\", \"touch\", \"touch\", \"touch\", \"touch\", \"touch\", \"touch\", \"tower\", \"tray\", \"turbo\", \"turbo\", \"unit\", \"update\", \"update\", \"updates\", \"updates\", \"updates\", \"updates\", \"updates\", \"updates\", \"upto\", \"upto\", \"upto\", \"upto\", \"usage\", \"usage\", \"usage\", \"usage\", \"usage\", \"useless\", \"user\", \"user\", \"user\", \"user\", \"value\", \"value\", \"variant\", \"venom\", \"verry\", \"version\", \"version\", \"vibe\", \"video\", \"video\", \"videos\", \"videos\", \"videos\", \"videos\", \"view\", \"visit\", \"vivo\", \"vodafone\", \"voice\", \"voice\", \"voice\", \"volte\", \"volume\", \"volume\", \"want\", \"want\", \"want\", \"want\", \"want\", \"want\", \"want\", \"warm\", \"warranty\", \"warranty\", \"wasool\", \"wastage\", \"waste\", \"waste\", \"waste\", \"water\", \"water\", \"website\", \"week\", \"week\", \"week\", \"weight\", \"weight\", \"whats\", \"whatsapp\", \"wifi\", \"wifi\", \"wifi\", \"wifi\", \"wifi\", \"wire\", \"wireless\", \"wonderful\", \"wonderful\", \"words\", \"work\", \"work\", \"work\", \"work\", \"work\", \"work\", \"work\", \"work\", \"work\", \"worth\", \"worth\", \"worth\", \"worthless\", \"year\", \"year\", \"years\", \"yellow\", \"zoom\"]}, \"R\": 30, \"lambda.step\": 0.01, \"plot.opts\": {\"xlab\": \"PC1\", \"ylab\": \"PC2\"}, \"topic.order\": [12, 4, 2, 8, 7, 9, 11, 10, 1, 3, 6, 5]};\n",
              "\n",
              "function LDAvis_load_lib(url, callback){\n",
              "  var s = document.createElement('script');\n",
              "  s.src = url;\n",
              "  s.async = true;\n",
              "  s.onreadystatechange = s.onload = callback;\n",
              "  s.onerror = function(){console.warn(\"failed to load library \" + url);};\n",
              "  document.getElementsByTagName(\"head\")[0].appendChild(s);\n",
              "}\n",
              "\n",
              "if(typeof(LDAvis) !== \"undefined\"){\n",
              "   // already loaded: just create the visualization\n",
              "   !function(LDAvis){\n",
              "       new LDAvis(\"#\" + \"ldavis_el2001396752498755367638425929\", ldavis_el2001396752498755367638425929_data);\n",
              "   }(LDAvis);\n",
              "}else if(typeof define === \"function\" && define.amd){\n",
              "   // require.js is available: use it to load d3/LDAvis\n",
              "   require.config({paths: {d3: \"https://d3js.org/d3.v5\"}});\n",
              "   require([\"d3\"], function(d3){\n",
              "      window.d3 = d3;\n",
              "      LDAvis_load_lib(\"https://cdn.jsdelivr.net/gh/bmabey/pyLDAvis@3.3.1/pyLDAvis/js/ldavis.v3.0.0.js\", function(){\n",
              "        new LDAvis(\"#\" + \"ldavis_el2001396752498755367638425929\", ldavis_el2001396752498755367638425929_data);\n",
              "      });\n",
              "    });\n",
              "}else{\n",
              "    // require.js not available: dynamically load d3 & LDAvis\n",
              "    LDAvis_load_lib(\"https://d3js.org/d3.v5.js\", function(){\n",
              "         LDAvis_load_lib(\"https://cdn.jsdelivr.net/gh/bmabey/pyLDAvis@3.3.1/pyLDAvis/js/ldavis.v3.0.0.js\", function(){\n",
              "                 new LDAvis(\"#\" + \"ldavis_el2001396752498755367638425929\", ldavis_el2001396752498755367638425929_data);\n",
              "            })\n",
              "         });\n",
              "}\n",
              "</script>"
            ],
            "text/plain": [
              "PreparedData(topic_coordinates=              x         y  topics  cluster       Freq\n",
              "topic                                                \n",
              "11     0.100162  0.107273       1        1  13.133449\n",
              "3      0.206147  0.015984       2        1  13.071514\n",
              "1      0.152807 -0.246752       3        1  11.800807\n",
              "7      0.161636 -0.135716       4        1  10.986172\n",
              "6      0.053562  0.229815       5        1  10.933252\n",
              "8      0.069848 -0.020041       6        1   9.996672\n",
              "10     0.054570  0.207547       7        1   7.440427\n",
              "9     -0.138207 -0.036090       8        1   5.081529\n",
              "0     -0.161877 -0.063673       9        1   4.768213\n",
              "2     -0.193308 -0.000045      10        1   4.744457\n",
              "5     -0.183812 -0.015700      11        1   4.701324\n",
              "4     -0.121529 -0.042602      12        1   3.342184, topic_info=            Term         Freq        Total Category  logprob  loglift\n",
              "17        mobile  1815.000000  1815.000000  Default  30.0000  30.0000\n",
              "82        camera  2779.000000  2779.000000  Default  29.0000  29.0000\n",
              "72       product  1539.000000  1539.000000  Default  28.0000  28.0000\n",
              "5        battery  2779.000000  2779.000000  Default  27.0000  27.0000\n",
              "53       heating  1131.000000  1131.000000  Default  26.0000  26.0000\n",
              "..           ...          ...          ...      ...      ...      ...\n",
              "25         phone   153.822510  5511.751942  Topic12  -3.0997  -0.1803\n",
              "196       weight    17.761069    48.412148  Topic12  -5.2585   2.3958\n",
              "821    interface    15.091144    43.652973  Topic12  -5.4214   2.3364\n",
              "112  performance    31.083330   730.707730  Topic12  -4.6989   0.2412\n",
              "80       speaker    12.607027   232.902873  Topic12  -5.6013   0.4822\n",
              "\n",
              "[732 rows x 6 columns], token_table=      Topic      Freq      Term\n",
              "term                           \n",
              "2381      2  0.933441     ..and\n",
              "1090      2  0.911725  ..camera\n",
              "3364      5  0.952807      ..it\n",
              "1397      4  0.917747     ..not\n",
              "624       2  0.723491      .and\n",
              "...     ...       ...       ...\n",
              "296       5  0.261495      year\n",
              "296       7  0.724140      year\n",
              "46        1  0.960601     years\n",
              "336       9  0.962036    yellow\n",
              "551       3  0.975926      zoom\n",
              "\n",
              "[1213 rows x 3 columns], R=30, lambda_step=0.01, plot_opts={'xlab': 'PC1', 'ylab': 'PC2'}, topic_order=[12, 4, 2, 8, 7, 9, 11, 10, 1, 3, 6, 5])"
            ]
          },
          "metadata": {},
          "execution_count": 169
        }
      ]
    },
    {
      "cell_type": "markdown",
      "source": [
        "### **Since some topics are overlapping, we need different number of topics**\n"
      ],
      "metadata": {
        "id": "wH_4rEOs4smD"
      }
    },
    {
      "cell_type": "code",
      "source": [
        "#Finding out coherence of the model\n",
        "coherence_model_lda = CoherenceModel(model=ldamodel,texts=df['review'],\\\n",
        "                                     dictionary=dictionary , coherence='c_v')\n",
        "print('\\nCoherence Score: ', coherence_model_lda.get_coherence())"
      ],
      "metadata": {
        "colab": {
          "base_uri": "https://localhost:8080/"
        },
        "id": "dodW7PdN1MDr",
        "outputId": "f0d265fe-a6bb-4803-d55c-1a6fe4907a8c"
      },
      "execution_count": 170,
      "outputs": [
        {
          "output_type": "stream",
          "name": "stdout",
          "text": [
            "\n",
            "Coherence Score:  0.5427454386158687\n"
          ]
        }
      ]
    },
    {
      "cell_type": "code",
      "source": [
        "# Computing coherence score for different size of topic\n",
        "def calculate_topic_cv(ldamodel,texts,dictionary,topic_range):\n",
        "  cv_score =[]\n",
        "  topic_num = []\n",
        "  for i in range(2,topic_range):\n",
        "    topic_num.append(i)\n",
        "    Lda = gensim.models.ldamodel.LdaModel\n",
        "    ldamodel = Lda(doc_term_matrix, num_topics=i, id2word=dictionary, passes=10,random_state=45)\n",
        "    cv_score.append(CoherenceModel(model=ldamodel,texts=texts, dictionary=dictionary , coherence='c_v').get_coherence())\n",
        "    clear_output()\n",
        "  return topic_num,cv_score\n",
        "\n",
        "topic_num,cv_score = calculate_topic_cv(ldamodel,df['review'],dictionary,15)"
      ],
      "metadata": {
        "id": "5s8JiKA7m88j"
      },
      "execution_count": 171,
      "outputs": []
    },
    {
      "cell_type": "code",
      "source": [
        "pd.DataFrame(zip(topic_num,cv_score),columns=['Topic','Coherence_Score']).set_index('Topic').sort_values('Coherence_Score',ascending=False)"
      ],
      "metadata": {
        "colab": {
          "base_uri": "https://localhost:8080/",
          "height": 488
        },
        "id": "nbHMRqxm5hWH",
        "outputId": "2003951b-717f-463d-e93b-b6f8e1ced7ac"
      },
      "execution_count": 172,
      "outputs": [
        {
          "output_type": "execute_result",
          "data": {
            "text/html": [
              "\n",
              "  <div id=\"df-cd6bead1-f3a9-4a2b-94bd-b8dcabba34a9\">\n",
              "    <div class=\"colab-df-container\">\n",
              "      <div>\n",
              "<style scoped>\n",
              "    .dataframe tbody tr th:only-of-type {\n",
              "        vertical-align: middle;\n",
              "    }\n",
              "\n",
              "    .dataframe tbody tr th {\n",
              "        vertical-align: top;\n",
              "    }\n",
              "\n",
              "    .dataframe thead th {\n",
              "        text-align: right;\n",
              "    }\n",
              "</style>\n",
              "<table border=\"1\" class=\"dataframe\">\n",
              "  <thead>\n",
              "    <tr style=\"text-align: right;\">\n",
              "      <th></th>\n",
              "      <th>Coherence_Score</th>\n",
              "    </tr>\n",
              "    <tr>\n",
              "      <th>Topic</th>\n",
              "      <th></th>\n",
              "    </tr>\n",
              "  </thead>\n",
              "  <tbody>\n",
              "    <tr>\n",
              "      <th>5</th>\n",
              "      <td>0.548933</td>\n",
              "    </tr>\n",
              "    <tr>\n",
              "      <th>12</th>\n",
              "      <td>0.542745</td>\n",
              "    </tr>\n",
              "    <tr>\n",
              "      <th>4</th>\n",
              "      <td>0.541805</td>\n",
              "    </tr>\n",
              "    <tr>\n",
              "      <th>3</th>\n",
              "      <td>0.537079</td>\n",
              "    </tr>\n",
              "    <tr>\n",
              "      <th>7</th>\n",
              "      <td>0.525588</td>\n",
              "    </tr>\n",
              "    <tr>\n",
              "      <th>9</th>\n",
              "      <td>0.519495</td>\n",
              "    </tr>\n",
              "    <tr>\n",
              "      <th>6</th>\n",
              "      <td>0.518875</td>\n",
              "    </tr>\n",
              "    <tr>\n",
              "      <th>14</th>\n",
              "      <td>0.515620</td>\n",
              "    </tr>\n",
              "    <tr>\n",
              "      <th>11</th>\n",
              "      <td>0.506616</td>\n",
              "    </tr>\n",
              "    <tr>\n",
              "      <th>8</th>\n",
              "      <td>0.503784</td>\n",
              "    </tr>\n",
              "    <tr>\n",
              "      <th>13</th>\n",
              "      <td>0.492537</td>\n",
              "    </tr>\n",
              "    <tr>\n",
              "      <th>10</th>\n",
              "      <td>0.487675</td>\n",
              "    </tr>\n",
              "    <tr>\n",
              "      <th>2</th>\n",
              "      <td>0.480967</td>\n",
              "    </tr>\n",
              "  </tbody>\n",
              "</table>\n",
              "</div>\n",
              "      <button class=\"colab-df-convert\" onclick=\"convertToInteractive('df-cd6bead1-f3a9-4a2b-94bd-b8dcabba34a9')\"\n",
              "              title=\"Convert this dataframe to an interactive table.\"\n",
              "              style=\"display:none;\">\n",
              "        \n",
              "  <svg xmlns=\"http://www.w3.org/2000/svg\" height=\"24px\"viewBox=\"0 0 24 24\"\n",
              "       width=\"24px\">\n",
              "    <path d=\"M0 0h24v24H0V0z\" fill=\"none\"/>\n",
              "    <path d=\"M18.56 5.44l.94 2.06.94-2.06 2.06-.94-2.06-.94-.94-2.06-.94 2.06-2.06.94zm-11 1L8.5 8.5l.94-2.06 2.06-.94-2.06-.94L8.5 2.5l-.94 2.06-2.06.94zm10 10l.94 2.06.94-2.06 2.06-.94-2.06-.94-.94-2.06-.94 2.06-2.06.94z\"/><path d=\"M17.41 7.96l-1.37-1.37c-.4-.4-.92-.59-1.43-.59-.52 0-1.04.2-1.43.59L10.3 9.45l-7.72 7.72c-.78.78-.78 2.05 0 2.83L4 21.41c.39.39.9.59 1.41.59.51 0 1.02-.2 1.41-.59l7.78-7.78 2.81-2.81c.8-.78.8-2.07 0-2.86zM5.41 20L4 18.59l7.72-7.72 1.47 1.35L5.41 20z\"/>\n",
              "  </svg>\n",
              "      </button>\n",
              "      \n",
              "  <style>\n",
              "    .colab-df-container {\n",
              "      display:flex;\n",
              "      flex-wrap:wrap;\n",
              "      gap: 12px;\n",
              "    }\n",
              "\n",
              "    .colab-df-convert {\n",
              "      background-color: #E8F0FE;\n",
              "      border: none;\n",
              "      border-radius: 50%;\n",
              "      cursor: pointer;\n",
              "      display: none;\n",
              "      fill: #1967D2;\n",
              "      height: 32px;\n",
              "      padding: 0 0 0 0;\n",
              "      width: 32px;\n",
              "    }\n",
              "\n",
              "    .colab-df-convert:hover {\n",
              "      background-color: #E2EBFA;\n",
              "      box-shadow: 0px 1px 2px rgba(60, 64, 67, 0.3), 0px 1px 3px 1px rgba(60, 64, 67, 0.15);\n",
              "      fill: #174EA6;\n",
              "    }\n",
              "\n",
              "    [theme=dark] .colab-df-convert {\n",
              "      background-color: #3B4455;\n",
              "      fill: #D2E3FC;\n",
              "    }\n",
              "\n",
              "    [theme=dark] .colab-df-convert:hover {\n",
              "      background-color: #434B5C;\n",
              "      box-shadow: 0px 1px 3px 1px rgba(0, 0, 0, 0.15);\n",
              "      filter: drop-shadow(0px 1px 2px rgba(0, 0, 0, 0.3));\n",
              "      fill: #FFFFFF;\n",
              "    }\n",
              "  </style>\n",
              "\n",
              "      <script>\n",
              "        const buttonEl =\n",
              "          document.querySelector('#df-cd6bead1-f3a9-4a2b-94bd-b8dcabba34a9 button.colab-df-convert');\n",
              "        buttonEl.style.display =\n",
              "          google.colab.kernel.accessAllowed ? 'block' : 'none';\n",
              "\n",
              "        async function convertToInteractive(key) {\n",
              "          const element = document.querySelector('#df-cd6bead1-f3a9-4a2b-94bd-b8dcabba34a9');\n",
              "          const dataTable =\n",
              "            await google.colab.kernel.invokeFunction('convertToInteractive',\n",
              "                                                     [key], {});\n",
              "          if (!dataTable) return;\n",
              "\n",
              "          const docLinkHtml = 'Like what you see? Visit the ' +\n",
              "            '<a target=\"_blank\" href=https://colab.research.google.com/notebooks/data_table.ipynb>data table notebook</a>'\n",
              "            + ' to learn more about interactive tables.';\n",
              "          element.innerHTML = '';\n",
              "          dataTable['output_type'] = 'display_data';\n",
              "          await google.colab.output.renderOutput(dataTable, element);\n",
              "          const docLink = document.createElement('div');\n",
              "          docLink.innerHTML = docLinkHtml;\n",
              "          element.appendChild(docLink);\n",
              "        }\n",
              "      </script>\n",
              "    </div>\n",
              "  </div>\n",
              "  "
            ],
            "text/plain": [
              "       Coherence_Score\n",
              "Topic                 \n",
              "5             0.548933\n",
              "12            0.542745\n",
              "4             0.541805\n",
              "3             0.537079\n",
              "7             0.525588\n",
              "9             0.519495\n",
              "6             0.518875\n",
              "14            0.515620\n",
              "11            0.506616\n",
              "8             0.503784\n",
              "13            0.492537\n",
              "10            0.487675\n",
              "2             0.480967"
            ]
          },
          "metadata": {},
          "execution_count": 172
        }
      ]
    },
    {
      "cell_type": "code",
      "source": [
        "plt.plot(topic_num,cv_score,color='green', marker='*', linestyle='dashed')\n",
        "plt.xticks(range(2,15))\n",
        "plt.xlabel('Number of topics')\n",
        "plt.ylabel('Coherence score')\n",
        "plt.show()"
      ],
      "metadata": {
        "colab": {
          "base_uri": "https://localhost:8080/",
          "height": 279
        },
        "id": "Dd04q5lg5rvX",
        "outputId": "d9a7f04d-f4bf-49df-a909-725eb79a5def"
      },
      "execution_count": 173,
      "outputs": [
        {
          "output_type": "display_data",
          "data": {
            "image/png": "[encoded data removed]",
            "text/plain": [
              "<Figure size 432x288 with 1 Axes>"
            ]
          },
          "metadata": {
            "needs_background": "light"
          }
        }
      ]
    },
    {
      "cell_type": "code",
      "source": [
        "# Creating LDA model with number of topics as 6\n",
        "Lda2 = gensim.models.ldamodel.LdaModel\n",
        "ldamodel2 = Lda2(doc_term_matrix, num_topics=6, id2word=dictionary, passes=10,random_state=45)\n",
        "clear_output()\n",
        "print(CoherenceModel(model=ldamodel2,texts=df['review'],dictionary=dictionary , coherence='c_v').get_coherence())"
      ],
      "metadata": {
        "colab": {
          "base_uri": "https://localhost:8080/"
        },
        "id": "wt6Hw1lh51hm",
        "outputId": "4a5dfeeb-5ff1-4d30-d1c8-7d36420dff16"
      },
      "execution_count": 174,
      "outputs": [
        {
          "output_type": "stream",
          "name": "stdout",
          "text": [
            "0.5188747005158144\n"
          ]
        }
      ]
    },
    {
      "cell_type": "code",
      "source": [
        "ldamodel2.print_topics()"
      ],
      "metadata": {
        "colab": {
          "base_uri": "https://localhost:8080/"
        },
        "id": "7A0-1dyW6GSP",
        "outputId": "aab9bdb9-8ff9-47c3-9ac8-64af126419a3"
      },
      "execution_count": 175,
      "outputs": [
        {
          "output_type": "execute_result",
          "data": {
            "text/plain": [
              "[(0,\n",
              "  '0.034*\"call\" + 0.021*\"screen\" + 0.015*\"cast\" + 0.013*\"option\" + 0.011*\"support\" + 0.011*\"network\" + 0.009*\"connect\" + 0.008*\"volte\" + 0.008*\"feature\" + 0.008*\"work\"'),\n",
              " (1,\n",
              "  '0.096*\"camera\" + 0.066*\"phone\" + 0.040*\"quality\" + 0.024*\"note\" + 0.022*\"lenovo\" + 0.022*\"battery\" + 0.019*\"awesome\" + 0.018*\"performance\" + 0.014*\"mobile\" + 0.012*\"price\"'),\n",
              " (2,\n",
              "  '0.052*\"mobile\" + 0.042*\"amazon\" + 0.040*\"lenovo\" + 0.038*\"phone\" + 0.025*\"product\" + 0.024*\"service\" + 0.018*\"return\" + 0.016*\"note\" + 0.013*\"charger\" + 0.012*\"delivery\"'),\n",
              " (3,\n",
              "  '0.087*\"battery\" + 0.070*\"phone\" + 0.046*\"heating\" + 0.043*\"problem\" + 0.032*\"issue\" + 0.019*\"product\" + 0.018*\"fast\" + 0.017*\"charge\" + 0.015*\"backup\" + 0.015*\"time\"'),\n",
              " (4,\n",
              "  '0.033*\"phone\" + 0.015*\"speaker\" + 0.014*\"screen\" + 0.011*\"processor\" + 0.011*\"lenovo\" + 0.009*\"sensor\" + 0.008*\"display\" + 0.008*\"side\" + 0.007*\"core\" + 0.007*\"sound\"'),\n",
              " (5,\n",
              "  '0.076*\"phone\" + 0.043*\"money\" + 0.039*\"price\" + 0.039*\"product\" + 0.024*\"worth\" + 0.023*\"mobile\" + 0.023*\"waste\" + 0.019*\"value\" + 0.016*\"glass\" + 0.016*\"excellent\"')]"
            ]
          },
          "metadata": {},
          "execution_count": 175
        }
      ]
    },
    {
      "cell_type": "code",
      "source": [
        "vis2 = gensim_models.prepare(ldamodel2,doc_term_matrix,dictionary)\n",
        "vis2"
      ],
      "metadata": {
        "colab": {
          "base_uri": "https://localhost:8080/",
          "height": 916
        },
        "id": "sEemYzzk6KBW",
        "outputId": "18346c58-5faf-44ff-dcef-ab878b94256f"
      },
      "execution_count": 176,
      "outputs": [
        {
          "output_type": "stream",
          "name": "stderr",
          "text": [
            "/usr/local/lib/python3.7/dist-packages/pyLDAvis/_prepare.py:247: FutureWarning: In a future version of pandas all arguments of DataFrame.drop except for the argument 'labels' will be keyword-only\n",
            "  by='saliency', ascending=False).head(R).drop('saliency', 1)\n"
          ]
        },
        {
          "output_type": "execute_result",
          "data": {
            "text/html": [
              "\n",
              "<link rel=\"stylesheet\" type=\"text/css\" href=\"https://cdn.jsdelivr.net/gh/bmabey/pyLDAvis@3.3.1/pyLDAvis/js/ldavis.v1.0.0.css\">\n",
              "\n",
              "\n",
              "<div id=\"ldavis_el2001396753119991845891397028\"></div>\n",
              "<script type=\"text/javascript\">\n",
              "\n",
              "var ldavis_el2001396753119991845891397028_data = {\"mdsDat\": {\"x\": [-0.12649612870076304, -0.17044946499472075, -0.051197882683923196, 0.2492963862000829, -0.021141798881380763, 0.11998888906070505], \"y\": [0.05845412252659583, -0.1254310351269556, -0.12779694233582647, -0.0656333966032559, 0.2509176014847692, 0.009489650054672838], \"topics\": [1, 2, 3, 4, 5, 6], \"cluster\": [1, 1, 1, 1, 1, 1], \"Freq\": [28.517468623037896, 24.575757116146395, 17.332805330807403, 9.91965945664172, 9.891432695396377, 9.762876777970213]}, \"tinfo\": {\"Term\": [\"camera\", \"battery\", \"heating\", \"amazon\", \"problem\", \"quality\", \"price\", \"mobile\", \"money\", \"issue\", \"phone\", \"call\", \"product\", \"service\", \"awesome\", \"worth\", \"waste\", \"return\", \"charge\", \"lenovo\", \"excellent\", \"screen\", \"value\", \"hours\", \"backup\", \"note\", \"range\", \"glass\", \"performance\", \"front\", \"awesome\", \"front\", \"depth\", \"rear\", \"super\", \"killer\", \"perfect\", \"picture\", \"cameras\", \"camera\", \"cool\", \"image\", \"bokeh\", \"focus\", \"cable\", \"vibe\", \"pics\", \"player\", \"improvement\", \"space\", \"specifications\", \"color\", \"redmi\", \"blur\", \"honor\", \"shot\", \"scratches\", \"nougat\", \"premium\", \"slots\", \"quality\", \"selfie\", \"effect\", \"smartphone\", \"stock\", \"look\", \"mode\", \"sound\", \"android\", \"performance\", \"note\", \"looks\", \"features\", \"clarity\", \"dolby\", \"phone\", \"mark\", \"lenovo\", \"price\", \"phones\", \"everything\", \"range\", \"battery\", \"mobile\", \"excellent\", \"display\", \"backup\", \"fast\", \"product\", \"processor\", \"heating\", \"drains\", \"drain\", \"hour\", \"lenova\", \"become\", \"longer\", \"iron\", \"complaint\", \"idea\", \"issue\", \"minimum\", \"stand\", \"satisfactory\", \"percent\", \"store\", \"maximum\", \"awsm\", \"test\", \"rupees\", \"reply\", \"hours\", \"wastage\", \"india\", \"wireless\", \"everyone\", \"west\", \"remains\", \"charge\", \"beast\", \"problem\", \"half\", \"discharge\", \"battery\", \"usage\", \"anyone\", \"issues\", \"problems\", \"heat\", \"standby\", \"heats\", \"backup\", \"fast\", \"life\", \"quick\", \"internet\", \"network\", \"capacity\", \"time\", \"game\", \"update\", \"star\", \"phone\", \"dont\", \"turbo\", \"month\", \"months\", \"product\", \"bluetooth\", \"please\", \"mobile\", \"performance\", \"days\", \"charger\", \"lenovo\", \"customer\", \"replacement\", \"service\", \"care\", \"refund\", \"centre\", \"policy\", \"broken\", \"number\", \"amazon\", \"receive\", \"center\", \"facility\", \"invoice\", \"screenshot\", \"kept\", \"told\", \"drainage\", \"hota\", \"mail\", \"visit\", \"complain\", \"services\", \"exchange\", \"period\", \"comparison\", \"reset\", \"signals\", \"miss\", \"mean\", \"delivery\", \"return\", \"message\", \"products\", \"faulty\", \"piece\", \"want\", \"warranty\", \"send\", \"team\", \"mobile\", \"help\", \"charger\", \"condition\", \"lenovo\", \"please\", \"days\", \"contact\", \"product\", \"note\", \"phone\", \"time\", \"purchase\", \"call\", \"support\", \"bought\", \"need\", \"update\", \"screen\", \"problem\", \"turbo\", \"device\", \"connect\", \"recorder\", \"bill\", \"hotspot\", \"body\", \"jack\", \"output\", \"accessories\", \"batter\", \"mobil\", \"lovers\", \"tray\", \"ringtone\", \"insert\", \"mera\", \"share\", \"battry\", \"metal\", \"clearity\", \"iphone\", \"email\", \"camera..\", \"alarm\", \"chromecast\", \"dose\", \"window\", \"bank\", \"noise\", \"adapter\", \"abhi\", \"headphone\", \"voice\", \"cast\", \"call\", \"audio\", \"earphones\", \"headphones\", \"party\", \"option\", \"volte\", \"notification\", \"support\", \"button\", \"volume\", \"auto\", \"screen\", \"headset\", \"feature\", \"wifi\", \"network\", \"bluetooth\", \"work\", \"smart\", \"light\", \"device\", \"music\", \"speaker\", \"handset\", \"lenovo\", \"phone\", \"gorilla\", \"worth\", \"class\", \"nahi\", \"bahut\", \"damage\", \"value\", \"fall\", \"cash\", \"raha\", \"wrost\", \"paisa\", \"fone\", \"protection\", \"details\", \"jata\", \"ghatiya\", \"reality\", \"contain\", \"hone\", \".camera\", \"thik\", \"kiya\", \"glass\", \"category\", \"mast\", \"smartphones\", \"approx\", \"duplicate\", \"karne\", \"broke\", \"money\", \"waste\", \"earphone\", \"price\", \"result\", \"excellent\", \"cell\", \"range\", \"product\", \"superb\", \"phone\", \"love\", \"budget\", \"features\", \"mobile\", \"cost\", \"screen\", \"smart\", \"quality\", \"buying\", \"purchase\", \"time\", \"month\", \"left\", \"finger\", \"print\", \"mediatek\", \"bottom\", \"bekar\", \"mobile..\", \"beautiful\", \"helio\", \"processer\", \"ring\", \"view\", \"awsome\", \"standard\", \"flipkart\", \"drawback\", \"lack\", \"money..\", \"scanner\", \"offers\", \"atleast\", \"years\", \"blue\", \"songs\", \"fool\", \"clean\", \"mirror\", \"charging..\", \"cards\", \"question\", \"watch\", \"users\", \"sensor\", \"interface\", \"side\", \"core\", \"speakers\", \"speaker\", \"deca\", \"processor\", \"size\", \"package\", \"fingerprint\", \"function\", \"screen\", \"display\", \"phone\", \"works\", \"memory\", \"volume\", \"sound\", \"lenovo\", \"work\", \"games\", \"right\", \"phones\", \"product\", \"bought\", \"touch\"], \"Freq\": [2823.0, 2826.0, 1152.0, 753.0, 1189.0, 1232.0, 749.0, 1916.0, 505.0, 827.0, 5482.0, 458.0, 1562.0, 423.0, 568.0, 247.0, 279.0, 352.0, 452.0, 1738.0, 322.0, 649.0, 199.0, 356.0, 550.0, 1096.0, 296.0, 174.0, 747.0, 309.0, 567.5130934236169, 309.1037447036927, 228.11490767764334, 215.335024866271, 171.1029045898335, 120.42912517056905, 112.35407801431901, 100.21688269253796, 78.10624118426617, 2795.3420377102198, 72.24050983991926, 57.286332249242164, 52.31691961023912, 46.0660993243676, 46.239312375025015, 50.88488557984508, 44.143346977306464, 42.48044472417233, 37.67005768420086, 35.820551786128625, 66.46447411469434, 33.495393261535924, 153.45778382608546, 30.455318063058968, 29.239744396428424, 29.16240515247959, 28.868086739772345, 28.68614216714158, 26.537974136110495, 25.711627982875807, 1161.3545162930434, 81.54133382769996, 92.40620906722947, 107.33306292817403, 125.31698708978213, 124.69979225347072, 279.27401730156885, 316.68008801541265, 204.8934402484804, 511.88840880105056, 698.1258655756778, 104.99574130870039, 349.96336124255436, 106.18274001002241, 161.83559608290122, 1916.6581991019668, 116.57188802362045, 654.1958186598129, 355.3440133075319, 160.57384877172265, 138.4945118890268, 175.3310771355041, 646.9771456151801, 409.5358195700066, 160.10322143280007, 157.52947393446425, 168.06284295488584, 169.55926644964958, 195.09882241376857, 132.09763951987904, 1149.8312419805516, 272.4560281554397, 155.49045661306556, 85.88078437256571, 45.66869906781835, 36.99639781574314, 32.30893403943268, 28.400771942652806, 26.992366297088473, 24.055705710788647, 803.153213192442, 22.707986674205927, 21.899920404064506, 20.949783034586726, 20.35700482929695, 19.589611079541257, 19.09952452287706, 17.984153304281158, 17.891627959382415, 17.868514886853703, 17.57915219332384, 341.89122219446733, 17.239849249523328, 16.862268521153172, 16.794406471297393, 16.169099892930515, 15.929914147171123, 15.81148795919023, 431.4776841803867, 14.879735556627475, 1070.513804592005, 74.31149566513271, 29.46883288319828, 2177.0411630035255, 194.65684450771337, 37.40592832330195, 352.3161047899932, 152.03676540470536, 236.12542826258507, 39.20920968677575, 150.2872611287524, 382.0361467752843, 449.9320940507916, 212.20418280374662, 60.80617920750591, 94.36502799993832, 292.7599513787585, 32.75792581906023, 375.2019827851749, 55.95083553780466, 221.50145019889575, 77.05519372853922, 1762.1840616638276, 116.12511424214932, 184.68272746196806, 121.52632910149704, 140.16429934410795, 477.4404345977653, 98.6971533073833, 146.1320335972222, 356.72316677256634, 208.95797887041377, 153.82937784753912, 146.27269620032507, 215.98138397272487, 165.3689912868406, 156.954450634576, 420.9056935423686, 107.33284497326373, 104.4765783877782, 71.33055732365479, 68.42650932688791, 61.50461429206971, 52.75504730030052, 742.4861328695881, 41.74266445698489, 124.26812367947105, 36.112874906619595, 33.329941575801655, 30.22132632053905, 29.442739105604254, 32.083439062683404, 27.497408720916827, 26.39077565474563, 25.300564357254984, 25.118801675874003, 24.233118478545126, 22.966490642740432, 43.65531824247175, 20.686150406267963, 20.573112661937884, 19.16234093789052, 18.34492514339479, 18.618728458247737, 18.113963106850395, 206.0390347821391, 323.64638356337434, 53.96908343264258, 59.40651488084543, 52.03195774940059, 76.62560494767787, 180.7343423120996, 63.161790862993215, 54.565753393825524, 43.71463281358448, 914.0633441282151, 86.12052815561113, 228.73672201098282, 54.11497089722859, 699.2985959625785, 168.60544819763211, 190.5079986630339, 64.56300795355627, 443.422939168361, 280.4936687200728, 664.1238929085031, 189.78748531831502, 88.54482473251629, 113.8302348145318, 85.52974018838077, 88.78516622052469, 82.76527722539856, 95.11363937491302, 106.96296771654175, 117.30865725370828, 79.48527624725229, 76.75669880588976, 91.75404678693208, 58.72455980555157, 52.407744080233094, 43.288253435664004, 41.23085835308954, 41.97602495761881, 26.084072428728703, 22.154162051380812, 20.34536107024897, 19.953363172802348, 19.981982597923594, 19.377652014567747, 34.111490914809586, 17.003377948480747, 17.210761445970554, 16.510542106240788, 16.37839547283806, 15.795111914781566, 15.677262019422631, 15.131605739671151, 14.496944274474188, 13.470455939552439, 13.256604055672717, 13.624801971249223, 11.598699064262732, 11.258352718311512, 11.29785776305211, 10.986337254989866, 10.927640540856432, 10.305767231246536, 65.41757990283145, 82.19477191993442, 152.54876388161153, 344.23093516178307, 60.318047500408156, 39.08731011976886, 38.62070403255059, 27.996306258019636, 132.95609227664949, 85.73310666138339, 55.622315087739565, 114.94313178867489, 50.40212439681466, 57.59405005120732, 38.98759741943504, 208.0494063095338, 36.35785865549381, 84.98580280008196, 50.66787552751107, 106.55418664767056, 58.22891439066742, 83.81677524377763, 48.506113431565836, 57.07731514896873, 53.58496209516098, 45.778983226301605, 46.18583576601566, 44.916328833383076, 47.83391550968166, 46.98642478843139, 112.47079617347413, 245.0906346980132, 57.14313284936063, 53.3107154190827, 35.28696041331494, 29.657082593310623, 193.8327960679665, 25.31629991707294, 24.837265380466413, 23.35223620545615, 23.223408315557357, 22.394360020058233, 19.35035153969109, 18.327368659812578, 18.620398183074258, 16.567128561536677, 16.343070545929653, 15.49518628482415, 14.276655149332283, 14.10148125726556, 13.539572000426606, 13.418016216387585, 13.358030458169878, 165.2614625200386, 12.297462681824461, 12.068052029347337, 12.119587184200583, 12.119477802695657, 12.025956615983745, 11.235254182905154, 22.162527684584948, 432.30751043498634, 233.1566938028671, 57.48638377327123, 392.8802624678183, 21.252861691519563, 162.04388676196743, 36.50359089814056, 120.24783528747042, 391.93524390190265, 87.76730554967769, 767.618833144654, 60.43202534864371, 61.51652062322804, 130.47401333151046, 235.82605416282897, 35.30962943617459, 72.59417605200316, 36.972663484782295, 69.55300325774759, 34.96613622634985, 34.92705762546084, 37.426846073011504, 25.81725780047328, 68.84957566793258, 50.92546825274592, 43.21406157762988, 40.849437789844956, 32.763259325568356, 27.138464586414408, 23.206327956383614, 23.128478415667825, 20.984970447831316, 20.02157106309608, 19.253472311073, 19.126015773497475, 18.811692245411038, 18.162320369662265, 17.504031934278554, 29.979256572404672, 16.078396983643472, 15.946941286070242, 15.436935202589718, 15.355837577788712, 15.136766030918949, 14.466286252053132, 14.253230277638547, 14.126221831720239, 16.329045062036453, 13.14556627474528, 13.088348684868144, 12.567334173446195, 12.464883704233657, 12.331848077268011, 16.44042950377216, 34.37735280469892, 89.0581193597282, 36.80598404791296, 79.82804415472138, 72.48533565334994, 59.08496658507908, 148.45459555015512, 43.15886504364708, 110.31834577960453, 23.21687320149802, 25.768718041854612, 35.07417944432173, 36.707218145850696, 139.35917072728284, 80.62974281588045, 325.3652866176598, 59.97831740302728, 46.59005377465659, 38.45400247675988, 70.40449086597089, 105.84084677696404, 57.468911253874175, 35.90608830570727, 29.20940492296606, 38.5370224844219, 54.927572189418655, 39.058478122345775, 33.132400947533306], \"Total\": [2823.0, 2826.0, 1152.0, 753.0, 1189.0, 1232.0, 749.0, 1916.0, 505.0, 827.0, 5482.0, 458.0, 1562.0, 423.0, 568.0, 247.0, 279.0, 352.0, 452.0, 1738.0, 322.0, 649.0, 199.0, 356.0, 550.0, 1096.0, 296.0, 174.0, 747.0, 309.0, 568.2483216895381, 309.8401050002908, 228.85048471535774, 216.0701878365931, 172.07590055618033, 121.16596348513573, 113.141073565785, 100.97325468607583, 78.84114070010713, 2823.6924645907884, 72.97607119861259, 58.02338796406382, 53.05272817624219, 46.802732376064135, 46.98302906237783, 51.71381203854496, 44.880806502026665, 43.23028350458269, 38.406204247676705, 36.564519661836236, 67.89167440794503, 34.23178811519639, 156.84698756753568, 31.191907008603913, 29.980402355106914, 29.903486998946605, 29.610119080476977, 29.424230785888295, 27.275094715478737, 26.4560423217554, 1232.2691427098607, 84.72206075317456, 96.56786873968146, 114.29750445544228, 138.0544413001283, 138.2604597897074, 328.3078037393403, 406.36559779308374, 255.14653938265997, 747.8045926338177, 1096.4562176633372, 125.80958561842972, 542.5981985332885, 128.58233594785753, 227.02241231185167, 5482.936698225043, 150.7599930667535, 1738.9091378304483, 749.1958341459551, 241.37635425942506, 201.0142173349237, 296.1769206475356, 2826.089962152771, 1916.4431536698287, 322.74637520764503, 336.4563569982662, 550.6816804335564, 667.0310276600367, 1562.9778201223396, 272.3708712413476, 1152.3037876085907, 273.1940817000578, 156.22637581983497, 86.6168867920912, 46.408496533822834, 37.7311998431664, 33.058269230163006, 29.13591068376999, 27.732512227757795, 24.792086626144375, 827.9653480885645, 23.441224091342228, 22.63259041941923, 21.690992756984752, 21.090732345727147, 20.325987570455045, 19.837868823939445, 18.720677142964767, 18.634978830867844, 18.617037379133, 18.326637630537647, 356.5019991794413, 17.9800253601208, 17.599748241046125, 17.533409550211612, 16.908506959529916, 16.66736137038341, 16.55169381821661, 452.4747793048608, 15.61766452128593, 1189.412217888079, 80.14276217014545, 31.413263410557047, 2826.089962152771, 233.37688270557265, 40.90540079076497, 450.53413009017055, 183.145809909445, 300.46456931101494, 43.69819215165914, 190.48227382323228, 550.6816804335564, 667.0310276600367, 290.5065085360397, 72.03635909207364, 121.81022859228722, 471.4073939312698, 36.00815168077886, 719.801626095213, 69.25291139321486, 388.50606952398556, 103.79067180207088, 5482.936698225043, 175.67082640557118, 324.1476493286739, 197.74589831379197, 247.65544570349738, 1562.9778201223396, 157.5104170258641, 329.13034817033184, 1916.4431536698287, 747.8045926338177, 409.18194143225344, 394.3113329727334, 1738.9091378304483, 166.1072449470966, 157.69208368146738, 423.7255427224432, 108.06921521759891, 105.21372326844838, 72.06565652598931, 69.16396391970534, 62.24370633310339, 53.49184127831151, 753.6701597896001, 42.477927660660825, 126.87244535115771, 36.878420907884966, 34.06386343121231, 30.960356427192583, 30.180201315786608, 32.9189323485207, 28.241797049462654, 27.152858599459588, 26.041366089311175, 25.854768514181487, 24.97274805924869, 23.700492347758377, 45.182419856773464, 21.426243079537482, 21.319950080748153, 19.897530286422114, 19.08679195523326, 19.37512034384669, 18.856951703365535, 215.0966914622427, 352.78839991347144, 57.226624615203455, 64.05948456431953, 56.87759208132261, 86.25191296515376, 238.37762136756498, 75.58777203059584, 64.4366067007288, 49.69454413615285, 1916.4431536698287, 115.41618683176264, 394.3113329727334, 65.25555437527109, 1738.9091378304483, 329.13034817033184, 409.18194143225344, 87.10735316073716, 1562.9778201223396, 1096.4562176633372, 5482.936698225043, 719.801626095213, 190.5484271149435, 458.65245506774767, 226.98092478361335, 261.059402729884, 220.21905911182023, 388.50606952398556, 649.5717308938604, 1189.412217888079, 324.1476493286739, 353.451029942127, 92.49344505340437, 59.467186532057276, 53.14390827012295, 44.026461741278446, 41.97000356401303, 42.750075046449695, 26.822714151726977, 22.892708882414727, 21.083171905015234, 20.68887323047846, 20.722516670177942, 20.127299095827208, 35.524169435171224, 17.740119701788835, 17.964160324094756, 17.2557906540436, 17.11885034054718, 16.531803701202982, 16.4144098083753, 15.87542365536167, 15.238238615485296, 14.209728039927496, 13.994328912596151, 14.388246967754611, 12.339595415504826, 12.000791943794708, 12.04703514258504, 11.726229739274425, 11.665500265489458, 11.060220324900074, 73.32739192892468, 93.28983612591499, 185.93427399089194, 458.65245506774767, 74.17953359582141, 48.70245493741513, 48.96457648549092, 33.84522714424081, 242.910969053518, 144.29126390938092, 84.79787283231141, 226.98092478361335, 76.37780647950503, 96.64771070856673, 57.430415393725674, 649.5717308938604, 56.181248426, 210.60703461462825, 105.96331279146027, 471.4073939312698, 157.5104170258641, 339.10177266760905, 122.71542625527512, 194.42011511776914, 353.451029942127, 206.1477877525406, 231.4095584141201, 187.1763089222264, 1738.9091378304483, 5482.936698225043, 113.2202124081249, 247.112754334486, 57.892184811073164, 54.056526178643885, 36.03288238022983, 30.409387849281856, 199.35493239139626, 26.06485724855358, 25.584685306872704, 24.09903154546023, 23.9712314678313, 23.14036775289217, 20.104387626663417, 19.077538549013624, 19.410447251574432, 17.313792427672052, 17.088813475555725, 16.260053635716407, 15.030035280638527, 14.84788713158919, 14.28917187904566, 14.164836935028667, 14.108275004377605, 174.94305487680114, 13.04463247996612, 12.813738343831426, 12.869734814675525, 12.873204099843733, 12.77729284411355, 11.981038666297549, 23.73691832199957, 505.88060985652476, 279.7954489401697, 68.96589719621072, 749.1958341459551, 25.035227953344688, 322.74637520764503, 50.504168653204694, 296.1769206475356, 1562.9778201223396, 201.0932391986796, 5482.936698225043, 134.55657798026218, 150.92227505877142, 542.5981985332885, 1916.4431536698287, 77.12729967179425, 649.5717308938604, 122.71542625527512, 1232.2691427098607, 140.62597314695972, 190.5484271149435, 719.801626095213, 197.74589831379197, 69.59396465193367, 51.667952196518385, 43.959013797766, 41.59189859194452, 33.50753528014583, 27.899225458361823, 23.948744368431914, 23.870991043730513, 21.726061727722662, 20.765931936798513, 19.99545401848478, 19.87815070089416, 19.554136386471207, 18.90548754249731, 18.25037536237401, 31.318335943519752, 16.824922138249764, 16.689998398240242, 16.17998628493003, 16.1014773952192, 15.887384703486049, 15.210634331516347, 14.999891270786556, 14.86894803900061, 17.195952259459734, 13.890927756991555, 13.832137542850113, 13.313343420890554, 13.212523370051137, 13.091045126346172, 17.4771235694107, 37.43312008240642, 104.84271982109975, 41.83798695878504, 96.89875067517464, 93.8254535130092, 75.22837775245631, 231.4095584141201, 63.56219805639762, 272.3708712413476, 29.364779375543662, 34.33918757716829, 56.991013323180866, 66.3389358194993, 649.5717308938604, 336.4563569982662, 5482.936698225043, 202.2212888395286, 125.31263350298636, 96.64771070856673, 406.36559779308374, 1738.9091378304483, 339.10177266760905, 125.89265108291175, 59.222962055081766, 241.37635425942506, 1562.9778201223396, 261.059402729884, 159.3436746508266], \"Category\": [\"Default\", \"Default\", \"Default\", \"Default\", \"Default\", \"Default\", \"Default\", \"Default\", \"Default\", \"Default\", \"Default\", \"Default\", \"Default\", \"Default\", \"Default\", \"Default\", \"Default\", \"Default\", \"Default\", \"Default\", \"Default\", \"Default\", \"Default\", \"Default\", \"Default\", \"Default\", \"Default\", \"Default\", \"Default\", \"Default\", \"Topic1\", \"Topic1\", \"Topic1\", \"Topic1\", \"Topic1\", \"Topic1\", \"Topic1\", \"Topic1\", \"Topic1\", \"Topic1\", \"Topic1\", \"Topic1\", \"Topic1\", \"Topic1\", \"Topic1\", \"Topic1\", \"Topic1\", \"Topic1\", \"Topic1\", \"Topic1\", \"Topic1\", \"Topic1\", \"Topic1\", \"Topic1\", \"Topic1\", \"Topic1\", \"Topic1\", \"Topic1\", \"Topic1\", \"Topic1\", \"Topic1\", \"Topic1\", \"Topic1\", \"Topic1\", \"Topic1\", \"Topic1\", \"Topic1\", \"Topic1\", \"Topic1\", \"Topic1\", \"Topic1\", \"Topic1\", \"Topic1\", \"Topic1\", \"Topic1\", \"Topic1\", \"Topic1\", \"Topic1\", \"Topic1\", \"Topic1\", \"Topic1\", \"Topic1\", \"Topic1\", \"Topic1\", \"Topic1\", \"Topic1\", \"Topic1\", \"Topic1\", \"Topic1\", \"Topic1\", \"Topic2\", \"Topic2\", \"Topic2\", \"Topic2\", \"Topic2\", \"Topic2\", \"Topic2\", \"Topic2\", \"Topic2\", \"Topic2\", \"Topic2\", \"Topic2\", \"Topic2\", \"Topic2\", \"Topic2\", \"Topic2\", \"Topic2\", \"Topic2\", \"Topic2\", \"Topic2\", \"Topic2\", \"Topic2\", \"Topic2\", \"Topic2\", \"Topic2\", \"Topic2\", \"Topic2\", \"Topic2\", \"Topic2\", \"Topic2\", \"Topic2\", \"Topic2\", \"Topic2\", \"Topic2\", \"Topic2\", \"Topic2\", \"Topic2\", \"Topic2\", \"Topic2\", \"Topic2\", \"Topic2\", \"Topic2\", \"Topic2\", \"Topic2\", \"Topic2\", \"Topic2\", \"Topic2\", \"Topic2\", \"Topic2\", \"Topic2\", \"Topic2\", \"Topic2\", \"Topic2\", \"Topic2\", \"Topic2\", \"Topic2\", \"Topic2\", \"Topic2\", \"Topic2\", \"Topic2\", \"Topic2\", \"Topic2\", \"Topic2\", \"Topic2\", \"Topic2\", \"Topic3\", \"Topic3\", \"Topic3\", \"Topic3\", \"Topic3\", \"Topic3\", \"Topic3\", \"Topic3\", \"Topic3\", \"Topic3\", \"Topic3\", \"Topic3\", \"Topic3\", \"Topic3\", \"Topic3\", \"Topic3\", \"Topic3\", \"Topic3\", \"Topic3\", \"Topic3\", \"Topic3\", \"Topic3\", \"Topic3\", \"Topic3\", \"Topic3\", \"Topic3\", \"Topic3\", \"Topic3\", \"Topic3\", \"Topic3\", \"Topic3\", \"Topic3\", \"Topic3\", \"Topic3\", \"Topic3\", \"Topic3\", \"Topic3\", \"Topic3\", \"Topic3\", \"Topic3\", \"Topic3\", \"Topic3\", \"Topic3\", \"Topic3\", \"Topic3\", \"Topic3\", \"Topic3\", \"Topic3\", \"Topic3\", \"Topic3\", \"Topic3\", \"Topic3\", \"Topic3\", \"Topic3\", \"Topic3\", \"Topic3\", \"Topic3\", \"Topic3\", \"Topic3\", \"Topic3\", \"Topic3\", \"Topic3\", \"Topic4\", \"Topic4\", \"Topic4\", \"Topic4\", \"Topic4\", \"Topic4\", \"Topic4\", \"Topic4\", \"Topic4\", \"Topic4\", \"Topic4\", \"Topic4\", \"Topic4\", \"Topic4\", \"Topic4\", \"Topic4\", \"Topic4\", \"Topic4\", \"Topic4\", \"Topic4\", \"Topic4\", \"Topic4\", \"Topic4\", \"Topic4\", \"Topic4\", \"Topic4\", \"Topic4\", \"Topic4\", \"Topic4\", \"Topic4\", \"Topic4\", \"Topic4\", \"Topic4\", \"Topic4\", \"Topic4\", \"Topic4\", \"Topic4\", \"Topic4\", \"Topic4\", \"Topic4\", \"Topic4\", \"Topic4\", \"Topic4\", \"Topic4\", \"Topic4\", \"Topic4\", \"Topic4\", \"Topic4\", \"Topic4\", \"Topic4\", \"Topic4\", \"Topic4\", \"Topic4\", \"Topic4\", \"Topic4\", \"Topic4\", \"Topic4\", \"Topic4\", \"Topic4\", \"Topic4\", \"Topic5\", \"Topic5\", \"Topic5\", \"Topic5\", \"Topic5\", \"Topic5\", \"Topic5\", \"Topic5\", \"Topic5\", \"Topic5\", \"Topic5\", \"Topic5\", \"Topic5\", \"Topic5\", \"Topic5\", \"Topic5\", \"Topic5\", \"Topic5\", \"Topic5\", \"Topic5\", \"Topic5\", \"Topic5\", \"Topic5\", \"Topic5\", \"Topic5\", \"Topic5\", \"Topic5\", \"Topic5\", \"Topic5\", \"Topic5\", \"Topic5\", \"Topic5\", \"Topic5\", \"Topic5\", \"Topic5\", \"Topic5\", \"Topic5\", \"Topic5\", \"Topic5\", \"Topic5\", \"Topic5\", \"Topic5\", \"Topic5\", \"Topic5\", \"Topic5\", \"Topic5\", \"Topic5\", \"Topic5\", \"Topic5\", \"Topic5\", \"Topic5\", \"Topic5\", \"Topic5\", \"Topic5\", \"Topic6\", \"Topic6\", \"Topic6\", \"Topic6\", \"Topic6\", \"Topic6\", \"Topic6\", \"Topic6\", \"Topic6\", \"Topic6\", \"Topic6\", \"Topic6\", \"Topic6\", \"Topic6\", \"Topic6\", \"Topic6\", \"Topic6\", \"Topic6\", \"Topic6\", \"Topic6\", \"Topic6\", \"Topic6\", \"Topic6\", \"Topic6\", \"Topic6\", \"Topic6\", \"Topic6\", \"Topic6\", \"Topic6\", \"Topic6\", \"Topic6\", \"Topic6\", \"Topic6\", \"Topic6\", \"Topic6\", \"Topic6\", \"Topic6\", \"Topic6\", \"Topic6\", \"Topic6\", \"Topic6\", \"Topic6\", \"Topic6\", \"Topic6\", \"Topic6\", \"Topic6\", \"Topic6\", \"Topic6\", \"Topic6\", \"Topic6\", \"Topic6\", \"Topic6\", \"Topic6\", \"Topic6\", \"Topic6\", \"Topic6\", \"Topic6\", \"Topic6\", \"Topic6\"], \"logprob\": [30.0, 29.0, 28.0, 27.0, 26.0, 25.0, 24.0, 23.0, 22.0, 21.0, 20.0, 19.0, 18.0, 17.0, 16.0, 15.0, 14.0, 13.0, 12.0, 11.0, 10.0, 9.0, 8.0, 7.0, 6.0, 5.0, 4.0, 3.0, 2.0, 1.0, -3.9382, -4.5458, -4.8496, -4.9072, -5.1372, -5.4884, -5.5578, -5.6721, -5.9214, -2.3437, -5.9994, -6.2314, -6.3221, -6.4494, -6.4456, -6.3499, -6.492, -6.5304, -6.6506, -6.7009, -6.0828, -6.768, -5.246, -6.8632, -6.9039, -6.9066, -6.9167, -6.923, -7.0009, -7.0325, -3.2221, -5.8783, -5.7532, -5.6035, -5.4486, -5.4535, -4.6472, -4.5215, -4.9569, -4.0413, -3.731, -5.6255, -4.4216, -5.6143, -5.1929, -2.7211, -5.5209, -3.796, -4.4064, -5.2007, -5.3486, -5.1128, -3.8071, -4.2644, -5.2036, -5.2198, -5.1551, -5.1462, -5.0059, -5.3959, -3.0833, -4.5232, -5.0841, -5.6777, -6.3093, -6.5199, -6.6553, -6.7843, -6.8351, -6.9503, -3.4421, -7.008, -7.0442, -7.0886, -7.1173, -7.1557, -7.181, -7.2412, -7.2463, -7.2476, -7.264, -4.2962, -7.2835, -7.3056, -7.3096, -7.3476, -7.3625, -7.3699, -4.0635, -7.4307, -3.1548, -5.8224, -6.7473, -2.445, -4.8594, -6.5089, -4.2662, -5.1066, -4.6663, -6.4618, -5.1181, -4.1852, -4.0216, -4.7731, -6.023, -5.5835, -4.4513, -6.6415, -4.2032, -6.1062, -4.7303, -5.7862, -2.6564, -5.376, -4.912, -5.3305, -5.1879, -3.9622, -5.5386, -5.1462, -4.2537, -4.7885, -5.0948, -5.1452, -4.7555, -4.6733, -4.7256, -3.7391, -5.1056, -5.1326, -5.5142, -5.5558, -5.6624, -5.8159, -3.1715, -6.05, -4.9591, -6.1949, -6.2751, -6.373, -6.3991, -6.3132, -6.4674, -6.5085, -6.5507, -6.5579, -6.5938, -6.6475, -6.0052, -6.7521, -6.7575, -6.8286, -6.8722, -6.8574, -6.8848, -4.4535, -4.0019, -5.7931, -5.6971, -5.8297, -5.4426, -4.5845, -5.6358, -5.7821, -6.0038, -2.9636, -5.3258, -4.3489, -5.7904, -3.2314, -4.654, -4.5318, -5.6139, -3.687, -4.145, -3.2831, -4.5356, -5.298, -5.0468, -5.3327, -5.2953, -5.3655, -5.2264, -5.109, -5.0167, -5.4059, -5.4409, -4.7043, -5.1506, -5.2644, -5.4556, -5.5043, -5.4863, -5.9621, -6.1254, -6.2106, -6.23, -6.2286, -6.2593, -5.6938, -6.39, -6.3779, -6.4194, -6.4275, -6.4637, -6.4712, -6.5067, -6.5495, -6.6229, -6.6389, -6.6115, -6.7725, -6.8023, -6.7988, -6.8268, -6.8321, -6.8907, -5.0426, -4.8143, -4.196, -3.3821, -5.1238, -5.5576, -5.5696, -5.8914, -4.3334, -4.7722, -5.2049, -4.479, -5.3034, -5.17, -5.5602, -3.8857, -5.63, -4.781, -5.2981, -4.5548, -5.1591, -4.7948, -5.3417, -5.179, -5.2422, -5.3996, -5.3908, -5.4186, -5.3557, -5.3736, -4.4979, -3.719, -5.175, -5.2445, -5.6571, -5.8309, -3.9536, -5.9891, -6.0082, -6.0699, -6.0754, -6.1118, -6.2579, -6.3122, -6.2963, -6.4132, -6.4268, -6.4801, -6.562, -6.5743, -6.615, -6.624, -6.6285, -4.1131, -6.7112, -6.73, -6.7258, -6.7258, -6.7335, -6.8015, -6.1222, -3.1515, -3.7689, -5.169, -3.2471, -6.1641, -4.1327, -5.6232, -4.431, -3.2495, -4.7459, -2.5773, -5.1191, -5.1013, -4.3494, -3.7575, -5.6564, -4.9357, -5.6104, -4.9785, -5.6662, -5.6673, -5.5982, -5.9695, -4.9756, -5.2771, -5.4413, -5.4976, -5.7182, -5.9066, -6.0631, -6.0664, -6.1637, -6.2107, -6.2498, -6.2565, -6.273, -6.3082, -6.3451, -5.807, -6.43, -6.4382, -6.4707, -6.476, -6.4904, -6.5357, -6.5505, -6.5595, -6.4146, -6.6314, -6.6358, -6.6764, -6.6846, -6.6953, -6.4078, -5.6701, -4.7182, -5.6018, -4.8276, -4.9241, -5.1285, -4.2072, -5.4426, -4.5041, -6.0626, -5.9583, -5.65, -5.6045, -4.2705, -4.8176, -3.4226, -5.1135, -5.3661, -5.558, -4.9532, -4.5456, -5.1563, -5.6266, -5.833, -5.5559, -5.2015, -5.5424, -5.707], \"loglift\": [30.0, 29.0, 28.0, 27.0, 26.0, 25.0, 24.0, 23.0, 22.0, 21.0, 20.0, 19.0, 18.0, 17.0, 16.0, 15.0, 14.0, 13.0, 12.0, 11.0, 10.0, 9.0, 8.0, 7.0, 6.0, 5.0, 4.0, 3.0, 2.0, 1.0, 1.2534, 1.2523, 1.2514, 1.2512, 1.249, 1.2486, 1.2477, 1.2471, 1.2453, 1.2446, 1.2445, 1.2419, 1.2407, 1.2388, 1.2387, 1.2385, 1.2381, 1.2372, 1.2353, 1.2341, 1.2334, 1.2329, 1.2328, 1.2308, 1.2296, 1.2296, 1.2293, 1.2292, 1.2273, 1.2261, 1.1954, 1.2164, 1.2106, 1.1918, 1.1579, 1.1514, 1.0929, 1.0053, 1.0353, 0.8756, 0.8032, 1.0738, 0.8161, 1.0632, 0.9162, 0.2036, 0.9975, 0.277, 0.5087, 0.847, 0.8821, 0.7304, -0.2197, -0.2885, 0.5536, 0.4958, 0.0678, -0.115, -0.8262, 0.531, 1.4013, 1.4007, 1.3987, 1.3949, 1.3873, 1.3837, 1.3805, 1.3779, 1.3764, 1.3733, 1.373, 1.3716, 1.3705, 1.3686, 1.368, 1.3665, 1.3655, 1.3633, 1.3627, 1.3624, 1.3618, 1.3616, 1.3614, 1.3606, 1.3603, 1.3587, 1.3582, 1.3577, 1.3559, 1.355, 1.2981, 1.3279, 1.3395, 1.1425, 1.222, 1.314, 1.1575, 1.2172, 1.1624, 1.295, 1.1664, 1.0378, 1.0097, 1.0893, 1.2339, 1.1481, 0.927, 1.3088, 0.7519, 1.1901, 0.8415, 1.1056, 0.2683, 0.9895, 0.8408, 0.9166, 0.8342, 0.2175, 0.936, 0.5915, -0.2779, 0.1284, 0.4251, 0.4117, -0.6824, 1.7481, 1.7479, 1.7459, 1.7457, 1.7455, 1.7423, 1.7418, 1.7406, 1.7387, 1.7376, 1.7351, 1.7318, 1.7316, 1.7308, 1.7284, 1.7278, 1.7269, 1.7259, 1.7241, 1.7237, 1.7237, 1.7225, 1.7211, 1.7182, 1.7174, 1.7169, 1.7149, 1.7129, 1.7127, 1.7124, 1.7095, 1.6664, 1.694, 1.6772, 1.6635, 1.6342, 1.4757, 1.573, 1.5863, 1.6244, 1.0122, 1.4598, 1.208, 1.5654, 0.8416, 1.0837, 0.9881, 1.4531, 0.4927, 0.3893, -0.3584, 0.4195, 0.9862, 0.359, 0.7766, 0.674, 0.774, 0.3453, -0.0513, -0.5638, 0.3469, 0.2255, 2.3026, 2.2981, 2.2967, 2.2937, 2.2929, 2.2924, 2.2827, 2.2779, 2.275, 2.2745, 2.2743, 2.2727, 2.2701, 2.2682, 2.2678, 2.2665, 2.2664, 2.2651, 2.2647, 2.2627, 2.2608, 2.2572, 2.2565, 2.2561, 2.2487, 2.2468, 2.2464, 2.2455, 2.2453, 2.24, 2.1965, 2.184, 2.1127, 2.0237, 2.1038, 2.0907, 2.0733, 2.1209, 1.708, 1.7901, 1.889, 1.6302, 1.895, 1.793, 1.9233, 1.1721, 1.8755, 1.4031, 1.5729, 0.8236, 1.3155, 0.913, 1.3825, 1.085, 0.4242, 0.8059, 0.6991, 0.8834, -1.2826, -2.4489, 2.3069, 2.3053, 2.3005, 2.2996, 2.2926, 2.2885, 2.2854, 2.2844, 2.2839, 2.282, 2.2818, 2.2807, 2.2753, 2.2734, 2.2719, 2.2694, 2.2689, 2.2653, 2.2621, 2.2619, 2.2596, 2.2593, 2.2589, 2.2566, 2.2545, 2.2535, 2.2534, 2.2532, 2.2529, 2.2492, 2.2449, 2.1563, 2.1312, 2.1314, 1.668, 2.1497, 1.6245, 1.9889, 1.4121, 0.9302, 1.4844, 0.3474, 1.513, 1.416, 0.8883, 0.2184, 1.5322, 0.1221, 1.1138, -0.561, 0.9218, 0.6169, -0.6431, 0.2776, 2.3158, 2.3121, 2.3095, 2.3086, 2.3041, 2.2989, 2.2951, 2.295, 2.2919, 2.2901, 2.2888, 2.288, 2.2879, 2.2865, 2.2848, 2.2829, 2.2812, 2.281, 2.2796, 2.2792, 2.2782, 2.2764, 2.2755, 2.2753, 2.2749, 2.2714, 2.2713, 2.2689, 2.2683, 2.2668, 2.2654, 2.2414, 2.1634, 2.1984, 2.1328, 2.0685, 2.085, 1.8827, 1.9395, 1.4228, 2.0917, 2.0395, 1.8412, 1.7348, 0.7873, 0.898, -0.4979, 1.1112, 1.3372, 1.405, 0.5736, -0.4725, 0.5515, 1.0721, 1.6198, 0.4918, -1.0217, 0.4269, 0.756]}, \"token.table\": {\"Topic\": [5, 4, 4, 4, 4, 2, 3, 6, 1, 2, 4, 6, 2, 5, 5, 6, 2, 4, 6, 1, 3, 4, 1, 2, 6, 1, 2, 5, 4, 4, 1, 2, 6, 4, 2, 6, 2, 6, 4, 6, 2, 4, 1, 4, 1, 6, 1, 2, 3, 5, 6, 5, 6, 3, 1, 5, 4, 6, 1, 2, 3, 5, 6, 1, 3, 4, 1, 2, 6, 4, 1, 2, 5, 6, 3, 5, 3, 4, 6, 5, 2, 5, 3, 4, 3, 2, 3, 6, 1, 2, 3, 6, 6, 4, 1, 6, 5, 6, 4, 1, 3, 3, 2, 3, 6, 4, 3, 4, 5, 1, 1, 6, 1, 3, 5, 3, 5, 1, 2, 3, 6, 1, 6, 1, 3, 1, 5, 1, 2, 3, 4, 6, 2, 5, 1, 2, 3, 4, 5, 6, 1, 4, 5, 6, 1, 2, 5, 6, 4, 2, 3, 2, 3, 6, 5, 5, 6, 1, 4, 1, 4, 4, 2, 1, 2, 4, 1, 5, 1, 3, 3, 5, 1, 2, 3, 6, 3, 6, 1, 4, 6, 1, 2, 3, 4, 5, 6, 6, 1, 6, 6, 1, 5, 6, 1, 1, 6, 2, 6, 1, 2, 6, 5, 1, 5, 5, 1, 2, 1, 2, 3, 4, 3, 4, 1, 4, 2, 3, 4, 2, 3, 4, 1, 2, 1, 2, 3, 6, 6, 2, 3, 4, 5, 1, 3, 4, 2, 2, 3, 2, 1, 1, 2, 4, 4, 6, 1, 2, 3, 4, 3, 4, 2, 1, 2, 3, 4, 6, 1, 2, 3, 4, 6, 4, 5, 5, 3, 1, 5, 6, 6, 2, 1, 2, 3, 4, 5, 6, 1, 2, 6, 1, 2, 4, 6, 2, 1, 2, 3, 1, 2, 6, 1, 5, 4, 3, 1, 2, 6, 5, 2, 3, 6, 1, 6, 4, 2, 3, 4, 2, 6, 3, 4, 1, 2, 3, 5, 6, 1, 2, 2, 5, 6, 1, 2, 3, 4, 5, 1, 2, 3, 6, 1, 2, 4, 6, 5, 1, 2, 3, 4, 2, 3, 4, 4, 1, 2, 3, 4, 6, 2, 4, 6, 1, 3, 6, 1, 2, 3, 4, 6, 4, 4, 6, 5, 2, 4, 2, 1, 1, 2, 6, 3, 1, 2, 3, 4, 5, 6, 1, 2, 3, 4, 5, 6, 1, 1, 3, 4, 1, 2, 3, 4, 3, 1, 1, 5, 6, 1, 2, 3, 2, 3, 6, 1, 2, 6, 1, 2, 3, 5, 6, 2, 3, 5, 1, 2, 3, 5, 1, 2, 5, 6, 2, 4, 5, 5, 1, 5, 5, 1, 3, 4, 1, 2, 3, 2, 3, 2, 3, 5, 6, 2, 3, 1, 3, 6, 6, 4, 5, 2, 2, 6, 1, 1, 2, 3, 4, 5, 6, 3, 1, 6, 3, 4, 1, 6, 3, 4, 3, 4, 1, 1, 2, 4, 6, 3, 1, 6, 1, 2, 3, 4, 5, 6, 1, 6, 5, 6, 1, 3, 4, 5, 6, 1, 2, 4, 6, 1, 4, 6, 1, 6, 2, 6, 2, 3, 1, 2, 1, 4, 6, 2, 1, 1, 5, 2, 3, 4, 6, 2, 3, 2, 5, 1, 2, 3, 4, 5, 6, 3, 1, 2, 3, 4, 5, 6, 4, 1, 2, 3, 6, 1, 2, 3, 6, 1, 2, 2, 6, 4, 5, 1, 6, 3, 3, 4, 2, 3, 4, 6, 4, 6, 1, 2, 3, 3, 5, 2, 2, 3, 5, 6, 2, 2, 3, 4, 6, 4, 2, 1, 2, 3, 4, 6, 1, 2, 3, 6, 1, 5, 5, 6], \"Freq\": [0.9797628664912543, 0.9041411207231396, 0.9610046636682446, 0.9429514165407689, 0.9289477245528247, 0.013268403783946642, 0.9845155607688408, 0.001326840378394664, 0.8034598489793666, 0.16069196979587333, 0.01567726534593886, 0.019596581682423578, 0.9045260353090911, 0.07333994880884523, 0.9321688607536074, 0.9441453253604832, 0.040442421980515016, 0.8088484396103004, 0.1348080732683834, 0.08706188116038344, 0.22636089101699694, 0.6790826730509908, 0.9995630049750085, 0.9615036818667856, 0.9716614236742978, 0.3050764279424225, 0.6936856873452703, 0.9713350053617542, 0.9130877323596511, 0.9486238640990462, 0.22893821805557402, 0.7703222576614909, 0.0007076915550404142, 0.934642203285281, 0.9604509034981453, 0.9635125729746663, 0.980620816560149, 0.9677688020513734, 0.9784752701229908, 0.9333400987556543, 0.6285298577029584, 0.36822961360375345, 0.961787940433551, 0.9768881705589191, 0.9801569455062705, 0.9848531001787362, 0.09193309932158467, 0.3600713056762066, 0.3409185766508765, 0.06128873288105645, 0.1493912863975751, 0.926826292341842, 0.04212846783372009, 0.996084642970983, 0.5897075164374646, 0.41080748336093037, 0.6546404290023285, 0.3273202145011643, 0.04266637140871382, 0.3484420331711629, 0.1848876094377599, 0.24888716655083062, 0.17066548563485529, 0.9790769330544292, 0.24855421297845454, 0.7500232391630558, 0.9898386722525229, 0.008145362955924159, 0.0017707310773748173, 0.9148662073947991, 0.9893311957102875, 0.9164591477105832, 0.0833144679736894, 0.9082292355448492, 0.9901061998512155, 0.9771470588807422, 0.005378244572859038, 0.8228714196474328, 0.1721038263314892, 0.9199185962831485, 0.2574044944540454, 0.7326127919076676, 0.9773595807725834, 0.01576386420600941, 0.9852126993999563, 0.9525392789011299, 0.04199129071721918, 0.00442013586497044, 0.02536067103273316, 0.37026579707790414, 0.5807593666495894, 0.022824603929459845, 0.9764639571755602, 0.9730163814518399, 0.8243745085093563, 0.17109659610571548, 0.9845888557499645, 0.9358626167684779, 0.9747532921857567, 0.964016249719378, 0.9849929254272941, 0.9610476165081707, 0.9735865174513612, 0.8275157650099371, 0.16856802620572792, 0.9946650808268687, 0.746205660503276, 0.25256191586264726, 0.9314682060683248, 0.9866247773745438, 0.2238198613885547, 0.7673823819036161, 0.37600175454613266, 0.1685525106586112, 0.45379522100395325, 0.9933341562106502, 0.9865374518122197, 0.1368584346708558, 0.37636069534485345, 0.46678501825238317, 0.0195512049529794, 0.3146524288265543, 0.6765027219770917, 0.03719257579284659, 0.9577088266657998, 0.9962836665326903, 0.9788543125124982, 0.2348274385099123, 0.31970482592313365, 0.21785196102726806, 0.1527792973437984, 0.0763896486718992, 0.9231769275602858, 0.03183368715725123, 0.4696002816223032, 0.20507860399961345, 0.023777229449230546, 0.01486076840576909, 0.04755445889846109, 0.24074444817345925, 0.7135859334340393, 0.14536009755137838, 0.030833960086656016, 0.1101212860237715, 0.1821588743831694, 0.6603259196389891, 0.0910794371915847, 0.06261711306921448, 0.9724792098873744, 0.9921500078754354, 0.9560298147002554, 0.9956291816695767, 0.031930176679994246, 0.9579053003998274, 0.9391660773845654, 0.8264954465513982, 0.1594991212643049, 0.18479561269684266, 0.800780988352985, 0.9526978403966325, 0.04142164523463619, 0.9187413554328397, 0.9462692382181109, 0.6865186046520712, 0.2188899898890662, 0.08954590495461798, 0.49574530433397107, 0.5019421206381457, 0.022132502047698233, 0.9738300900987222, 0.9761806257898328, 0.9591458630139755, 0.2548607080488665, 0.6746312860117054, 0.0644647673300074, 0.007495903177907839, 0.9142440475618463, 0.07032646519706509, 0.5697815375425503, 0.4035952557593065, 0.023740897397606264, 0.6450445300889207, 0.005528953115047892, 0.018429843716826308, 0.05713251552216155, 0.239587968318742, 0.03501670306196998, 0.9870722146297217, 0.3684791474212713, 0.6141319123687855, 0.9862810842296318, 0.9828486001711586, 0.9450673332024934, 0.9304515247882348, 0.9972885853485945, 0.4371490082220448, 0.557741838076402, 0.8086302636727366, 0.187717739781171, 0.11914913119210697, 0.5878023805477277, 0.2859579148610567, 0.9362850160946989, 0.051445311769238306, 0.9431640491027022, 0.9892226627898701, 0.06238866573359242, 0.9233522528571678, 0.10685112937188111, 0.37932150927017794, 0.2778129363668909, 0.2404150410867325, 0.09546227972740408, 0.8864354546116092, 0.20422927589219889, 0.7964941759795756, 0.05339859978283495, 0.28479253217511974, 0.6407831973940193, 0.7854503462460268, 0.2096753042944902, 0.0033281794332458764, 0.0017356534114590196, 0.9980007115889362, 0.14699530532685695, 0.7874748499653051, 0.005249832333102034, 0.05774815566412237, 0.9665810703834924, 0.2426002865682474, 0.7451294516024741, 0.00866429594886598, 0.942895098536593, 0.9672985591222424, 0.9575419068590246, 0.9766853455698882, 0.9928779847101649, 0.959321408539586, 0.03927046701624037, 0.9680508285531285, 0.9823624920920225, 0.9894234732217444, 0.9659229079398197, 0.9582798924567457, 0.09560689437425454, 0.8843637729618545, 0.008209491202476226, 0.7716921730327653, 0.08209491202476227, 0.13135185923961962, 0.968768562222525, 0.9448566744191416, 0.9610133798082123, 0.004831120057420729, 0.9698473515272115, 0.01087002012919664, 0.0012077800143551823, 0.013285580157907007, 0.07768556844515875, 0.7812948597913109, 0.09544226980405218, 0.004439175339723357, 0.039952578057510214, 0.9824544156791606, 0.9818761586184591, 0.918117394190773, 0.9608948494598255, 0.9903771368493367, 0.9214450381755586, 0.9509702255100255, 0.9914652850300407, 0.9911978072048699, 0.37609785685292546, 0.1242158059330763, 0.4019761497556497, 0.02760351242957251, 0.009201170809857504, 0.06095775661530596, 0.2168626111596544, 0.729759897870583, 0.051633955038012956, 0.5452110751801117, 0.09258301276643406, 0.2931795404270412, 0.06686550922020237, 0.967987760557125, 0.9040907298451314, 0.08679271006513262, 0.007232725838761051, 0.8345945937573985, 0.03179407976218661, 0.1351248389892931, 0.5499545329612567, 0.4459090807793973, 0.9651337392230103, 0.9600110806115272, 0.7760679582161744, 0.1923587246860603, 0.03316529735966557, 0.936494852478148, 0.9577641715763165, 0.9545551308161547, 0.98576889702123, 0.622443227147893, 0.37506194456347397, 0.9463286729410025, 0.05242315128967063, 0.9436167232140713, 0.967831477386567, 0.9811774295735183, 0.9398402784622216, 0.9806390702514618, 0.9667032021123497, 0.2139379919591584, 0.18628259299858427, 0.4769251820748068, 0.12314479537161313, 0.9603843794966344, 0.8498122701387624, 0.14620426152924942, 0.14430282279588436, 0.8539564307920827, 0.9586579709730234, 0.015170984711093561, 0.6169533782511382, 0.19216580634051844, 0.045512954133280686, 0.1314818674961442, 0.1978555321519749, 0.565301520434214, 0.1938176641488734, 0.044416548034116814, 0.6063611031812272, 0.029105332952698907, 0.22314088597069162, 0.1406757759380447, 0.98045515956478, 0.3587337096008857, 0.1407689240206007, 0.3768974417325761, 0.12714612492183291, 0.62154307245066, 0.15273413384453077, 0.22697989335228877, 0.9380679250345848, 0.6365963261966912, 0.07478638789130183, 0.25536815377517696, 0.01824058241251264, 0.014592465930010113, 0.3184042134334284, 0.6603939241582218, 0.023585497291365064, 0.9855822641898339, 0.9908053028918462, 0.93159153236794, 0.1564359162044587, 0.06175101955439159, 0.22642040503276917, 0.5475257067156054, 0.008233469273918879, 0.9693277068430449, 0.23296998457002235, 0.7571524498525727, 0.9507195492712235, 0.14773131758552294, 0.8272953784789284, 0.9482838088385241, 0.9899145948520496, 0.6846708418795635, 0.2794847772516187, 0.036105688927242606, 0.9801064947338083, 0.3496301536037391, 0.3213606315335359, 0.12110298486848345, 0.00857204862773904, 0.14007092225752302, 0.05927480434074868, 0.667008168608601, 0.07042943395246097, 0.01657163151822611, 0.07042943395246097, 0.01657163151822611, 0.16157340730270459, 0.980374539348198, 0.99036126260264, 0.8927338229716529, 0.10434551177590749, 0.9715411650156708, 0.4435932475131158, 0.513474375546004, 0.04253633880262755, 0.9831709483705038, 0.9899140692874434, 0.47384139609462966, 0.5245624469441956, 0.9781839100809233, 0.0008407514106216266, 0.9004447607757621, 0.0983679150427303, 0.8299398172153389, 0.1638039112925011, 0.9631159372413605, 0.48463332146496285, 0.11014393669658247, 0.4038611012208024, 0.12476184721849519, 0.30518667242678055, 0.2834333247066327, 0.25080330312641086, 0.03518923895906275, 0.0624419635469243, 0.9210189623171334, 0.9435179467075779, 0.015744029197314373, 0.3358726228760399, 0.467072866186993, 0.18368034063533434, 0.9421643046638869, 0.000811511028995596, 0.05680577202969172, 0.916657141136088, 0.8467946016265555, 0.08329127229113661, 0.06940939357594718, 0.9543951986872573, 0.5908630544790429, 0.405163237357058, 0.9225061820861029, 0.9950470361167897, 0.9887487999772777, 0.9921437929166965, 0.9754729904144367, 0.01912692138067523, 0.9884642114094602, 0.9666684374254543, 0.9956111704195287, 0.9821768926126759, 0.9548923774205997, 0.838818006336324, 0.119831143762332, 0.08220224930046692, 0.9183975439086649, 0.3208215080888488, 0.18573876784091245, 0.4896749333987692, 0.9502159832147581, 0.9570948607833686, 0.028149848846569663, 0.9668563065880392, 0.9681437929224219, 0.9270712431920252, 0.9793949129748941, 0.18781605509851648, 0.00153947586146325, 0.16472391717656773, 0.320210979184356, 0.11238173788681724, 0.21398714474339173, 0.9689810926611588, 0.9678706970890983, 0.035409903552040184, 0.8535520850041585, 0.13967215936431684, 0.14307145050791814, 0.8488906063469809, 0.9935676695227492, 0.004720036434787407, 0.9704439748558797, 0.9851765323784998, 0.9697865670656258, 0.010320050496339361, 0.010320050496339361, 0.15480075744509042, 0.8256040397071489, 0.9430605228064384, 0.20432641169431282, 0.7832512448281991, 0.9827622621626824, 0.008148934738814171, 0.0814893473881417, 0.39929780220189437, 0.30151058533612435, 0.22002123794798262, 0.9361534226822325, 0.05249458444947098, 0.9324201448437186, 0.9415595483472403, 0.7800857201534378, 0.0024608382339225167, 0.03199089704099272, 0.014765029403535102, 0.17225867637457618, 0.9845609988300914, 0.15556833627233332, 0.19878176301464814, 0.6395587157862592, 0.066464280493364, 0.1462214170854008, 0.7842785098216951, 0.9721368720915851, 0.014729346546842197, 0.9720495794915082, 0.9521045124881398, 0.892485434286307, 0.0915369676191084, 0.25050420763806286, 0.74187784569734, 0.9054399034381796, 0.05070463459253806, 0.03621759613752718, 0.9839620304142621, 0.993747523315567, 0.561928389289887, 0.4376079491815049, 0.05727353526466256, 0.378886464058537, 0.5066505042643227, 0.05727353526466256, 0.10061466679925721, 0.8854090678334634, 0.9659254332065011, 0.9177655951585221, 0.11530954778507409, 0.5209768725229251, 0.2639616154116154, 0.02639616154116154, 0.051403051422261946, 0.02222834656097814, 0.9720849893067084, 0.5146109513269883, 0.10041189294185138, 0.08786040632411996, 0.0564816897797914, 0.031378716544328555, 0.20709952919256847, 0.943991536546455, 0.15116568052084126, 0.5707275693133803, 0.24371609716625428, 0.033935152769984774, 0.15701170402495856, 0.5714196441564067, 0.244526424301165, 0.02831358597171384, 0.16282675284484216, 0.8355583369669533, 0.05342862138120303, 0.9082865634804514, 0.025080894362741083, 0.973138701274354, 0.9861968783501608, 0.9558233200810446, 0.9669396183643013, 0.11791209478761545, 0.8789810702349515, 0.04158255903675619, 0.1524693831347727, 0.5960166795268388, 0.20791279518378095, 0.6001176807477029, 0.39318054945539155, 0.15521591241548663, 0.08809551785743835, 0.7592994634379211, 0.833468143160766, 0.15875583679252686, 0.9454936608546466, 0.07505483051831395, 0.0893509887122785, 0.8327512147984356, 0.9154824554770539, 0.9599599867337574, 0.18874457086256582, 0.16987011377630923, 0.48129865569954283, 0.16043288523318094, 0.9166061749522963, 0.9695775343247387, 0.23591737480657995, 0.23296840762149773, 0.11206075303312549, 0.24771324354690896, 0.16809112954968822, 0.3412103661091514, 0.23736373294549662, 0.12362694424244615, 0.29670466618187075, 0.004046735680208653, 0.9914502416511201, 0.9594834554438865, 0.9204086887416707], \"Term\": [\".camera\", \"abhi\", \"accessories\", \"adapter\", \"alarm\", \"amazon\", \"amazon\", \"amazon\", \"android\", \"android\", \"android\", \"android\", \"anyone\", \"anyone\", \"approx\", \"atleast\", \"audio\", \"audio\", \"audio\", \"auto\", \"auto\", \"auto\", \"awesome\", \"awsm\", \"awsome\", \"backup\", \"backup\", \"bahut\", \"bank\", \"batter\", \"battery\", \"battery\", \"battery\", \"battry\", \"beast\", \"beautiful\", \"become\", \"bekar\", \"bill\", \"blue\", \"bluetooth\", \"bluetooth\", \"blur\", \"body\", \"bokeh\", \"bottom\", \"bought\", \"bought\", \"bought\", \"bought\", \"bought\", \"broke\", \"broke\", \"broken\", \"budget\", \"budget\", \"button\", \"button\", \"buying\", \"buying\", \"buying\", \"buying\", \"buying\", \"cable\", \"call\", \"call\", \"camera\", \"camera\", \"camera\", \"camera..\", \"cameras\", \"capacity\", \"capacity\", \"cards\", \"care\", \"cash\", \"cast\", \"cast\", \"cast\", \"category\", \"cell\", \"cell\", \"center\", \"center\", \"centre\", \"charge\", \"charge\", \"charge\", \"charger\", \"charger\", \"charger\", \"charger\", \"charging..\", \"chromecast\", \"clarity\", \"clarity\", \"class\", \"clean\", \"clearity\", \"color\", \"comparison\", \"complain\", \"complaint\", \"condition\", \"condition\", \"connect\", \"contact\", \"contact\", \"contain\", \"cool\", \"core\", \"core\", \"cost\", \"cost\", \"cost\", \"customer\", \"damage\", \"days\", \"days\", \"days\", \"days\", \"deca\", \"deca\", \"delivery\", \"delivery\", \"depth\", \"details\", \"device\", \"device\", \"device\", \"device\", \"device\", \"discharge\", \"discharge\", \"display\", \"display\", \"display\", \"display\", \"display\", \"display\", \"dolby\", \"dolby\", \"dolby\", \"dolby\", \"dont\", \"dont\", \"dont\", \"dont\", \"dose\", \"drain\", \"drainage\", \"drains\", \"drawback\", \"drawback\", \"duplicate\", \"earphone\", \"earphone\", \"earphones\", \"earphones\", \"effect\", \"effect\", \"email\", \"everyone\", \"everything\", \"everything\", \"everything\", \"excellent\", \"excellent\", \"exchange\", \"exchange\", \"facility\", \"fall\", \"fast\", \"fast\", \"fast\", \"fast\", \"faulty\", \"faulty\", \"feature\", \"feature\", \"feature\", \"features\", \"features\", \"features\", \"features\", \"features\", \"features\", \"finger\", \"fingerprint\", \"fingerprint\", \"flipkart\", \"focus\", \"fone\", \"fool\", \"front\", \"function\", \"function\", \"game\", \"game\", \"games\", \"games\", \"games\", \"ghatiya\", \"glass\", \"glass\", \"gorilla\", \"half\", \"half\", \"handset\", \"handset\", \"handset\", \"handset\", \"headphone\", \"headphone\", \"headphones\", \"headphones\", \"headset\", \"headset\", \"headset\", \"heat\", \"heat\", \"heat\", \"heating\", \"heating\", \"heats\", \"heats\", \"heats\", \"heats\", \"helio\", \"help\", \"help\", \"help\", \"hone\", \"honor\", \"hota\", \"hotspot\", \"hour\", \"hours\", \"hours\", \"idea\", \"image\", \"improvement\", \"india\", \"insert\", \"interface\", \"interface\", \"internet\", \"internet\", \"internet\", \"internet\", \"invoice\", \"iphone\", \"iron\", \"issue\", \"issue\", \"issue\", \"issue\", \"issue\", \"issues\", \"issues\", \"issues\", \"issues\", \"issues\", \"jack\", \"jata\", \"karne\", \"kept\", \"killer\", \"kiya\", \"lack\", \"left\", \"lenova\", \"lenovo\", \"lenovo\", \"lenovo\", \"lenovo\", \"lenovo\", \"lenovo\", \"life\", \"life\", \"life\", \"light\", \"light\", \"light\", \"light\", \"longer\", \"look\", \"look\", \"look\", \"looks\", \"looks\", \"looks\", \"love\", \"love\", \"lovers\", \"mail\", \"mark\", \"mark\", \"mark\", \"mast\", \"maximum\", \"mean\", \"mediatek\", \"memory\", \"memory\", \"mera\", \"message\", \"message\", \"metal\", \"minimum\", \"mirror\", \"miss\", \"mobil\", \"mobile\", \"mobile\", \"mobile\", \"mobile\", \"mobile..\", \"mode\", \"mode\", \"money\", \"money\", \"money..\", \"month\", \"month\", \"month\", \"month\", \"month\", \"months\", \"months\", \"months\", \"months\", \"music\", \"music\", \"music\", \"music\", \"nahi\", \"need\", \"need\", \"need\", \"need\", \"network\", \"network\", \"network\", \"noise\", \"note\", \"note\", \"note\", \"note\", \"note\", \"notification\", \"notification\", \"notification\", \"nougat\", \"number\", \"offers\", \"option\", \"option\", \"option\", \"option\", \"option\", \"output\", \"package\", \"package\", \"paisa\", \"party\", \"party\", \"percent\", \"perfect\", \"performance\", \"performance\", \"performance\", \"period\", \"phone\", \"phone\", \"phone\", \"phone\", \"phone\", \"phone\", \"phones\", \"phones\", \"phones\", \"phones\", \"phones\", \"phones\", \"pics\", \"picture\", \"piece\", \"piece\", \"player\", \"please\", \"please\", \"please\", \"policy\", \"premium\", \"price\", \"price\", \"print\", \"problem\", \"problem\", \"problem\", \"problems\", \"problems\", \"processer\", \"processor\", \"processor\", \"processor\", \"product\", \"product\", \"product\", \"product\", \"product\", \"products\", \"products\", \"protection\", \"purchase\", \"purchase\", \"purchase\", \"purchase\", \"quality\", \"quality\", \"quality\", \"question\", \"quick\", \"quick\", \"quick\", \"raha\", \"range\", \"range\", \"reality\", \"rear\", \"receive\", \"recorder\", \"redmi\", \"redmi\", \"refund\", \"remains\", \"replacement\", \"reply\", \"reset\", \"result\", \"result\", \"return\", \"return\", \"right\", \"right\", \"right\", \"ring\", \"ringtone\", \"ringtone\", \"rupees\", \"satisfactory\", \"scanner\", \"scratches\", \"screen\", \"screen\", \"screen\", \"screen\", \"screen\", \"screen\", \"screenshot\", \"selfie\", \"selfie\", \"send\", \"send\", \"sensor\", \"sensor\", \"service\", \"service\", \"services\", \"share\", \"shot\", \"side\", \"side\", \"side\", \"side\", \"signals\", \"size\", \"size\", \"slots\", \"smart\", \"smart\", \"smart\", \"smart\", \"smart\", \"smartphone\", \"smartphone\", \"smartphones\", \"songs\", \"sound\", \"sound\", \"sound\", \"sound\", \"sound\", \"space\", \"speaker\", \"speaker\", \"speaker\", \"speakers\", \"speakers\", \"speakers\", \"specifications\", \"specifications\", \"stand\", \"standard\", \"standby\", \"standby\", \"star\", \"star\", \"stock\", \"stock\", \"stock\", \"store\", \"super\", \"superb\", \"superb\", \"support\", \"support\", \"support\", \"support\", \"team\", \"team\", \"test\", \"thik\", \"time\", \"time\", \"time\", \"time\", \"time\", \"time\", \"told\", \"touch\", \"touch\", \"touch\", \"touch\", \"touch\", \"touch\", \"tray\", \"turbo\", \"turbo\", \"turbo\", \"turbo\", \"update\", \"update\", \"update\", \"update\", \"usage\", \"usage\", \"users\", \"users\", \"value\", \"value\", \"vibe\", \"view\", \"visit\", \"voice\", \"voice\", \"volte\", \"volte\", \"volte\", \"volte\", \"volume\", \"volume\", \"want\", \"want\", \"want\", \"warranty\", \"warranty\", \"wastage\", \"waste\", \"waste\", \"waste\", \"watch\", \"west\", \"wifi\", \"wifi\", \"wifi\", \"wifi\", \"window\", \"wireless\", \"work\", \"work\", \"work\", \"work\", \"work\", \"works\", \"works\", \"works\", \"works\", \"worth\", \"worth\", \"wrost\", \"years\"]}, \"R\": 30, \"lambda.step\": 0.01, \"plot.opts\": {\"xlab\": \"PC1\", \"ylab\": \"PC2\"}, \"topic.order\": [2, 4, 3, 1, 6, 5]};\n",
              "\n",
              "function LDAvis_load_lib(url, callback){\n",
              "  var s = document.createElement('script');\n",
              "  s.src = url;\n",
              "  s.async = true;\n",
              "  s.onreadystatechange = s.onload = callback;\n",
              "  s.onerror = function(){console.warn(\"failed to load library \" + url);};\n",
              "  document.getElementsByTagName(\"head\")[0].appendChild(s);\n",
              "}\n",
              "\n",
              "if(typeof(LDAvis) !== \"undefined\"){\n",
              "   // already loaded: just create the visualization\n",
              "   !function(LDAvis){\n",
              "       new LDAvis(\"#\" + \"ldavis_el2001396753119991845891397028\", ldavis_el2001396753119991845891397028_data);\n",
              "   }(LDAvis);\n",
              "}else if(typeof define === \"function\" && define.amd){\n",
              "   // require.js is available: use it to load d3/LDAvis\n",
              "   require.config({paths: {d3: \"https://d3js.org/d3.v5\"}});\n",
              "   require([\"d3\"], function(d3){\n",
              "      window.d3 = d3;\n",
              "      LDAvis_load_lib(\"https://cdn.jsdelivr.net/gh/bmabey/pyLDAvis@3.3.1/pyLDAvis/js/ldavis.v3.0.0.js\", function(){\n",
              "        new LDAvis(\"#\" + \"ldavis_el2001396753119991845891397028\", ldavis_el2001396753119991845891397028_data);\n",
              "      });\n",
              "    });\n",
              "}else{\n",
              "    // require.js not available: dynamically load d3 & LDAvis\n",
              "    LDAvis_load_lib(\"https://d3js.org/d3.v5.js\", function(){\n",
              "         LDAvis_load_lib(\"https://cdn.jsdelivr.net/gh/bmabey/pyLDAvis@3.3.1/pyLDAvis/js/ldavis.v3.0.0.js\", function(){\n",
              "                 new LDAvis(\"#\" + \"ldavis_el2001396753119991845891397028\", ldavis_el2001396753119991845891397028_data);\n",
              "            })\n",
              "         });\n",
              "}\n",
              "</script>"
            ],
            "text/plain": [
              "PreparedData(topic_coordinates=              x         y  topics  cluster       Freq\n",
              "topic                                                \n",
              "1     -0.126496  0.058454       1        1  28.517469\n",
              "3     -0.170449 -0.125431       2        1  24.575757\n",
              "2     -0.051198 -0.127797       3        1  17.332805\n",
              "0      0.249296 -0.065633       4        1   9.919659\n",
              "5     -0.021142  0.250918       5        1   9.891433\n",
              "4      0.119989  0.009490       6        1   9.762877, topic_info=        Term         Freq        Total Category  logprob  loglift\n",
              "82    camera  2823.000000  2823.000000  Default  30.0000  30.0000\n",
              "5    battery  2826.000000  2826.000000  Default  29.0000  29.0000\n",
              "53   heating  1152.000000  1152.000000  Default  28.0000  28.0000\n",
              "3     amazon   753.000000   753.000000  Default  27.0000  27.0000\n",
              "26   problem  1189.000000  1189.000000  Default  26.0000  26.0000\n",
              "..       ...          ...          ...      ...      ...      ...\n",
              "378    right    29.209405    59.222962   Topic6  -5.8330   1.6198\n",
              "321   phones    38.537022   241.376354   Topic6  -5.5559   0.4918\n",
              "72   product    54.927572  1562.977820   Topic6  -5.2015  -1.0217\n",
              "7     bought    39.058478   261.059403   Topic6  -5.5424   0.4269\n",
              "413    touch    33.132401   159.343675   Topic6  -5.7070   0.7560\n",
              "\n",
              "[390 rows x 6 columns], token_table=      Topic      Freq         Term\n",
              "term                              \n",
              "205       5  0.979763      .camera\n",
              "5762      4  0.904141         abhi\n",
              "496       4  0.961005  accessories\n",
              "2584      4  0.942951      adapter\n",
              "2800      4  0.928948        alarm\n",
              "...     ...       ...          ...\n",
              "273       6  0.296705        works\n",
              "138       1  0.004047        worth\n",
              "138       5  0.991450        worth\n",
              "338       5  0.959483        wrost\n",
              "46        6  0.920409        years\n",
              "\n",
              "[593 rows x 3 columns], R=30, lambda_step=0.01, plot_opts={'xlab': 'PC1', 'ylab': 'PC2'}, topic_order=[2, 4, 3, 1, 6, 5])"
            ]
          },
          "metadata": {},
          "execution_count": 176
        }
      ]
    },
    {
      "cell_type": "code",
      "source": [
        "df.head()"
      ],
      "metadata": {
        "colab": {
          "base_uri": "https://localhost:8080/",
          "height": 206
        },
        "id": "Cc5mCqI3J9pY",
        "outputId": "f22b28c0-ce5e-41ab-9075-d99d38b7755b"
      },
      "execution_count": 177,
      "outputs": [
        {
          "output_type": "execute_result",
          "data": {
            "text/html": [
              "\n",
              "  <div id=\"df-d800a0de-91cb-4840-a726-575b91677be2\">\n",
              "    <div class=\"colab-df-container\">\n",
              "      <div>\n",
              "<style scoped>\n",
              "    .dataframe tbody tr th:only-of-type {\n",
              "        vertical-align: middle;\n",
              "    }\n",
              "\n",
              "    .dataframe tbody tr th {\n",
              "        vertical-align: top;\n",
              "    }\n",
              "\n",
              "    .dataframe thead th {\n",
              "        text-align: right;\n",
              "    }\n",
              "</style>\n",
              "<table border=\"1\" class=\"dataframe\">\n",
              "  <thead>\n",
              "    <tr style=\"text-align: right;\">\n",
              "      <th></th>\n",
              "      <th>sentiment</th>\n",
              "      <th>review</th>\n",
              "      <th>org_review</th>\n",
              "    </tr>\n",
              "  </thead>\n",
              "  <tbody>\n",
              "    <tr>\n",
              "      <th>0</th>\n",
              "      <td>1</td>\n",
              "      <td>[need, updates, improvements]</td>\n",
              "      <td>need updates improvements</td>\n",
              "    </tr>\n",
              "    <tr>\n",
              "      <th>1</th>\n",
              "      <td>0</td>\n",
              "      <td>[mobile, bought, battery, hell, backup, hours,...</td>\n",
              "      <td>mobile i bought battery hell backup hours inte...</td>\n",
              "    </tr>\n",
              "    <tr>\n",
              "      <th>2</th>\n",
              "      <td>1</td>\n",
              "      <td>[cash, january..]</td>\n",
              "      <td>i % cash january..</td>\n",
              "    </tr>\n",
              "    <tr>\n",
              "      <th>3</th>\n",
              "      <td>0</td>\n",
              "      <td>[phone, everthey, phone, problem, amazon, phon...</td>\n",
              "      <td>phone everthey phone problem amazon phone amazon</td>\n",
              "    </tr>\n",
              "    <tr>\n",
              "      <th>4</th>\n",
              "      <td>0</td>\n",
              "      <td>[buyi, disappointedpoor, batterypoor, camerawa...</td>\n",
              "      <td>i buyi disappointedpoor batterypoor camerawast...</td>\n",
              "    </tr>\n",
              "  </tbody>\n",
              "</table>\n",
              "</div>\n",
              "      <button class=\"colab-df-convert\" onclick=\"convertToInteractive('df-d800a0de-91cb-4840-a726-575b91677be2')\"\n",
              "              title=\"Convert this dataframe to an interactive table.\"\n",
              "              style=\"display:none;\">\n",
              "        \n",
              "  <svg xmlns=\"http://www.w3.org/2000/svg\" height=\"24px\"viewBox=\"0 0 24 24\"\n",
              "       width=\"24px\">\n",
              "    <path d=\"M0 0h24v24H0V0z\" fill=\"none\"/>\n",
              "    <path d=\"M18.56 5.44l.94 2.06.94-2.06 2.06-.94-2.06-.94-.94-2.06-.94 2.06-2.06.94zm-11 1L8.5 8.5l.94-2.06 2.06-.94-2.06-.94L8.5 2.5l-.94 2.06-2.06.94zm10 10l.94 2.06.94-2.06 2.06-.94-2.06-.94-.94-2.06-.94 2.06-2.06.94z\"/><path d=\"M17.41 7.96l-1.37-1.37c-.4-.4-.92-.59-1.43-.59-.52 0-1.04.2-1.43.59L10.3 9.45l-7.72 7.72c-.78.78-.78 2.05 0 2.83L4 21.41c.39.39.9.59 1.41.59.51 0 1.02-.2 1.41-.59l7.78-7.78 2.81-2.81c.8-.78.8-2.07 0-2.86zM5.41 20L4 18.59l7.72-7.72 1.47 1.35L5.41 20z\"/>\n",
              "  </svg>\n",
              "      </button>\n",
              "      \n",
              "  <style>\n",
              "    .colab-df-container {\n",
              "      display:flex;\n",
              "      flex-wrap:wrap;\n",
              "      gap: 12px;\n",
              "    }\n",
              "\n",
              "    .colab-df-convert {\n",
              "      background-color: #E8F0FE;\n",
              "      border: none;\n",
              "      border-radius: 50%;\n",
              "      cursor: pointer;\n",
              "      display: none;\n",
              "      fill: #1967D2;\n",
              "      height: 32px;\n",
              "      padding: 0 0 0 0;\n",
              "      width: 32px;\n",
              "    }\n",
              "\n",
              "    .colab-df-convert:hover {\n",
              "      background-color: #E2EBFA;\n",
              "      box-shadow: 0px 1px 2px rgba(60, 64, 67, 0.3), 0px 1px 3px 1px rgba(60, 64, 67, 0.15);\n",
              "      fill: #174EA6;\n",
              "    }\n",
              "\n",
              "    [theme=dark] .colab-df-convert {\n",
              "      background-color: #3B4455;\n",
              "      fill: #D2E3FC;\n",
              "    }\n",
              "\n",
              "    [theme=dark] .colab-df-convert:hover {\n",
              "      background-color: #434B5C;\n",
              "      box-shadow: 0px 1px 3px 1px rgba(0, 0, 0, 0.15);\n",
              "      filter: drop-shadow(0px 1px 2px rgba(0, 0, 0, 0.3));\n",
              "      fill: #FFFFFF;\n",
              "    }\n",
              "  </style>\n",
              "\n",
              "      <script>\n",
              "        const buttonEl =\n",
              "          document.querySelector('#df-d800a0de-91cb-4840-a726-575b91677be2 button.colab-df-convert');\n",
              "        buttonEl.style.display =\n",
              "          google.colab.kernel.accessAllowed ? 'block' : 'none';\n",
              "\n",
              "        async function convertToInteractive(key) {\n",
              "          const element = document.querySelector('#df-d800a0de-91cb-4840-a726-575b91677be2');\n",
              "          const dataTable =\n",
              "            await google.colab.kernel.invokeFunction('convertToInteractive',\n",
              "                                                     [key], {});\n",
              "          if (!dataTable) return;\n",
              "\n",
              "          const docLinkHtml = 'Like what you see? Visit the ' +\n",
              "            '<a target=\"_blank\" href=https://colab.research.google.com/notebooks/data_table.ipynb>data table notebook</a>'\n",
              "            + ' to learn more about interactive tables.';\n",
              "          element.innerHTML = '';\n",
              "          dataTable['output_type'] = 'display_data';\n",
              "          await google.colab.output.renderOutput(dataTable, element);\n",
              "          const docLink = document.createElement('div');\n",
              "          docLink.innerHTML = docLinkHtml;\n",
              "          element.appendChild(docLink);\n",
              "        }\n",
              "      </script>\n",
              "    </div>\n",
              "  </div>\n",
              "  "
            ],
            "text/plain": [
              "   sentiment  ...                                         org_review\n",
              "0          1  ...                          need updates improvements\n",
              "1          0  ...  mobile i bought battery hell backup hours inte...\n",
              "2          1  ...                                 i % cash january..\n",
              "3          0  ...   phone everthey phone problem amazon phone amazon\n",
              "4          0  ...  i buyi disappointedpoor batterypoor camerawast...\n",
              "\n",
              "[5 rows x 3 columns]"
            ]
          },
          "metadata": {},
          "execution_count": 177
        }
      ]
    },
    {
      "cell_type": "code",
      "source": [
        "# Creating a lookup table for topics\n",
        "topic_data = pd.DataFrame((ldamodel2.print_topics()),columns=['TopicNumber','TopKeywords'])\n",
        "topic_data['TopicName'] = ['Camera and Speaker', 'Battery','Customer Care','Call and connectivity','Hardware','Miscellaneous']\n",
        "topic_data = topic_data[['TopicNumber','TopicName','TopKeywords']]\n",
        "topic_data['TopKeywords'] = topic_data.TopKeywords.str.replace(r'[^a-z]',' ',regex=True).apply(lambda x: x.split())\n",
        "topic_data.style.set_properties(subset=['TopKeywords'], **{'width': '300px'})\n",
        "\n"
      ],
      "metadata": {
        "colab": {
          "base_uri": "https://localhost:8080/",
          "height": 359
        },
        "id": "7RnDYw8CGqNS",
        "outputId": "f7943e40-0987-43da-c60b-f52562473dab"
      },
      "execution_count": 178,
      "outputs": [
        {
          "output_type": "execute_result",
          "data": {
            "text/html": [
              "<style type=\"text/css\">\n",
              "#T_5df90_row0_col2, #T_5df90_row1_col2, #T_5df90_row2_col2, #T_5df90_row3_col2, #T_5df90_row4_col2, #T_5df90_row5_col2 {\n",
              "  width: 300px;\n",
              "}\n",
              "</style>\n",
              "<table id=\"T_5df90_\" class=\"dataframe\">\n",
              "  <thead>\n",
              "    <tr>\n",
              "      <th class=\"blank level0\" >&nbsp;</th>\n",
              "      <th class=\"col_heading level0 col0\" >TopicNumber</th>\n",
              "      <th class=\"col_heading level0 col1\" >TopicName</th>\n",
              "      <th class=\"col_heading level0 col2\" >TopKeywords</th>\n",
              "    </tr>\n",
              "  </thead>\n",
              "  <tbody>\n",
              "    <tr>\n",
              "      <th id=\"T_5df90_level0_row0\" class=\"row_heading level0 row0\" >0</th>\n",
              "      <td id=\"T_5df90_row0_col0\" class=\"data row0 col0\" >0</td>\n",
              "      <td id=\"T_5df90_row0_col1\" class=\"data row0 col1\" >Camera and Speaker</td>\n",
              "      <td id=\"T_5df90_row0_col2\" class=\"data row0 col2\" >['call', 'screen', 'cast', 'option', 'support', 'network', 'connect', 'volte', 'feature', 'work']</td>\n",
              "    </tr>\n",
              "    <tr>\n",
              "      <th id=\"T_5df90_level0_row1\" class=\"row_heading level0 row1\" >1</th>\n",
              "      <td id=\"T_5df90_row1_col0\" class=\"data row1 col0\" >1</td>\n",
              "      <td id=\"T_5df90_row1_col1\" class=\"data row1 col1\" >Battery</td>\n",
              "      <td id=\"T_5df90_row1_col2\" class=\"data row1 col2\" >['camera', 'phone', 'quality', 'note', 'lenovo', 'battery', 'awesome', 'performance', 'mobile', 'price']</td>\n",
              "    </tr>\n",
              "    <tr>\n",
              "      <th id=\"T_5df90_level0_row2\" class=\"row_heading level0 row2\" >2</th>\n",
              "      <td id=\"T_5df90_row2_col0\" class=\"data row2 col0\" >2</td>\n",
              "      <td id=\"T_5df90_row2_col1\" class=\"data row2 col1\" >Customer Care</td>\n",
              "      <td id=\"T_5df90_row2_col2\" class=\"data row2 col2\" >['mobile', 'amazon', 'lenovo', 'phone', 'product', 'service', 'return', 'note', 'charger', 'delivery']</td>\n",
              "    </tr>\n",
              "    <tr>\n",
              "      <th id=\"T_5df90_level0_row3\" class=\"row_heading level0 row3\" >3</th>\n",
              "      <td id=\"T_5df90_row3_col0\" class=\"data row3 col0\" >3</td>\n",
              "      <td id=\"T_5df90_row3_col1\" class=\"data row3 col1\" >Call and connectivity</td>\n",
              "      <td id=\"T_5df90_row3_col2\" class=\"data row3 col2\" >['battery', 'phone', 'heating', 'problem', 'issue', 'product', 'fast', 'charge', 'backup', 'time']</td>\n",
              "    </tr>\n",
              "    <tr>\n",
              "      <th id=\"T_5df90_level0_row4\" class=\"row_heading level0 row4\" >4</th>\n",
              "      <td id=\"T_5df90_row4_col0\" class=\"data row4 col0\" >4</td>\n",
              "      <td id=\"T_5df90_row4_col1\" class=\"data row4 col1\" >Hardware</td>\n",
              "      <td id=\"T_5df90_row4_col2\" class=\"data row4 col2\" >['phone', 'speaker', 'screen', 'processor', 'lenovo', 'sensor', 'display', 'side', 'core', 'sound']</td>\n",
              "    </tr>\n",
              "    <tr>\n",
              "      <th id=\"T_5df90_level0_row5\" class=\"row_heading level0 row5\" >5</th>\n",
              "      <td id=\"T_5df90_row5_col0\" class=\"data row5 col0\" >5</td>\n",
              "      <td id=\"T_5df90_row5_col1\" class=\"data row5 col1\" >Miscellaneous</td>\n",
              "      <td id=\"T_5df90_row5_col2\" class=\"data row5 col2\" >['phone', 'money', 'price', 'product', 'worth', 'mobile', 'waste', 'value', 'glass', 'excellent']</td>\n",
              "    </tr>\n",
              "  </tbody>\n",
              "</table>\n"
            ],
            "text/plain": [
              "<pandas.io.formats.style.Styler at 0x7f08b0b12350>"
            ]
          },
          "metadata": {},
          "execution_count": 178
        }
      ]
    },
    {
      "cell_type": "code",
      "source": [
        "#Creating new columns and inserting topic numbers and names\n",
        "for index,sent in enumerate(ldamodel2[doc_term_matrix]):\n",
        "  topic_num =[]\n",
        "  topic_details = sorted(sent,key=lambda x: x[1], reverse=True)[:2] # Getting top 2 topics in descending order\n",
        "  topic_num.append(topic_details[0][0]) # Appending top topic\n",
        "  if len(topic_details) > 1:\n",
        "    if topic_details[1][1] > 0.35: # Appending second topic only if it has more than 35% influence on current row\n",
        "      topic_num.append(topic_details[1][0])\n",
        "  df.loc[index,'TopicNumber'] = ','.join(str(x) for x in sorted(topic_num))"
      ],
      "metadata": {
        "id": "TOOUkV1KLQ2H"
      },
      "execution_count": 179,
      "outputs": []
    },
    {
      "cell_type": "code",
      "source": [
        "for index,topic_num in enumerate(df.TopicNumber):\n",
        "  topic_name_list=[]\n",
        "  for single_topic_num in topic_num.split(','):\n",
        "    single_topic_num=int(single_topic_num)\n",
        "    topic_name_list.append(topic_data.loc[topic_data.TopicNumber == single_topic_num,'TopicName'][single_topic_num]) \n",
        "  # Extracting topic names from lookup table\n",
        "  df.loc[index,'TopicName'] =' & '.join(topic_name_list)"
      ],
      "metadata": {
        "id": "cZAvRhaZLaNy"
      },
      "execution_count": 180,
      "outputs": []
    },
    {
      "cell_type": "code",
      "source": [
        "df.head()"
      ],
      "metadata": {
        "colab": {
          "base_uri": "https://localhost:8080/",
          "height": 206
        },
        "id": "0TDdFJjiLrCf",
        "outputId": "56c03bf5-e6a6-4521-ce06-3c821dbb9828"
      },
      "execution_count": 181,
      "outputs": [
        {
          "output_type": "execute_result",
          "data": {
            "text/html": [
              "\n",
              "  <div id=\"df-eeb95f64-66ed-4333-ac2e-2259f4b32e01\">\n",
              "    <div class=\"colab-df-container\">\n",
              "      <div>\n",
              "<style scoped>\n",
              "    .dataframe tbody tr th:only-of-type {\n",
              "        vertical-align: middle;\n",
              "    }\n",
              "\n",
              "    .dataframe tbody tr th {\n",
              "        vertical-align: top;\n",
              "    }\n",
              "\n",
              "    .dataframe thead th {\n",
              "        text-align: right;\n",
              "    }\n",
              "</style>\n",
              "<table border=\"1\" class=\"dataframe\">\n",
              "  <thead>\n",
              "    <tr style=\"text-align: right;\">\n",
              "      <th></th>\n",
              "      <th>sentiment</th>\n",
              "      <th>review</th>\n",
              "      <th>org_review</th>\n",
              "      <th>TopicNumber</th>\n",
              "      <th>TopicName</th>\n",
              "    </tr>\n",
              "  </thead>\n",
              "  <tbody>\n",
              "    <tr>\n",
              "      <th>0</th>\n",
              "      <td>1</td>\n",
              "      <td>[need, updates, improvements]</td>\n",
              "      <td>need updates improvements</td>\n",
              "      <td>3</td>\n",
              "      <td>Call and connectivity</td>\n",
              "    </tr>\n",
              "    <tr>\n",
              "      <th>1</th>\n",
              "      <td>0</td>\n",
              "      <td>[mobile, bought, battery, hell, backup, hours,...</td>\n",
              "      <td>mobile i bought battery hell backup hours inte...</td>\n",
              "      <td>2</td>\n",
              "      <td>Customer Care</td>\n",
              "    </tr>\n",
              "    <tr>\n",
              "      <th>2</th>\n",
              "      <td>1</td>\n",
              "      <td>[cash, january..]</td>\n",
              "      <td>i % cash january..</td>\n",
              "      <td>5</td>\n",
              "      <td>Miscellaneous</td>\n",
              "    </tr>\n",
              "    <tr>\n",
              "      <th>3</th>\n",
              "      <td>0</td>\n",
              "      <td>[phone, everthey, phone, problem, amazon, phon...</td>\n",
              "      <td>phone everthey phone problem amazon phone amazon</td>\n",
              "      <td>2</td>\n",
              "      <td>Customer Care</td>\n",
              "    </tr>\n",
              "    <tr>\n",
              "      <th>4</th>\n",
              "      <td>0</td>\n",
              "      <td>[buyi, disappointedpoor, batterypoor, camerawa...</td>\n",
              "      <td>i buyi disappointedpoor batterypoor camerawast...</td>\n",
              "      <td>3</td>\n",
              "      <td>Call and connectivity</td>\n",
              "    </tr>\n",
              "  </tbody>\n",
              "</table>\n",
              "</div>\n",
              "      <button class=\"colab-df-convert\" onclick=\"convertToInteractive('df-eeb95f64-66ed-4333-ac2e-2259f4b32e01')\"\n",
              "              title=\"Convert this dataframe to an interactive table.\"\n",
              "              style=\"display:none;\">\n",
              "        \n",
              "  <svg xmlns=\"http://www.w3.org/2000/svg\" height=\"24px\"viewBox=\"0 0 24 24\"\n",
              "       width=\"24px\">\n",
              "    <path d=\"M0 0h24v24H0V0z\" fill=\"none\"/>\n",
              "    <path d=\"M18.56 5.44l.94 2.06.94-2.06 2.06-.94-2.06-.94-.94-2.06-.94 2.06-2.06.94zm-11 1L8.5 8.5l.94-2.06 2.06-.94-2.06-.94L8.5 2.5l-.94 2.06-2.06.94zm10 10l.94 2.06.94-2.06 2.06-.94-2.06-.94-.94-2.06-.94 2.06-2.06.94z\"/><path d=\"M17.41 7.96l-1.37-1.37c-.4-.4-.92-.59-1.43-.59-.52 0-1.04.2-1.43.59L10.3 9.45l-7.72 7.72c-.78.78-.78 2.05 0 2.83L4 21.41c.39.39.9.59 1.41.59.51 0 1.02-.2 1.41-.59l7.78-7.78 2.81-2.81c.8-.78.8-2.07 0-2.86zM5.41 20L4 18.59l7.72-7.72 1.47 1.35L5.41 20z\"/>\n",
              "  </svg>\n",
              "      </button>\n",
              "      \n",
              "  <style>\n",
              "    .colab-df-container {\n",
              "      display:flex;\n",
              "      flex-wrap:wrap;\n",
              "      gap: 12px;\n",
              "    }\n",
              "\n",
              "    .colab-df-convert {\n",
              "      background-color: #E8F0FE;\n",
              "      border: none;\n",
              "      border-radius: 50%;\n",
              "      cursor: pointer;\n",
              "      display: none;\n",
              "      fill: #1967D2;\n",
              "      height: 32px;\n",
              "      padding: 0 0 0 0;\n",
              "      width: 32px;\n",
              "    }\n",
              "\n",
              "    .colab-df-convert:hover {\n",
              "      background-color: #E2EBFA;\n",
              "      box-shadow: 0px 1px 2px rgba(60, 64, 67, 0.3), 0px 1px 3px 1px rgba(60, 64, 67, 0.15);\n",
              "      fill: #174EA6;\n",
              "    }\n",
              "\n",
              "    [theme=dark] .colab-df-convert {\n",
              "      background-color: #3B4455;\n",
              "      fill: #D2E3FC;\n",
              "    }\n",
              "\n",
              "    [theme=dark] .colab-df-convert:hover {\n",
              "      background-color: #434B5C;\n",
              "      box-shadow: 0px 1px 3px 1px rgba(0, 0, 0, 0.15);\n",
              "      filter: drop-shadow(0px 1px 2px rgba(0, 0, 0, 0.3));\n",
              "      fill: #FFFFFF;\n",
              "    }\n",
              "  </style>\n",
              "\n",
              "      <script>\n",
              "        const buttonEl =\n",
              "          document.querySelector('#df-eeb95f64-66ed-4333-ac2e-2259f4b32e01 button.colab-df-convert');\n",
              "        buttonEl.style.display =\n",
              "          google.colab.kernel.accessAllowed ? 'block' : 'none';\n",
              "\n",
              "        async function convertToInteractive(key) {\n",
              "          const element = document.querySelector('#df-eeb95f64-66ed-4333-ac2e-2259f4b32e01');\n",
              "          const dataTable =\n",
              "            await google.colab.kernel.invokeFunction('convertToInteractive',\n",
              "                                                     [key], {});\n",
              "          if (!dataTable) return;\n",
              "\n",
              "          const docLinkHtml = 'Like what you see? Visit the ' +\n",
              "            '<a target=\"_blank\" href=https://colab.research.google.com/notebooks/data_table.ipynb>data table notebook</a>'\n",
              "            + ' to learn more about interactive tables.';\n",
              "          element.innerHTML = '';\n",
              "          dataTable['output_type'] = 'display_data';\n",
              "          await google.colab.output.renderOutput(dataTable, element);\n",
              "          const docLink = document.createElement('div');\n",
              "          docLink.innerHTML = docLinkHtml;\n",
              "          element.appendChild(docLink);\n",
              "        }\n",
              "      </script>\n",
              "    </div>\n",
              "  </div>\n",
              "  "
            ],
            "text/plain": [
              "   sentiment  ...              TopicName\n",
              "0          1  ...  Call and connectivity\n",
              "1          0  ...          Customer Care\n",
              "2          1  ...          Miscellaneous\n",
              "3          0  ...          Customer Care\n",
              "4          0  ...  Call and connectivity\n",
              "\n",
              "[5 rows x 5 columns]"
            ]
          },
          "metadata": {},
          "execution_count": 181
        }
      ]
    },
    {
      "cell_type": "code",
      "source": [
        "#Visualisation\n",
        "plt.figure(figsize=(18,8))\n",
        "ax = sns.barplot(x=df.TopicName.value_counts()[:6].index,y=df.TopicName.value_counts()[:6].values, palette = 'copper')\n",
        "# Labeling each bar\n",
        "for p in ax.patches:\n",
        "    ax.annotate(p.get_height(), (p.get_x() + p.get_width() / 2., p.get_height()+50),ha = 'center', va = 'center')\n",
        "# Labelling \n",
        "plt.xticks(size=15, weight = 'bold', color = 'brown')\n",
        "plt.yticks(size=15, weight = 'bold', color = 'brown')\n",
        "plt.xlabel('Topic Names',size=20, weight = 'bold', color = 'maroon')\n",
        "plt.ylabel('Count of topics',size=20, weight = 'bold', color = 'maroon')\n",
        "plt.title('Most talked topics in reviews',size=30, weight = 'bold')\n",
        "plt.show()\n",
        "\n"
      ],
      "metadata": {
        "colab": {
          "base_uri": "https://localhost:8080/",
          "height": 540
        },
        "id": "tqVnXP8MLvOp",
        "outputId": "00534d06-0022-4c4f-f294-7bd4809be716"
      },
      "execution_count": 182,
      "outputs": [
        {
          "output_type": "display_data",
          "data": {
            "image/png": "[encoded data removed]",
            "text/plain": [
              "<Figure size 1296x576 with 1 Axes>"
            ]
          },
          "metadata": {
            "needs_background": "light"
          }
        }
      ]
    },
    {
      "cell_type": "markdown",
      "source": [
        "## **Observations:**\n",
        "- Most reviews were about Batteries. Followed by Call and connectivity.\n"
      ],
      "metadata": {
        "id": "gA9tzhtfg0EY"
      }
    },
    {
      "cell_type": "code",
      "source": [
        "plt.figure(figsize=(18,8))\n",
        "ax = sns.barplot(y=df.TopicName.value_counts()[6:].index,x=df.TopicName.value_counts()[6:].values, palette = 'copper')\n",
        "plt.xticks(size=13, weight = 'bold', color = 'brown')\n",
        "plt.yticks(size=13, weight = 'bold', color = 'brown')\n",
        "plt.xlabel('Topic Names combined',size=15, weight = 'bold', color = 'maroon')\n",
        "plt.ylabel('Count of combined topics',size=15, weight = 'bold', color = 'maroon')\n",
        "plt.title('Most talked combined topics in reviews',size=25, weight = 'bold')\n",
        "\n",
        "plt.show();"
      ],
      "metadata": {
        "colab": {
          "base_uri": "https://localhost:8080/",
          "height": 530
        },
        "id": "xyxIaVSMMdJm",
        "outputId": "b3287f17-7a4a-43f3-a854-ab3dbb857965"
      },
      "execution_count": 183,
      "outputs": [
        {
          "output_type": "display_data",
          "data": {
            "image/png": "[encoded data removed]",
            "text/plain": [
              "<Figure size 1296x576 with 1 Axes>"
            ]
          },
          "metadata": {
            "needs_background": "light"
          }
        }
      ]
    },
    {
      "cell_type": "markdown",
      "source": [
        "### **Observations:**\n",
        "- From above graph we can say that most of customers had combined issues with,\n",
        "  - Battery & Call and Connectivity\n",
        "  - Customer Care & Call and Connectivity\n",
        "  - Battery & Miscellaneous\n",
        "\n"
      ],
      "metadata": {
        "id": "ax3GXrdzYJaf"
      }
    }
  ]
}