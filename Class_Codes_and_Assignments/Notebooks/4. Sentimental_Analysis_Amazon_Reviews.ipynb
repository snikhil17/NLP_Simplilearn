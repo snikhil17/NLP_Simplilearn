{
  "nbformat": 4,
  "nbformat_minor": 0,
  "metadata": {
    "colab": {
      "name": "Sentimental_Analysis_Amazon_Reviews.ipynb",
      "provenance": [],
      "collapsed_sections": [],
      "authorship_tag": "ABX9TyNF4lfdjj7RpzaZkkGVNL5f",
      "include_colab_link": true
    },
    "kernelspec": {
      "name": "python3",
      "display_name": "Python 3"
    },
    "language_info": {
      "name": "python"
    }
  },
  "cells": [
    {
      "cell_type": "markdown",
      "metadata": {
        "id": "view-in-github",
        "colab_type": "text"
      },
      "source": [
        "<a href=\"https://colab.research.google.com/github/snikhil17/NLP_course_Simplilearn/blob/main/Class_Codes_and_Assignments/Notebooks/4.%20Sentimental_Analysis_Amazon_Reviews.ipynb\" target=\"_parent\"><img src=\"https://colab.research.google.com/assets/colab-badge.svg\" alt=\"Open In Colab\"/></a>"
      ]
    },
    {
      "cell_type": "markdown",
      "metadata": {
        "id": "AzUZcdKnl28d"
      },
      "source": [
        "## **Assignment**\n",
        "- **Create a model that can predict positive and negative sentiment.**\n",
        "- **SL = 0.3**\n",
        "- **Dataset: Amazon reviews**"
      ]
    },
    {
      "cell_type": "markdown",
      "metadata": {
        "id": "vS0mTOs-sDQC"
      },
      "source": [
        "## **Aquiring Data**"
      ]
    },
    {
      "cell_type": "code",
      "metadata": {
        "colab": {
          "base_uri": "https://localhost:8080/"
        },
        "id": "7YTIpfKKTIe8",
        "outputId": "176ed5f2-84ed-4fcc-9e3b-0c973fe1eb1b"
      },
      "source": [
        "!wget https://raw.githubusercontent.com/snikhil17/NLP_course_Simplilearn/main/Class_Codes_and_Assignments/data/amazonreviews.tsv"
      ],
      "execution_count": 1,
      "outputs": [
        {
          "output_type": "stream",
          "name": "stdout",
          "text": [
            "--2021-11-22 08:35:16--  https://raw.githubusercontent.com/snikhil17/NLP_course_Simplilearn/main/Class_Codes_and_Assignments/data/amazonreviews.tsv\n",
            "Resolving raw.githubusercontent.com (raw.githubusercontent.com)... 185.199.110.133, 185.199.108.133, 185.199.111.133, ...\n",
            "Connecting to raw.githubusercontent.com (raw.githubusercontent.com)|185.199.110.133|:443... connected.\n",
            "HTTP request sent, awaiting response... 200 OK\n",
            "Length: 4448100 (4.2M) [text/plain]\n",
            "Saving to: ‘amazonreviews.tsv’\n",
            "\n",
            "amazonreviews.tsv   100%[===================>]   4.24M  --.-KB/s    in 0.09s   \n",
            "\n",
            "2021-11-22 08:35:16 (45.3 MB/s) - ‘amazonreviews.tsv’ saved [4448100/4448100]\n",
            "\n"
          ]
        }
      ]
    },
    {
      "cell_type": "markdown",
      "metadata": {
        "id": "F8kavTV8sJ-Y"
      },
      "source": [
        "## **Importing Libraries**"
      ]
    },
    {
      "cell_type": "code",
      "metadata": {
        "colab": {
          "base_uri": "https://localhost:8080/"
        },
        "id": "43zDGpOKSnRz",
        "outputId": "2c25c6e0-e7b7-4999-95cb-72ab850c7252"
      },
      "source": [
        "import pandas as pd\n",
        "import numpy as np\n",
        "import nltk\n",
        "from nltk.corpus import stopwords\n",
        "nltk.download('stopwords')\n",
        "import string\n",
        "from sklearn.feature_extraction.text import CountVectorizer, TfidfTransformer\n",
        "import spacy\n",
        "nlp = spacy.load('en_core_web_sm')\n",
        "from nltk.stem.porter import PorterStemmer\n",
        "nltk.download('vader_lexicon')\n",
        "from nltk.sentiment.vader import SentimentIntensityAnalyzer\n",
        "sentimentAnalyser = SentimentIntensityAnalyzer()\n",
        "from sklearn.model_selection import train_test_split\n",
        "from sklearn.ensemble import RandomForestClassifier \n",
        "import warnings\n",
        "warnings.filterwarnings('ignore')\n",
        "from sklearn import metrics\n",
        "from sklearn.linear_model import LogisticRegression\n",
        "from sklearn.metrics import accuracy_score\n",
        "import statistics"
      ],
      "execution_count": null,
      "outputs": [
        {
          "output_type": "stream",
          "name": "stdout",
          "text": [
            "[nltk_data] Downloading package stopwords to /root/nltk_data...\n",
            "[nltk_data]   Unzipping corpora/stopwords.zip.\n",
            "[nltk_data] Downloading package vader_lexicon to /root/nltk_data...\n"
          ]
        },
        {
          "output_type": "stream",
          "name": "stderr",
          "text": [
            "/usr/local/lib/python3.7/dist-packages/nltk/twitter/__init__.py:20: UserWarning: The twython library has not been installed. Some functionality from the twitter package will not be available.\n",
            "  warnings.warn(\"The twython library has not been installed. \"\n"
          ]
        }
      ]
    },
    {
      "cell_type": "markdown",
      "metadata": {
        "id": "mT9BooWRsQsA"
      },
      "source": [
        "## **Loading data**"
      ]
    },
    {
      "cell_type": "code",
      "metadata": {
        "colab": {
          "base_uri": "https://localhost:8080/",
          "height": 206
        },
        "id": "HI6Ea52iSt6z",
        "outputId": "094e7be1-b842-4b26-b78a-bcee97787a46"
      },
      "source": [
        "df = pd.read_csv('amazonreviews.tsv', delimiter= '\\t')\n",
        "df.head()"
      ],
      "execution_count": null,
      "outputs": [
        {
          "output_type": "execute_result",
          "data": {
            "text/html": [
              "<div>\n",
              "<style scoped>\n",
              "    .dataframe tbody tr th:only-of-type {\n",
              "        vertical-align: middle;\n",
              "    }\n",
              "\n",
              "    .dataframe tbody tr th {\n",
              "        vertical-align: top;\n",
              "    }\n",
              "\n",
              "    .dataframe thead th {\n",
              "        text-align: right;\n",
              "    }\n",
              "</style>\n",
              "<table border=\"1\" class=\"dataframe\">\n",
              "  <thead>\n",
              "    <tr style=\"text-align: right;\">\n",
              "      <th></th>\n",
              "      <th>label</th>\n",
              "      <th>review</th>\n",
              "    </tr>\n",
              "  </thead>\n",
              "  <tbody>\n",
              "    <tr>\n",
              "      <th>0</th>\n",
              "      <td>pos</td>\n",
              "      <td>Stuning even for the non-gamer: This sound tra...</td>\n",
              "    </tr>\n",
              "    <tr>\n",
              "      <th>1</th>\n",
              "      <td>pos</td>\n",
              "      <td>The best soundtrack ever to anything.: I'm rea...</td>\n",
              "    </tr>\n",
              "    <tr>\n",
              "      <th>2</th>\n",
              "      <td>pos</td>\n",
              "      <td>Amazing!: This soundtrack is my favorite music...</td>\n",
              "    </tr>\n",
              "    <tr>\n",
              "      <th>3</th>\n",
              "      <td>pos</td>\n",
              "      <td>Excellent Soundtrack: I truly like this soundt...</td>\n",
              "    </tr>\n",
              "    <tr>\n",
              "      <th>4</th>\n",
              "      <td>pos</td>\n",
              "      <td>Remember, Pull Your Jaw Off The Floor After He...</td>\n",
              "    </tr>\n",
              "  </tbody>\n",
              "</table>\n",
              "</div>"
            ],
            "text/plain": [
              "  label                                             review\n",
              "0   pos  Stuning even for the non-gamer: This sound tra...\n",
              "1   pos  The best soundtrack ever to anything.: I'm rea...\n",
              "2   pos  Amazing!: This soundtrack is my favorite music...\n",
              "3   pos  Excellent Soundtrack: I truly like this soundt...\n",
              "4   pos  Remember, Pull Your Jaw Off The Floor After He..."
            ]
          },
          "metadata": {},
          "execution_count": 3
        }
      ]
    },
    {
      "cell_type": "markdown",
      "metadata": {
        "id": "D3ovUJKNsTon"
      },
      "source": [
        "## **Expanding English language contraction**\n",
        "- you've -> you have\n",
        "- he's -> he is"
      ]
    },
    {
      "cell_type": "code",
      "metadata": {
        "id": "26WE-zMgYAdp"
      },
      "source": [
        "# ref: https://stackoverflow.com/questions/19790188/expanding-english-language-contractions-in-python/47091490#47091490\n",
        "import re\n",
        "\n",
        "def decontracted(phrase):\n",
        "    # specific\n",
        "    phrase = re.sub(r\"won\\'t\", \"will not\", phrase)\n",
        "    phrase = re.sub(r\"can\\'t\", \"can not\", phrase)\n",
        "\n",
        "    # general\n",
        "    phrase = re.sub(r\"n\\'t\", \" not\", phrase)\n",
        "    phrase = re.sub(r\"\\'re\", \" are\", phrase)\n",
        "    phrase = re.sub(r\"\\'s\", \" is\", phrase)\n",
        "    phrase = re.sub(r\"\\'d\", \" would\", phrase)\n",
        "    phrase = re.sub(r\"\\'ll\", \" will\", phrase)\n",
        "    phrase = re.sub(r\"\\'t\", \" not\", phrase)\n",
        "    phrase = re.sub(r\"\\'ve\", \" have\", phrase)\n",
        "    phrase = re.sub(r\"\\'m\", \" am\", phrase)\n",
        "    return phrase\n",
        "\n",
        "df['review'] = df['review'].apply(lambda x: decontracted(x))"
      ],
      "execution_count": null,
      "outputs": []
    },
    {
      "cell_type": "markdown",
      "metadata": {
        "id": "VaPOB8bosuso"
      },
      "source": [
        "## **Missing Values**\n",
        "- **When dealing with text data. Drop missing values**"
      ]
    },
    {
      "cell_type": "code",
      "metadata": {
        "colab": {
          "base_uri": "https://localhost:8080/"
        },
        "id": "KZRo7ApuV8Be",
        "outputId": "438168ab-2eda-4d18-cb9a-401f9409ca61"
      },
      "source": [
        "df.isnull().sum()"
      ],
      "execution_count": null,
      "outputs": [
        {
          "output_type": "execute_result",
          "data": {
            "text/plain": [
              "label     0\n",
              "review    0\n",
              "dtype: int64"
            ]
          },
          "metadata": {},
          "execution_count": 5
        }
      ]
    },
    {
      "cell_type": "code",
      "metadata": {
        "colab": {
          "base_uri": "https://localhost:8080/"
        },
        "id": "qNenX--yTNc3",
        "outputId": "88dc5df6-edad-4e7f-e032-209e5576cf68"
      },
      "source": [
        "df.label.value_counts()"
      ],
      "execution_count": null,
      "outputs": [
        {
          "output_type": "execute_result",
          "data": {
            "text/plain": [
              "neg    5097\n",
              "pos    4903\n",
              "Name: label, dtype: int64"
            ]
          },
          "metadata": {},
          "execution_count": 6
        }
      ]
    },
    {
      "cell_type": "markdown",
      "metadata": {
        "id": "EG-J_QjQs-IW"
      },
      "source": [
        "- Since the dataset in unbalanced, for generalization we will use **ACCURACY** as the metric\n",
        "- for quality we will use **f1-Score**"
      ]
    },
    {
      "cell_type": "markdown",
      "metadata": {
        "id": "r97L7bJ6tJ8O"
      },
      "source": [
        "## **For REVIEWS analysis we need word ``NOT``**\n",
        "- **Remove ``not`` from stopwords**"
      ]
    },
    {
      "cell_type": "code",
      "metadata": {
        "id": "5tcfozQHTsQJ"
      },
      "source": [
        "stop_words = stopwords.words('english')\n",
        "stop_words.remove('not')"
      ],
      "execution_count": null,
      "outputs": []
    },
    {
      "cell_type": "markdown",
      "metadata": {
        "id": "W1qBNZB-tXxc"
      },
      "source": [
        "## **Using ``SentimentIntensityAnalyzer`` from VADER to create a new column ``labelFromVADER``**"
      ]
    },
    {
      "cell_type": "code",
      "metadata": {
        "id": "w2Y-Ok90WCNu"
      },
      "source": [
        "df['labelFromVADER'] = df['review'].apply(lambda review: \"pos\" if sentimentAnalyser.polarity_scores(review)['compound'] > 0.5 else \"neg\")"
      ],
      "execution_count": null,
      "outputs": []
    },
    {
      "cell_type": "code",
      "metadata": {
        "colab": {
          "base_uri": "https://localhost:8080/",
          "height": 206
        },
        "id": "6ELb2K9lT82w",
        "outputId": "9cb62b14-af9c-4651-8209-a983ac11cf1e"
      },
      "source": [
        "df.head()"
      ],
      "execution_count": null,
      "outputs": [
        {
          "output_type": "execute_result",
          "data": {
            "text/html": [
              "<div>\n",
              "<style scoped>\n",
              "    .dataframe tbody tr th:only-of-type {\n",
              "        vertical-align: middle;\n",
              "    }\n",
              "\n",
              "    .dataframe tbody tr th {\n",
              "        vertical-align: top;\n",
              "    }\n",
              "\n",
              "    .dataframe thead th {\n",
              "        text-align: right;\n",
              "    }\n",
              "</style>\n",
              "<table border=\"1\" class=\"dataframe\">\n",
              "  <thead>\n",
              "    <tr style=\"text-align: right;\">\n",
              "      <th></th>\n",
              "      <th>label</th>\n",
              "      <th>review</th>\n",
              "      <th>labelFromVADER</th>\n",
              "    </tr>\n",
              "  </thead>\n",
              "  <tbody>\n",
              "    <tr>\n",
              "      <th>0</th>\n",
              "      <td>pos</td>\n",
              "      <td>Stuning even for the non-gamer: This sound tra...</td>\n",
              "      <td>pos</td>\n",
              "    </tr>\n",
              "    <tr>\n",
              "      <th>1</th>\n",
              "      <td>pos</td>\n",
              "      <td>The best soundtrack ever to anything.: I am re...</td>\n",
              "      <td>pos</td>\n",
              "    </tr>\n",
              "    <tr>\n",
              "      <th>2</th>\n",
              "      <td>pos</td>\n",
              "      <td>Amazing!: This soundtrack is my favorite music...</td>\n",
              "      <td>pos</td>\n",
              "    </tr>\n",
              "    <tr>\n",
              "      <th>3</th>\n",
              "      <td>pos</td>\n",
              "      <td>Excellent Soundtrack: I truly like this soundt...</td>\n",
              "      <td>pos</td>\n",
              "    </tr>\n",
              "    <tr>\n",
              "      <th>4</th>\n",
              "      <td>pos</td>\n",
              "      <td>Remember, Pull Your Jaw Off The Floor After He...</td>\n",
              "      <td>pos</td>\n",
              "    </tr>\n",
              "  </tbody>\n",
              "</table>\n",
              "</div>"
            ],
            "text/plain": [
              "  label                                             review labelFromVADER\n",
              "0   pos  Stuning even for the non-gamer: This sound tra...            pos\n",
              "1   pos  The best soundtrack ever to anything.: I am re...            pos\n",
              "2   pos  Amazing!: This soundtrack is my favorite music...            pos\n",
              "3   pos  Excellent Soundtrack: I truly like this soundt...            pos\n",
              "4   pos  Remember, Pull Your Jaw Off The Floor After He...            pos"
            ]
          },
          "metadata": {},
          "execution_count": 9
        }
      ]
    },
    {
      "cell_type": "markdown",
      "metadata": {
        "id": "doZb0X1FtmmN"
      },
      "source": [
        "## **Checking accuracy_score using vader:**\n",
        "- **Split the data, use accuracy_score to determine generalization and quality test of model.**"
      ]
    },
    {
      "cell_type": "code",
      "metadata": {
        "id": "5ovbaJT5u5Ez",
        "colab": {
          "base_uri": "https://localhost:8080/"
        },
        "outputId": "b3aba0a7-fe39-46e4-db65-bd885a837e93"
      },
      "source": [
        "SL = 0.3\n",
        "CL = 1- SL\n",
        "X_train, X_test, y_train, y_test = train_test_split(df['labelFromVADER'].values, df['label'].values , stratify=df['label'].values, test_size= 0.1, random_state = 4)\n",
        "print(f\"\\n*****Generalization Check*****\\n\")\n",
        "print(f\"Decided CL:{CL}\")\n",
        "print(f\"Accuracy score on training_set: {accuracy_score(X_train,y_train)}\")\n",
        "print(f\"Accuracy score on test_set: {accuracy_score(X_test,y_test)}\\n\") \n",
        "\n",
        "print(f\"\\n*****Quality Test*****\\n\")\n",
        "print(f\"Decided CL: {CL}\")\n",
        "print(f\"f1-score score on training_set: {metrics.f1_score(y_train, X_train, pos_label='pos')}\")\n",
        "print(f\"f1-score score on test_set: {metrics.f1_score(y_test, X_test, pos_label='pos')}\") \n",
        "print(f\"f1-score score on whole data: {metrics.f1_score(df['labelFromVADER'].values,df['label'].values, pos_label='pos')}\") \n"
      ],
      "execution_count": null,
      "outputs": [
        {
          "output_type": "stream",
          "name": "stdout",
          "text": [
            "\n",
            "*****Generalization Check*****\n",
            "\n",
            "Decided CL:0.7\n",
            "Accuracy score on training_set: 0.742\n",
            "Accuracy score on test_set: 0.775\n",
            "\n",
            "\n",
            "*****Quality Test*****\n",
            "\n",
            "Decided CL: 0.7\n",
            "f1-score score on training_set: 0.7570621468926554\n",
            "f1-score score on test_set: 0.7859181731684111\n",
            "f1-score score on whole data: 0.7599208219436326\n"
          ]
        }
      ]
    },
    {
      "cell_type": "markdown",
      "metadata": {
        "id": "fdXxkDMuJ1jp"
      },
      "source": [
        "### **Observations:**\n",
        "- Accuracy score of test >  Accuracy score of train\n",
        "- Accuracy score of test >  CL Decided\n",
        "\n",
        "#### **Quality Test: f1-score**\n",
        "- f1-score score of test >  f1-score score of train\n",
        "- f1-score score of test >  CL Decided\n",
        "- f1-score score on whole data > CL decided.\n",
        "- **Vader can be used for predictions**\n",
        "- Further let's consider ``Review`` column. Perform textPreprocessing on that column and use that col also for prediction. \n"
      ]
    },
    {
      "cell_type": "markdown",
      "metadata": {
        "id": "6Z4PDWeajYPN"
      },
      "source": [
        "### **Seperate the data as features and label**"
      ]
    },
    {
      "cell_type": "code",
      "metadata": {
        "id": "HnenQg0oTxe8"
      },
      "source": [
        "# Seperate the data as features and label\n",
        "# Will ensure they are in Numpy form\n",
        "\n",
        "features_vader = df.iloc[:,[1,2]].values\n",
        "label_vader = df.iloc[:,[0]].values"
      ],
      "execution_count": null,
      "outputs": []
    },
    {
      "cell_type": "code",
      "metadata": {
        "id": "yepBo9HVT5RQ"
      },
      "source": [
        "# Creating an instance of PorterStemmer class, for stemming.\n",
        "stemObject = PorterStemmer()"
      ],
      "execution_count": null,
      "outputs": []
    },
    {
      "cell_type": "markdown",
      "metadata": {
        "id": "ESxNINyWjUNY"
      },
      "source": [
        "## **Performing Text Preprocessing**\n",
        "- **We will create a text preprocessing function that can perform the following:**\n",
        "  1. Remove Punctuations\n",
        "  2. Extract words out of the sentences\n",
        "  3. Normalize the data (lowercase)\n",
        "  4. Remove Stopwords\n",
        "  5. Apply Stemming"
      ]
    },
    {
      "cell_type": "code",
      "metadata": {
        "id": "Nr_0ZbHwUES_"
      },
      "source": [
        "def textPreprocessing(document):\n",
        "  #1. Remove Punctuations\n",
        "  sentWithoutPunct = ''.join([char for char in document if char not in string.punctuation])\n",
        "  #2. Extract words out of the sentences\n",
        "  words = sentWithoutPunct.split()\n",
        "  #3. Normalize the data (lowercase | Uppercase | NormalCase)\n",
        "  wordNormalized = [word.lower() for word in words]\n",
        "  # 4. Remove Stopwords\n",
        "  vocabulary = \" \".join([word for word in wordNormalized if word not in stop_words])\n",
        "  # 5. Apply Stemming\n",
        "  stem_words = ''.join([stemObject.stem(word) for word in vocabulary])\n",
        "\n",
        "  # 6. Extract words\n",
        "  vocab= stem_words.split()\n",
        "\n",
        "  return vocab"
      ],
      "execution_count": null,
      "outputs": []
    },
    {
      "cell_type": "markdown",
      "metadata": {
        "id": "tHBMVdb9jld6"
      },
      "source": [
        "## **Creating BOW**"
      ]
    },
    {
      "cell_type": "code",
      "metadata": {
        "id": "-X8afgxVUFyV"
      },
      "source": [
        "# Create BOW in SKlearn\n",
        "wordVector_vader = CountVectorizer(analyzer = textPreprocessing)\n",
        "\n",
        "#Build the Vocabulary\n",
        "finalWordVectorVocab_vader = wordVector_vader.fit(features_vader)\n",
        "\n",
        "# To create BOW\n",
        "bagOfWords_vader = finalWordVectorVocab_vader.transform(features_vader)"
      ],
      "execution_count": null,
      "outputs": []
    },
    {
      "cell_type": "markdown",
      "metadata": {
        "id": "pTxzAz35joHN"
      },
      "source": [
        "## **Vocabulary created**"
      ]
    },
    {
      "cell_type": "code",
      "metadata": {
        "colab": {
          "base_uri": "https://localhost:8080/"
        },
        "id": "Y7AAer8bUHQA",
        "outputId": "7399a397-9964-4ef6-8d4b-706a27d7f6df"
      },
      "source": [
        "# printing only first 10\n",
        "{key: finalWordVectorVocab_vader.vocabulary_[key] for key in finalWordVectorVocab_vader.vocabulary_.keys() & \\\n",
        " list(finalWordVectorVocab_vader.vocabulary_.keys())[:10]}"
      ],
      "execution_count": null,
      "outputs": [
        {
          "output_type": "execute_result",
          "data": {
            "text/plain": [
              "{'beautiful!': 10519,\n",
              " 'even': 24862,\n",
              " 'mind': 41670,\n",
              " 'non-gamer:': 44313,\n",
              " 'paints': 46883,\n",
              " 'senery': 56360,\n",
              " 'sound': 59059,\n",
              " 'stuning': 60838,\n",
              " 'track': 64542,\n",
              " 'well': 68683}"
            ]
          },
          "metadata": {},
          "execution_count": 15
        }
      ]
    },
    {
      "cell_type": "markdown",
      "metadata": {
        "id": "PAazpsYKjqj3"
      },
      "source": [
        "## **Apply TFIDF Algo on BOW to create a feature set**"
      ]
    },
    {
      "cell_type": "code",
      "metadata": {
        "id": "84pVlOdsUMJS"
      },
      "source": [
        "# Apply TFIDF Algo on BOW to create a feature set\n",
        "tfidfObject_vader = TfidfTransformer().fit(bagOfWords_vader)  #Calc IDF Values\n",
        "\n",
        "# Lets create Numeric Feature set\n",
        "processedFeatures_vader = tfidfObject_vader.transform(bagOfWords_vader)"
      ],
      "execution_count": null,
      "outputs": []
    },
    {
      "cell_type": "markdown",
      "metadata": {
        "id": "AXET6zZxjs7u"
      },
      "source": [
        "## **Model-Building and checking Generalization**\n",
        "- **Model with Vader Variable**\n",
        "  - using ``stratify = True`` in train_test_split\n",
        "  - hypertuning using ``random_state`` to obtain generalized model \n",
        "- **Model without Vader Variable**\n",
        "  - hypertuning using ``random_state`` to obtain generalized model "
      ]
    },
    {
      "cell_type": "markdown",
      "metadata": {
        "id": "9xwQZ4gjr3-f"
      },
      "source": [
        "## **Model with VADER Variable**"
      ]
    },
    {
      "cell_type": "markdown",
      "metadata": {
        "id": "HOP4K-HKkunU"
      },
      "source": [
        "**Hypertuning using ``random_state`` to generalize the model.**"
      ]
    },
    {
      "cell_type": "code",
      "metadata": {
        "colab": {
          "base_uri": "https://localhost:8080/"
        },
        "id": "fbDDqj6rUZdN",
        "outputId": "dd0bb0f1-b8a0-4676-a599-2676905e4fd1"
      },
      "source": [
        "for i in range(0,50,1):\n",
        "  # Create Train Test Split (90% training -10% testing)\n",
        "  X_train_vader, X_test_vader, y_train_vader, y_test_vader = train_test_split(processedFeatures_vader, label_vader, stratify = label_vader , test_size= 0.1, random_state = i)\n",
        "\n",
        "  model_vader = RandomForestClassifier(n_estimators = 9, max_depth = 9, random_state=i)\n",
        "  model_vader.fit(X_train_vader, y_train_vader)\n",
        "  train_score_vader = model_vader.score(X_train_vader, y_train_vader)\n",
        "  test_score_vader = model_vader.score(X_test_vader, y_test_vader)\n",
        "  if test_score_vader > train_score_vader and test_score_vader > CL:\n",
        "    print(f\"RandomState: {i}\")\n",
        "    print(f\"Score of Training set: \\n{train_score_vader}\")\n",
        "    print(f\"Score of Testing set: \\n{test_score_vader}\")\n",
        "    print(\"=\"*50)"
      ],
      "execution_count": null,
      "outputs": [
        {
          "output_type": "stream",
          "name": "stdout",
          "text": [
            "RandomState: 35\n",
            "Score of Training set: \n",
            "0.7318888888888889\n",
            "Score of Testing set: \n",
            "0.734\n",
            "==================================================\n"
          ]
        }
      ]
    },
    {
      "cell_type": "markdown",
      "metadata": {
        "id": "cFdQ9XInk0tH"
      },
      "source": [
        "**Using ``random_state = 35`` to train a generalized model created by including ``vader_variable``**"
      ]
    },
    {
      "cell_type": "code",
      "metadata": {
        "colab": {
          "base_uri": "https://localhost:8080/"
        },
        "id": "8ScLTxepP9Ck",
        "outputId": "9e0bc1eb-39cf-4e4e-d753-910d5c95e32a"
      },
      "source": [
        "X_train_vader, X_test_vader, y_train_vader, y_test_vader = train_test_split(processedFeatures_vader, label_vader, stratify = label_vader , test_size= 0.1, random_state = 35)\n",
        "\n",
        "model_vader = RandomForestClassifier(n_estimators = 9, max_depth = 9, random_state=35)\n",
        "model_vader.fit(X_train_vader, y_train_vader)\n",
        "train_score_vader = model_vader.score(X_train_vader, y_train_vader)\n",
        "test_score_vader = model_vader.score(X_test_vader, y_test_vader)\n",
        "print(f\"Score of Training set: \\n{train_score_vader}\")\n",
        "print(f\"Score of Testing set: \\n{test_score_vader}\")\n",
        "print(\"=\"*50)"
      ],
      "execution_count": null,
      "outputs": [
        {
          "output_type": "stream",
          "name": "stdout",
          "text": [
            "Score of Training set: \n",
            "0.7318888888888889\n",
            "Score of Testing set: \n",
            "0.734\n",
            "==================================================\n"
          ]
        }
      ]
    },
    {
      "cell_type": "markdown",
      "metadata": {
        "id": "2aGNdCnfog2H"
      },
      "source": [
        "#### **Observation:**\n",
        "\n",
        "---\n",
        "- Since model is generalized (test_score > train_score and test_score > CL).\n",
        "- **we can check the quality of model using ``f1-score``, as data is unbalanced.**\n"
      ]
    },
    {
      "cell_type": "markdown",
      "metadata": {
        "id": "ppJCq8WSlQon"
      },
      "source": [
        "**Quality check using ``f1-score`` (data is unbalanced)**"
      ]
    },
    {
      "cell_type": "code",
      "metadata": {
        "colab": {
          "base_uri": "https://localhost:8080/"
        },
        "id": "KadQKIUjUKaP",
        "outputId": "0ff4646a-2f32-41e4-dff9-93757d0b8e6d"
      },
      "source": [
        "pred_tr_vader = model_vader .predict(X_train_vader)\n",
        "pred_test_vader = model_vader .predict(X_test_vader)\n",
        "\n",
        "print(f\"Classification Report of Training Set: \\n{metrics.classification_report(pred_tr_vader, y_train_vader)}\\n\")\n",
        "print(f\"Classification Report of Test Set: \\n{metrics.classification_report(pred_test_vader, y_test_vader)}\\n\")"
      ],
      "execution_count": null,
      "outputs": [
        {
          "output_type": "stream",
          "name": "stdout",
          "text": [
            "Classification Report of Training Set: \n",
            "              precision    recall  f1-score   support\n",
            "\n",
            "         neg       0.77      0.72      0.74      4854\n",
            "         pos       0.70      0.74      0.72      4146\n",
            "\n",
            "    accuracy                           0.73      9000\n",
            "   macro avg       0.73      0.73      0.73      9000\n",
            "weighted avg       0.73      0.73      0.73      9000\n",
            "\n",
            "\n",
            "Classification Report of Test Set: \n",
            "              precision    recall  f1-score   support\n",
            "\n",
            "         neg       0.76      0.73      0.74       532\n",
            "         pos       0.71      0.74      0.72       468\n",
            "\n",
            "    accuracy                           0.73      1000\n",
            "   macro avg       0.73      0.73      0.73      1000\n",
            "weighted avg       0.74      0.73      0.73      1000\n",
            "\n",
            "\n"
          ]
        }
      ]
    },
    {
      "cell_type": "markdown",
      "metadata": {
        "id": "kvflLDIroC_3"
      },
      "source": [
        "### **Observation:**\n",
        "\n",
        "\n",
        "---\n",
        "- Since data is unbalanced we considered ``f1-score`` for Quality check of the model.\n",
        "- ``f1-score`` of training data < testing data for both class (0 and 1) \n",
        "- ``f1-score`` of test_set >= CL decided.\n",
        "- Therefore model can be considered for deployment.\n",
        "- We will also run the model with whole dataset available, check ``f1-score`` and compare with ``model_without_VADER_column``\n"
      ]
    },
    {
      "cell_type": "markdown",
      "metadata": {
        "id": "ufa-Qf0TrssW"
      },
      "source": [
        "## **Model without VADER variable**"
      ]
    },
    {
      "cell_type": "markdown",
      "metadata": {
        "id": "stsNvTVLl000"
      },
      "source": [
        "**Excluding the vader_variable and preprocessing whole data again**"
      ]
    },
    {
      "cell_type": "code",
      "metadata": {
        "id": "LV33WPiVuvYd"
      },
      "source": [
        "# Seperate the data as features and label\n",
        "# Will ensure they are in Numpy form\n",
        "\n",
        "features_no_vader = df.iloc[:,[1]].values\n",
        "label_no_vader = df.iloc[:,[0]].values\n",
        "\n",
        "# Create BOW in SKlearn\n",
        "wordVector_no_vader = CountVectorizer(analyzer = textPreprocessing)\n",
        "\n",
        "#Build the Vocabulary\n",
        "finalWordVectorVocab_no_vader = wordVector_no_vader.fit(features_no_vader)\n",
        "\n",
        "# To create BOW\n",
        "bagOfWords_no_vader = finalWordVectorVocab_no_vader.transform(features_no_vader)\n",
        "\n",
        "# Apply TFIDF Algo on BOW to create a feature set\n",
        "tfidfObject_no_vader = TfidfTransformer().fit(bagOfWords_no_vader)  #Calc IDF Values\n",
        "\n",
        "# Lets create Numeric Feature set\n",
        "processedFeatures_no_vader = tfidfObject_no_vader.transform(bagOfWords_no_vader)"
      ],
      "execution_count": null,
      "outputs": []
    },
    {
      "cell_type": "markdown",
      "metadata": {
        "id": "GjEv1Ry9mA2v"
      },
      "source": [
        "**Using different values of ``random_state`` to obtain a generalized model.**"
      ]
    },
    {
      "cell_type": "code",
      "metadata": {
        "colab": {
          "base_uri": "https://localhost:8080/"
        },
        "id": "GN_LlMMvgYN7",
        "outputId": "b5a64a6e-fe5e-46a1-d7db-e18cd01229b9"
      },
      "source": [
        "CL = 0.7\n",
        "for i in range(0,50,1):\n",
        "  # Create Train Test Split (90% training -10% testing)\n",
        "  X_train_no_vader, X_test_no_vader, y_train_no_vader, y_test_no_vader = train_test_split(processedFeatures_no_vader, label_no_vader , test_size= 0.1, random_state = i)\n",
        "\n",
        "  model_no_vader = RandomForestClassifier(n_estimators = 11, max_depth = 7, random_state=i)\n",
        "  model_no_vader.fit(X_train_no_vader, y_train_no_vader)\n",
        "  train_score_no_vader = model_no_vader.score(X_train_no_vader, y_train_no_vader)\n",
        "  test_score_no_vader = model_no_vader.score(X_test_no_vader, y_test_no_vader)\n",
        "  # Checking Generalization\n",
        "  if test_score_no_vader > train_score_no_vader and test_score_no_vader > CL  :\n",
        "    print(f\"random State:{i}\")\n",
        "    print(f\"Score of Training set: \\n{train_score_no_vader}\")\n",
        "    print(f\"Score of Testing set: \\n{test_score_no_vader}\")\n",
        "    print(\"=\"*50)"
      ],
      "execution_count": null,
      "outputs": [
        {
          "output_type": "stream",
          "name": "stdout",
          "text": [
            "random State:1\n",
            "Score of Training set: \n",
            "0.7002222222222222\n",
            "Score of Testing set: \n",
            "0.71\n",
            "==================================================\n",
            "random State:44\n",
            "Score of Training set: \n",
            "0.728\n",
            "Score of Testing set: \n",
            "0.733\n",
            "==================================================\n"
          ]
        }
      ]
    },
    {
      "cell_type": "markdown",
      "metadata": {
        "id": "KafCyilpmWgQ"
      },
      "source": [
        "**Using ``random_state = 44`` to train a generalized model created by excluding ``vader_variable``**"
      ]
    },
    {
      "cell_type": "code",
      "metadata": {
        "colab": {
          "base_uri": "https://localhost:8080/"
        },
        "id": "f1xj5dRHPpha",
        "outputId": "5cac40cd-e44a-4d9e-a2dc-8669fa49666d"
      },
      "source": [
        "X_train_no_vader, X_test_no_vader, y_train_no_vader, y_test_no_vader = train_test_split(processedFeatures_no_vader, label_no_vader , test_size= 0.1, random_state = 44)\n",
        "\n",
        "model_no_vader = RandomForestClassifier(n_estimators = 11, max_depth = 7, random_state=44)\n",
        "model_no_vader.fit(X_train_no_vader, y_train_no_vader)\n",
        "train_score_no_vader = model_no_vader.score(X_train_no_vader, y_train_no_vader)\n",
        "test_score_no_vader = model_no_vader.score(X_test_no_vader, y_test_no_vader)\n",
        "print(f\"Score of Training set: \\n{train_score_no_vader}\")\n",
        "print(f\"Score of Testing set: \\n{test_score_no_vader}\")\n",
        "print(\"=\"*50)"
      ],
      "execution_count": null,
      "outputs": [
        {
          "output_type": "stream",
          "name": "stdout",
          "text": [
            "Score of Training set: \n",
            "0.728\n",
            "Score of Testing set: \n",
            "0.733\n",
            "==================================================\n"
          ]
        }
      ]
    },
    {
      "cell_type": "markdown",
      "metadata": {
        "id": "cx79xx0jo8Hs"
      },
      "source": [
        "#### **Observation:**\n",
        "\n",
        "---\n",
        "- Since model is generalized (test_score > train_score and test_score > CL).\n",
        "- **we can check the quality of model using ``f1-score``, as data is unbalanced.**\n"
      ]
    },
    {
      "cell_type": "markdown",
      "metadata": {
        "id": "a3gprSPemkN5"
      },
      "source": [
        "**Quality check using ``f1-score`` (data is unbalanced)**"
      ]
    },
    {
      "cell_type": "code",
      "metadata": {
        "colab": {
          "base_uri": "https://localhost:8080/"
        },
        "id": "hIZ2kbvSUbBt",
        "outputId": "a14dc8bb-085f-4735-ea88-589a652d222e"
      },
      "source": [
        "pred_tr_no_vader = model_no_vader.predict(X_train_no_vader)\n",
        "pred_test_no_vader = model_no_vader.predict(X_test_no_vader)\n",
        "\n",
        "print(f\"Classification Report of Training Set: \\n{metrics.classification_report(pred_tr_no_vader, y_train_no_vader)}\\n\")\n",
        "print(f\"Classification Report of Test Set: \\n{metrics.classification_report(pred_test_no_vader, y_test_no_vader)}\\n\")"
      ],
      "execution_count": null,
      "outputs": [
        {
          "output_type": "stream",
          "name": "stdout",
          "text": [
            "Classification Report of Training Set: \n",
            "              precision    recall  f1-score   support\n",
            "\n",
            "         neg       0.77      0.72      0.74      4892\n",
            "         pos       0.69      0.74      0.71      4108\n",
            "\n",
            "    accuracy                           0.73      9000\n",
            "   macro avg       0.73      0.73      0.73      9000\n",
            "weighted avg       0.73      0.73      0.73      9000\n",
            "\n",
            "\n",
            "Classification Report of Test Set: \n",
            "              precision    recall  f1-score   support\n",
            "\n",
            "         neg       0.76      0.73      0.74       536\n",
            "         pos       0.70      0.74      0.72       464\n",
            "\n",
            "    accuracy                           0.73      1000\n",
            "   macro avg       0.73      0.73      0.73      1000\n",
            "weighted avg       0.73      0.73      0.73      1000\n",
            "\n",
            "\n"
          ]
        }
      ]
    },
    {
      "cell_type": "markdown",
      "metadata": {
        "id": "r4U9iBgcpA6y"
      },
      "source": [
        "### **Observation:**\n",
        "\n",
        "\n",
        "---\n",
        "- Since data is unbalanced we considered ``f1-score`` for Quality check of the model.\n",
        "- ``f1-score`` of training data < testing data for both class (pos and neg) \n",
        "- ``f1-score`` of test_set >= CL decided.\n",
        "- Therefore model can be considered for deployment.\n",
        "- We will also run the model with whole dataset available, check ``f1-score`` and compare with ``model_without_VADER_column``\n"
      ]
    },
    {
      "cell_type": "markdown",
      "metadata": {
        "id": "AbjFy8MYWg4e"
      },
      "source": [
        "## **Let's Compare two models on whole dataset:**\n",
        "- Model with VADER column\n",
        "- Model without VADER column"
      ]
    },
    {
      "cell_type": "code",
      "metadata": {
        "id": "GZ-DOAQHcLZp",
        "colab": {
          "base_uri": "https://localhost:8080/"
        },
        "outputId": "3ed014c3-ba93-4001-a526-286ae07b41ae"
      },
      "source": [
        "pred_no_vader = model_no_vader.predict(processedFeatures_no_vader)\n",
        "pred_vader = model_vader.predict(processedFeatures_vader)\n",
        "\n",
        "print(f\"Classification Report of NON-VADER: \\n{metrics.classification_report(pred_no_vader, label_no_vader)}\\n\")\n",
        "print(f\"Classification Report of VADER: \\n{metrics.classification_report(pred_vader, label_vader)}\\n\")"
      ],
      "execution_count": null,
      "outputs": [
        {
          "output_type": "stream",
          "name": "stdout",
          "text": [
            "Classification Report of NON-VADER: \n",
            "              precision    recall  f1-score   support\n",
            "\n",
            "         neg       0.77      0.72      0.74      5428\n",
            "         pos       0.69      0.74      0.71      4572\n",
            "\n",
            "    accuracy                           0.73     10000\n",
            "   macro avg       0.73      0.73      0.73     10000\n",
            "weighted avg       0.73      0.73      0.73     10000\n",
            "\n",
            "\n",
            "Classification Report of VADER: \n",
            "              precision    recall  f1-score   support\n",
            "\n",
            "         neg       0.77      0.72      0.74      5386\n",
            "         pos       0.70      0.74      0.72      4614\n",
            "\n",
            "    accuracy                           0.73     10000\n",
            "   macro avg       0.73      0.73      0.73     10000\n",
            "weighted avg       0.73      0.73      0.73     10000\n",
            "\n",
            "\n"
          ]
        }
      ]
    },
    {
      "cell_type": "markdown",
      "metadata": {
        "id": "v8TpNcxFnfC3"
      },
      "source": [
        "## **Observation:**\n",
        "- Model with vader_col is slightly better.\n",
        "- Both models are generalized and satisfactory quality-wise.\n",
        "- We can deploy both models."
      ]
    },
    {
      "cell_type": "markdown",
      "metadata": {
        "id": "k2N-mdPCpR8D"
      },
      "source": [
        "## **Code for Deployement:**\n",
        "**We will check prediction by both models on a given review**\n",
        "- Take the review from user as input.\n",
        "- Perform All preprocessing step on the given review.\n",
        "- Pass the preprocessed review to model and get prediction. "
      ]
    },
    {
      "cell_type": "code",
      "metadata": {
        "colab": {
          "base_uri": "https://localhost:8080/"
        },
        "id": "_NwpLtBrpWu8",
        "outputId": "07b54c19-5e87-40ae-c4ef-2e356abfba47"
      },
      "source": [
        "print(df.iloc[33])\n",
        "print()\n",
        "print(df['review'].iloc[33])"
      ],
      "execution_count": null,
      "outputs": [
        {
          "output_type": "stream",
          "name": "stdout",
          "text": [
            "label                                                           pos\n",
            "review            Is this great TV??? You bet it is: Hotel Babyl...\n",
            "labelFromVADER                                                  pos\n",
            "Name: 33, dtype: object\n",
            "\n",
            "Is this great TV??? You bet it is: Hotel Babylon is not just good TV...it is great TV!!!! The show features some incredible acting from Tamzin Outhwaite (formerly of EastEnders, a BBC soap) and Max Beesley (from the ill-fated movie \"Glitter\" starring Mariah Carey). The show could make for a great drama series, but I felt that it is a mix of a drama, comedy, and soap opera all mixed into a great BBC show. The show aired on BBC America for a while but did not get around to seeing it. I can now say that I got the DVD set and all the episodes are great. The season finale was an interesting to watch.The show reminds me of Hotel which aired on ABC from 1983 to 1988. The reason...Hotel was set at a fictional San Francisco hotel as Hotel Babylon was set at a luxury five-star hotel in England.I recommend this DVD to anyone who is willing to watch a great show from the BBC.\n"
          ]
        }
      ]
    },
    {
      "cell_type": "markdown",
      "metadata": {
        "id": "HqY2uSiaqcP8"
      },
      "source": [
        "**Deployement using ``model_vader`` i.e. model with VADER col**"
      ]
    },
    {
      "cell_type": "code",
      "metadata": {
        "colab": {
          "base_uri": "https://localhost:8080/"
        },
        "id": "iCDR0j7lpdZb",
        "outputId": "2c033b81-b251-4ec2-e378-73c0b1cef9ba"
      },
      "source": [
        "# Take the review from user as input.\n",
        "query_review = input(\"Enter an Amazon review: \")\n",
        "\n",
        "# Perform All preprocessing step on the given review.\n",
        "decon_query = decontracted(query_review)\n",
        "preprocessed_query = textPreprocessing(decon_query)  \n",
        "bagOfWords = finalWordVectorVocab_vader.transform(preprocessed_query)\n",
        "processedquery = tfidfObject_vader.transform(bagOfWords)\n",
        "print(f\"\\nPredictions: {model_vader.predict(processedquery)}\\n\")\n",
        "print(f\"Selecting first value as final prediction : {model_vader.predict(processedquery)[0]}\\n\")\n",
        "print(f\"Selecting mode as final prediction : {statistics.mode(model_vader.predict(processedquery))}\\n\")"
      ],
      "execution_count": null,
      "outputs": [
        {
          "output_type": "stream",
          "name": "stdout",
          "text": [
            "Enter an Amazon review: Is this great TV??? You bet it is: Hotel Babylon is not just good TV...it is great TV!!!! The show features some incredible acting from Tamzin Outhwaite (formerly of EastEnders, a BBC soap) and Max Beesley (from the ill-fated movie \"Glitter\" starring Mariah Carey). The show could make for a great drama series, but I felt that it is a mix of a drama, comedy, and soap opera all mixed into a great BBC show. The show aired on BBC America for a while but did not get around to seeing it. I can now say that I got the DVD set and all the episodes are great. The season finale was an interesting to watch.The show reminds me of Hotel which aired on ABC from 1983 to 1988. The reason...Hotel was set at a fictional San Francisco hotel as Hotel Babylon was set at a luxury five-star hotel in England.I recommend this DVD to anyone who is willing to watch a great show from the BBC.\n",
            "\n",
            "Predictions: ['pos' 'pos' 'pos' 'pos' 'pos' 'neg' 'pos' 'pos' 'pos' 'pos' 'pos' 'pos'\n",
            " 'pos' 'pos' 'pos' 'pos' 'pos' 'pos' 'pos' 'pos' 'pos' 'pos' 'pos' 'pos'\n",
            " 'pos' 'pos' 'pos' 'pos' 'pos' 'pos' 'pos' 'pos' 'pos' 'pos' 'pos' 'pos'\n",
            " 'pos' 'pos' 'pos' 'pos' 'pos' 'pos' 'pos' 'pos' 'pos' 'pos' 'pos' 'pos'\n",
            " 'neg' 'pos' 'pos' 'pos' 'pos' 'pos' 'pos' 'pos' 'pos' 'pos' 'pos' 'pos'\n",
            " 'pos' 'pos' 'pos' 'pos' 'pos' 'pos' 'pos' 'pos' 'pos' 'pos' 'pos' 'pos'\n",
            " 'pos' 'pos' 'pos' 'pos' 'pos' 'pos' 'pos' 'pos' 'pos' 'pos' 'pos' 'pos'\n",
            " 'pos' 'pos' 'pos' 'pos' 'pos' 'pos']\n",
            "\n",
            "Selecting first value as final prediction : pos\n",
            "\n",
            "Selecting mode as final prediction : pos\n",
            "\n"
          ]
        }
      ]
    },
    {
      "cell_type": "markdown",
      "metadata": {
        "id": "iJY2SgM_qmS9"
      },
      "source": [
        "**Deployement using ``model_vader`` i.e. model with VADER col**"
      ]
    },
    {
      "cell_type": "code",
      "metadata": {
        "colab": {
          "base_uri": "https://localhost:8080/"
        },
        "id": "sml6kNm4qLfs",
        "outputId": "a729267e-9473-41b8-bd35-f43faa887659"
      },
      "source": [
        "# Take the review from user as input.\n",
        "query_review = input(\"Enter an Amazon review: \")\n",
        "\n",
        "# Perform All preprocessing step on the given review.\n",
        "decon_query = decontracted(query_review)\n",
        "preprocessed_query = textPreprocessing(decon_query)  \n",
        "bagOfWords = finalWordVectorVocab_no_vader.transform(preprocessed_query)\n",
        "processedquery = tfidfObject_no_vader.transform(bagOfWords)\n",
        "print(f\"\\nPredictions: {model_no_vader.predict(processedquery)}\\n\")\n",
        "print(f\"Selecting first value as final prediction : {model_no_vader.predict(processedquery)[0]}\\n\")\n",
        "print(f\"Selecting mode as final prediction : {statistics.mode(model_no_vader.predict(processedquery))}\\n\")"
      ],
      "execution_count": null,
      "outputs": [
        {
          "output_type": "stream",
          "name": "stdout",
          "text": [
            "Enter an Amazon review: Is this great TV??? You bet it is: Hotel Babylon is not just good TV...it is great TV!!!! The show features some incredible acting from Tamzin Outhwaite (formerly of EastEnders, a BBC soap) and Max Beesley (from the ill-fated movie \"Glitter\" starring Mariah Carey). The show could make for a great drama series, but I felt that it is a mix of a drama, comedy, and soap opera all mixed into a great BBC show. The show aired on BBC America for a while but did not get around to seeing it. I can now say that I got the DVD set and all the episodes are great. The season finale was an interesting to watch.The show reminds me of Hotel which aired on ABC from 1983 to 1988. The reason...Hotel was set at a fictional San Francisco hotel as Hotel Babylon was set at a luxury five-star hotel in England.I recommend this DVD to anyone who is willing to watch a great show from the BBC.\n",
            "\n",
            "Predictions: ['pos' 'pos' 'pos' 'pos' 'pos' 'neg' 'pos' 'pos' 'pos' 'pos' 'pos' 'pos'\n",
            " 'pos' 'pos' 'pos' 'pos' 'pos' 'pos' 'pos' 'pos' 'pos' 'pos' 'pos' 'neg'\n",
            " 'pos' 'pos' 'pos' 'pos' 'pos' 'pos' 'pos' 'pos' 'pos' 'pos' 'pos' 'pos'\n",
            " 'pos' 'pos' 'pos' 'pos' 'pos' 'pos' 'pos' 'pos' 'pos' 'pos' 'pos' 'pos'\n",
            " 'neg' 'pos' 'pos' 'pos' 'pos' 'pos' 'pos' 'pos' 'pos' 'pos' 'pos' 'pos'\n",
            " 'pos' 'pos' 'pos' 'pos' 'pos' 'pos' 'pos' 'pos' 'pos' 'pos' 'pos' 'pos'\n",
            " 'pos' 'pos' 'pos' 'pos' 'pos' 'pos' 'pos' 'pos' 'pos' 'pos' 'pos' 'pos'\n",
            " 'pos' 'pos' 'pos' 'pos' 'pos' 'pos']\n",
            "\n",
            "Selecting first value as final prediction : pos\n",
            "\n",
            "Selecting mode as final prediction : pos\n",
            "\n"
          ]
        }
      ]
    }
  ]
}