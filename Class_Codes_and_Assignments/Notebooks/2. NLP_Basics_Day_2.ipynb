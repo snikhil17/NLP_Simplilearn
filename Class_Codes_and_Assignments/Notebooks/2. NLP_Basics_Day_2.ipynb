{
  "nbformat": 4,
  "nbformat_minor": 0,
  "metadata": {
    "colab": {
      "name": "NLP_Basics_Day-2.ipynb",
      "provenance": []
    },
    "kernelspec": {
      "name": "python3",
      "display_name": "Python 3"
    },
    "language_info": {
      "name": "python"
    }
  },
  "cells": [
    {
      "cell_type": "markdown",
      "metadata": {
        "id": "DyvFpN_JyW9i"
      },
      "source": [
        "# **Explaination of individual Stages**"
      ]
    },
    {
      "cell_type": "markdown",
      "metadata": {
        "id": "ehma5OrjykAT"
      },
      "source": [
        "## **NLP packages**\n",
        "- NLTK package (Moreover programmer friendly, hardcore programmer)\n",
        "- Spacy package (Data Science | Analysis Friendly , not required to be hardcore programmer)"
      ]
    },
    {
      "cell_type": "markdown",
      "metadata": {
        "id": "7MTyyEfoy_P3"
      },
      "source": [
        "# **Spacy Basics**"
      ]
    },
    {
      "cell_type": "code",
      "metadata": {
        "id": "PbTVyTEwzBd5"
      },
      "source": [
        "import spacy"
      ],
      "execution_count": null,
      "outputs": []
    },
    {
      "cell_type": "markdown",
      "metadata": {
        "id": "9zBCV_rpzro1"
      },
      "source": [
        "## **Download the Language Model**"
      ]
    },
    {
      "cell_type": "code",
      "metadata": {
        "id": "1HjEKhqTzGlS"
      },
      "source": [
        "! python3 -m spacy download en_core_web_sm "
      ],
      "execution_count": null,
      "outputs": []
    },
    {
      "cell_type": "markdown",
      "metadata": {
        "id": "RLsk3VvY0NX0"
      },
      "source": [
        "### **Check whether spacy is working or not**"
      ]
    },
    {
      "cell_type": "code",
      "metadata": {
        "id": "qru-yPqs0VeS"
      },
      "source": [
        "import spacy"
      ],
      "execution_count": null,
      "outputs": []
    },
    {
      "cell_type": "code",
      "metadata": {
        "id": "YPAi8fZVzcPy"
      },
      "source": [
        "nlp = spacy.load('en_core_web_sm')"
      ],
      "execution_count": null,
      "outputs": []
    },
    {
      "cell_type": "markdown",
      "metadata": {
        "id": "FHuCP8a51mB7"
      },
      "source": [
        "## **Work with Spacy**"
      ]
    },
    {
      "cell_type": "code",
      "metadata": {
        "id": "aW_Sr1AU0XP4"
      },
      "source": [
        "data = \"Tesla is looking at buying U.S. startups for $6 million\"\n",
        "\n",
        "# passed the data to Spacy \n",
        "output = nlp(data)"
      ],
      "execution_count": null,
      "outputs": []
    },
    {
      "cell_type": "code",
      "metadata": {
        "colab": {
          "base_uri": "https://localhost:8080/"
        },
        "id": "Tg0navVn08GM",
        "outputId": "89b3298e-7e69-4055-b386-2aa7d45432de"
      },
      "source": [
        "for element in output:\n",
        "  print(element.text, element.pos_)"
      ],
      "execution_count": null,
      "outputs": [
        {
          "output_type": "stream",
          "name": "stdout",
          "text": [
            "Tesla PROPN\n",
            "is AUX\n",
            "looking VERB\n",
            "at ADP\n",
            "buying VERB\n",
            "U.S. PROPN\n",
            "startups NOUN\n",
            "for ADP\n",
            "$ SYM\n",
            "6 NUM\n",
            "million NUM\n"
          ]
        }
      ]
    },
    {
      "cell_type": "markdown",
      "metadata": {
        "id": "WMtuW1Lg1xo8"
      },
      "source": [
        "# **Tokenization**"
      ]
    },
    {
      "cell_type": "markdown",
      "metadata": {
        "id": "AFmgPCKn3Ld2"
      },
      "source": [
        "### **Example-1**"
      ]
    },
    {
      "cell_type": "code",
      "metadata": {
        "colab": {
          "base_uri": "https://localhost:8080/",
          "height": 36
        },
        "id": "6vDnTpbC1NiT",
        "outputId": "2107d925-b722-4841-8686-728e297231f2"
      },
      "source": [
        "stringData = \"We're moving to Bangalore!\"\n",
        "stringData"
      ],
      "execution_count": null,
      "outputs": [
        {
          "output_type": "execute_result",
          "data": {
            "application/vnd.google.colaboratory.intrinsic+json": {
              "type": "string"
            },
            "text/plain": [
              "\"We're moving to Bangalore!\""
            ]
          },
          "metadata": {},
          "execution_count": 11
        }
      ]
    },
    {
      "cell_type": "code",
      "metadata": {
        "id": "7HE0xKzh2JNu"
      },
      "source": [
        "output = nlp(stringData)"
      ],
      "execution_count": null,
      "outputs": []
    },
    {
      "cell_type": "code",
      "metadata": {
        "colab": {
          "base_uri": "https://localhost:8080/"
        },
        "id": "-2vIZ29P2OU9",
        "outputId": "c8a8ae05-9dc8-44e7-f031-bacf2c54001c"
      },
      "source": [
        "for tokens in output:\n",
        "  print(tokens.text)"
      ],
      "execution_count": null,
      "outputs": [
        {
          "output_type": "stream",
          "name": "stdout",
          "text": [
            "We\n",
            "'re\n",
            "moving\n",
            "to\n",
            "Bangalore\n",
            "!\n"
          ]
        }
      ]
    },
    {
      "cell_type": "markdown",
      "metadata": {
        "id": "z0566rsJ3O_1"
      },
      "source": [
        "### **Example-2**"
      ]
    },
    {
      "cell_type": "code",
      "metadata": {
        "id": "SV3trBf62SYV"
      },
      "source": [
        "output2 = nlp(u\"We are here to help you! Send your concerns @prashant@teacher.com or visit us @ http://teacher.com/support\")"
      ],
      "execution_count": null,
      "outputs": []
    },
    {
      "cell_type": "code",
      "metadata": {
        "colab": {
          "base_uri": "https://localhost:8080/"
        },
        "id": "XsWYdYnD2wi5",
        "outputId": "e760d87a-1a31-4b0c-f73c-9a43c626d862"
      },
      "source": [
        "for tokens in output2:\n",
        "  print(tokens.text, tokens.pos_)"
      ],
      "execution_count": null,
      "outputs": [
        {
          "output_type": "stream",
          "name": "stdout",
          "text": [
            "We PRON\n",
            "are AUX\n",
            "here ADV\n",
            "to PART\n",
            "help VERB\n",
            "you PRON\n",
            "! PUNCT\n",
            "Send VERB\n",
            "your DET\n",
            "concerns NOUN\n",
            "@prashant@teacher.com PUNCT\n",
            "or CCONJ\n",
            "visit VERB\n",
            "us PRON\n",
            "@ ADP\n",
            "http://teacher.com/support NOUN\n"
          ]
        }
      ]
    },
    {
      "cell_type": "markdown",
      "metadata": {
        "id": "uClOt0cg3R-J"
      },
      "source": [
        ""
      ]
    },
    {
      "cell_type": "code",
      "metadata": {
        "colab": {
          "base_uri": "https://localhost:8080/"
        },
        "id": "CLGx2KAq20O2",
        "outputId": "3be1f281-bf3b-4e64-aeb1-e0f3f5081e56"
      },
      "source": [
        "output3 = nlp(u\"Let's visit St. Louis in the U.S. next year.\")\n",
        "for tokens in output3:\n",
        "  print(tokens.text, tokens.pos_)"
      ],
      "execution_count": null,
      "outputs": [
        {
          "output_type": "stream",
          "name": "stdout",
          "text": [
            "Let VERB\n",
            "'s PRON\n",
            "visit VERB\n",
            "St. PROPN\n",
            "Louis PROPN\n",
            "in ADP\n",
            "the DET\n",
            "U.S. PROPN\n",
            "next ADJ\n",
            "year NOUN\n",
            ". PUNCT\n"
          ]
        }
      ]
    },
    {
      "cell_type": "markdown",
      "metadata": {
        "id": "rAoz9yzj3vdo"
      },
      "source": [
        "# **Named Entitiy Recognition (NER )**"
      ]
    },
    {
      "cell_type": "code",
      "metadata": {
        "colab": {
          "base_uri": "https://localhost:8080/"
        },
        "id": "lh9wWb-73gvX",
        "outputId": "53ebdd3b-71d1-4ce7-fcda-77632f7db60d"
      },
      "source": [
        "output4 = nlp(u\"Apple to build a Hong Kong and Mumbai factory for $10 million with Simplilearn and Microsoft\")\n",
        "for tokens in output4:\n",
        "  print(tokens.text)"
      ],
      "execution_count": null,
      "outputs": [
        {
          "output_type": "stream",
          "name": "stdout",
          "text": [
            "Apple\n",
            "to\n",
            "build\n",
            "a\n",
            "Hong\n",
            "Kong\n",
            "and\n",
            "Mumbai\n",
            "factory\n",
            "for\n",
            "$\n",
            "10\n",
            "million\n",
            "with\n",
            "Simplilearn\n",
            "and\n",
            "Microsoft\n"
          ]
        }
      ]
    },
    {
      "cell_type": "markdown",
      "metadata": {
        "id": "oIcfvA7J4Vg9"
      },
      "source": [
        "## **For NER we need to call ``.ents`` function**\n",
        "- Hong kong as GPE (Geopolitical Entity)\n",
        "- Apple - Organisation\n",
        "- Stopwords removed\n",
        "- $10 million is MONEY"
      ]
    },
    {
      "cell_type": "code",
      "metadata": {
        "colab": {
          "base_uri": "https://localhost:8080/"
        },
        "id": "TBeBUF9S4Bri",
        "outputId": "a04c4fea-85fd-4413-c273-782796182b1c"
      },
      "source": [
        "for tokens in output4.ents:\n",
        "  print(tokens.text, tokens.label_, spacy.explain(tokens.label_))"
      ],
      "execution_count": null,
      "outputs": [
        {
          "output_type": "stream",
          "name": "stdout",
          "text": [
            "Apple ORG Companies, agencies, institutions, etc.\n",
            "Hong Kong GPE Countries, cities, states\n",
            "Mumbai GPE Countries, cities, states\n",
            "$10 million MONEY Monetary values, including unit\n",
            "Simplilearn PRODUCT Objects, vehicles, foods, etc. (not services)\n",
            "Microsoft ORG Companies, agencies, institutions, etc.\n"
          ]
        }
      ]
    },
    {
      "cell_type": "markdown",
      "metadata": {
        "id": "t_6cOvBn56Jt"
      },
      "source": [
        "## **Exception**"
      ]
    },
    {
      "cell_type": "code",
      "metadata": {
        "colab": {
          "base_uri": "https://localhost:8080/"
        },
        "id": "fqSN8Zs04hud",
        "outputId": "f2561714-e2d7-481e-d2d8-c6ed12bcd76a"
      },
      "source": [
        "output5 = nlp(u\"We eat Apple\")\n",
        "for tokens in output5.ents:\n",
        "  print(tokens.text, tokens.label_, spacy.explain(tokens.label_))"
      ],
      "execution_count": null,
      "outputs": [
        {
          "output_type": "stream",
          "name": "stdout",
          "text": [
            "Apple ORG Companies, agencies, institutions, etc.\n"
          ]
        }
      ]
    },
    {
      "cell_type": "code",
      "metadata": {
        "colab": {
          "base_uri": "https://localhost:8080/"
        },
        "id": "UoxEzYi65Yyf",
        "outputId": "7a7c87af-ba32-49de-ac27-998daaaf71be"
      },
      "source": [
        "output6 = nlp(u\"Elon Musk is the founder of Tesla and Prashant Nair is the trainer of NLP!\")\n",
        "for tokens in output6.ents:\n",
        "  print(tokens.text, tokens.label_, spacy.explain(tokens.label_))"
      ],
      "execution_count": null,
      "outputs": [
        {
          "output_type": "stream",
          "name": "stdout",
          "text": [
            "Elon Musk PERSON People, including fictional\n",
            "Tesla and Prashant Nair ORG Companies, agencies, institutions, etc.\n",
            "NLP ORG Companies, agencies, institutions, etc.\n"
          ]
        }
      ]
    },
    {
      "cell_type": "markdown",
      "metadata": {
        "id": "025JquIn6SAK"
      },
      "source": [
        "### **Rs. 10 crore not recognized as money, Indian words not recognized.**"
      ]
    },
    {
      "cell_type": "code",
      "metadata": {
        "colab": {
          "base_uri": "https://localhost:8080/"
        },
        "id": "Ni1Dh4TN5zi6",
        "outputId": "bef3c5f9-15af-45ba-fd74-767d4cde3d1b"
      },
      "source": [
        "output7 = nlp(u\"Chaiwala Inc has the turnover of Rs.10 crore\")\n",
        "for tokens in output7.ents:\n",
        "  print(tokens.text, tokens.label_, spacy.explain(tokens.label_))"
      ],
      "execution_count": null,
      "outputs": [
        {
          "output_type": "stream",
          "name": "stdout",
          "text": [
            "Chaiwala Inc ORG Companies, agencies, institutions, etc.\n"
          ]
        }
      ]
    },
    {
      "cell_type": "markdown",
      "metadata": {
        "id": "zYdywuRp6mEC"
      },
      "source": [
        "# **Stemming**"
      ]
    },
    {
      "cell_type": "code",
      "metadata": {
        "id": "7uARNir-6QYd"
      },
      "source": [
        "import nltk\n",
        "from nltk.stem.porter import PorterStemmer"
      ],
      "execution_count": null,
      "outputs": []
    },
    {
      "cell_type": "code",
      "metadata": {
        "id": "Svq1ORsj6wvw"
      },
      "source": [
        "stemObject = PorterStemmer()"
      ],
      "execution_count": null,
      "outputs": []
    },
    {
      "cell_type": "code",
      "metadata": {
        "colab": {
          "base_uri": "https://localhost:8080/"
        },
        "id": "opECnPVi67On",
        "outputId": "48d4f91c-0d9e-4cc9-e0eb-afe762a3bd76"
      },
      "source": [
        "words = [\"branching\", \"branched\", \"branches\"]\n",
        "for word in words:\n",
        "  print(f\"{word}, {stemObject.stem(word)}\")"
      ],
      "execution_count": null,
      "outputs": [
        {
          "output_type": "stream",
          "name": "stdout",
          "text": [
            "branching, branch\n",
            "branched, branch\n",
            "branches, branch\n"
          ]
        }
      ]
    },
    {
      "cell_type": "markdown",
      "metadata": {
        "id": "zCoZmuvX7a-K"
      },
      "source": [
        "## **Following is defect for NLU but not for Machine Learning.**"
      ]
    },
    {
      "cell_type": "code",
      "metadata": {
        "colab": {
          "base_uri": "https://localhost:8080/"
        },
        "id": "BtlJHR7l7LLy",
        "outputId": "23f42997-fdfe-4cd8-df1f-12c494e85704"
      },
      "source": [
        "words1 = [\"caching\", \"cached\", \"caches\"]\n",
        "for word in words1:\n",
        "  print(f\"{word}, {stemObject.stem(word)}\")"
      ],
      "execution_count": null,
      "outputs": [
        {
          "output_type": "stream",
          "name": "stdout",
          "text": [
            "caching, cach\n",
            "cached, cach\n",
            "caches, cach\n"
          ]
        }
      ]
    },
    {
      "cell_type": "code",
      "metadata": {
        "colab": {
          "base_uri": "https://localhost:8080/"
        },
        "id": "Mc7v7KJ57ZJR",
        "outputId": "d7a27996-cb59-457e-fba9-0bb5545c5d35"
      },
      "source": [
        "words1 = [\"easy\", \"easily\"]\n",
        "for word in words1:\n",
        "  print(f\"{word}, {stemObject.stem(word)}\")"
      ],
      "execution_count": null,
      "outputs": [
        {
          "output_type": "stream",
          "name": "stdout",
          "text": [
            "easy, easi\n",
            "easily, easili\n"
          ]
        }
      ]
    },
    {
      "cell_type": "code",
      "metadata": {
        "colab": {
          "base_uri": "https://localhost:8080/"
        },
        "id": "6Khlgv-U8Nwu",
        "outputId": "7972f94c-77f1-4e3d-908f-4775db7d2c88"
      },
      "source": [
        "words1 = [\"running\", \"runner\", \"run\", \"ran\"]\n",
        "for word in words1:\n",
        "  print(f\"{word}, {stemObject.stem(word)}\")"
      ],
      "execution_count": null,
      "outputs": [
        {
          "output_type": "stream",
          "name": "stdout",
          "text": [
            "running, run\n",
            "runner, runner\n",
            "run, run\n",
            "ran, ran\n"
          ]
        }
      ]
    },
    {
      "cell_type": "markdown",
      "metadata": {
        "id": "1NnOzVzs7sZ9"
      },
      "source": [
        "# **Lemmatization**\n",
        "- Spacy Lemmatization is better"
      ]
    },
    {
      "cell_type": "code",
      "metadata": {
        "colab": {
          "base_uri": "https://localhost:8080/"
        },
        "id": "K3oa9EFm7kP9",
        "outputId": "cdf2a140-eb92-4b5e-d408-16d1e914eb3d"
      },
      "source": [
        "output8 = nlp(u\"I am a runner running in a race because I love to run since I ran today\")\n",
        "\n",
        "for element in output8:\n",
        "  print(f\"{element.text}, {element.lemma_}\")"
      ],
      "execution_count": null,
      "outputs": [
        {
          "output_type": "stream",
          "name": "stdout",
          "text": [
            "I, -PRON-\n",
            "am, be\n",
            "a, a\n",
            "runner, runner\n",
            "running, run\n",
            "in, in\n",
            "a, a\n",
            "race, race\n",
            "because, because\n",
            "I, -PRON-\n",
            "love, love\n",
            "to, to\n",
            "run, run\n",
            "since, since\n",
            "I, -PRON-\n",
            "ran, run\n",
            "today, today\n"
          ]
        }
      ]
    },
    {
      "cell_type": "markdown",
      "metadata": {
        "id": "ly3XILFd8x6i"
      },
      "source": [
        "# **Stopwords**"
      ]
    },
    {
      "cell_type": "code",
      "metadata": {
        "colab": {
          "base_uri": "https://localhost:8080/"
        },
        "id": "yrHk9NSG8xkD",
        "outputId": "7cdbfa84-3122-46d5-9241-5115b251bced"
      },
      "source": [
        "print(nlp.Defaults.stop_words)"
      ],
      "execution_count": null,
      "outputs": [
        {
          "output_type": "stream",
          "name": "stdout",
          "text": [
            "{'we', \"'m\", 'onto', 'she', 'through', 'them', 'towards', 'because', 'can', 'hence', 'thereby', 'might', 'again', 'in', 'whence', 'since', 'whereafter', 'became', 'using', 'toward', 'beyond', 'is', 'though', '’re', 'around', 'yourselves', '‘re', 'fifty', 'it', 'show', 'under', 'behind', 'throughout', 'nowhere', 'thence', 'perhaps', 'enough', 'among', 'already', 'each', 'such', \"'re\", 'thereupon', 'and', 'wherever', 'into', 'quite', 'others', 'either', 'you', 'once', 'more', 'sometime', 'many', 'one', 'six', 'could', 'nine', 'front', 'amongst', 'whereby', 'unless', 'always', 'herein', 'for', 'ours', 'may', 'due', 'cannot', 'these', 'becomes', 'call', 'noone', 'those', 'above', '’m', 'had', 'anyhow', 'go', 'so', 're', 'nothing', 'ever', 'someone', 'take', 'same', 'up', 'beforehand', 'doing', 'its', 'by', 'if', 'somewhere', 'will', 'between', 'please', 'now', 'back', 'well', 'twelve', 'hereupon', 'therein', 'across', 'almost', \"n't\", 'least', 'nevertheless', '‘m', 'fifteen', '’d', 'much', 'made', 'who', '’ve', 'him', 'off', 'do', 'often', 'whom', 'hereby', 'various', 'top', 'us', 'he', 'there', 'bottom', 'myself', 'less', 'have', 'five', 'two', 'none', '’ll', 'at', 'yours', 'whereas', 'however', 'moreover', 'become', 'ten', 'what', 'from', 'whether', 'seems', 'eight', 'say', 'used', 'indeed', 'yourself', 'anyway', 'your', 'three', 'formerly', 'then', 'after', '‘ve', 'on', 'everyone', 'per', 'thereafter', \"'ll\", 'that', 'thru', 'were', '’s', 'all', 'within', 'anything', 'without', 'becoming', 'whatever', 'afterwards', 'anyone', 'any', 'whoever', '‘s', 'over', 'seemed', \"'s\", 'when', 'wherein', \"'ve\", 'really', 'am', 'himself', 'everywhere', \"'d\", 'itself', 'former', 'this', 'first', 'further', 'before', 'during', 'via', 'hereafter', 'an', 'not', 'beside', 'namely', 'another', 'nobody', 'about', 'mostly', 'n‘t', 'being', 'latter', 'name', 'never', 'full', 'most', 'against', 'too', 'been', 'whither', 'a', 'just', 'every', 'latterly', 'own', 'some', 'seem', 'done', 'ourselves', 'twenty', 'even', 'forty', 'our', 'amount', 'which', 'their', 'somehow', 'than', 'otherwise', 'where', 'seeming', 'whereupon', 'third', 'rather', 'side', 'whenever', 'here', 'whole', '‘ll', 'did', 'as', 'several', 'or', 'also', 'get', 'to', 'anywhere', 'besides', 'together', 'regarding', 'still', 'sixty', 'but', 'how', 'part', 'few', 'four', 'themselves', 'although', 'nor', 'upon', 'me', 'something', 'the', 'they', 'very', 'else', 'make', 'while', 'would', 'until', 'no', 'keep', 'does', 'everything', 'other', 'herself', 'below', 'must', '‘d', 'mine', 'out', 'eleven', 'his', 'neither', 'only', 'why', 'serious', 'last', 'ca', 'next', 'both', 'meanwhile', 'hundred', 'along', 'empty', 'her', 'of', 'therefore', 'down', 'yet', 'move', 'i', 'give', 'with', 'hers', 'elsewhere', 'was', 'whose', 'are', 'see', 'sometimes', 'put', 'n’t', 'except', 'has', 'should', 'alone', 'be', 'thus', 'my'}\n"
          ]
        }
      ]
    },
    {
      "cell_type": "markdown",
      "metadata": {
        "id": "tCxHdM-c9hw7"
      },
      "source": [
        "### Adding ``mystery`` as a stopword."
      ]
    },
    {
      "cell_type": "code",
      "metadata": {
        "colab": {
          "base_uri": "https://localhost:8080/"
        },
        "id": "ekvWe1MJ-dzL",
        "outputId": "c4bd90fa-f53a-48f8-f0fd-5192c68304a9"
      },
      "source": [
        "nlp.vocab['mystery'].is_stop"
      ],
      "execution_count": null,
      "outputs": [
        {
          "output_type": "execute_result",
          "data": {
            "text/plain": [
              "True"
            ]
          },
          "metadata": {},
          "execution_count": 49
        }
      ]
    },
    {
      "cell_type": "code",
      "metadata": {
        "colab": {
          "base_uri": "https://localhost:8080/"
        },
        "id": "a9IMq5qe9wzm",
        "outputId": "0368399b-53e5-4896-ab42-8f88582e9f6d"
      },
      "source": [
        "len(nlp.Defaults.stop_words)"
      ],
      "execution_count": null,
      "outputs": [
        {
          "output_type": "execute_result",
          "data": {
            "text/plain": [
              "326"
            ]
          },
          "metadata": {},
          "execution_count": 46
        }
      ]
    },
    {
      "cell_type": "code",
      "metadata": {
        "colab": {
          "base_uri": "https://localhost:8080/"
        },
        "id": "Cqz_mkGU8kZF",
        "outputId": "bbb82111-c70b-49c0-851f-da5aec1e5679"
      },
      "source": [
        "nlp.Defaults.stop_words.add(\"mystery\")\n",
        "len(nlp.Defaults.stop_words)"
      ],
      "execution_count": null,
      "outputs": [
        {
          "output_type": "execute_result",
          "data": {
            "text/plain": [
              "327"
            ]
          },
          "metadata": {},
          "execution_count": 47
        }
      ]
    },
    {
      "cell_type": "code",
      "metadata": {
        "colab": {
          "base_uri": "https://localhost:8080/"
        },
        "id": "kEd3-GsV-bqL",
        "outputId": "b2a16592-42f1-446d-eb3e-2d652e255200"
      },
      "source": [
        "nlp.vocab['mystery'].is_stop"
      ],
      "execution_count": null,
      "outputs": [
        {
          "output_type": "execute_result",
          "data": {
            "text/plain": [
              "True"
            ]
          },
          "metadata": {},
          "execution_count": 48
        }
      ]
    },
    {
      "cell_type": "code",
      "metadata": {
        "colab": {
          "base_uri": "https://localhost:8080/"
        },
        "id": "0SruBa1a-C2v",
        "outputId": "9af4748a-5029-4b9a-e4a0-583e3a36c26c"
      },
      "source": [
        "nlp.vocab['mytery'].is_stop = True\n",
        "nlp.vocab['mystery'].is_stop"
      ],
      "execution_count": null,
      "outputs": [
        {
          "output_type": "execute_result",
          "data": {
            "text/plain": [
              "True"
            ]
          },
          "metadata": {},
          "execution_count": 50
        }
      ]
    },
    {
      "cell_type": "markdown",
      "metadata": {
        "id": "VcFrL_kt-65y"
      },
      "source": [
        "## **Add ``btw`` as stopword**"
      ]
    },
    {
      "cell_type": "code",
      "metadata": {
        "colab": {
          "base_uri": "https://localhost:8080/"
        },
        "id": "pGtJ30uy_EgO",
        "outputId": "750504d1-a4b3-4bc8-e171-0f0713d7de7e"
      },
      "source": [
        "nlp.vocab['btw'].is_stop"
      ],
      "execution_count": null,
      "outputs": [
        {
          "output_type": "execute_result",
          "data": {
            "text/plain": [
              "False"
            ]
          },
          "metadata": {},
          "execution_count": 51
        }
      ]
    },
    {
      "cell_type": "code",
      "metadata": {
        "id": "7Ci15Md--fbP"
      },
      "source": [
        "nlp.Defaults.stop_words.add(\"btw\")"
      ],
      "execution_count": null,
      "outputs": []
    },
    {
      "cell_type": "code",
      "metadata": {
        "colab": {
          "base_uri": "https://localhost:8080/"
        },
        "id": "hfoYHbep_Hp3",
        "outputId": "a241bd73-01ac-4bba-aa52-25705c92dc5b"
      },
      "source": [
        "nlp.vocab['btw'].is_stop = True\n",
        "nlp.vocab['btw'].is_stop"
      ],
      "execution_count": null,
      "outputs": [
        {
          "output_type": "execute_result",
          "data": {
            "text/plain": [
              "True"
            ]
          },
          "metadata": {},
          "execution_count": 54
        }
      ]
    },
    {
      "cell_type": "markdown",
      "metadata": {
        "id": "x5pg-3hX_Op5"
      },
      "source": [
        "## **Removing Stopwords**"
      ]
    },
    {
      "cell_type": "code",
      "metadata": {
        "id": "hi6dhoYE_ItI"
      },
      "source": [
        "nlp.Defaults.stop_words.remove(\"btw\")\n"
      ],
      "execution_count": null,
      "outputs": []
    },
    {
      "cell_type": "code",
      "metadata": {
        "colab": {
          "base_uri": "https://localhost:8080/"
        },
        "id": "PO8TfCwd_kvt",
        "outputId": "555fbdfc-a9d3-41b8-a2cc-9dfe861837ce"
      },
      "source": [
        "nlp.vocab['btw'].is_stop"
      ],
      "execution_count": null,
      "outputs": [
        {
          "output_type": "execute_result",
          "data": {
            "text/plain": [
              "True"
            ]
          },
          "metadata": {},
          "execution_count": 56
        }
      ]
    },
    {
      "cell_type": "code",
      "metadata": {
        "colab": {
          "base_uri": "https://localhost:8080/"
        },
        "id": "nCjI0Um5_mbU",
        "outputId": "298b3511-2516-476a-e0fa-46f5e5fd2a21"
      },
      "source": [
        "nlp.vocab['btw'].is_stop = False\n",
        "nlp.vocab['btw'].is_stop"
      ],
      "execution_count": null,
      "outputs": [
        {
          "output_type": "execute_result",
          "data": {
            "text/plain": [
              "False"
            ]
          },
          "metadata": {},
          "execution_count": 57
        }
      ]
    }
  ]
}
