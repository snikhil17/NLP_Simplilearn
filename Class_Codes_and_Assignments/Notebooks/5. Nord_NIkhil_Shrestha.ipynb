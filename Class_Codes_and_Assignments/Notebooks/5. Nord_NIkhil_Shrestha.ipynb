{
  "nbformat": 4,
  "nbformat_minor": 0,
  "metadata": {
    "colab": {
      "name": "Nord-NIkhil-Shrestha.ipynb",
      "provenance": [],
      "collapsed_sections": [],
      "include_colab_link": true
    },
    "kernelspec": {
      "name": "python3",
      "display_name": "Python 3"
    },
    "language_info": {
      "name": "python"
    }
  },
  "cells": [
    {
      "cell_type": "markdown",
      "metadata": {
        "id": "view-in-github",
        "colab_type": "text"
      },
      "source": [
        "<a href=\"https://colab.research.google.com/github/snikhil17/NLP_course_Simplilearn/blob/main/Class_Codes_and_Assignments/Notebooks/5.%20Nord_NIkhil_Shrestha.ipynb\" target=\"_parent\"><img src=\"https://colab.research.google.com/assets/colab-badge.svg\" alt=\"Open In Colab\"/></a>"
      ]
    },
    {
      "cell_type": "code",
      "metadata": {
        "id": "KM9AsVDrYDU2"
      },
      "source": [
        "!pip install textblob"
      ],
      "execution_count": null,
      "outputs": []
    },
    {
      "cell_type": "code",
      "metadata": {
        "id": "kcKROs6Yadmt"
      },
      "source": [
        "!pip install langdetect"
      ],
      "execution_count": null,
      "outputs": []
    },
    {
      "cell_type": "code",
      "metadata": {
        "id": "wa7hjf3bR4up"
      },
      "source": [
        "!pip install pyLDAvis"
      ],
      "execution_count": null,
      "outputs": []
    },
    {
      "cell_type": "code",
      "metadata": {
        "colab": {
          "base_uri": "https://localhost:8080/"
        },
        "id": "gnxVD54HSAaQ",
        "outputId": "83e832c6-ee6a-43e3-c0b5-a1c30690bb2f"
      },
      "source": [
        "import pandas as pd\n",
        "import numpy as np\n",
        "\n",
        "#Visualizing the LDA model\n",
        "import pyLDAvis\n",
        "import pyLDAvis.sklearn\n",
        "pyLDAvis.enable_notebook()"
      ],
      "execution_count": null,
      "outputs": [
        {
          "output_type": "stream",
          "name": "stderr",
          "text": [
            "/usr/local/lib/python3.7/dist-packages/past/types/oldstr.py:5: DeprecationWarning: Using or importing the ABCs from 'collections' instead of from 'collections.abc' is deprecated since Python 3.3,and in 3.9 it will stop working\n",
            "  from collections import Iterable\n",
            "/usr/local/lib/python3.7/dist-packages/past/builtins/misc.py:4: DeprecationWarning: Using or importing the ABCs from 'collections' instead of from 'collections.abc' is deprecated since Python 3.3,and in 3.9 it will stop working\n",
            "  from collections import Mapping\n",
            "/usr/local/lib/python3.7/dist-packages/scipy/fft/__init__.py:97: DeprecationWarning: The module numpy.dual is deprecated.  Instead of using dual, use the functions directly from numpy or scipy.\n",
            "  from numpy.dual import register_func\n",
            "/usr/local/lib/python3.7/dist-packages/scipy/sparse/sputils.py:17: DeprecationWarning: `np.typeDict` is a deprecated alias for `np.sctypeDict`.\n",
            "  supported_dtypes = [np.typeDict[x] for x in supported_dtypes]\n",
            "/usr/local/lib/python3.7/dist-packages/scipy/sparse/sputils.py:17: DeprecationWarning: `np.typeDict` is a deprecated alias for `np.sctypeDict`.\n",
            "  supported_dtypes = [np.typeDict[x] for x in supported_dtypes]\n",
            "/usr/local/lib/python3.7/dist-packages/scipy/sparse/sputils.py:17: DeprecationWarning: `np.typeDict` is a deprecated alias for `np.sctypeDict`.\n",
            "  supported_dtypes = [np.typeDict[x] for x in supported_dtypes]\n",
            "/usr/local/lib/python3.7/dist-packages/scipy/sparse/sputils.py:17: DeprecationWarning: `np.typeDict` is a deprecated alias for `np.sctypeDict`.\n",
            "  supported_dtypes = [np.typeDict[x] for x in supported_dtypes]\n",
            "/usr/local/lib/python3.7/dist-packages/scipy/sparse/sputils.py:17: DeprecationWarning: `np.typeDict` is a deprecated alias for `np.sctypeDict`.\n",
            "  supported_dtypes = [np.typeDict[x] for x in supported_dtypes]\n",
            "/usr/local/lib/python3.7/dist-packages/scipy/sparse/sputils.py:17: DeprecationWarning: `np.typeDict` is a deprecated alias for `np.sctypeDict`.\n",
            "  supported_dtypes = [np.typeDict[x] for x in supported_dtypes]\n",
            "/usr/local/lib/python3.7/dist-packages/scipy/sparse/sputils.py:17: DeprecationWarning: `np.typeDict` is a deprecated alias for `np.sctypeDict`.\n",
            "  supported_dtypes = [np.typeDict[x] for x in supported_dtypes]\n",
            "/usr/local/lib/python3.7/dist-packages/scipy/sparse/sputils.py:17: DeprecationWarning: `np.typeDict` is a deprecated alias for `np.sctypeDict`.\n",
            "  supported_dtypes = [np.typeDict[x] for x in supported_dtypes]\n",
            "/usr/local/lib/python3.7/dist-packages/scipy/sparse/sputils.py:17: DeprecationWarning: `np.typeDict` is a deprecated alias for `np.sctypeDict`.\n",
            "  supported_dtypes = [np.typeDict[x] for x in supported_dtypes]\n",
            "/usr/local/lib/python3.7/dist-packages/scipy/sparse/sputils.py:17: DeprecationWarning: `np.typeDict` is a deprecated alias for `np.sctypeDict`.\n",
            "  supported_dtypes = [np.typeDict[x] for x in supported_dtypes]\n",
            "/usr/local/lib/python3.7/dist-packages/scipy/sparse/sputils.py:17: DeprecationWarning: `np.typeDict` is a deprecated alias for `np.sctypeDict`.\n",
            "  supported_dtypes = [np.typeDict[x] for x in supported_dtypes]\n",
            "/usr/local/lib/python3.7/dist-packages/scipy/sparse/sputils.py:17: DeprecationWarning: `np.typeDict` is a deprecated alias for `np.sctypeDict`.\n",
            "  supported_dtypes = [np.typeDict[x] for x in supported_dtypes]\n",
            "/usr/local/lib/python3.7/dist-packages/scipy/sparse/sputils.py:17: DeprecationWarning: `np.typeDict` is a deprecated alias for `np.sctypeDict`.\n",
            "  supported_dtypes = [np.typeDict[x] for x in supported_dtypes]\n",
            "/usr/local/lib/python3.7/dist-packages/scipy/sparse/sputils.py:17: DeprecationWarning: `np.typeDict` is a deprecated alias for `np.sctypeDict`.\n",
            "  supported_dtypes = [np.typeDict[x] for x in supported_dtypes]\n",
            "/usr/local/lib/python3.7/dist-packages/scipy/sparse/sputils.py:17: DeprecationWarning: `np.typeDict` is a deprecated alias for `np.sctypeDict`.\n",
            "  supported_dtypes = [np.typeDict[x] for x in supported_dtypes]\n",
            "/usr/local/lib/python3.7/dist-packages/scipy/special/orthogonal.py:81: DeprecationWarning: `np.int` is a deprecated alias for the builtin `int`. To silence this warning, use `int` by itself. Doing this will not modify any behavior and is safe. When replacing `np.int`, you may wish to use e.g. `np.int64` or `np.int32` to specify the precision. If you wish to review your current use, check the release note link for additional information.\n",
            "Deprecated in NumPy 1.20; for more details and guidance: https://numpy.org/devdocs/release/1.20.0-notes.html#deprecations\n",
            "  from numpy import (exp, inf, pi, sqrt, floor, sin, cos, around, int,\n",
            "/usr/local/lib/python3.7/dist-packages/scipy/special/orthogonal.py:81: DeprecationWarning: `np.int` is a deprecated alias for the builtin `int`. To silence this warning, use `int` by itself. Doing this will not modify any behavior and is safe. When replacing `np.int`, you may wish to use e.g. `np.int64` or `np.int32` to specify the precision. If you wish to review your current use, check the release note link for additional information.\n",
            "Deprecated in NumPy 1.20; for more details and guidance: https://numpy.org/devdocs/release/1.20.0-notes.html#deprecations\n",
            "  from numpy import (exp, inf, pi, sqrt, floor, sin, cos, around, int,\n"
          ]
        }
      ]
    },
    {
      "cell_type": "code",
      "metadata": {
        "colab": {
          "base_uri": "https://localhost:8080/",
          "height": 206
        },
        "id": "sAKazKy5SH09",
        "outputId": "255e8225-06fd-479d-f258-f490713c2bd8"
      },
      "source": [
        "df = pd.read_csv('nord.csv')\n",
        "df.head()"
      ],
      "execution_count": 155,
      "outputs": [
        {
          "output_type": "execute_result",
          "data": {
            "text/html": [
              "<div>\n",
              "<style scoped>\n",
              "    .dataframe tbody tr th:only-of-type {\n",
              "        vertical-align: middle;\n",
              "    }\n",
              "\n",
              "    .dataframe tbody tr th {\n",
              "        vertical-align: top;\n",
              "    }\n",
              "\n",
              "    .dataframe thead th {\n",
              "        text-align: right;\n",
              "    }\n",
              "</style>\n",
              "<table border=\"1\" class=\"dataframe\">\n",
              "  <thead>\n",
              "    <tr style=\"text-align: right;\">\n",
              "      <th></th>\n",
              "      <th>title</th>\n",
              "      <th>content</th>\n",
              "      <th>date</th>\n",
              "      <th>verified</th>\n",
              "      <th>author</th>\n",
              "      <th>rating</th>\n",
              "    </tr>\n",
              "  </thead>\n",
              "  <tbody>\n",
              "    <tr>\n",
              "      <th>0</th>\n",
              "      <td>Finally Settled for Average Performance and Ba...</td>\n",
              "      <td>For 25K , you will get - Average performance. ...</td>\n",
              "      <td>30-Sep-20</td>\n",
              "      <td>Yes</td>\n",
              "      <td>arv</td>\n",
              "      <td>2</td>\n",
              "    </tr>\n",
              "    <tr>\n",
              "      <th>1</th>\n",
              "      <td>6gb+64gb not worth buying, storage issues are ...</td>\n",
              "      <td>The phone is really great performance wise, th...</td>\n",
              "      <td>26-Sep-20</td>\n",
              "      <td>Yes</td>\n",
              "      <td>Shivani</td>\n",
              "      <td>2</td>\n",
              "    </tr>\n",
              "    <tr>\n",
              "      <th>2</th>\n",
              "      <td>Perfect phone for light to moderate usage</td>\n",
              "      <td>I have been using it since 14-15 days. So here...</td>\n",
              "      <td>27-Sep-20</td>\n",
              "      <td>Yes</td>\n",
              "      <td>Simranjit Singh</td>\n",
              "      <td>5</td>\n",
              "    </tr>\n",
              "    <tr>\n",
              "      <th>3</th>\n",
              "      <td>Love this phone from one plus</td>\n",
              "      <td>Such a nice phone from one plus.over all it's ...</td>\n",
              "      <td>26-Sep-20</td>\n",
              "      <td>Yes</td>\n",
              "      <td>Rohit Sahu</td>\n",
              "      <td>4</td>\n",
              "    </tr>\n",
              "    <tr>\n",
              "      <th>4</th>\n",
              "      <td>Never a oneplus standard in terms of sale, and...</td>\n",
              "      <td>Regarding the one plus feeling. It's gone.. Se...</td>\n",
              "      <td>30-Sep-20</td>\n",
              "      <td>Yes</td>\n",
              "      <td>Amazon Customer</td>\n",
              "      <td>2</td>\n",
              "    </tr>\n",
              "  </tbody>\n",
              "</table>\n",
              "</div>"
            ],
            "text/plain": [
              "                                               title  ... rating\n",
              "0  Finally Settled for Average Performance and Ba...  ...      2\n",
              "1  6gb+64gb not worth buying, storage issues are ...  ...      2\n",
              "2          Perfect phone for light to moderate usage  ...      5\n",
              "3                      Love this phone from one plus  ...      4\n",
              "4  Never a oneplus standard in terms of sale, and...  ...      2\n",
              "\n",
              "[5 rows x 6 columns]"
            ]
          },
          "metadata": {},
          "execution_count": 155
        }
      ]
    },
    {
      "cell_type": "code",
      "metadata": {
        "colab": {
          "base_uri": "https://localhost:8080/"
        },
        "id": "ixE2VfWnT1ZG",
        "outputId": "f5b49956-4b66-42d9-ae52-a2e28ee5f0ae"
      },
      "source": [
        "df.shape"
      ],
      "execution_count": 156,
      "outputs": [
        {
          "output_type": "execute_result",
          "data": {
            "text/plain": [
              "(707, 6)"
            ]
          },
          "metadata": {},
          "execution_count": 156
        }
      ]
    },
    {
      "cell_type": "code",
      "metadata": {
        "id": "frtl6B_icIJu"
      },
      "source": [
        "# Dropping NA\n",
        "df.dropna(inplace = True)"
      ],
      "execution_count": 157,
      "outputs": []
    },
    {
      "cell_type": "markdown",
      "metadata": {
        "id": "2z51oJ4ieorH"
      },
      "source": [
        "## **Detecting English Languages and keeping only those rows**"
      ]
    },
    {
      "cell_type": "code",
      "metadata": {
        "colab": {
          "base_uri": "https://localhost:8080/"
        },
        "id": "7yMR-pnPYh-3",
        "outputId": "7bf87e32-58ae-4ba8-8187-2c87ce8368ae"
      },
      "source": [
        "from langdetect import detect\n",
        "\n",
        "df['content'] = df['content'].apply(lambda x: x if (detect(x) == 'en') else np.nan)\n",
        "\n",
        "df.dropna(inplace = True)\n",
        "\n",
        "df.content"
      ],
      "execution_count": 158,
      "outputs": [
        {
          "output_type": "execute_result",
          "data": {
            "text/plain": [
              "0      For 25K , you will get - Average performance. ...\n",
              "1      The phone is really great performance wise, th...\n",
              "2      I have been using it since 14-15 days. So here...\n",
              "3      Such a nice phone from one plus.over all it's ...\n",
              "4      Regarding the one plus feeling. It's gone.. Se...\n",
              "                             ...                        \n",
              "676                                             Used ine\n",
              "678                         Battery not working properly\n",
              "703                                             Very bad\n",
              "705         Worst product. Nevar purchase renewd product\n",
              "706    I have purchased 10 feb 2021 and insert sim to...\n",
              "Name: content, Length: 531, dtype: object"
            ]
          },
          "metadata": {},
          "execution_count": 158
        }
      ]
    },
    {
      "cell_type": "markdown",
      "metadata": {
        "id": "14mLY5oiey21"
      },
      "source": [
        "## Decontract words:\n",
        "- Don't -> Do not"
      ]
    },
    {
      "cell_type": "code",
      "metadata": {
        "id": "PYPFVeBTXrmm"
      },
      "source": [
        "import re\n",
        "\n",
        "def decontracted(phrase):\n",
        "    # specific\n",
        "    phrase = re.sub(r\"won\\'t\", \"will not\", phrase)\n",
        "    phrase = re.sub(r\"can\\'t\", \"can not\", phrase)\n",
        "\n",
        "    # general\n",
        "    phrase = re.sub(r\"n\\'t\", \" not\", phrase)\n",
        "    phrase = re.sub(r\"\\'re\", \" are\", phrase)\n",
        "    phrase = re.sub(r\"\\'s\", \" is\", phrase)\n",
        "    phrase = re.sub(r\"\\'d\", \" would\", phrase)\n",
        "    phrase = re.sub(r\"\\'ll\", \" will\", phrase)\n",
        "    phrase = re.sub(r\"\\'t\", \" not\", phrase)\n",
        "    phrase = re.sub(r\"\\'ve\", \" have\", phrase)\n",
        "    phrase = re.sub(r\"\\'m\", \" am\", phrase)\n",
        "    return phrase\n",
        "\n",
        "df['content'] = df['content'].apply(lambda x: decontracted(x))"
      ],
      "execution_count": 159,
      "outputs": []
    },
    {
      "cell_type": "markdown",
      "metadata": {
        "id": "dRhZ4-vySY0U"
      },
      "source": [
        "## **Work with ``Content`` variable**"
      ]
    },
    {
      "cell_type": "code",
      "metadata": {
        "colab": {
          "base_uri": "https://localhost:8080/"
        },
        "id": "BATdCPKMWUGl",
        "outputId": "dd774815-6692-4368-f46d-632bf850d5fc"
      },
      "source": [
        "# Remove words like 'nor', 'not', 'no' from stop_words\n",
        "import nltk\n",
        "from nltk.corpus import stopwords\n",
        "nltk.download('stopwords')\n",
        "\n",
        "stop_words = stopwords.words('english')\n",
        "\n",
        "for i in ['nor', 'not', 'no']:\n",
        "  stop_words.remove(i)"
      ],
      "execution_count": 160,
      "outputs": [
        {
          "output_type": "stream",
          "name": "stdout",
          "text": [
            "[nltk_data] Downloading package stopwords to /root/nltk_data...\n",
            "[nltk_data]   Package stopwords is already up-to-date!\n"
          ]
        }
      ]
    },
    {
      "cell_type": "code",
      "metadata": {
        "colab": {
          "base_uri": "https://localhost:8080/"
        },
        "id": "yPCiF3wOSV6b",
        "outputId": "23a4dbb0-f8dd-4999-948b-6d2522d8a8e0"
      },
      "source": [
        "#Create Document Term Matrix\n",
        "from sklearn.feature_extraction.text import CountVectorizer\n",
        "\n",
        "tf_vectorizer = CountVectorizer(stop_words=stop_words, #Stopwords\n",
        "                              lowercase=True, # Normalization\n",
        "                              token_pattern= r'\\b[a-zA-Z]{3,}', #Tokenization\n",
        "                                strip_accents='unicode',  #Trims all unicode chars which is not a part of eng language\n",
        "                              )\n",
        "\n",
        "tfObject = tf_vectorizer.fit_transform(df['content'])\n",
        "tfObject.shape\n"
      ],
      "execution_count": 161,
      "outputs": [
        {
          "output_type": "execute_result",
          "data": {
            "text/plain": [
              "(531, 1586)"
            ]
          },
          "metadata": {},
          "execution_count": 161
        }
      ]
    },
    {
      "cell_type": "code",
      "metadata": {
        "colab": {
          "base_uri": "https://localhost:8080/"
        },
        "id": "zxZ9araoTMRz",
        "outputId": "c8d89511-f24b-44a6-ad7b-2ad3db01a5bd"
      },
      "source": [
        "#Create TF-IDF\n",
        "\n",
        "from sklearn.feature_extraction.text import TfidfVectorizer\n",
        "\n",
        "tfidfVectorizer = TfidfVectorizer(**tf_vectorizer.get_params())\n",
        "tfidfObject = tfidfVectorizer.fit_transform(df['content'])\n",
        "tfidfObject.shape"
      ],
      "execution_count": 162,
      "outputs": [
        {
          "output_type": "stream",
          "name": "stderr",
          "text": [
            "/usr/local/lib/python3.7/dist-packages/sklearn/feature_extraction/text.py:2032: UserWarning: Only (<class 'numpy.float64'>, <class 'numpy.float32'>, <class 'numpy.float16'>) 'dtype' should be used. <class 'numpy.int64'> 'dtype' will be converted to np.float64.\n",
            "  UserWarning,\n"
          ]
        },
        {
          "output_type": "execute_result",
          "data": {
            "text/plain": [
              "(531, 1586)"
            ]
          },
          "metadata": {},
          "execution_count": 162
        }
      ]
    },
    {
      "cell_type": "markdown",
      "metadata": {
        "id": "rWk9dcf-fIeH"
      },
      "source": [
        "## **Aprroach:**\n",
        "- Using 4 components for BOW and 3 components for TF-IDF\n",
        "  - Positive, \n",
        "  - Negative, \n",
        "  - Battery and display, \n",
        "  - Money Internet and Support etc.\n",
        "- 3: Good Bad and Average"
      ]
    },
    {
      "cell_type": "code",
      "metadata": {
        "colab": {
          "base_uri": "https://localhost:8080/"
        },
        "id": "nvCh8KfCU1In",
        "outputId": "2a9b717b-5405-40cb-a9f4-636bee018506"
      },
      "source": [
        "#Apply LDA to create topic clusters for Bag of Words\n",
        "\n",
        "from sklearn.decomposition import LatentDirichletAllocation\n",
        "lda_tf = LatentDirichletAllocation(n_components=4 , random_state=0)\n",
        "lda_tf.fit(tfObject) # as per books"
      ],
      "execution_count": 163,
      "outputs": [
        {
          "output_type": "execute_result",
          "data": {
            "text/plain": [
              "LatentDirichletAllocation(n_components=4, random_state=0)"
            ]
          },
          "metadata": {},
          "execution_count": 163
        }
      ]
    },
    {
      "cell_type": "code",
      "metadata": {
        "colab": {
          "base_uri": "https://localhost:8080/"
        },
        "id": "6fuP1ZvEVhdr",
        "outputId": "bd5495a9-d5ea-4b18-cd26-be74921951eb"
      },
      "source": [
        "from sklearn.decomposition import LatentDirichletAllocation\n",
        "lda_tfIDF = LatentDirichletAllocation(n_components=3 , random_state=0)\n",
        "lda_tfIDF.fit(tfidfObject) # as per seasoned DS considering memory optimizn reqd for handling Bigdata"
      ],
      "execution_count": 164,
      "outputs": [
        {
          "output_type": "execute_result",
          "data": {
            "text/plain": [
              "LatentDirichletAllocation(n_components=3, random_state=0)"
            ]
          },
          "metadata": {},
          "execution_count": 164
        }
      ]
    },
    {
      "cell_type": "code",
      "metadata": {
        "colab": {
          "base_uri": "https://localhost:8080/",
          "height": 954
        },
        "id": "t_8f30ZRVj7U",
        "outputId": "85afd61e-354a-4547-8655-5de1141fbe9b"
      },
      "source": [
        "#---------------------LDAModel,BOW/TFIDF Object,CountVectorizerObject ----------\n",
        "\n",
        "pyLDAvis.sklearn.prepare(lda_tf,tfObject,tf_vectorizer)"
      ],
      "execution_count": 165,
      "outputs": [
        {
          "output_type": "stream",
          "name": "stderr",
          "text": [
            "/usr/local/lib/python3.7/dist-packages/sklearn/utils/deprecation.py:87: FutureWarning: Function get_feature_names is deprecated; get_feature_names is deprecated in 1.0 and will be removed in 1.2. Please use get_feature_names_out instead.\n",
            "  warnings.warn(msg, category=FutureWarning)\n",
            "/usr/local/lib/python3.7/dist-packages/pyLDAvis/_prepare.py:247: FutureWarning: In a future version of pandas all arguments of DataFrame.drop except for the argument 'labels' will be keyword-only\n",
            "  by='saliency', ascending=False).head(R).drop('saliency', 1)\n"
          ]
        },
        {
          "output_type": "execute_result",
          "data": {
            "text/html": [
              "\n",
              "<link rel=\"stylesheet\" type=\"text/css\" href=\"https://cdn.jsdelivr.net/gh/bmabey/pyLDAvis@3.3.1/pyLDAvis/js/ldavis.v1.0.0.css\">\n",
              "\n",
              "\n",
              "<div id=\"ldavis_el1481403719408974882326596293\"></div>\n",
              "<script type=\"text/javascript\">\n",
              "\n",
              "var ldavis_el1481403719408974882326596293_data = {\"mdsDat\": {\"x\": [0.04281123107236468, 0.07942260687341471, 0.004643657324742723, -0.12687749527052206], \"y\": [0.042094612609193, 0.03547395519160818, -0.10995388569572236, 0.032385317894921155], \"topics\": [1, 2, 3, 4], \"cluster\": [1, 1, 1, 1], \"Freq\": [39.01946043881216, 36.83000397492114, 18.285096997334982, 5.865438588931718]}, \"tinfo\": {\"Term\": [\"product\", \"nice\", \"phone\", \"best\", \"good\", \"bad\", \"box\", \"price\", \"not\", \"camera\", \"nord\", \"varient\", \"service\", \"one\", \"like\", \"found\", \"really\", \"mobile\", \"quality\", \"buy\", \"scratches\", \"money\", \"also\", \"perfect\", \"rate\", \"superb\", \"renewed\", \"get\", \"great\", \"refresh\", \"service\", \"care\", \"flagship\", \"selfie\", \"center\", \"help\", \"job\", \"play\", \"macro\", \"average\", \"today\", \"thanks\", \"customer\", \"hours\", \"fps\", \"yes\", \"playing\", \"via\", \"request\", \"present\", \"ofcourse\", \"simply\", \"beast\", \"brilliant\", \"couple\", \"done\", \"heated\", \"temperature\", \"sensor\", \"really\", \"feel\", \"products\", \"also\", \"amazon\", \"phones\", \"return\", \"money\", \"value\", \"low\", \"refresh\", \"waste\", \"used\", \"device\", \"pictures\", \"worst\", \"charging\", \"not\", \"oxygen\", \"phone\", \"working\", \"battery\", \"one\", \"oneplus\", \"good\", \"camera\", \"display\", \"screen\", \"buy\", \"issue\", \"like\", \"using\", \"great\", \"plus\", \"nice\", \"price\", \"use\", \"product\", \"quality\", \"better\", \"nord\", \"html\", \"browser\", \"backup\", \"totally\", \"soo\", \"find\", \"exchange\", \"disappointing\", \"osm\", \"photo\", \"recording\", \"rest\", \"choice\", \"item\", \"memory\", \"mind\", \"scrolling\", \"expandable\", \"easy\", \"says\", \"fastly\", \"fabulous\", \"absolutely\", \"left\", \"careful\", \"noticed\", \"however\", \"expected\", \"support\", \"ordered\", \"super\", \"good\", \"quality\", \"camera\", \"available\", \"draining\", \"not\", \"video\", \"product\", \"awesome\", \"call\", \"battery\", \"fast\", \"storage\", \"nord\", \"worth\", \"please\", \"phone\", \"issue\", \"problems\", \"life\", \"google\", \"mobile\", \"overall\", \"one\", \"money\", \"performance\", \"bad\", \"use\", \"display\", \"plus\", \"oneplus\", \"like\", \"buy\", \"working\", \"great\", \"value\", \"varient\", \"feeling\", \"compare\", \"market\", \"smart\", \"visible\", \"bettery\", \"easily\", \"wrong\", \"flash\", \"gone\", \"sale\", \"waiting\", \"worked\", \"blue\", \"manage\", \"editing\", \"changes\", \"stopped\", \"gonna\", \"tried\", \"hdr\", \"percent\", \"gives\", \"perfect\", \"stand\", \"higher\", \"green\", \"stuck\", \"segment\", \"best\", \"looks\", \"price\", \"cameras\", \"phone\", \"get\", \"iphone\", \"budget\", \"android\", \"excellent\", \"problem\", \"buy\", \"black\", \"body\", \"great\", \"well\", \"oneplus\", \"range\", \"getting\", \"love\", \"even\", \"plus\", \"issues\", \"one\", \"bad\", \"better\", \"amazing\", \"mobile\", \"storage\", \"display\", \"not\", \"quality\", \"camera\", \"good\", \"nord\", \"battery\", \"scratches\", \"headset\", \"opened\", \"bill\", \"bed\", \"found\", \"branding\", \"confused\", \"crystal\", \"fluid\", \"latest\", \"pal\", \"punchole\", \"right\", \"unlock\", \"breakable\", \"laminated\", \"shame\", \"thermal\", \"unboxing\", \"firstly\", \"mine\", \"packed\", \"rich\", \"scared\", \"head\", \"send\", \"aware\", \"mentioned\", \"wants\", \"box\", \"nice\", \"regrets\", \"period\", \"product\", \"bad\", \"condition\", \"cover\", \"received\", \"hand\", \"rate\", \"phone\", \"given\", \"second\", \"nord\", \"people\", \"renewed\", \"glass\", \"not\", \"said\", \"like\", \"superb\", \"one\", \"mobile\", \"also\", \"plus\", \"back\", \"display\", \"defective\", \"poor\", \"device\", \"screen\"], \"Freq\": [67.0, 31.0, 219.0, 47.0, 182.0, 25.0, 11.0, 46.0, 240.0, 135.0, 47.0, 10.0, 19.0, 74.0, 34.0, 5.0, 30.0, 41.0, 73.0, 49.0, 4.0, 48.0, 34.0, 9.0, 7.0, 10.0, 12.0, 22.0, 42.0, 7.0, 19.31191058987704, 10.6231208401227, 7.162642792973882, 7.158805468339599, 5.426221670619028, 5.423059188881601, 4.556083655942702, 4.554604034140516, 4.539026736719659, 12.188588161702603, 3.6898140111838456, 3.689785577607403, 10.471434408324061, 3.689233548757183, 2.821650007787934, 2.8216380765042985, 2.8216103127069565, 2.8216057741338556, 2.8216027900874985, 2.8215776755508357, 2.821451516670114, 2.821388200611129, 2.8210271441185446, 2.82101655949331, 2.8208142121839566, 2.8188283377776484, 2.8114464366786747, 2.8049071677843, 6.297271392393468, 24.983897601359182, 5.429059508697013, 8.869681664877767, 22.814638179118074, 22.18183807868956, 9.772741119186586, 12.335233367002333, 29.47201299418884, 18.95403226570423, 9.565996405106443, 5.388982545468422, 6.788178816111013, 8.81530159706657, 12.466760329455639, 4.560192218099718, 14.343313131972943, 13.555655706996872, 97.65680551493055, 10.398975034849942, 75.80570802550726, 18.599657646427048, 38.40070588246976, 31.76441439529417, 26.3170507268602, 56.102588950729746, 44.806020226927956, 21.92300989610694, 15.016373061787856, 20.66113349417146, 17.746527633516045, 15.884208255846223, 13.408820081627896, 17.34730790936019, 18.438578622454937, 14.292896709462154, 16.329198906851115, 14.671731070105347, 16.74041910160028, 17.075476170745674, 13.467223288664936, 14.097992413942452, 8.615164287523035, 8.615164287486708, 6.932900472589477, 5.227919712156235, 3.572949240377938, 3.5729463924603584, 3.5729142225693264, 3.5712748439716195, 3.571635022088231, 3.5698121424504063, 3.5689709670072562, 3.5659023238413434, 3.564460974142749, 8.633789403157879, 7.777080419623584, 2.732291334970805, 2.732289573102382, 2.7322726411229046, 2.732264608950855, 2.732217596242955, 2.7321995337052267, 2.7319172363815514, 2.728489457469207, 2.724463359348819, 2.723817893098895, 2.723414598816818, 2.7188414265357688, 6.8604486449323145, 9.263495641837768, 1.8915944270800842, 10.214863516428723, 117.50203991016106, 48.303442460549896, 82.2197480659789, 6.091276940699298, 7.4892669268987015, 122.49658390041455, 10.973000085089126, 38.88268175066415, 17.272968526283364, 6.098001823368, 51.039825918775826, 15.702275191557636, 20.19265278485751, 24.417228379677553, 12.728135002906326, 8.406706005996421, 79.2677011009581, 20.875784986294317, 6.936715197652219, 14.66599953951492, 6.09617844424408, 18.5758078413313, 10.863106341034367, 25.718203000023255, 18.95624411910703, 13.97954487654811, 12.398983739387488, 13.897843874755258, 16.46487070715252, 16.38623946310084, 17.3225777819421, 13.449498425510713, 14.368415401312914, 12.689561675175163, 12.280842853304765, 10.646819140768207, 9.484133481891273, 4.065819367744962, 4.057511794004468, 3.293929502272801, 3.2938825852689684, 2.5189233337806987, 2.50614127184765, 1.7438710128263446, 1.7438710128263446, 1.7438700574352037, 1.7438700574352037, 1.7438700574352037, 1.7438700574352037, 1.7438383932915782, 1.7438331130113753, 1.7438319212758862, 1.7438253507165316, 1.74381541314574, 1.7437917855637322, 1.7422538997031196, 1.7422296251090046, 1.7411866375619356, 1.7411866375296416, 1.7386328846021895, 7.059369246249398, 1.683380981946729, 3.313623672107234, 1.6263787574753916, 1.6263705749296473, 3.2679190378809024, 26.424859309897, 4.012713558081229, 19.53551370336032, 5.448382562336004, 55.7860382481976, 9.338761512991306, 3.2979860852734073, 4.746648002641628, 3.9342954567333006, 7.546755760145269, 8.664144007467772, 14.618254459874223, 2.517205375499862, 2.5194711624860306, 12.526012013394588, 6.132259077230647, 15.373442786247374, 7.837095977753707, 5.172919719553513, 3.1161999929635464, 7.179613599205411, 11.605824151247724, 5.955952325360967, 13.550865546310233, 7.334547438890133, 7.669587037547229, 6.271541278307708, 8.379075840996725, 7.284694021649425, 8.23571253612414, 14.319769205020853, 8.235894483725566, 8.791947714397194, 8.808068017667624, 5.286330641524478, 5.275612508576684, 3.4746577175784186, 1.25210419121274, 1.2521017117810305, 1.2520739752796377, 1.2509630169672792, 2.900633091604631, 0.6956140534242874, 0.6956140534242874, 0.6956140534242874, 0.6956140534242874, 0.6956140534242874, 0.6956140534242874, 0.6956140534242874, 0.6956140534242874, 0.6956140534242874, 0.6956139775054199, 0.6956139775054199, 0.6956139775054199, 0.6956139775054199, 0.6956139775054199, 0.6956112588784518, 0.6956112588784518, 0.6956112588784518, 0.6956112588784518, 0.6956112588784518, 0.6956080068187692, 0.6956080068187692, 0.6956071450549001, 0.6956071450549001, 0.6956071450549001, 4.639747558972278, 10.473191850015642, 1.2523451706184, 1.2507535124990365, 10.110865100929026, 4.625077516485406, 1.2534117074371607, 1.258807267609978, 1.2560376661407222, 1.5899351179725014, 1.8159981880429392, 8.58325361458879, 1.2649840194649495, 1.2610107027424435, 3.2821433721306423, 1.2554106996729584, 1.8244162506232127, 1.2599537827342193, 6.309197747997003, 1.259096698780391, 2.695266128243378, 1.6270849683831552, 3.527615208684165, 2.4397495258902717, 1.81775120449716, 1.8349527142683093, 1.5486302884709897, 1.412738701427754, 1.2678129512040444, 1.2594261337238573, 1.2569748951876365, 1.2566032583763806], \"Total\": [67.0, 31.0, 219.0, 47.0, 182.0, 25.0, 11.0, 46.0, 240.0, 135.0, 47.0, 10.0, 19.0, 74.0, 34.0, 5.0, 30.0, 41.0, 73.0, 49.0, 4.0, 48.0, 34.0, 9.0, 7.0, 10.0, 12.0, 22.0, 42.0, 7.0, 19.860143610324076, 11.177306175881691, 7.705725712734226, 7.705575237402353, 5.969317657342965, 5.96918756667775, 5.1009735936094165, 5.101003141043354, 5.099078799376441, 13.748073534899651, 4.232913573558026, 4.232906331465859, 12.013249369788237, 4.232852374720079, 3.364720920849879, 3.364718116429608, 3.36471128976025, 3.3647105815819978, 3.3647078588573835, 3.364703560453953, 3.3646765437163912, 3.364658459826653, 3.3645673341851565, 3.3645785526692853, 3.364627398725819, 3.3646120137479096, 3.364351839330012, 3.3641762595864813, 7.678313528631469, 30.684566083651173, 6.81010097007632, 11.764777177689778, 34.12075592014888, 33.82944884615716, 13.541752228074014, 17.608791339835385, 48.765876023261164, 29.937270800189523, 13.66606176038323, 7.077325808979457, 9.290284965876943, 12.601912848199609, 18.919701224441226, 5.8764033230242205, 22.72098862507743, 21.27634939926118, 240.78235636836294, 15.715426314592165, 219.44270098925176, 35.48416774339735, 94.85699850408507, 74.56109815031182, 59.70759701686936, 182.55291366489877, 135.95750406129275, 48.03633184081136, 29.806950528863798, 49.78736555996741, 41.457417154178096, 34.24835050322177, 25.2332616879354, 42.29341693213006, 48.26559495107181, 31.09634834717431, 46.44750735812116, 34.14877801224887, 67.51655517484647, 73.7545065042765, 29.971281081470075, 47.08369480727512, 9.167312757842145, 9.167312757843328, 7.485436771532038, 5.796632071061219, 4.122960596436858, 4.12295943537422, 4.122953530611596, 4.122404512846117, 4.122940279217944, 4.1229998560147125, 4.12306704517006, 4.122405547878589, 4.122268449955942, 10.034857057851161, 9.194725095028614, 3.2822569656873095, 3.2822567400148404, 3.2822531214882518, 3.282250898228643, 3.2822408112747703, 3.282237837913079, 3.2821756361143093, 3.2823664300922806, 3.2825047603410176, 3.2825220728588107, 3.2825217083142113, 3.2791183695238466, 8.356476518365078, 11.750712502077066, 2.441545283173566, 13.279120609817925, 182.55291366489877, 73.7545065042765, 135.95750406129275, 7.97606543241954, 10.072285388917916, 240.78235636836294, 15.755850757756075, 67.51655517484647, 27.0807292150769, 8.195665461648042, 94.85699850408507, 24.561931022017077, 33.114465638807935, 47.08369480727512, 20.718966201561717, 12.334602651847085, 219.44270098925176, 41.457417154178096, 9.903628008425066, 26.99313321771669, 8.381477551850345, 41.29742249732023, 19.345403263548743, 74.56109815031182, 48.765876023261164, 30.27292543676109, 25.64141091226605, 34.14877801224887, 48.03633184081136, 48.26559495107181, 59.70759701686936, 34.24835050322177, 49.78736555996741, 35.48416774339735, 42.29341693213006, 29.937270800189523, 10.061742806609145, 4.635777393260421, 4.636368678213092, 3.8603331146928515, 3.860325306752524, 3.0852843439538415, 3.0862795625596586, 2.310228724799326, 2.310228724799326, 2.310228541630079, 2.310228541630079, 2.310228541630079, 2.310228541630079, 2.310224285781985, 2.3102234688025645, 2.3102235308991754, 2.310220900705226, 2.3102201343675595, 2.310217384829212, 2.310420649684573, 2.3104172124056785, 2.3105505004846267, 2.3105505004885067, 2.310843610093148, 9.426311621668992, 2.3174351498691355, 4.724915630443884, 2.324321182042468, 2.3243156811672057, 4.70322060359405, 47.071993000703934, 6.3785560457544515, 46.44750735812116, 10.235408757195332, 219.44270098925176, 22.07497640571953, 5.541418673142789, 9.392671239097055, 7.228918068128646, 18.75460729772268, 22.913777944759566, 49.78736555996741, 3.9262338555677414, 3.9525510623268136, 42.29341693213006, 14.775108271336023, 59.70759701686936, 22.204588979375732, 11.95994118355278, 5.5888019663583535, 20.491174677564807, 48.26559495107181, 16.41026636138218, 74.56109815031182, 25.64141091226605, 29.971281081470075, 20.560327608270835, 41.29742249732023, 33.114465638807935, 48.03633184081136, 240.78235636836294, 73.7545065042765, 135.95750406129275, 182.55291366489877, 47.08369480727512, 94.85699850408507, 4.1004855589561435, 1.873111884992651, 1.8731130478769975, 1.8731259607948154, 1.8737403040571547, 5.262069539427317, 1.3166144620068891, 1.3166144620068891, 1.3166144620068891, 1.3166144620068891, 1.3166144620068891, 1.3166144620068891, 1.3166144620068891, 1.3166144620068891, 1.3166144620068891, 1.3166145298280405, 1.3166145298280405, 1.3166145298280405, 1.3166145298280405, 1.3166145298280405, 1.316615810410497, 1.316615810410497, 1.316615810410497, 1.316615810410497, 1.316615810410497, 1.3166173153143994, 1.3166173153143994, 1.3166177244539077, 1.3166177244539077, 1.3166177244539077, 11.631484700130637, 31.09634834717431, 2.6484350120157516, 2.7419301631635715, 67.51655517484647, 25.64141091226605, 3.4229855935065863, 3.5784876521459115, 3.607309165093682, 5.842267687812323, 7.5868995406060025, 219.44270098925176, 4.415274626112437, 4.390775040760681, 47.08369480727512, 5.130104874944214, 12.309353098328948, 5.219635938272502, 240.78235636836294, 5.3147936268549465, 34.24835050322177, 10.165218794945066, 74.56109815031182, 41.29742249732023, 34.12075592014888, 48.26559495107181, 20.242069016606877, 48.03633184081136, 7.820193270357549, 11.254742864490694, 18.919701224441226, 29.806950528863798], \"Category\": [\"Default\", \"Default\", \"Default\", \"Default\", \"Default\", \"Default\", \"Default\", \"Default\", \"Default\", \"Default\", \"Default\", \"Default\", \"Default\", \"Default\", \"Default\", \"Default\", \"Default\", \"Default\", \"Default\", \"Default\", \"Default\", \"Default\", \"Default\", \"Default\", \"Default\", \"Default\", \"Default\", \"Default\", \"Default\", \"Default\", \"Topic1\", \"Topic1\", \"Topic1\", \"Topic1\", \"Topic1\", \"Topic1\", \"Topic1\", \"Topic1\", \"Topic1\", \"Topic1\", \"Topic1\", \"Topic1\", \"Topic1\", \"Topic1\", \"Topic1\", \"Topic1\", \"Topic1\", \"Topic1\", \"Topic1\", \"Topic1\", \"Topic1\", \"Topic1\", \"Topic1\", \"Topic1\", \"Topic1\", \"Topic1\", \"Topic1\", \"Topic1\", \"Topic1\", \"Topic1\", \"Topic1\", \"Topic1\", \"Topic1\", \"Topic1\", \"Topic1\", \"Topic1\", \"Topic1\", \"Topic1\", \"Topic1\", \"Topic1\", \"Topic1\", \"Topic1\", \"Topic1\", \"Topic1\", \"Topic1\", \"Topic1\", \"Topic1\", \"Topic1\", \"Topic1\", \"Topic1\", \"Topic1\", \"Topic1\", \"Topic1\", \"Topic1\", \"Topic1\", \"Topic1\", \"Topic1\", \"Topic1\", \"Topic1\", \"Topic1\", \"Topic1\", \"Topic1\", \"Topic1\", \"Topic1\", \"Topic1\", \"Topic1\", \"Topic1\", \"Topic1\", \"Topic1\", \"Topic1\", \"Topic2\", \"Topic2\", \"Topic2\", \"Topic2\", \"Topic2\", \"Topic2\", \"Topic2\", \"Topic2\", \"Topic2\", \"Topic2\", \"Topic2\", \"Topic2\", \"Topic2\", \"Topic2\", \"Topic2\", \"Topic2\", \"Topic2\", \"Topic2\", \"Topic2\", \"Topic2\", \"Topic2\", \"Topic2\", \"Topic2\", \"Topic2\", \"Topic2\", \"Topic2\", \"Topic2\", \"Topic2\", \"Topic2\", \"Topic2\", \"Topic2\", \"Topic2\", \"Topic2\", \"Topic2\", \"Topic2\", \"Topic2\", \"Topic2\", \"Topic2\", \"Topic2\", \"Topic2\", \"Topic2\", \"Topic2\", \"Topic2\", \"Topic2\", \"Topic2\", \"Topic2\", \"Topic2\", \"Topic2\", \"Topic2\", \"Topic2\", \"Topic2\", \"Topic2\", \"Topic2\", \"Topic2\", \"Topic2\", \"Topic2\", \"Topic2\", \"Topic2\", \"Topic2\", \"Topic2\", \"Topic2\", \"Topic2\", \"Topic2\", \"Topic2\", \"Topic2\", \"Topic2\", \"Topic2\", \"Topic3\", \"Topic3\", \"Topic3\", \"Topic3\", \"Topic3\", \"Topic3\", \"Topic3\", \"Topic3\", \"Topic3\", \"Topic3\", \"Topic3\", \"Topic3\", \"Topic3\", \"Topic3\", \"Topic3\", \"Topic3\", \"Topic3\", \"Topic3\", \"Topic3\", \"Topic3\", \"Topic3\", \"Topic3\", \"Topic3\", \"Topic3\", \"Topic3\", \"Topic3\", \"Topic3\", \"Topic3\", \"Topic3\", \"Topic3\", \"Topic3\", \"Topic3\", \"Topic3\", \"Topic3\", \"Topic3\", \"Topic3\", \"Topic3\", \"Topic3\", \"Topic3\", \"Topic3\", \"Topic3\", \"Topic3\", \"Topic3\", \"Topic3\", \"Topic3\", \"Topic3\", \"Topic3\", \"Topic3\", \"Topic3\", \"Topic3\", \"Topic3\", \"Topic3\", \"Topic3\", \"Topic3\", \"Topic3\", \"Topic3\", \"Topic3\", \"Topic3\", \"Topic3\", \"Topic3\", \"Topic3\", \"Topic3\", \"Topic3\", \"Topic3\", \"Topic3\", \"Topic3\", \"Topic4\", \"Topic4\", \"Topic4\", \"Topic4\", \"Topic4\", \"Topic4\", \"Topic4\", \"Topic4\", \"Topic4\", \"Topic4\", \"Topic4\", \"Topic4\", \"Topic4\", \"Topic4\", \"Topic4\", \"Topic4\", \"Topic4\", \"Topic4\", \"Topic4\", \"Topic4\", \"Topic4\", \"Topic4\", \"Topic4\", \"Topic4\", \"Topic4\", \"Topic4\", \"Topic4\", \"Topic4\", \"Topic4\", \"Topic4\", \"Topic4\", \"Topic4\", \"Topic4\", \"Topic4\", \"Topic4\", \"Topic4\", \"Topic4\", \"Topic4\", \"Topic4\", \"Topic4\", \"Topic4\", \"Topic4\", \"Topic4\", \"Topic4\", \"Topic4\", \"Topic4\", \"Topic4\", \"Topic4\", \"Topic4\", \"Topic4\", \"Topic4\", \"Topic4\", \"Topic4\", \"Topic4\", \"Topic4\", \"Topic4\", \"Topic4\", \"Topic4\", \"Topic4\", \"Topic4\", \"Topic4\", \"Topic4\"], \"logprob\": [30.0, 29.0, 28.0, 27.0, 26.0, 25.0, 24.0, 23.0, 22.0, 21.0, 20.0, 19.0, 18.0, 17.0, 16.0, 15.0, 14.0, 13.0, 12.0, 11.0, 10.0, 9.0, 8.0, 7.0, 6.0, 5.0, 4.0, 3.0, 2.0, 1.0, -4.9419, -5.5396, -5.9338, -5.9343, -6.2114, -6.212, -6.3862, -6.3865, -6.3899, -5.4021, -6.5971, -6.5971, -5.554, -6.5972, -6.8653, -6.8653, -6.8653, -6.8653, -6.8653, -6.8654, -6.8654, -6.8654, -6.8655, -6.8656, -6.8656, -6.8663, -6.869, -6.8713, -6.0625, -4.6844, -6.2109, -5.72, -4.7752, -4.8034, -5.6231, -5.3902, -4.5192, -4.9606, -5.6444, -6.2183, -5.9875, -5.7262, -5.3796, -6.3853, -5.2394, -5.2958, -3.3212, -5.5609, -3.5745, -4.9795, -4.2546, -4.4443, -4.6324, -3.8755, -4.1003, -4.8151, -5.1935, -4.8744, -5.0265, -5.1373, -5.3067, -5.0492, -4.9882, -5.2429, -5.1097, -5.2167, -5.0848, -5.065, -5.3024, -5.2566, -5.6914, -5.6914, -5.9086, -6.1909, -6.5715, -6.5715, -6.5715, -6.572, -6.5719, -6.5724, -6.5726, -6.5735, -6.5739, -5.6892, -5.7937, -6.8398, -6.8398, -6.8398, -6.8398, -6.8398, -6.8398, -6.8399, -6.8412, -6.8426, -6.8429, -6.843, -6.8447, -5.9191, -5.6188, -7.2075, -5.5211, -3.0784, -3.9674, -3.4355, -6.038, -5.8314, -3.0368, -5.4495, -4.1844, -4.9958, -6.0369, -3.9123, -5.0911, -4.8396, -4.6496, -5.3011, -5.7159, -3.4721, -4.8063, -5.9081, -5.1594, -6.0372, -4.923, -5.4595, -4.5977, -4.9028, -5.2073, -5.3273, -5.2132, -5.0437, -5.0485, -4.9929, -5.246, -5.1799, -5.3041, -5.3369, -5.4796, -4.8951, -5.7421, -5.7441, -5.9526, -5.9526, -6.2208, -6.2259, -6.5886, -6.5886, -6.5886, -6.5886, -6.5886, -6.5886, -6.5886, -6.5886, -6.5886, -6.5886, -6.5886, -6.5886, -6.5895, -6.5895, -6.5901, -6.5901, -6.5916, -5.1903, -6.6239, -5.9466, -6.6583, -6.6583, -5.9605, -3.8704, -5.7552, -4.1724, -5.4494, -3.1232, -4.9105, -5.9514, -5.5872, -5.7749, -5.1236, -4.9855, -4.4624, -6.2215, -6.2206, -4.6169, -5.3311, -4.412, -5.0858, -5.5012, -6.0081, -5.1734, -4.6932, -5.3603, -4.5382, -5.1521, -5.1074, -5.3087, -5.0189, -5.1589, -5.0362, -4.483, -5.0362, -4.9708, -4.969, -5.4796, -5.4816, -4.7622, -5.7828, -5.7828, -5.7829, -5.7838, -4.9427, -6.3706, -6.3706, -6.3706, -6.3706, -6.3706, -6.3706, -6.3706, -6.3706, -6.3706, -6.3706, -6.3706, -6.3706, -6.3706, -6.3706, -6.3706, -6.3706, -6.3706, -6.3706, -6.3706, -6.3706, -6.3706, -6.3706, -6.3706, -6.3706, -4.473, -3.6588, -5.7826, -5.7839, -3.6941, -4.4762, -5.7818, -5.7775, -5.7797, -5.544, -5.411, -3.8579, -5.7726, -5.7758, -4.8192, -5.7802, -5.4064, -5.7766, -4.1657, -5.7773, -5.0162, -5.5209, -4.747, -5.1158, -5.4101, -5.4006, -5.5703, -5.6621, -5.7704, -5.777, -5.779, -5.7793], \"loglift\": [30.0, 29.0, 28.0, 27.0, 26.0, 25.0, 24.0, 23.0, 22.0, 21.0, 20.0, 19.0, 18.0, 17.0, 16.0, 15.0, 14.0, 13.0, 12.0, 11.0, 10.0, 9.0, 8.0, 7.0, 6.0, 5.0, 4.0, 3.0, 2.0, 1.0, 0.9131, 0.8903, 0.868, 0.8675, 0.8457, 0.8452, 0.8281, 0.8278, 0.8248, 0.8207, 0.8038, 0.8038, 0.8038, 0.8037, 0.7651, 0.7651, 0.7651, 0.7651, 0.7651, 0.7651, 0.765, 0.765, 0.7649, 0.7649, 0.7648, 0.7641, 0.7616, 0.7593, 0.7428, 0.7356, 0.7145, 0.6586, 0.5386, 0.5191, 0.6149, 0.5852, 0.4375, 0.484, 0.5844, 0.6686, 0.6273, 0.5838, 0.524, 0.6875, 0.4811, 0.4903, 0.0387, 0.5282, -0.1218, 0.2952, 0.0368, 0.0878, 0.1219, -0.2387, -0.1689, 0.1567, 0.2555, 0.0616, 0.0926, 0.1728, 0.3089, 0.0499, -0.0212, 0.1638, -0.1043, 0.0963, -0.4534, -0.522, 0.1411, -0.2648, 0.9367, 0.9367, 0.9222, 0.8956, 0.8557, 0.8557, 0.8557, 0.8553, 0.8553, 0.8548, 0.8545, 0.8538, 0.8535, 0.8485, 0.8314, 0.8155, 0.8155, 0.8155, 0.8155, 0.8154, 0.8154, 0.8154, 0.814, 0.8125, 0.8123, 0.8121, 0.8115, 0.8016, 0.761, 0.7436, 0.7365, 0.5583, 0.5756, 0.4959, 0.7293, 0.7025, 0.323, 0.6371, 0.447, 0.5492, 0.7032, 0.3791, 0.5515, 0.5042, 0.3422, 0.5116, 0.6155, -0.0194, 0.3128, 0.6428, 0.3888, 0.6805, 0.1999, 0.4218, -0.0656, 0.054, 0.2262, 0.2723, 0.0999, -0.0719, -0.0814, -0.2386, 0.0642, -0.2439, -0.0294, -0.2377, -0.035, 1.64, 1.5679, 1.5657, 1.5404, 1.5404, 1.4963, 1.4909, 1.4178, 1.4178, 1.4178, 1.4178, 1.4178, 1.4178, 1.4178, 1.4178, 1.4178, 1.4178, 1.4178, 1.4178, 1.4168, 1.4168, 1.4162, 1.4162, 1.4146, 1.4099, 1.3794, 1.3443, 1.342, 1.342, 1.335, 1.1217, 1.2356, 0.833, 1.0685, 0.3295, 0.8388, 1.1801, 1.0166, 1.0907, 0.7888, 0.7265, 0.4736, 1.2546, 1.2488, 0.4823, 0.8197, 0.3423, 0.6577, 0.861, 1.1149, 0.6503, 0.2739, 0.6856, -0.0061, 0.4475, 0.3361, 0.5117, 0.104, 0.1849, -0.0644, -1.1232, -0.4932, -1.0394, -1.3323, -0.4877, -1.1902, 2.6705, 2.4333, 2.4333, 2.4333, 2.4321, 2.2405, 2.1981, 2.1981, 2.1981, 2.1981, 2.1981, 2.1981, 2.1981, 2.1981, 2.1981, 2.1981, 2.1981, 2.1981, 2.1981, 2.1981, 2.1981, 2.1981, 2.1981, 2.1981, 2.1981, 2.1981, 2.1981, 2.1981, 2.1981, 2.1981, 1.917, 1.7478, 2.0871, 2.0512, 0.9373, 1.1234, 1.8314, 1.7913, 1.7811, 1.5347, 1.4063, -0.4052, 1.5861, 1.5885, 0.1727, 1.4284, 0.927, 1.4147, -0.8058, 1.396, 0.294, 1.0039, -0.2149, 0.0072, -0.0962, -0.4336, 0.2657, -0.6903, 1.0167, 0.646, 0.1246, -0.3302]}, \"token.table\": {\"Topic\": [2, 1, 2, 3, 4, 1, 2, 3, 1, 2, 3, 4, 1, 2, 3, 2, 3, 4, 1, 2, 4, 1, 2, 3, 4, 1, 2, 3, 4, 2, 1, 2, 3, 4, 1, 2, 3, 1, 4, 1, 2, 3, 4, 1, 2, 3, 3, 4, 2, 3, 3, 1, 3, 1, 2, 3, 4, 4, 4, 1, 2, 1, 2, 3, 4, 1, 2, 3, 2, 3, 1, 2, 3, 1, 3, 4, 1, 2, 1, 3, 1, 2, 3, 2, 3, 3, 4, 4, 1, 1, 2, 4, 4, 1, 2, 1, 2, 4, 1, 2, 3, 4, 2, 1, 2, 3, 4, 1, 1, 2, 3, 2, 3, 1, 2, 3, 1, 2, 3, 2, 2, 1, 2, 2, 1, 2, 2, 1, 2, 3, 2, 4, 1, 3, 4, 1, 2, 4, 1, 1, 2, 3, 1, 2, 3, 4, 1, 2, 4, 3, 1, 2, 3, 4, 3, 3, 1, 2, 3, 1, 2, 1, 2, 3, 3, 1, 2, 3, 4, 3, 4, 4, 1, 1, 1, 3, 1, 2, 2, 2, 3, 1, 2, 3, 1, 2, 3, 1, 2, 1, 4, 4, 2, 1, 2, 3, 1, 2, 3, 4, 1, 3, 1, 2, 3, 1, 2, 1, 3, 3, 1, 2, 4, 2, 4, 1, 2, 3, 4, 1, 2, 1, 2, 3, 4, 1, 2, 3, 4, 1, 2, 3, 4, 2, 1, 1, 2, 3, 4, 1, 2, 3, 4, 4, 2, 2, 1, 2, 3, 1, 2, 3, 4, 4, 4, 1, 2, 3, 4, 3, 2, 3, 1, 2, 3, 1, 4, 1, 2, 3, 4, 1, 2, 3, 2, 1, 3, 1, 1, 1, 2, 4, 1, 2, 3, 4, 1, 2, 4, 1, 1, 2, 3, 4, 1, 2, 3, 1, 2, 3, 1, 2, 3, 4, 1, 3, 4, 1, 2, 3, 1, 2, 3, 1, 2, 4, 1, 2, 4, 1, 4, 2, 1, 4, 3, 4, 1, 2, 3, 4, 1, 2, 1, 2, 3, 4, 4, 4, 1, 2, 4, 3, 2, 4, 4, 1, 2, 3, 4, 2, 2, 4, 2, 3, 1, 4, 1, 2, 1, 4, 1, 3, 2, 3, 3, 1, 2, 3, 3, 1, 2, 3, 1, 2, 4, 1, 2, 1, 1, 4, 1, 2, 3, 4, 4, 1, 2, 3, 4, 1, 2, 3, 1, 2, 3, 1, 2, 3, 1, 1, 2, 3, 3, 3, 4, 1, 2, 3, 1, 2, 3, 3, 1, 2, 3, 1, 2, 3, 4, 1, 2, 3, 4, 3, 1], \"Freq\": [0.9139747386204099, 0.674076507971446, 0.23446139407702468, 0.05861534851925617, 0.05861534851925617, 0.24318678647847236, 0.4863735729569447, 0.2918241437741668, 0.6503209703488586, 0.2660403969608967, 0.059120088213532596, 0.029560044106766298, 0.2766665746037071, 0.13833328730185354, 0.5533331492074142, 0.7522505991002006, 0.12537509985003345, 0.12537509985003345, 0.8728495646708504, 0.07273746372257087, 0.7595219033032303, 0.2215597649659879, 0.6277526674036323, 0.11077988248299395, 0.036926627494331316, 0.44461858086820444, 0.29641238724546964, 0.14820619362273482, 0.0988041290818232, 0.9351491721393989, 0.03899941401124816, 0.46799296813497787, 0.2729958980787371, 0.19499707005624078, 0.40060301927393904, 0.5376514206044971, 0.05271092358867619, 0.891645106792476, 0.5336918877363792, 0.23368460306823, 0.16995243859507636, 0.5523454254339982, 0.021244054824384545, 0.4337485596515702, 0.300287464374164, 0.2669221905548124, 0.9720441519276688, 0.5338669266938537, 0.2546970039958045, 0.7640910119874136, 0.8657171165509112, 0.2530011590568329, 0.7590034771704987, 0.0859735472969129, 0.1719470945938258, 0.3438941891876516, 0.4298677364845645, 0.7595237853271943, 0.7595237462027761, 0.8916421337881836, 0.9817489855246643, 0.21293197101107797, 0.21293197101107797, 0.5323299275276949, 0.10646598550553898, 0.42179375758908394, 0.2811958383927226, 0.3012812554207742, 0.7320943037605976, 0.24403143458686585, 0.3309857761121664, 0.6031296364710588, 0.06619715522243329, 0.39080022057624836, 0.48850027572031046, 0.09770005514406209, 0.9841369491815227, 0.9139314019561925, 0.837616673632607, 0.8657183660757573, 0.6580076185666583, 0.28200326509999646, 0.047000544183332736, 0.9703395226583924, 0.8627441598414137, 0.5842852519724319, 0.29214262598621593, 0.7595237853271943, 0.8916291893527637, 0.2794476597957045, 0.2794476597957045, 0.2794476597957045, 0.7595237853271943, 0.8324142529787737, 0.08324142529787737, 0.2557481549184982, 0.5114963098369965, 0.1278740774592491, 0.6342594873801665, 0.15856487184504162, 0.10570991456336108, 0.05285495728168054, 0.9703074959129596, 0.4579866771032034, 0.3330812197114207, 0.16654060985571034, 0.020817576231963793, 0.8916332664039439, 0.19856466757787766, 0.6949763365225717, 0.8657151469596269, 0.9140069095933625, 0.8657180789029625, 0.24400748510891154, 0.3904119761742585, 0.34161047915247617, 0.21328092540149904, 0.3732416194526233, 0.4265618508029981, 0.9701782885257605, 0.9140062904836933, 0.11966766110121821, 0.8376736277085275, 0.9140278682805743, 0.3664207016920814, 0.6514145807859225, 0.9140105465079482, 0.7342035047600719, 0.1468407009520144, 0.8628542012856947, 0.9701768990693308, 0.7595230074657983, 0.9084154122475491, 0.865715215598893, 0.7595237853271943, 0.19003929775295827, 0.19003929775295827, 0.5701178932588749, 0.8916044065973364, 0.3624012933453118, 0.2265008083408199, 0.4077014550134758, 0.3344498052800435, 0.16722490264002174, 0.4180622566000543, 0.08361245132001087, 0.22648647811981754, 0.45297295623963507, 0.22648647811981754, 0.8654847914694589, 0.1915842430058372, 0.3831684860116744, 0.1915842430058372, 0.1915842430058372, 0.865715215598893, 0.8656432326611379, 0.30676037361307623, 0.6463879301132678, 0.04930077433067297, 0.2386214110373019, 0.7158642331119057, 0.4019538082553269, 0.28373209994493664, 0.30737644160701466, 0.8604662795537255, 0.17116641233097227, 0.34233282466194453, 0.17116641233097227, 0.34233282466194453, 0.8655945843124874, 0.7595221393250526, 0.533870938523207, 0.8917022188135442, 0.8376349283966014, 0.21164399075334486, 0.6349319722600346, 0.9449892521386414, 0.914880056750017, 0.981748985524791, 0.36091840699445105, 0.5413776104916765, 0.4341804491355283, 0.506543857324783, 0.07236340818925471, 0.30468731523860937, 0.30468731523860937, 0.3656247782863313, 0.09965264021549874, 0.8968737619394886, 0.9802050350278391, 0.7595237462027761, 0.7595237853271943, 0.9139362221940333, 0.3704645888768701, 0.5556968833153052, 0.07409291777537402, 0.4671757840861523, 0.37958032456999874, 0.058396973010769036, 0.08759545951615355, 0.31355058819796594, 0.6271011763959319, 0.1789292241914231, 0.1789292241914231, 0.5367876725742693, 0.7317397049228304, 0.29269588196913215, 0.9805692747112367, 0.8657170932812586, 0.7771350064536324, 0.10875800958319874, 0.8700640766655899, 0.7595219033032303, 0.9140052199940402, 0.7595230074657983, 0.2905750353010209, 0.4600771392266164, 0.1937166902006806, 0.04842917255017015, 0.5946781307930794, 0.38961670638167273, 0.45021363420866634, 0.1286324669167618, 0.0643162334583809, 0.3215811672919045, 0.2973428499463639, 0.5097305999080524, 0.10619387498084425, 0.06371632498850655, 0.40700656592160706, 0.506681643290164, 0.058143795131658155, 0.02491876934213921, 0.9139315034540001, 0.8916161660777073, 0.42917822824295637, 0.34870731044740205, 0.1877654748562934, 0.053647278530369547, 0.43545547466353646, 0.2847208872800046, 0.25122431230588643, 0.016748287487059095, 0.5338706070802339, 0.8191533508648927, 0.970181406740807, 0.3618430644549878, 0.568610529857838, 0.1033837327014251, 0.6363174501168162, 0.12726349002336323, 0.19089523503504485, 0.06363174501168162, 0.7595230074657983, 0.7595237853271943, 0.19492778888089968, 0.19492778888089968, 0.38985557776179935, 0.19492778888089968, 0.8655945843110338, 0.21217206477690015, 0.7426022267191505, 0.3963938016187934, 0.4624594352219257, 0.13213126720626447, 0.36470659006363043, 0.36470659006363043, 0.3463318654819258, 0.3600028601720018, 0.25519190088141896, 0.041012984070228055, 0.7384568726097759, 0.14769137452195516, 0.14769137452195516, 0.9701673877491706, 0.8508605902541778, 0.17017211805083557, 0.9801993572145311, 0.8916069587098996, 0.24321821178007347, 0.6485818980801958, 0.08107273726002448, 0.3729364574962166, 0.3314990733299703, 0.24862430499747776, 0.04143738416624629, 0.444257150980789, 0.444257150980789, 0.0888514301961578, 0.8916090068853648, 0.3444748902591533, 0.2152968064119708, 0.4305936128239416, 0.02152968064119708, 0.26185118902979565, 0.34913491870639424, 0.3927767835446935, 0.10097309785356386, 0.7068116849749471, 0.2019461957071277, 0.2517900973468713, 0.5776361056781165, 0.029622364393749562, 0.1481118219687478, 0.7649953640488165, 0.25499845468293886, 0.7595237853271943, 0.23049439018366003, 0.6508076899303342, 0.10846794832172237, 0.36028588538300044, 0.3152501497101254, 0.36028588538300044, 0.5272245900438667, 0.13180614751096667, 0.26361229502193334, 0.8147418455208357, 0.16294836910416716, 0.03258967382083343, 0.5544298834580373, 0.27721494172901867, 0.970151577982651, 0.7064815348272054, 0.1412963069654411, 0.37758147564998756, 0.37758147564998756, 0.1624780753321236, 0.40619518833030904, 0.2437171129981854, 0.1624780753321236, 0.891607867857736, 0.970307252293123, 0.6814777782534722, 0.22715925941782406, 0.056789814854456014, 0.056789814854456014, 0.7595230074657983, 0.7595237853271943, 0.5644621805899289, 0.18815406019664296, 0.18815406019664296, 0.865715215598893, 0.914009718511436, 0.7595230074657983, 0.7316206719585928, 0.5032383297806541, 0.33549221985376937, 0.10064766595613081, 0.03354922198537694, 0.9140052828367217, 0.6832506726375726, 0.22775022421252417, 0.2126202626421206, 0.6378607879263618, 0.9084331518849446, 0.7595221393250526, 0.7814215944200184, 0.1302369324033364, 0.956689960193594, 0.7595237462027761, 0.8916209582099931, 0.7771365782962297, 0.9701766258588251, 0.8630230710503114, 0.8657193964228845, 0.15099141428211166, 0.6039656571284466, 0.21138797999495632, 0.8604683159886684, 0.07530619153053324, 0.7530619153053324, 0.15061238306106647, 0.2951239968874878, 0.5902479937749756, 0.1967493312583252, 0.1702024451407928, 0.7659110031335676, 0.8917487576494446, 0.9449772063854758, 0.7595237462027761, 0.9449755896238988, 0.862569840332237, 0.8656445205052543, 0.7595237462027761, 0.7595237853271943, 0.43925437081876345, 0.40997074609751255, 0.14641812360625447, 0.029283624721250897, 0.7141772926390139, 0.07935303251544598, 0.23805909754633794, 0.515193008370202, 0.3170418513047397, 0.15852092565236986, 0.63466039128322, 0.36743496337449577, 0.894477246435704, 0.8916071463684343, 0.1269369728585089, 0.698153350721799, 0.19040545928776337, 0.9723577037166862, 0.865715215598893, 0.7595219033032303, 0.753475272901841, 0.107639324700263, 0.107639324700263, 0.47376979386202717, 0.06768139912314673, 0.4060883947388804, 0.8657168104018188, 0.5354500671228336, 0.3663605722419388, 0.11272632992059656, 0.6161703714136819, 0.30808518570684096, 0.044012169386691564, 0.044012169386691564, 0.28958973829243195, 0.6274444329669359, 0.04826495638207199, 0.04826495638207199, 0.8657151469596269, 0.8916051497304565], \"Term\": [\"absolutely\", \"also\", \"also\", \"also\", \"also\", \"amazing\", \"amazing\", \"amazing\", \"amazon\", \"amazon\", \"amazon\", \"amazon\", \"android\", \"android\", \"android\", \"available\", \"available\", \"available\", \"average\", \"average\", \"aware\", \"awesome\", \"awesome\", \"awesome\", \"awesome\", \"back\", \"back\", \"back\", \"back\", \"backup\", \"bad\", \"bad\", \"bad\", \"bad\", \"battery\", \"battery\", \"battery\", \"beast\", \"bed\", \"best\", \"best\", \"best\", \"best\", \"better\", \"better\", \"better\", \"bettery\", \"bill\", \"black\", \"black\", \"blue\", \"body\", \"body\", \"box\", \"box\", \"box\", \"box\", \"branding\", \"breakable\", \"brilliant\", \"browser\", \"budget\", \"budget\", \"budget\", \"budget\", \"buy\", \"buy\", \"buy\", \"call\", \"call\", \"camera\", \"camera\", \"camera\", \"cameras\", \"cameras\", \"cameras\", \"care\", \"careful\", \"center\", \"changes\", \"charging\", \"charging\", \"charging\", \"choice\", \"compare\", \"condition\", \"condition\", \"confused\", \"couple\", \"cover\", \"cover\", \"cover\", \"crystal\", \"customer\", \"customer\", \"defective\", \"defective\", \"defective\", \"device\", \"device\", \"device\", \"device\", \"disappointing\", \"display\", \"display\", \"display\", \"display\", \"done\", \"draining\", \"draining\", \"easily\", \"easy\", \"editing\", \"even\", \"even\", \"even\", \"excellent\", \"excellent\", \"excellent\", \"exchange\", \"expandable\", \"expected\", \"expected\", \"fabulous\", \"fast\", \"fast\", \"fastly\", \"feel\", \"feel\", \"feeling\", \"find\", \"firstly\", \"flagship\", \"flash\", \"fluid\", \"found\", \"found\", \"found\", \"fps\", \"get\", \"get\", \"get\", \"getting\", \"getting\", \"getting\", \"getting\", \"given\", \"given\", \"given\", \"gives\", \"glass\", \"glass\", \"glass\", \"glass\", \"gone\", \"gonna\", \"good\", \"good\", \"good\", \"google\", \"google\", \"great\", \"great\", \"great\", \"green\", \"hand\", \"hand\", \"hand\", \"hand\", \"hdr\", \"head\", \"headset\", \"heated\", \"help\", \"higher\", \"higher\", \"hours\", \"however\", \"html\", \"iphone\", \"iphone\", \"issue\", \"issue\", \"issue\", \"issues\", \"issues\", \"issues\", \"item\", \"item\", \"job\", \"laminated\", \"latest\", \"left\", \"life\", \"life\", \"life\", \"like\", \"like\", \"like\", \"like\", \"looks\", \"looks\", \"love\", \"love\", \"love\", \"low\", \"low\", \"macro\", \"manage\", \"market\", \"memory\", \"memory\", \"mentioned\", \"mind\", \"mine\", \"mobile\", \"mobile\", \"mobile\", \"mobile\", \"money\", \"money\", \"nice\", \"nice\", \"nice\", \"nice\", \"nord\", \"nord\", \"nord\", \"nord\", \"not\", \"not\", \"not\", \"not\", \"noticed\", \"ofcourse\", \"one\", \"one\", \"one\", \"one\", \"oneplus\", \"oneplus\", \"oneplus\", \"oneplus\", \"opened\", \"ordered\", \"osm\", \"overall\", \"overall\", \"overall\", \"oxygen\", \"oxygen\", \"oxygen\", \"oxygen\", \"packed\", \"pal\", \"people\", \"people\", \"people\", \"people\", \"percent\", \"perfect\", \"perfect\", \"performance\", \"performance\", \"performance\", \"period\", \"period\", \"phone\", \"phone\", \"phone\", \"phone\", \"phones\", \"phones\", \"phones\", \"photo\", \"pictures\", \"pictures\", \"play\", \"playing\", \"please\", \"please\", \"please\", \"plus\", \"plus\", \"plus\", \"plus\", \"poor\", \"poor\", \"poor\", \"present\", \"price\", \"price\", \"price\", \"price\", \"problem\", \"problem\", \"problem\", \"problems\", \"problems\", \"problems\", \"product\", \"product\", \"product\", \"product\", \"products\", \"products\", \"punchole\", \"quality\", \"quality\", \"quality\", \"range\", \"range\", \"range\", \"rate\", \"rate\", \"rate\", \"really\", \"really\", \"really\", \"received\", \"received\", \"recording\", \"refresh\", \"refresh\", \"regrets\", \"regrets\", \"renewed\", \"renewed\", \"renewed\", \"renewed\", \"request\", \"rest\", \"return\", \"return\", \"return\", \"return\", \"rich\", \"right\", \"said\", \"said\", \"said\", \"sale\", \"says\", \"scared\", \"scratches\", \"screen\", \"screen\", \"screen\", \"screen\", \"scrolling\", \"second\", \"second\", \"segment\", \"segment\", \"selfie\", \"send\", \"sensor\", \"sensor\", \"service\", \"shame\", \"simply\", \"smart\", \"soo\", \"stand\", \"stopped\", \"storage\", \"storage\", \"storage\", \"stuck\", \"super\", \"super\", \"super\", \"superb\", \"superb\", \"superb\", \"support\", \"support\", \"temperature\", \"thanks\", \"thermal\", \"today\", \"totally\", \"tried\", \"unboxing\", \"unlock\", \"use\", \"use\", \"use\", \"use\", \"used\", \"used\", \"used\", \"using\", \"using\", \"using\", \"value\", \"value\", \"varient\", \"via\", \"video\", \"video\", \"video\", \"visible\", \"waiting\", \"wants\", \"waste\", \"waste\", \"waste\", \"well\", \"well\", \"well\", \"worked\", \"working\", \"working\", \"working\", \"worst\", \"worst\", \"worst\", \"worst\", \"worth\", \"worth\", \"worth\", \"worth\", \"wrong\", \"yes\"]}, \"R\": 30, \"lambda.step\": 0.01, \"plot.opts\": {\"xlab\": \"PC1\", \"ylab\": \"PC2\"}, \"topic.order\": [4, 3, 1, 2]};\n",
              "\n",
              "function LDAvis_load_lib(url, callback){\n",
              "  var s = document.createElement('script');\n",
              "  s.src = url;\n",
              "  s.async = true;\n",
              "  s.onreadystatechange = s.onload = callback;\n",
              "  s.onerror = function(){console.warn(\"failed to load library \" + url);};\n",
              "  document.getElementsByTagName(\"head\")[0].appendChild(s);\n",
              "}\n",
              "\n",
              "if(typeof(LDAvis) !== \"undefined\"){\n",
              "   // already loaded: just create the visualization\n",
              "   !function(LDAvis){\n",
              "       new LDAvis(\"#\" + \"ldavis_el1481403719408974882326596293\", ldavis_el1481403719408974882326596293_data);\n",
              "   }(LDAvis);\n",
              "}else if(typeof define === \"function\" && define.amd){\n",
              "   // require.js is available: use it to load d3/LDAvis\n",
              "   require.config({paths: {d3: \"https://d3js.org/d3.v5\"}});\n",
              "   require([\"d3\"], function(d3){\n",
              "      window.d3 = d3;\n",
              "      LDAvis_load_lib(\"https://cdn.jsdelivr.net/gh/bmabey/pyLDAvis@3.3.1/pyLDAvis/js/ldavis.v3.0.0.js\", function(){\n",
              "        new LDAvis(\"#\" + \"ldavis_el1481403719408974882326596293\", ldavis_el1481403719408974882326596293_data);\n",
              "      });\n",
              "    });\n",
              "}else{\n",
              "    // require.js not available: dynamically load d3 & LDAvis\n",
              "    LDAvis_load_lib(\"https://d3js.org/d3.v5.js\", function(){\n",
              "         LDAvis_load_lib(\"https://cdn.jsdelivr.net/gh/bmabey/pyLDAvis@3.3.1/pyLDAvis/js/ldavis.v3.0.0.js\", function(){\n",
              "                 new LDAvis(\"#\" + \"ldavis_el1481403719408974882326596293\", ldavis_el1481403719408974882326596293_data);\n",
              "            })\n",
              "         });\n",
              "}\n",
              "</script>"
            ],
            "text/plain": [
              "PreparedData(topic_coordinates=              x         y  topics  cluster       Freq\n",
              "topic                                                \n",
              "3      0.042811  0.042095       1        1  39.019460\n",
              "2      0.079423  0.035474       2        1  36.830004\n",
              "0      0.004644 -0.109954       3        1  18.285097\n",
              "1     -0.126877  0.032385       4        1   5.865439, topic_info=           Term        Freq       Total Category  logprob  loglift\n",
              "1071    product   67.000000   67.000000  Default  30.0000  30.0000\n",
              "896        nice   31.000000   31.000000  Default  29.0000  29.0000\n",
              "1001      phone  219.000000  219.000000  Default  28.0000  28.0000\n",
              "141        best   47.000000   47.000000  Default  27.0000  27.0000\n",
              "600        good  182.000000  182.000000  Default  26.0000  26.0000\n",
              "...         ...         ...         ...      ...      ...      ...\n",
              "400     display    1.412739   48.036332   Topic4  -5.6621  -0.6903\n",
              "368   defective    1.267813    7.820193   Topic4  -5.7704   1.0167\n",
              "1037       poor    1.259426   11.254743   Topic4  -5.7770   0.6460\n",
              "385      device    1.256975   18.919701   Topic4  -5.7790   0.1246\n",
              "1224     screen    1.256603   29.806951   Topic4  -5.7793  -0.3302\n",
              "\n",
              "[295 rows x 6 columns], token_table=      Topic      Freq        Term\n",
              "term                             \n",
              "3         2  0.913975  absolutely\n",
              "36        1  0.674077        also\n",
              "36        2  0.234461        also\n",
              "36        3  0.058615        also\n",
              "36        4  0.058615        also\n",
              "...     ...       ...         ...\n",
              "1565      2  0.627444       worth\n",
              "1565      3  0.048265       worth\n",
              "1565      4  0.048265       worth\n",
              "1575      3  0.865715       wrong\n",
              "1580      1  0.891605         yes\n",
              "\n",
              "[425 rows x 3 columns], R=30, lambda_step=0.01, plot_opts={'xlab': 'PC1', 'ylab': 'PC2'}, topic_order=[4, 3, 1, 2])"
            ]
          },
          "metadata": {},
          "execution_count": 165
        }
      ]
    },
    {
      "cell_type": "markdown",
      "metadata": {
        "id": "Qli-94WPfcq1"
      },
      "source": [
        "## Observation:\n",
        "- Above Vizz is from BOW corpus\n",
        "- 1st Topic Overall sentiments (anticipating Negative)\n",
        "- 2nd Topic is somewhat good reviews about battery and display.\n",
        "- 3rd Topic is for Positive reviews about Value for money, Internet, support.\n",
        "- 4th Topic is OVerall positive reviews."
      ]
    },
    {
      "cell_type": "code",
      "metadata": {
        "colab": {
          "base_uri": "https://localhost:8080/",
          "height": 954
        },
        "id": "CABm2hjBVpqP",
        "outputId": "94ca5a6c-3bad-44a4-c00c-a359263cb6ea"
      },
      "source": [
        "pyLDAvis.sklearn.prepare(lda_tfIDF,tfidfObject,tf_vectorizer)"
      ],
      "execution_count": 166,
      "outputs": [
        {
          "output_type": "stream",
          "name": "stderr",
          "text": [
            "/usr/local/lib/python3.7/dist-packages/sklearn/utils/deprecation.py:87: FutureWarning: Function get_feature_names is deprecated; get_feature_names is deprecated in 1.0 and will be removed in 1.2. Please use get_feature_names_out instead.\n",
            "  warnings.warn(msg, category=FutureWarning)\n",
            "/usr/local/lib/python3.7/dist-packages/pyLDAvis/_prepare.py:247: FutureWarning: In a future version of pandas all arguments of DataFrame.drop except for the argument 'labels' will be keyword-only\n",
            "  by='saliency', ascending=False).head(R).drop('saliency', 1)\n"
          ]
        },
        {
          "output_type": "execute_result",
          "data": {
            "text/html": [
              "\n",
              "<link rel=\"stylesheet\" type=\"text/css\" href=\"https://cdn.jsdelivr.net/gh/bmabey/pyLDAvis@3.3.1/pyLDAvis/js/ldavis.v1.0.0.css\">\n",
              "\n",
              "\n",
              "<div id=\"ldavis_el1481403718631371045910446584\"></div>\n",
              "<script type=\"text/javascript\">\n",
              "\n",
              "var ldavis_el1481403718631371045910446584_data = {\"mdsDat\": {\"x\": [-0.07095962771063156, 0.02220152757582759, 0.048758100134803986], \"y\": [0.009555871917554777, -0.043078122035931816, 0.03352225011837704], \"topics\": [1, 2, 3], \"cluster\": [1, 1, 1], \"Freq\": [51.00903057730547, 35.88261516666454, 13.108354256029983]}, \"tinfo\": {\"Term\": [\"good\", \"nice\", \"quality\", \"camera\", \"product\", \"best\", \"great\", \"battery\", \"price\", \"not\", \"working\", \"box\", \"perfect\", \"money\", \"waste\", \"range\", \"capacity\", \"awsm\", \"worst\", \"bed\", \"amazon\", \"awesome\", \"phone\", \"oxygen\", \"smoothly\", \"scratches\", \"fast\", \"worth\", \"well\", \"products\", \"quality\", \"working\", \"worst\", \"product\", \"good\", \"fast\", \"camera\", \"amazon\", \"products\", \"charging\", \"superb\", \"average\", \"battery\", \"draining\", \"video\", \"support\", \"poor\", \"life\", \"item\", \"browser\", \"html\", \"network\", \"awesome\", \"features\", \"super\", \"west\", \"expected\", \"delivery\", \"selfie\", \"loved\", \"not\", \"amazing\", \"bad\", \"one\", \"overall\", \"phone\", \"nord\", \"mobile\", \"plus\", \"screen\", \"oneplus\", \"everything\", \"money\", \"performance\", \"value\", \"problem\", \"buy\", \"display\", \"perfect\", \"waste\", \"oxygen\", \"segment\", \"light\", \"well\", \"great\", \"jack\", \"varient\", \"software\", \"smart\", \"best\", \"bettery\", \"tint\", \"headphone\", \"gaming\", \"love\", \"market\", \"budget\", \"class\", \"cost\", \"ofcourse\", \"never\", \"colour\", \"drain\", \"cameras\", \"main\", \"weight\", \"could\", \"simply\", \"price\", \"range\", \"backup\", \"bit\", \"get\", \"worth\", \"money\", \"used\", \"better\", \"issues\", \"value\", \"issue\", \"buy\", \"phone\", \"oneplus\", \"display\", \"like\", \"mobile\", \"not\", \"plus\", \"one\", \"storage\", \"use\", \"performance\", \"good\", \"nord\", \"bad\", \"awsm\", \"bed\", \"smoothly\", \"nice\", \"fab\", \"worthy\", \"clean\", \"balanced\", \"pcs\", \"capacity\", \"profamance\", \"scratches\", \"functioning\", \"budgeted\", \"cwllotape\", \"awsome\", \"opened\", \"openned\", \"scroll\", \"piece\", \"heet\", \"thanku\", \"wow\", \"edit\", \"goooood\", \"pikup\", \"marketing\", \"happened\", \"hear\", \"smoothing\", \"box\", \"butter\", \"slow\", \"phone\", \"refresh\", \"normal\", \"user\", \"upto\", \"renewed\", \"defective\", \"mark\"], \"Freq\": [23.0, 6.0, 10.0, 13.0, 12.0, 8.0, 5.0, 11.0, 7.0, 17.0, 6.0, 2.0, 2.0, 8.0, 2.0, 4.0, 1.0, 0.0, 4.0, 0.0, 4.0, 6.0, 19.0, 1.0, 0.0, 1.0, 3.0, 4.0, 1.0, 3.0, 10.671263452839327, 5.97893725243061, 3.8787468834080543, 11.910666140341478, 21.990247525390917, 3.2952603125005036, 12.25845043211985, 4.007627489184452, 3.1917719543551146, 3.2255390286430154, 2.3412010744298937, 2.4008460936662126, 10.387259918917204, 2.1875797067031386, 2.2359718419440737, 2.045930531749257, 2.4448714715978714, 4.4143458777807885, 1.936012524592773, 1.8173937131762536, 1.8173937131762536, 2.412273889497254, 5.503369548269258, 2.101877834323468, 2.0557148466739883, 1.5175446351111401, 1.4475186220470528, 1.4529341516955379, 1.4549076530258471, 1.5654452417628566, 14.175789709324109, 3.806076601213328, 5.361278485411857, 6.50394924156957, 2.3854445799393917, 10.623819991567684, 3.82838004362206, 3.6096179752088373, 3.1935244340574207, 2.583561019899286, 3.5664643621191443, 2.647443481577457, 3.8464979450943626, 2.6891777528132046, 3.002522159155327, 2.55775495255196, 2.6880270417252716, 2.4543609235200106, 2.4316412072869125, 2.1886634563970264, 1.6883730488680457, 1.4649125798578193, 1.4710030303242225, 1.5998227706076404, 4.851062491926155, 1.3074454355671628, 1.1292879745734141, 1.3147397725225602, 0.9818143633917116, 6.266177841375211, 0.9562731228188139, 1.0393865711407633, 0.8843554259765337, 1.0505015711300885, 1.0193158403202225, 0.8224219156493403, 1.3563435704523483, 0.8147702787543979, 0.8105134730870467, 0.7946923651923079, 1.2455532233587383, 0.7790947259870359, 0.7845231635565447, 0.7747172450707291, 0.7672452740213335, 0.776048224151707, 1.0257410499442068, 0.773786127550532, 5.499045166070956, 3.386965539202913, 1.518130156398191, 1.1701881147196969, 1.6363964663627786, 3.06561297132295, 4.918210445991868, 1.3277132081238565, 2.1356777968766902, 1.4176979297101244, 3.17863428930378, 2.313553671814107, 2.9348647426701184, 7.189209501951393, 2.8837042203427283, 2.15896277823123, 1.9075283098386395, 2.09746522389069, 2.8433708022834865, 1.7987353437695754, 2.0079671793833715, 1.6035885809259982, 1.5876680530527925, 1.4840744452355492, 1.6992816129581745, 1.5024169847724491, 1.489540336042999, 0.6146487530083967, 0.5799733510882742, 0.4827642878557959, 3.414010898730237, 0.39610713479661075, 0.3934595262387666, 0.36221146814475597, 0.3973407687196664, 0.34555125210435544, 0.6266461172792562, 0.32644646908101427, 0.4804132146438677, 0.32499151993925707, 0.3337459583311369, 0.3398802227879462, 0.4173594527577363, 0.31145092449290146, 0.30915744065070283, 0.30815218845046094, 0.3143677034449259, 0.31520238191981553, 0.32027897116873383, 0.28955256063470736, 0.2819430841033844, 0.28127172712296905, 0.2812717234658598, 0.27040243164396155, 0.27267337261478114, 0.27267337261477076, 0.2640396259117329, 0.8256280471129069, 0.3166919004851911, 0.39336122254782585, 1.697216614675702, 0.36492480650741277, 0.32328130890824197, 0.45303221538094335, 0.32509449993958633, 0.4156316076240518, 0.34968392278361654, 0.3134179591248249], \"Total\": [23.0, 6.0, 10.0, 13.0, 12.0, 8.0, 5.0, 11.0, 7.0, 17.0, 6.0, 2.0, 2.0, 8.0, 2.0, 4.0, 1.0, 0.0, 4.0, 0.0, 4.0, 6.0, 19.0, 1.0, 0.0, 1.0, 3.0, 4.0, 1.0, 3.0, 10.974671479705927, 6.389019269113202, 4.162229849686047, 12.809328476738813, 23.79563007730075, 3.582721884779765, 13.334918623464057, 4.362674744714747, 3.4794537450996823, 3.544609914176476, 2.616492649443323, 2.683895612080806, 11.642292075900698, 2.4606415717793384, 2.5311920311921745, 2.3166153984503772, 2.779449219676435, 5.030040427888408, 2.2070302487264453, 2.0881195395749668, 2.0881195395749668, 2.7722568226697266, 6.3554238155816325, 2.4288590286191343, 2.3863322962663247, 1.7899027219012196, 1.7183036716726228, 1.7319461582360356, 1.7371466902136379, 1.8700333283593957, 17.178174544002058, 4.584238311071204, 6.961561315269825, 8.627696045612383, 3.0251415089082707, 19.51024610819478, 5.53199517265377, 5.878920197640118, 5.099720630178355, 3.5441186847422714, 6.553710402873251, 3.7585694447180718, 8.868727899172498, 4.276948232985923, 6.285179059368973, 3.9701229503886193, 5.727555842777444, 4.717832071086185, 2.7342656451312184, 2.5116639055312877, 1.9824043026786642, 1.7548073998302784, 1.7655229556747243, 1.9230870424011193, 5.854114003354127, 1.640285011883188, 1.4175484940909977, 1.6512021244181452, 1.270895578801864, 8.119083883471438, 1.2479438059978472, 1.385834994410529, 1.1807119787974196, 1.4036954190969284, 1.370306216378073, 1.1106178113832537, 1.8350202941544167, 1.1032049907384192, 1.1020938448982374, 1.0828047864793364, 1.7017457469788413, 1.0673541954421368, 1.0759721898140797, 1.0637148978411985, 1.055950813306854, 1.069458434244167, 1.4184638957282512, 1.072676432393981, 7.832970498107629, 4.9861030338072725, 2.172937913493789, 1.65291591792277, 2.3730226594198314, 4.955241328241052, 8.868727899172498, 1.960162828213409, 3.4308467327924452, 2.1347286297885315, 6.285179059368973, 4.154848259004819, 5.727555842777444, 19.51024610819478, 6.553710402873251, 4.717832071086185, 4.306718633545517, 5.878920197640118, 17.178174544002058, 5.099720630178355, 8.627696045612383, 3.8469859921734586, 3.783255301995085, 4.276948232985923, 23.79563007730075, 5.53199517265377, 6.961561315269825, 0.9712970953738795, 0.9328963174697484, 0.8841821362670921, 6.259101631511677, 0.7487266777816118, 0.7490985559431773, 0.7144567404151221, 0.790927965365464, 0.6980423672782932, 1.2999716918764626, 0.6786795495824207, 1.003657689707092, 0.6789714266976103, 0.7020247959113963, 0.720950033639996, 0.8855380448200947, 0.6653799734439458, 0.661277473274861, 0.6646449050881094, 0.6840962225613508, 0.6978180217794921, 0.7093020299062636, 0.6549586782084853, 0.6468485397070596, 0.6487430095050468, 0.6487430124087004, 0.6265601165270055, 0.6341665790044613, 0.6341665790044695, 0.6226308494793337, 2.154790222429012, 0.7755721672190288, 1.2408059636473, 19.51024610819478, 1.134171326606468, 0.9000767740463418, 2.2168296594902075, 0.9660432765312867, 2.38807750745773, 2.109413052080535, 1.5989574762166003], \"Category\": [\"Default\", \"Default\", \"Default\", \"Default\", \"Default\", \"Default\", \"Default\", \"Default\", \"Default\", \"Default\", \"Default\", \"Default\", \"Default\", \"Default\", \"Default\", \"Default\", \"Default\", \"Default\", \"Default\", \"Default\", \"Default\", \"Default\", \"Default\", \"Default\", \"Default\", \"Default\", \"Default\", \"Default\", \"Default\", \"Default\", \"Topic1\", \"Topic1\", \"Topic1\", \"Topic1\", \"Topic1\", \"Topic1\", \"Topic1\", \"Topic1\", \"Topic1\", \"Topic1\", \"Topic1\", \"Topic1\", \"Topic1\", \"Topic1\", \"Topic1\", \"Topic1\", \"Topic1\", \"Topic1\", \"Topic1\", \"Topic1\", \"Topic1\", \"Topic1\", \"Topic1\", \"Topic1\", \"Topic1\", \"Topic1\", \"Topic1\", \"Topic1\", \"Topic1\", \"Topic1\", \"Topic1\", \"Topic1\", \"Topic1\", \"Topic1\", \"Topic1\", \"Topic1\", \"Topic1\", \"Topic1\", \"Topic1\", \"Topic1\", \"Topic1\", \"Topic1\", \"Topic1\", \"Topic1\", \"Topic1\", \"Topic1\", \"Topic1\", \"Topic1\", \"Topic2\", \"Topic2\", \"Topic2\", \"Topic2\", \"Topic2\", \"Topic2\", \"Topic2\", \"Topic2\", \"Topic2\", \"Topic2\", \"Topic2\", \"Topic2\", \"Topic2\", \"Topic2\", \"Topic2\", \"Topic2\", \"Topic2\", \"Topic2\", \"Topic2\", \"Topic2\", \"Topic2\", \"Topic2\", \"Topic2\", \"Topic2\", \"Topic2\", \"Topic2\", \"Topic2\", \"Topic2\", \"Topic2\", \"Topic2\", \"Topic2\", \"Topic2\", \"Topic2\", \"Topic2\", \"Topic2\", \"Topic2\", \"Topic2\", \"Topic2\", \"Topic2\", \"Topic2\", \"Topic2\", \"Topic2\", \"Topic2\", \"Topic2\", \"Topic2\", \"Topic2\", \"Topic2\", \"Topic2\", \"Topic2\", \"Topic2\", \"Topic2\", \"Topic2\", \"Topic2\", \"Topic2\", \"Topic2\", \"Topic2\", \"Topic2\", \"Topic3\", \"Topic3\", \"Topic3\", \"Topic3\", \"Topic3\", \"Topic3\", \"Topic3\", \"Topic3\", \"Topic3\", \"Topic3\", \"Topic3\", \"Topic3\", \"Topic3\", \"Topic3\", \"Topic3\", \"Topic3\", \"Topic3\", \"Topic3\", \"Topic3\", \"Topic3\", \"Topic3\", \"Topic3\", \"Topic3\", \"Topic3\", \"Topic3\", \"Topic3\", \"Topic3\", \"Topic3\", \"Topic3\", \"Topic3\", \"Topic3\", \"Topic3\", \"Topic3\", \"Topic3\", \"Topic3\", \"Topic3\", \"Topic3\", \"Topic3\", \"Topic3\", \"Topic3\", \"Topic3\"], \"logprob\": [30.0, 29.0, 28.0, 27.0, 26.0, 25.0, 24.0, 23.0, 22.0, 21.0, 20.0, 19.0, 18.0, 17.0, 16.0, 15.0, 14.0, 13.0, 12.0, 11.0, 10.0, 9.0, 8.0, 7.0, 6.0, 5.0, 4.0, 3.0, 2.0, 1.0, -4.2651, -4.8444, -5.2772, -4.1552, -3.5421, -5.4402, -4.1265, -5.2445, -5.4721, -5.4616, -5.782, -5.7569, -4.2921, -5.8499, -5.828, -5.9168, -5.7387, -5.1478, -5.9721, -6.0353, -6.0353, -5.7521, -4.9273, -5.8899, -5.9121, -6.2156, -6.2628, -6.2591, -6.2577, -6.1845, -3.9811, -5.2961, -4.9535, -4.7603, -5.7633, -4.2696, -5.2902, -5.3491, -5.4716, -5.6835, -5.3611, -5.6591, -5.2855, -5.6434, -5.5332, -5.6936, -5.6439, -5.7348, -5.3924, -5.4976, -5.7572, -5.8991, -5.895, -5.811, -4.7017, -6.0129, -6.1593, -6.0073, -6.2993, -4.4458, -6.3256, -6.2423, -6.4038, -6.2317, -6.2618, -6.4764, -5.9761, -6.4858, -6.491, -6.5107, -6.0614, -6.5306, -6.5236, -6.5362, -6.5459, -6.5345, -6.2555, -6.5374, -4.5764, -5.061, -5.8635, -6.1238, -5.7884, -5.1607, -4.688, -5.9975, -5.5221, -5.9319, -5.1245, -5.4421, -5.2043, -4.3084, -5.2219, -5.5113, -5.6351, -5.5402, -5.2359, -5.6938, -5.5838, -5.8087, -5.8187, -5.8861, -5.7507, -5.8739, -5.8825, -5.7606, -5.8187, -6.0022, -4.046, -6.2, -6.2067, -6.2895, -6.1969, -6.3365, -5.7413, -6.3934, -6.007, -6.3979, -6.3713, -6.3531, -6.1477, -6.4404, -6.4478, -6.4511, -6.4311, -6.4285, -6.4125, -6.5133, -6.54, -6.5424, -6.5424, -6.5818, -6.5734, -6.5734, -6.6056, -5.4655, -6.4238, -6.207, -4.7449, -6.282, -6.4032, -6.0657, -6.3976, -6.1519, -6.3247, -6.4341], \"loglift\": [30.0, 29.0, 28.0, 27.0, 26.0, 25.0, 24.0, 23.0, 22.0, 21.0, 20.0, 19.0, 18.0, 17.0, 16.0, 15.0, 14.0, 13.0, 12.0, 11.0, 10.0, 9.0, 8.0, 7.0, 6.0, 5.0, 4.0, 3.0, 2.0, 1.0, 0.6451, 0.6068, 0.6026, 0.6004, 0.5943, 0.5895, 0.589, 0.5883, 0.5869, 0.5788, 0.562, 0.5617, 0.5591, 0.5555, 0.5492, 0.5489, 0.5449, 0.5426, 0.5422, 0.5343, 0.5343, 0.5341, 0.5292, 0.5286, 0.524, 0.5081, 0.5017, 0.4975, 0.4959, 0.4954, 0.4811, 0.4871, 0.412, 0.3906, 0.4356, 0.0653, 0.3051, 0.1854, 0.2051, 0.357, 0.0647, 0.3227, -0.1622, 0.2092, -0.0656, 0.2335, -0.0833, 0.0197, 0.9076, 0.8873, 0.8644, 0.8444, 0.8424, 0.8409, 0.837, 0.7981, 0.7976, 0.7971, 0.7668, 0.7659, 0.7587, 0.7372, 0.7359, 0.7351, 0.729, 0.7245, 0.7227, 0.7218, 0.7176, 0.7156, 0.7128, 0.7101, 0.709, 0.7079, 0.7055, 0.7042, 0.7008, 0.6983, 0.6711, 0.6382, 0.6663, 0.6795, 0.6532, 0.5447, 0.4353, 0.6353, 0.5509, 0.6156, 0.3432, 0.4394, 0.3563, 0.0266, 0.204, 0.2432, 0.2105, -0.0057, -0.7737, -0.0172, -0.4329, 0.1499, 0.1566, -0.0335, -1.6144, -0.2786, -0.517, 1.5743, 1.5566, 1.4268, 1.4258, 1.3952, 1.388, 1.3526, 1.3435, 1.3288, 1.3022, 1.3, 1.2952, 1.2951, 1.2883, 1.2799, 1.2797, 1.2728, 1.2716, 1.2633, 1.2544, 1.2372, 1.2368, 1.2157, 1.2015, 1.1962, 1.1962, 1.1916, 1.1879, 1.1879, 1.1741, 1.0726, 1.1362, 0.8831, -0.41, 0.898, 1.008, 0.4441, 0.9428, 0.2835, 0.2348, 0.4024]}, \"token.table\": {\"Topic\": [1, 2, 1, 1, 1, 2, 3, 1, 2, 1, 2, 1, 2, 3, 1, 2, 1, 2, 2, 2, 1, 2, 3, 1, 2, 1, 2, 1, 2, 2, 3, 1, 2, 2, 2, 2, 1, 1, 1, 2, 2, 1, 1, 2, 1, 1, 1, 2, 1, 2, 1, 2, 1, 2, 2, 1, 1, 2, 1, 2, 1, 2, 1, 2, 2, 1, 2, 2, 1, 2, 1, 2, 1, 2, 1, 2, 1, 2, 1, 2, 3, 1, 2, 1, 2, 2, 1, 2, 1, 2, 1, 2, 2, 2, 1, 2, 1, 2, 3, 1, 2, 1, 1, 2, 1, 2, 1, 2, 1, 1, 1, 2, 2, 1, 2, 1, 2, 2, 1, 2, 1, 2, 2, 1, 2, 1, 1, 1, 2, 1, 2, 1, 2, 1, 2, 1, 2, 2, 1, 2, 2, 2, 1, 1, 1, 1, 2], \"Freq\": [0.8725549870170941, 0.21813874675427353, 0.9168687179455409, 0.7451854651118168, 0.9440755131529958, 0.15734591885883262, 1.0295511072387917, 0.4602064301009575, 0.920412860201915, 0.7182296863539446, 0.14364593727078892, 0.8589373926376397, 0.08589373926376398, 1.071930482813196, 0.24633321058198865, 0.738999631745966, 0.2914732361670021, 0.5829464723340042, 0.8013181324301754, 0.6049914512631147, 0.4640822988665405, 0.4640822988665405, 0.4640822988665405, 0.9577995713823437, 0.5449531011649129, 0.5237836316834966, 0.5237836316834966, 0.8998930056374591, 0.0749910838031216, 0.9401015272320549, 0.7692475199644816, 0.8463554728551826, 0.9064498514738045, 0.9368961159006488, 0.9073637464079438, 0.7049879824305233, 0.9481310443335791, 0.5773851544083142, 0.42392352459029775, 0.42392352459029775, 0.9293920507116386, 0.8127961515962524, 0.7981760199258546, 0.2660586733086182, 0.5819693087349251, 0.8373521854277043, 0.8234318980369351, 0.7124052599981789, 0.42140347713514253, 0.8428069542702851, 0.9245395027798131, 0.08404904570725573, 0.17082004201268508, 0.8541002100634254, 0.8469466033693682, 0.9577995713823437, 0.4813653532750305, 0.4813653532750305, 0.46844361669476514, 0.46844361669476514, 0.906195101382996, 0.6096501478434617, 0.7952222367483406, 0.19880555918708515, 0.5664044167683071, 0.46439068120721294, 0.46439068120721294, 0.7297638936814805, 1.0694996552572813, 0.9470138072704007, 0.6254075013715602, 0.900399750256588, 0.6803970568618463, 0.34019852843092313, 0.4510229703149673, 0.5637787128937092, 0.7214338814662808, 0.5876318491027988, 0.31953467410257835, 0.15976733705128918, 0.4793020111538675, 0.7230664299515555, 0.36153321497577773, 0.8149876440094881, 0.1746402094306046, 0.92352750235934, 0.8113405900014119, 0.23181159714326055, 0.6103412806043942, 0.45775596045329564, 0.6611260974438748, 0.3305630487219374, 1.008875937818315, 0.7314578243563526, 0.7014347232128105, 0.23381157440427017, 0.5638063168962144, 0.3587858380248637, 0.10251023943567533, 0.5882675184689635, 0.3921783456459757, 0.7195670227905178, 0.2553309757113449, 0.6383274392783621, 0.7556441040966608, 0.2518813680322203, 0.9368172595301527, 0.07806810496084605, 0.862204305553731, 1.0023079069237661, 0.20055742795920992, 0.6016722838776297, 0.8817010063127594, 0.4187468777194621, 0.4187468777194621, 0.8464727812065809, 0.28215759373552696, 0.5698631086788887, 0.5756566245289383, 0.9322475723347599, 0.8059277834711075, 0.7868467061178616, 0.6056193758546565, 0.519887518194483, 0.519887518194483, 0.8381062449388196, 0.7643820441939762, 0.8633284581194761, 0.7215866275806915, 0.5286452645543925, 0.5286452645543925, 0.5101616996336219, 0.5101616996336219, 0.45109465028989404, 0.45109465028989404, 0.47731337033716864, 0.47731337033716864, 0.7054432382161638, 0.7901415520251988, 0.7962848833379017, 0.9350527032934605, 1.0399945274982714, 1.1173791600672114, 0.9391112700201328, 0.9610233323134993, 0.40361303668532617, 0.6054195550279892], \"Term\": [\"amazing\", \"amazing\", \"amazon\", \"average\", \"awesome\", \"awesome\", \"awsm\", \"backup\", \"backup\", \"bad\", \"bad\", \"battery\", \"battery\", \"bed\", \"best\", \"best\", \"better\", \"better\", \"bettery\", \"bit\", \"box\", \"box\", \"box\", \"browser\", \"budget\", \"buy\", \"buy\", \"camera\", \"camera\", \"cameras\", \"capacity\", \"charging\", \"class\", \"colour\", \"cost\", \"could\", \"defective\", \"delivery\", \"display\", \"display\", \"drain\", \"draining\", \"everything\", \"everything\", \"expected\", \"fast\", \"features\", \"gaming\", \"get\", \"get\", \"good\", \"good\", \"great\", \"great\", \"headphone\", \"html\", \"issue\", \"issue\", \"issues\", \"issues\", \"item\", \"jack\", \"life\", \"life\", \"light\", \"like\", \"like\", \"love\", \"loved\", \"main\", \"mark\", \"market\", \"mobile\", \"mobile\", \"money\", \"money\", \"network\", \"never\", \"nice\", \"nice\", \"nice\", \"nord\", \"nord\", \"not\", \"not\", \"ofcourse\", \"one\", \"one\", \"oneplus\", \"oneplus\", \"overall\", \"overall\", \"oxygen\", \"perfect\", \"performance\", \"performance\", \"phone\", \"phone\", \"phone\", \"plus\", \"plus\", \"poor\", \"price\", \"price\", \"problem\", \"problem\", \"product\", \"product\", \"products\", \"quality\", \"range\", \"range\", \"refresh\", \"renewed\", \"renewed\", \"screen\", \"screen\", \"segment\", \"selfie\", \"simply\", \"slow\", \"smart\", \"software\", \"storage\", \"storage\", \"super\", \"superb\", \"support\", \"tint\", \"use\", \"use\", \"used\", \"used\", \"user\", \"user\", \"value\", \"value\", \"varient\", \"video\", \"waste\", \"weight\", \"well\", \"west\", \"working\", \"worst\", \"worth\", \"worth\"]}, \"R\": 30, \"lambda.step\": 0.01, \"plot.opts\": {\"xlab\": \"PC1\", \"ylab\": \"PC2\"}, \"topic.order\": [3, 1, 2]};\n",
              "\n",
              "function LDAvis_load_lib(url, callback){\n",
              "  var s = document.createElement('script');\n",
              "  s.src = url;\n",
              "  s.async = true;\n",
              "  s.onreadystatechange = s.onload = callback;\n",
              "  s.onerror = function(){console.warn(\"failed to load library \" + url);};\n",
              "  document.getElementsByTagName(\"head\")[0].appendChild(s);\n",
              "}\n",
              "\n",
              "if(typeof(LDAvis) !== \"undefined\"){\n",
              "   // already loaded: just create the visualization\n",
              "   !function(LDAvis){\n",
              "       new LDAvis(\"#\" + \"ldavis_el1481403718631371045910446584\", ldavis_el1481403718631371045910446584_data);\n",
              "   }(LDAvis);\n",
              "}else if(typeof define === \"function\" && define.amd){\n",
              "   // require.js is available: use it to load d3/LDAvis\n",
              "   require.config({paths: {d3: \"https://d3js.org/d3.v5\"}});\n",
              "   require([\"d3\"], function(d3){\n",
              "      window.d3 = d3;\n",
              "      LDAvis_load_lib(\"https://cdn.jsdelivr.net/gh/bmabey/pyLDAvis@3.3.1/pyLDAvis/js/ldavis.v3.0.0.js\", function(){\n",
              "        new LDAvis(\"#\" + \"ldavis_el1481403718631371045910446584\", ldavis_el1481403718631371045910446584_data);\n",
              "      });\n",
              "    });\n",
              "}else{\n",
              "    // require.js not available: dynamically load d3 & LDAvis\n",
              "    LDAvis_load_lib(\"https://d3js.org/d3.v5.js\", function(){\n",
              "         LDAvis_load_lib(\"https://cdn.jsdelivr.net/gh/bmabey/pyLDAvis@3.3.1/pyLDAvis/js/ldavis.v3.0.0.js\", function(){\n",
              "                 new LDAvis(\"#\" + \"ldavis_el1481403718631371045910446584\", ldavis_el1481403718631371045910446584_data);\n",
              "            })\n",
              "         });\n",
              "}\n",
              "</script>"
            ],
            "text/plain": [
              "PreparedData(topic_coordinates=              x         y  topics  cluster       Freq\n",
              "topic                                                \n",
              "2     -0.070960  0.009556       1        1  51.009031\n",
              "0      0.022202 -0.043078       2        1  35.882615\n",
              "1      0.048758  0.033522       3        1  13.108354, topic_info=           Term       Freq      Total Category  logprob  loglift\n",
              "600        good  23.000000  23.000000  Default  30.0000  30.0000\n",
              "896        nice   6.000000   6.000000  Default  29.0000  29.0000\n",
              "1099    quality  10.000000  10.000000  Default  28.0000  28.0000\n",
              "221      camera  13.000000  13.000000  Default  27.0000  27.0000\n",
              "1071    product  12.000000  12.000000  Default  26.0000  26.0000\n",
              "...         ...        ...        ...      ...      ...      ...\n",
              "1483       user   0.453032   2.216830   Topic3  -6.0657   0.4441\n",
              "1477       upto   0.325094   0.966043   Topic3  -6.3976   0.9428\n",
              "1161    renewed   0.415632   2.388078   Topic3  -6.1519   0.2835\n",
              "368   defective   0.349684   2.109413   Topic3  -6.3247   0.2348\n",
              "818        mark   0.313418   1.598957   Topic3  -6.4341   0.4024\n",
              "\n",
              "[176 rows x 6 columns], token_table=      Topic      Freq     Term\n",
              "term                          \n",
              "40        1  0.872555  amazing\n",
              "40        2  0.218139  amazing\n",
              "41        1  0.916869   amazon\n",
              "101       1  0.745185  average\n",
              "104       1  0.944076  awesome\n",
              "...     ...       ...      ...\n",
              "1541      1  1.117379     west\n",
              "1560      1  0.939111  working\n",
              "1564      1  0.961023    worst\n",
              "1565      1  0.403613    worth\n",
              "1565      2  0.605420    worth\n",
              "\n",
              "[147 rows x 3 columns], R=30, lambda_step=0.01, plot_opts={'xlab': 'PC1', 'ylab': 'PC2'}, topic_order=[3, 1, 2])"
            ]
          },
          "metadata": {},
          "execution_count": 166
        }
      ]
    },
    {
      "cell_type": "markdown",
      "metadata": {
        "id": "3Ia6TC_zgMn0"
      },
      "source": [
        "## Observation:\n",
        "- Above Vizz is from BOW corpus\n",
        "- 1st Topic clearly shows that reviews were bad. \n",
        "- 2nd Topic is somewhat good reviews.\n",
        "- 3rd Topic contains Average Reviews"
      ]
    },
    {
      "cell_type": "code",
      "metadata": {
        "id": "fCoopeU8Vv7T"
      },
      "source": [
        "topic_results = lda_tfIDF.transform(tfObject)"
      ],
      "execution_count": 167,
      "outputs": []
    },
    {
      "cell_type": "code",
      "metadata": {
        "colab": {
          "base_uri": "https://localhost:8080/"
        },
        "id": "OqP50m6YhtQs",
        "outputId": "95ab8561-5cdc-46ef-822c-38fad18cd4b6"
      },
      "source": [
        "(topic_results.shape)"
      ],
      "execution_count": 168,
      "outputs": [
        {
          "output_type": "execute_result",
          "data": {
            "text/plain": [
              "(531, 3)"
            ]
          },
          "metadata": {},
          "execution_count": 168
        }
      ]
    },
    {
      "cell_type": "code",
      "metadata": {
        "colab": {
          "base_uri": "https://localhost:8080/"
        },
        "id": "OyoRgNmfjTEN",
        "outputId": "e4196c9c-2fa3-44d3-ce83-ba7ea697fbd2"
      },
      "source": [
        "topic_results"
      ],
      "execution_count": 169,
      "outputs": [
        {
          "output_type": "execute_result",
          "data": {
            "text/plain": [
              "array([[0.59723849, 0.00222667, 0.40053484],\n",
              "       [0.10314274, 0.01093839, 0.88591886],\n",
              "       [0.58401128, 0.00548259, 0.41050613],\n",
              "       ...,\n",
              "       [0.1774297 , 0.16699806, 0.65557224],\n",
              "       [0.04842441, 0.32233058, 0.62924501],\n",
              "       [0.00855811, 0.00789362, 0.98354827]])"
            ]
          },
          "metadata": {},
          "execution_count": 169
        }
      ]
    },
    {
      "cell_type": "code",
      "metadata": {
        "id": "_5jO1QqkjF3J"
      },
      "source": [
        "final_topics = []\n",
        "for i in range(df.shape[0]):\n",
        "  final_topics.append(topic_results[i].argmax())"
      ],
      "execution_count": 170,
      "outputs": []
    },
    {
      "cell_type": "code",
      "metadata": {
        "id": "uvqWIYArijfl"
      },
      "source": [
        "df['topics_BOW'] = final_topics\n",
        "df['topics_BOW'] = df.topics_BOW.replace({0: \"Negative\", 1: \"Positive\", 2: \"Neutral\" })"
      ],
      "execution_count": 172,
      "outputs": []
    },
    {
      "cell_type": "code",
      "metadata": {
        "id": "MsmEWRG4iuAP"
      },
      "source": [
        "df['topics_tf_idf'] = final_topics\n",
        "df['topics_tf_idf'] = df.topics_tf_idf.replace({0: \"Negative\", 1: \"Battery_display\", 2: \"Money_Internet_Support\",3: \"Positive\" })"
      ],
      "execution_count": 174,
      "outputs": []
    },
    {
      "cell_type": "code",
      "metadata": {
        "colab": {
          "base_uri": "https://localhost:8080/",
          "height": 206
        },
        "id": "zoSza78jkSzi",
        "outputId": "8a1cc104-38db-4c02-a617-e105949fcce3"
      },
      "source": [
        "df.head()"
      ],
      "execution_count": 175,
      "outputs": [
        {
          "output_type": "execute_result",
          "data": {
            "text/html": [
              "<div>\n",
              "<style scoped>\n",
              "    .dataframe tbody tr th:only-of-type {\n",
              "        vertical-align: middle;\n",
              "    }\n",
              "\n",
              "    .dataframe tbody tr th {\n",
              "        vertical-align: top;\n",
              "    }\n",
              "\n",
              "    .dataframe thead th {\n",
              "        text-align: right;\n",
              "    }\n",
              "</style>\n",
              "<table border=\"1\" class=\"dataframe\">\n",
              "  <thead>\n",
              "    <tr style=\"text-align: right;\">\n",
              "      <th></th>\n",
              "      <th>title</th>\n",
              "      <th>content</th>\n",
              "      <th>date</th>\n",
              "      <th>verified</th>\n",
              "      <th>author</th>\n",
              "      <th>rating</th>\n",
              "      <th>topics_BOW</th>\n",
              "      <th>topics_tf_idf</th>\n",
              "    </tr>\n",
              "  </thead>\n",
              "  <tbody>\n",
              "    <tr>\n",
              "      <th>0</th>\n",
              "      <td>Finally Settled for Average Performance and Ba...</td>\n",
              "      <td>For 25K , you will get - Average performance. ...</td>\n",
              "      <td>30-Sep-20</td>\n",
              "      <td>Yes</td>\n",
              "      <td>arv</td>\n",
              "      <td>2</td>\n",
              "      <td>Negative</td>\n",
              "      <td>Negative</td>\n",
              "    </tr>\n",
              "    <tr>\n",
              "      <th>1</th>\n",
              "      <td>6gb+64gb not worth buying, storage issues are ...</td>\n",
              "      <td>The phone is really great performance wise, th...</td>\n",
              "      <td>26-Sep-20</td>\n",
              "      <td>Yes</td>\n",
              "      <td>Shivani</td>\n",
              "      <td>2</td>\n",
              "      <td>Neutral</td>\n",
              "      <td>Money_Internet_Support</td>\n",
              "    </tr>\n",
              "    <tr>\n",
              "      <th>2</th>\n",
              "      <td>Perfect phone for light to moderate usage</td>\n",
              "      <td>I have been using it since 14-15 days. So here...</td>\n",
              "      <td>27-Sep-20</td>\n",
              "      <td>Yes</td>\n",
              "      <td>Simranjit Singh</td>\n",
              "      <td>5</td>\n",
              "      <td>Negative</td>\n",
              "      <td>Negative</td>\n",
              "    </tr>\n",
              "    <tr>\n",
              "      <th>3</th>\n",
              "      <td>Love this phone from one plus</td>\n",
              "      <td>Such a nice phone from one plus.over all it is...</td>\n",
              "      <td>26-Sep-20</td>\n",
              "      <td>Yes</td>\n",
              "      <td>Rohit Sahu</td>\n",
              "      <td>4</td>\n",
              "      <td>Neutral</td>\n",
              "      <td>Money_Internet_Support</td>\n",
              "    </tr>\n",
              "    <tr>\n",
              "      <th>4</th>\n",
              "      <td>Never a oneplus standard in terms of sale, and...</td>\n",
              "      <td>Regarding the one plus feeling. It is gone.. S...</td>\n",
              "      <td>30-Sep-20</td>\n",
              "      <td>Yes</td>\n",
              "      <td>Amazon Customer</td>\n",
              "      <td>2</td>\n",
              "      <td>Negative</td>\n",
              "      <td>Negative</td>\n",
              "    </tr>\n",
              "  </tbody>\n",
              "</table>\n",
              "</div>"
            ],
            "text/plain": [
              "                                               title  ...           topics_tf_idf\n",
              "0  Finally Settled for Average Performance and Ba...  ...                Negative\n",
              "1  6gb+64gb not worth buying, storage issues are ...  ...  Money_Internet_Support\n",
              "2          Perfect phone for light to moderate usage  ...                Negative\n",
              "3                      Love this phone from one plus  ...  Money_Internet_Support\n",
              "4  Never a oneplus standard in terms of sale, and...  ...                Negative\n",
              "\n",
              "[5 rows x 8 columns]"
            ]
          },
          "metadata": {},
          "execution_count": 175
        }
      ]
    },
    {
      "cell_type": "code",
      "metadata": {
        "id": "zA0-KEeCpuns"
      },
      "source": [
        ""
      ],
      "execution_count": null,
      "outputs": []
    }
  ]
}