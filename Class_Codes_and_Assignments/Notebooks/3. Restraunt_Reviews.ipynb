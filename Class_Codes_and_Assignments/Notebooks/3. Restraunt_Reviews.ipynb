{
  "nbformat": 4,
  "nbformat_minor": 0,
  "metadata": {
    "colab": {
      "name": "Restraunt_Reviews.ipynb",
      "provenance": [],
      "collapsed_sections": [],
      "include_colab_link": true
    },
    "kernelspec": {
      "name": "python3",
      "display_name": "Python 3"
    },
    "language_info": {
      "name": "python"
    }
  },
  "cells": [
    {
      "cell_type": "markdown",
      "metadata": {
        "id": "view-in-github",
        "colab_type": "text"
      },
      "source": [
        "<a href=\"https://colab.research.google.com/github/snikhil17/NLP_course_Simplilearn/blob/main/Class_Codes_and_Assignments/Notebooks/3.%20Restraunt_Reviews.ipynb\" target=\"_parent\"><img src=\"https://colab.research.google.com/assets/colab-badge.svg\" alt=\"Open In Colab\"/></a>"
      ]
    },
    {
      "cell_type": "markdown",
      "metadata": {
        "id": "VFuEAU40mn2u"
      },
      "source": [
        "## **Problem Statement**\n",
        "- Use-case : Restraunt Reviews\n",
        "- Goal: Create a model that predicts whether a given review is Positive or Negative.\n",
        "- SL = 0.35, therefore CL = 1- SL = 0.65"
      ]
    },
    {
      "cell_type": "markdown",
      "metadata": {
        "id": "GfRHUAItAEvY"
      },
      "source": [
        "## **Aquire Data**"
      ]
    },
    {
      "cell_type": "code",
      "metadata": {
        "colab": {
          "base_uri": "https://localhost:8080/"
        },
        "id": "Yjl9yaZ5AHCb",
        "outputId": "bfc0ace6-eb41-4cf2-e186-1ab62ba45623"
      },
      "source": [
        "!wget https://github.com/snikhil17/NLP_course_Simplilearn/blob/main/Class_Codes_and_Assignments/data/Restaurant_Reviews.tsv"
      ],
      "execution_count": 2,
      "outputs": [
        {
          "output_type": "stream",
          "name": "stdout",
          "text": [
            "--2021-11-22 08:33:32--  https://github.com/snikhil17/NLP_course_Simplilearn/blob/main/Class_Codes_and_Assignments/data/Restaurant_Reviews.tsv\n",
            "Resolving github.com (github.com)... 192.30.255.112\n",
            "Connecting to github.com (github.com)|192.30.255.112|:443... connected.\n",
            "HTTP request sent, awaiting response... 200 OK\n",
            "Length: unspecified [text/html]\n",
            "Saving to: ‘Restaurant_Reviews.tsv’\n",
            "\n",
            "Restaurant_Reviews.     [ <=>                ] 487.37K  --.-KB/s    in 0.04s   \n",
            "\n",
            "2021-11-22 08:33:32 (10.8 MB/s) - ‘Restaurant_Reviews.tsv’ saved [499070]\n",
            "\n"
          ]
        }
      ]
    },
    {
      "cell_type": "markdown",
      "metadata": {
        "id": "hNWDgBxzmyV1"
      },
      "source": [
        "## **Loading Libraries**"
      ]
    },
    {
      "cell_type": "code",
      "metadata": {
        "id": "g_2Szf460t3u",
        "colab": {
          "base_uri": "https://localhost:8080/"
        },
        "outputId": "2cbe9f5e-a201-45ac-8a04-2c621c215aee"
      },
      "source": [
        "import pandas as pd\n",
        "import numpy as np\n",
        "import nltk\n",
        "import re\n",
        "from nltk.corpus import stopwords\n",
        "nltk.download('stopwords')\n",
        "import string\n",
        "from sklearn.feature_extraction.text import CountVectorizer, TfidfTransformer\n",
        "import spacy\n",
        "nlp = spacy.load('en_core_web_sm')\n",
        "from nltk.stem.porter import PorterStemmer\n",
        "from nltk import ngrams\n",
        "\n",
        "from sklearn.model_selection import train_test_split\n",
        "from sklearn.ensemble import RandomForestClassifier \n",
        "import warnings\n",
        "warnings.filterwarnings('ignore')\n",
        "from sklearn import metrics\n",
        "import statistics"
      ],
      "execution_count": null,
      "outputs": [
        {
          "output_type": "stream",
          "name": "stdout",
          "text": [
            "[nltk_data] Downloading package stopwords to /root/nltk_data...\n",
            "[nltk_data]   Package stopwords is already up-to-date!\n"
          ]
        }
      ]
    },
    {
      "cell_type": "markdown",
      "metadata": {
        "id": "FM8BwRI9m2K2"
      },
      "source": [
        "## **Loading Data**"
      ]
    },
    {
      "cell_type": "code",
      "metadata": {
        "colab": {
          "base_uri": "https://localhost:8080/"
        },
        "id": "mRq401To0v2B",
        "outputId": "c9b31be8-2925-4c0e-c165-33ae35368823"
      },
      "source": [
        "data = pd.read_csv('Restaurant_Reviews.tsv', sep='\\t')\n",
        "data.info()"
      ],
      "execution_count": null,
      "outputs": [
        {
          "output_type": "stream",
          "name": "stdout",
          "text": [
            "<class 'pandas.core.frame.DataFrame'>\n",
            "RangeIndex: 1000 entries, 0 to 999\n",
            "Data columns (total 2 columns):\n",
            " #   Column  Non-Null Count  Dtype \n",
            "---  ------  --------------  ----- \n",
            " 0   Review  1000 non-null   object\n",
            " 1   Liked   1000 non-null   int64 \n",
            "dtypes: int64(1), object(1)\n",
            "memory usage: 15.8+ KB\n"
          ]
        }
      ]
    },
    {
      "cell_type": "code",
      "metadata": {
        "colab": {
          "base_uri": "https://localhost:8080/",
          "height": 206
        },
        "id": "O_y6XOB6MrKO",
        "outputId": "cc1b39e7-d09e-4b9a-fbcd-ce30f6808ad3"
      },
      "source": [
        "data.head()"
      ],
      "execution_count": null,
      "outputs": [
        {
          "output_type": "execute_result",
          "data": {
            "text/html": [
              "<div>\n",
              "<style scoped>\n",
              "    .dataframe tbody tr th:only-of-type {\n",
              "        vertical-align: middle;\n",
              "    }\n",
              "\n",
              "    .dataframe tbody tr th {\n",
              "        vertical-align: top;\n",
              "    }\n",
              "\n",
              "    .dataframe thead th {\n",
              "        text-align: right;\n",
              "    }\n",
              "</style>\n",
              "<table border=\"1\" class=\"dataframe\">\n",
              "  <thead>\n",
              "    <tr style=\"text-align: right;\">\n",
              "      <th></th>\n",
              "      <th>Review</th>\n",
              "      <th>Liked</th>\n",
              "    </tr>\n",
              "  </thead>\n",
              "  <tbody>\n",
              "    <tr>\n",
              "      <th>0</th>\n",
              "      <td>Wow... Loved this place.</td>\n",
              "      <td>1</td>\n",
              "    </tr>\n",
              "    <tr>\n",
              "      <th>1</th>\n",
              "      <td>Crust is not good.</td>\n",
              "      <td>0</td>\n",
              "    </tr>\n",
              "    <tr>\n",
              "      <th>2</th>\n",
              "      <td>Not tasty and the texture was just nasty.</td>\n",
              "      <td>0</td>\n",
              "    </tr>\n",
              "    <tr>\n",
              "      <th>3</th>\n",
              "      <td>Stopped by during the late May bank holiday of...</td>\n",
              "      <td>1</td>\n",
              "    </tr>\n",
              "    <tr>\n",
              "      <th>4</th>\n",
              "      <td>The selection on the menu was great and so wer...</td>\n",
              "      <td>1</td>\n",
              "    </tr>\n",
              "  </tbody>\n",
              "</table>\n",
              "</div>"
            ],
            "text/plain": [
              "                                              Review  Liked\n",
              "0                           Wow... Loved this place.      1\n",
              "1                                 Crust is not good.      0\n",
              "2          Not tasty and the texture was just nasty.      0\n",
              "3  Stopped by during the late May bank holiday of...      1\n",
              "4  The selection on the menu was great and so wer...      1"
            ]
          },
          "metadata": {},
          "execution_count": 52
        }
      ]
    },
    {
      "cell_type": "markdown",
      "metadata": {
        "id": "Py4wCc37m7z4"
      },
      "source": [
        "## **Balanced or Unbalanced Data?**"
      ]
    },
    {
      "cell_type": "code",
      "metadata": {
        "colab": {
          "base_uri": "https://localhost:8080/"
        },
        "id": "IkQCz4wY1At_",
        "outputId": "7edfd406-e325-42da-df96-bb0146a76e4b"
      },
      "source": [
        "data.Liked.value_counts()"
      ],
      "execution_count": null,
      "outputs": [
        {
          "output_type": "execute_result",
          "data": {
            "text/plain": [
              "1    500\n",
              "0    500\n",
              "Name: Liked, dtype: int64"
            ]
          },
          "metadata": {},
          "execution_count": 53
        }
      ]
    },
    {
      "cell_type": "markdown",
      "metadata": {
        "id": "EHnImopunDej"
      },
      "source": [
        "#### **Observations:**\n",
        "\n",
        "---\n",
        "\n",
        "\n",
        "- Since the dataset in balanced, for generalization we will use ``ACCURACY`` as the metric\n",
        "- For quality we will use ``f1-Score``"
      ]
    },
    {
      "cell_type": "markdown",
      "metadata": {
        "id": "oPTxR7VMoT83"
      },
      "source": [
        "## **For REVIEWS analysis we need word ``NOT``**\n",
        "- Remove ``not`` from stopwords"
      ]
    },
    {
      "cell_type": "code",
      "metadata": {
        "id": "nWMtsBMHUI0K"
      },
      "source": [
        "stop_words = stopwords.words('english')\n",
        "stop_words.remove('not')"
      ],
      "execution_count": null,
      "outputs": []
    },
    {
      "cell_type": "markdown",
      "metadata": {
        "id": "13sjaIG4nvYn"
      },
      "source": [
        "## **Expanding English language contraction**\n",
        "- you've -> you have\n",
        "- he's -> he is"
      ]
    },
    {
      "cell_type": "code",
      "metadata": {
        "id": "yozUkdUZPXBe"
      },
      "source": [
        "def decontracted(phrase):\n",
        "    # specific\n",
        "    phrase = re.sub(r\"won\\'t\", \"will not\", phrase)\n",
        "    phrase = re.sub(r\"can\\'t\", \"can not\", phrase)\n",
        "\n",
        "    # general\n",
        "    phrase = re.sub(r\"n\\'t\", \" not\", phrase)\n",
        "    phrase = re.sub(r\"\\'re\", \" are\", phrase)\n",
        "    phrase = re.sub(r\"\\'s\", \" is\", phrase)\n",
        "    phrase = re.sub(r\"\\'d\", \" would\", phrase)\n",
        "    phrase = re.sub(r\"\\'ll\", \" will\", phrase)\n",
        "    phrase = re.sub(r\"\\'t\", \" not\", phrase)\n",
        "    phrase = re.sub(r\"\\'ve\", \" have\", phrase)\n",
        "    phrase = re.sub(r\"\\'m\", \" am\", phrase)\n",
        "    return phrase\n",
        "\n",
        "data['Review'] = data['Review'].apply(lambda x: decontracted(x))"
      ],
      "execution_count": null,
      "outputs": []
    },
    {
      "cell_type": "code",
      "metadata": {
        "colab": {
          "base_uri": "https://localhost:8080/",
          "height": 36
        },
        "id": "hXSEgC5mNlRn",
        "outputId": "96622840-3c1f-47e7-b7a9-91e8bd39c1d2"
      },
      "source": [
        "# Checking String.punctuation\n",
        "string.punctuation"
      ],
      "execution_count": null,
      "outputs": [
        {
          "output_type": "execute_result",
          "data": {
            "application/vnd.google.colaboratory.intrinsic+json": {
              "type": "string"
            },
            "text/plain": [
              "'!\"#$%&\\'()*+,-./:;<=>?@[\\\\]^_`{|}~'"
            ]
          },
          "metadata": {},
          "execution_count": 56
        }
      ]
    },
    {
      "cell_type": "markdown",
      "metadata": {
        "id": "xCmGF3YktIRG"
      },
      "source": [
        "### **Seperate the data as features and label**"
      ]
    },
    {
      "cell_type": "code",
      "metadata": {
        "id": "fX3y1eVe6WIr"
      },
      "source": [
        "# Will ensure they are in Numpy form\n",
        "\n",
        "features = data.iloc[:,[0]].values\n",
        "label = data.iloc[:,[1]].values"
      ],
      "execution_count": null,
      "outputs": []
    },
    {
      "cell_type": "code",
      "metadata": {
        "id": "50VOe4ftbd2r"
      },
      "source": [
        "#  Creating an instance of PorterStemmer class, for stemming.\n",
        "stemObject = PorterStemmer()"
      ],
      "execution_count": null,
      "outputs": []
    },
    {
      "cell_type": "markdown",
      "metadata": {
        "id": "Vq9aeAYknnkL"
      },
      "source": [
        "## **Performing Text Preprocessing**\n",
        "- **We will create a text preprocessing function that can perform the following:**\n",
        "  1. Remove Punctuations\n",
        "  2. Extract words out of the sentences\n",
        "  3. Normalize the data (lowercase)\n",
        "  4. Remove Stopwords\n",
        "  5. Apply Stemming"
      ]
    },
    {
      "cell_type": "code",
      "metadata": {
        "id": "iyUspgAMNmVb"
      },
      "source": [
        "def textPreprocessing(document):\n",
        "  #1. Remove Punctuations\n",
        "  sentWithoutPunct = ''.join([char for char in document if char not in string.punctuation])\n",
        "  #2. Extract words out of the sentences\n",
        "  words = sentWithoutPunct.split()\n",
        "  #3. Normalize the data (lowercase | Uppercase | NormalCase)\n",
        "  wordNormalized = [word.lower() for word in words]\n",
        "  # 4. Remove Stopwords\n",
        "  vocabulary = \" \".join([word for word in wordNormalized if word not in stop_words])\n",
        "  # 5. Apply Stemming\n",
        "  stem_words = ''.join([stemObject.stem(word) for word in vocabulary])\n",
        "\n",
        "  # 6. Extract words\n",
        "  vocab= stem_words.split()\n",
        "\n",
        "  return vocab"
      ],
      "execution_count": null,
      "outputs": []
    },
    {
      "cell_type": "markdown",
      "metadata": {
        "id": "rUJ_7DMXtPpI"
      },
      "source": [
        "## **Creating BOW**"
      ]
    },
    {
      "cell_type": "code",
      "metadata": {
        "id": "dGsQYtgkN6gD"
      },
      "source": [
        "# Create BOW in SKlearn\n",
        "wordVector = CountVectorizer(analyzer = textPreprocessing)\n",
        "\n",
        "#Build the Vocabulary\n",
        "finalWordVectorVocab = wordVector.fit(features)\n",
        "\n",
        "# To create BOW\n",
        "bagOfWords = finalWordVectorVocab.transform(features)\n"
      ],
      "execution_count": null,
      "outputs": []
    },
    {
      "cell_type": "markdown",
      "metadata": {
        "id": "-NDswJ77tTml"
      },
      "source": [
        "## **Vocabulary created**"
      ]
    },
    {
      "cell_type": "code",
      "metadata": {
        "colab": {
          "base_uri": "https://localhost:8080/"
        },
        "id": "emIPGqR7QRoG",
        "outputId": "c250dcff-8c30-46f8-a34a-95ba1b0e6420"
      },
      "source": [
        "# printing only first 10\n",
        "{key: finalWordVectorVocab.vocabulary_[key] for key in finalWordVectorVocab.vocabulary_.keys() & \\\n",
        " list(finalWordVectorVocab.vocabulary_.keys())[:10]}"
      ],
      "execution_count": null,
      "outputs": [
        {
          "output_type": "execute_result",
          "data": {
            "text/plain": [
              "{'crust': 564,\n",
              " 'good.': 1009,\n",
              " 'loved': 1341,\n",
              " 'nasty.': 1496,\n",
              " 'not': 1532,\n",
              " 'place.': 1713,\n",
              " 'stopped': 2173,\n",
              " 'tasty': 2254,\n",
              " 'texture': 2277,\n",
              " 'wow...': 2555}"
            ]
          },
          "metadata": {},
          "execution_count": 61
        }
      ]
    },
    {
      "cell_type": "markdown",
      "metadata": {
        "id": "DI-68FQGtiy3"
      },
      "source": [
        "## **Apply TFIDF Algo on BOW to create a feature set**"
      ]
    },
    {
      "cell_type": "code",
      "metadata": {
        "id": "kkiTQ_ueQlI8"
      },
      "source": [
        "# Apply TFIDF Algo on BOW to create a feature set\n",
        "tfidfObject = TfidfTransformer().fit(bagOfWords)  #Calc IDF Values\n",
        "\n",
        "# Lets create Numeric Feature set\n",
        "processedFeatures = tfidfObject.transform(bagOfWords)"
      ],
      "execution_count": null,
      "outputs": []
    },
    {
      "cell_type": "markdown",
      "metadata": {
        "id": "HhM5i40Mt09m"
      },
      "source": [
        "## **Model-Building and checking Generalization**"
      ]
    },
    {
      "cell_type": "code",
      "metadata": {
        "colab": {
          "base_uri": "https://localhost:8080/"
        },
        "id": "v-WZ2gGFQvPo",
        "outputId": "d9e80337-916a-4274-dc4b-606d172e2bf0"
      },
      "source": [
        "# CL_Decided = 1- SL = 1- 0.35 \n",
        "CL_Decided = 1- 0.35 \n",
        "\n",
        "# Create Train Test Split (90% training -10% testing)\n",
        "X_train, X_test, y_train, y_test = train_test_split(processedFeatures, label,  test_size= 0.1, random_state = 27)\n",
        "\n",
        "# Building Model\n",
        "model = RandomForestClassifier(n_estimators=10, max_depth=5, random_state=27)\n",
        "model.fit(X_train, y_train)\n",
        "\n",
        "# Checking Accuracy Using Training and Testing set.\n",
        "train_score = model.score(X_train, y_train)\n",
        "test_score = model.score(X_test, y_test)\n",
        "\n",
        "# Printing CL_decided, Training and testing scores to check Generalization of the model.\n",
        "print(f\"Decided CL: \\n{CL_Decided}\\n\")\n",
        "print(f\"Score of Training set: \\n{train_score}\\n\")\n",
        "print(f\"Score of Testing set: \\n{test_score}\\n\")\n"
      ],
      "execution_count": null,
      "outputs": [
        {
          "output_type": "stream",
          "name": "stdout",
          "text": [
            "Decided CL: \n",
            "0.65\n",
            "\n",
            "Score of Training set: \n",
            "0.6988888888888889\n",
            "\n",
            "Score of Testing set: \n",
            "0.76\n",
            "\n"
          ]
        }
      ]
    },
    {
      "cell_type": "markdown",
      "metadata": {
        "id": "pT7EO-iHu4C0"
      },
      "source": [
        "#### **Observation:**\n",
        "\n",
        "---\n",
        "- Since model is generalized (test_score > train_score and test_score > CL), **we can check the quality of model using ``accuraccy``, as data is balanced.**\n"
      ]
    },
    {
      "cell_type": "markdown",
      "metadata": {
        "id": "ThuDWX4ivwA2"
      },
      "source": [
        "## **Comparing accuracy of Training and Testing set**"
      ]
    },
    {
      "cell_type": "code",
      "metadata": {
        "colab": {
          "base_uri": "https://localhost:8080/"
        },
        "id": "W7eQGkYPvvjb",
        "outputId": "a7f31451-ab2b-4ee5-fce1-62fd17dffd20"
      },
      "source": [
        "# CL_Decided = 1- SL = 1- 0.35 \n",
        "CL_Decided = 1- 0.35 \n",
        "\n",
        "# Create Train Test Split (90% training -10% testing)\n",
        "X_train, X_test, y_train, y_test = train_test_split(processedFeatures, label,  test_size= 0.1, random_state = 27)\n",
        "\n",
        "# Building Model\n",
        "model = RandomForestClassifier(n_estimators=10, max_depth=5, random_state=27)\n",
        "model.fit(X_train, y_train)\n",
        "\n",
        "# Checking Accuracy Using Training and Testing set.\n",
        "train_pred = model.predict(X_train)\n",
        "test_pred = model.predict(X_test)\n",
        "\n",
        "# Printing CL_decided, Training and testing scores to check Generalization of the model.\n",
        "print(f\"Decided CL: \\n{CL_Decided}\\n\")\n",
        "print(f\"Accuracy Score of Training set: \\n{metrics.accuracy_score(y_train, train_pred)}\\n\")\n",
        "print(f\"Accuracy Score of Testing set: \\n{metrics.accuracy_score(y_test, test_pred)}\\n\")\n"
      ],
      "execution_count": null,
      "outputs": [
        {
          "output_type": "stream",
          "name": "stdout",
          "text": [
            "Decided CL: \n",
            "0.65\n",
            "\n",
            "Accuracy Score of Training set: \n",
            "0.69\n",
            "\n",
            "Accuracy Score of Testing set: \n",
            "0.76\n",
            "\n"
          ]
        }
      ]
    },
    {
      "cell_type": "markdown",
      "metadata": {
        "id": "5cYPKdxFvO4d"
      },
      "source": [
        "### **Observation:**\n",
        "\n",
        "\n",
        "---\n",
        "- Since data is balanced let's consider ``accuracy`` for Quality check of the model.\n",
        "- ``accuracy`` of training data < testing data\n",
        "- ``accuracy`` of test_set >= CL decided.\n",
        "- Therefore model can be considered for deployment.\n",
        "- Let's also run the model with whole dataset available and check ``accuracy``\n"
      ]
    },
    {
      "cell_type": "markdown",
      "metadata": {
        "id": "Zsw3JnAivIGE"
      },
      "source": [
        "## **Checking the performance on whole Data** "
      ]
    },
    {
      "cell_type": "code",
      "metadata": {
        "id": "STCugHQ8REJH",
        "colab": {
          "base_uri": "https://localhost:8080/"
        },
        "outputId": "a385e275-f2ca-4e73-ffee-bcfc1052f86f"
      },
      "source": [
        "pred = model.predict(processedFeatures)\n",
        "print(metrics.classification_report(pred, label))"
      ],
      "execution_count": null,
      "outputs": [
        {
          "output_type": "stream",
          "name": "stdout",
          "text": [
            "              precision    recall  f1-score   support\n",
            "\n",
            "           0       0.52      0.81      0.63       321\n",
            "           1       0.88      0.65      0.74       679\n",
            "\n",
            "    accuracy                           0.70      1000\n",
            "   macro avg       0.70      0.73      0.69      1000\n",
            "weighted avg       0.76      0.70      0.71      1000\n",
            "\n"
          ]
        }
      ]
    },
    {
      "cell_type": "markdown",
      "metadata": {
        "id": "B2T0fB7wblQD"
      },
      "source": [
        "### **Observation:**\n",
        "\n",
        "\n",
        "---\n",
        "- Accuracy of whole data > CL."
      ]
    },
    {
      "cell_type": "markdown",
      "metadata": {
        "id": "dLdObdHDyJx1"
      },
      "source": [
        "## **Code for Deployement:**\n",
        "- Take the review from user as input.\n",
        "- Perform All preprocessing step on the given review.\n",
        "- Pass the preprocessed review to model and get prediction. "
      ]
    },
    {
      "cell_type": "code",
      "metadata": {
        "colab": {
          "base_uri": "https://localhost:8080/"
        },
        "id": "eIE3lyPb6BaU",
        "outputId": "b376eae5-e86b-4d49-d9d4-3fff20223728"
      },
      "source": [
        "print(data['Review'].iloc[34])\n",
        "print(data['Liked'].iloc[34])"
      ],
      "execution_count": null,
      "outputs": [
        {
          "output_type": "stream",
          "name": "stdout",
          "text": [
            "Overall, I like this place a lot.\n",
            "1\n"
          ]
        }
      ]
    },
    {
      "cell_type": "code",
      "metadata": {
        "id": "QygfxKWPJb61",
        "colab": {
          "base_uri": "https://localhost:8080/"
        },
        "outputId": "fee4b17a-8c7d-4802-b3cc-dcdbb5043028"
      },
      "source": [
        "# Take the review from user as input.\n",
        "query_review = input(\"Enter a review for the Restraunt: \")\n",
        "\n",
        "# Perform All preprocessing step on the given review.\n",
        "decon_query = decontracted(query_review)\n",
        "preprocessed_query = textPreprocessing(decon_query)  \n",
        "bagOfWords = finalWordVectorVocab.transform(preprocessed_query)\n",
        "processedquery = tfidfObject.transform(bagOfWords)\n",
        "print(f\"\\nPredictions: {model.predict(processedquery)}\\n\")\n",
        "print(f\"Selecting first value as final prediction : {model.predict(processedquery)[0]}\\n\")\n",
        "print(f\"Selecting mode as final prediction : {statistics.mode(model.predict(processedquery))}\\n\")"
      ],
      "execution_count": null,
      "outputs": [
        {
          "output_type": "stream",
          "name": "stdout",
          "text": [
            "Enter a review for the Restraunt: Overall, I like this place a lot.\n",
            "\n",
            "Predictions: [1 1 1 1]\n",
            "\n",
            "Selecting first value as final prediction : 1\n",
            "\n",
            "Selecting mode as final prediction : 1\n",
            "\n"
          ]
        }
      ]
    },
    {
      "cell_type": "markdown",
      "metadata": {
        "id": "imw0FxFR73sE"
      },
      "source": [
        "## **More Work-to-be-done:** \n",
        "- Following case model fails, because sentiments were not captured by model.\n"
      ]
    },
    {
      "cell_type": "code",
      "metadata": {
        "colab": {
          "base_uri": "https://localhost:8080/"
        },
        "id": "rCxLbJtO7w03",
        "outputId": "096717a0-c2b9-491d-9baa-58de94102fff"
      },
      "source": [
        "print(data['Review'].iloc[33])\n",
        "print(data['Liked'].iloc[33])"
      ],
      "execution_count": null,
      "outputs": [
        {
          "output_type": "stream",
          "name": "stdout",
          "text": [
            "seems like a good quick place to grab a bite of some familiar pub food, but do yourself a favor and look elsewhere.\n",
            "0\n"
          ]
        }
      ]
    },
    {
      "cell_type": "code",
      "metadata": {
        "colab": {
          "base_uri": "https://localhost:8080/"
        },
        "id": "d5WqJGEL7s47",
        "outputId": "f90e634e-3ddc-4ab9-f2d6-64c1274a2ae7"
      },
      "source": [
        "# Take the review from user as input.\n",
        "query_review = input(\"Enter a review for the Restraunt: \")\n",
        "\n",
        "# Perform All preprocessing step on the given review.\n",
        "decon_query = decontracted(query_review)\n",
        "preprocessed_query = textPreprocessing(decon_query)  \n",
        "bagOfWords = finalWordVectorVocab.transform(preprocessed_query)\n",
        "processedquery = tfidfObject.transform(bagOfWords)\n",
        "print(f\"\\nPredictions: {model.predict(processedquery)}\\n\")\n",
        "print(f\"Selecting first value as final prediction : {model.predict(processedquery)[0]}\\n\")\n",
        "print(f\"Selecting mode as final prediction : {statistics.mode(model.predict(processedquery))}\\n\")"
      ],
      "execution_count": null,
      "outputs": [
        {
          "output_type": "stream",
          "name": "stdout",
          "text": [
            "Enter a review for the Restraunt: seems like a good quick place to grab a bite of some familiar pub food, but do yourself a favor and look elsewhere.\n",
            "\n",
            "Predictions: [1 1 1 1 1 1 1 1 1 1 1 1 1]\n",
            "\n",
            "Selecting first value as final prediction : 1\n",
            "\n",
            "Selecting mode as final prediction : 1\n",
            "\n"
          ]
        }
      ]
    },
    {
      "cell_type": "markdown",
      "metadata": {
        "id": "SDOCCuAO8Lzn"
      },
      "source": [
        "## **Let's see if Vader can predict this review correctly.**"
      ]
    },
    {
      "cell_type": "code",
      "metadata": {
        "colab": {
          "base_uri": "https://localhost:8080/"
        },
        "id": "qcF9ePGJ71yJ",
        "outputId": "685a0f70-667c-4d02-b201-268661680c1b"
      },
      "source": [
        "nltk.download('vader_lexicon')\n",
        "from nltk.sentiment.vader import SentimentIntensityAnalyzer\n",
        "sentimentAnalyser = SentimentIntensityAnalyzer()"
      ],
      "execution_count": null,
      "outputs": [
        {
          "output_type": "stream",
          "name": "stdout",
          "text": [
            "[nltk_data] Downloading package vader_lexicon to /root/nltk_data...\n",
            "[nltk_data]   Package vader_lexicon is already up-to-date!\n"
          ]
        }
      ]
    },
    {
      "cell_type": "code",
      "metadata": {
        "id": "HUHejt_58f_M"
      },
      "source": [
        "data['labelFromVADER'] = data['Review'].apply(lambda review: \"1\" if sentimentAnalyser.polarity_scores(review) \\\n",
        "['compound'] > 0.5 else \"0\")\n",
        "\n",
        "# Will ensure they are in Numpy form\n",
        "features = data.iloc[:,[0,2]].values\n",
        "label = data.iloc[:,[1]].values\n",
        "\n",
        "# Create BOW in SKlearn\n",
        "wordVector = CountVectorizer(analyzer = textPreprocessing)\n",
        "\n",
        "#Build the Vocabulary\n",
        "finalWordVectorVocab = wordVector.fit(features)\n",
        "\n",
        "# To create BOW\n",
        "bagOfWords = finalWordVectorVocab.transform(features)\n",
        "\n",
        "# Apply TFIDF Algo on BOW to create a feature set\n",
        "tfidfObject = TfidfTransformer().fit(bagOfWords)  #Calc IDF Values\n",
        "\n",
        "# Lets create Numeric Feature set\n",
        "processedFeatures = tfidfObject.transform(bagOfWords)"
      ],
      "execution_count": null,
      "outputs": []
    },
    {
      "cell_type": "code",
      "metadata": {
        "colab": {
          "base_uri": "https://localhost:8080/"
        },
        "id": "zbwK7YGa9CVF",
        "outputId": "043976f6-f131-4cc7-ad4a-8491a8f09f3d"
      },
      "source": [
        "# CL_Decided = 1- SL = 1- 0.35 \n",
        "CL_Decided = 1- 0.35 \n",
        "\n",
        "# Create Train Test Split (90% training -10% testing)\n",
        "X_train, X_test, y_train, y_test = train_test_split(processedFeatures, label,  test_size= 0.1, random_state = 27)\n",
        "\n",
        "# Building Model\n",
        "model = RandomForestClassifier(n_estimators=10, max_depth=5, random_state=27)\n",
        "model.fit(X_train, y_train)\n",
        "\n",
        "# Checking Accuracy Using Training and Testing set.\n",
        "train_score = model.score(X_train, y_train)\n",
        "test_score = model.score(X_test, y_test)\n",
        "\n",
        "# Printing CL_decided, Training and testing scores to check Generalization of the model.\n",
        "print(f\"Decided CL: \\n{CL_Decided}\\n\")\n",
        "print(f\"Score of Training set: \\n{train_score}\\n\")\n",
        "print(f\"Score of Testing set: \\n{test_score}\\n\")\n"
      ],
      "execution_count": null,
      "outputs": [
        {
          "output_type": "stream",
          "name": "stdout",
          "text": [
            "Decided CL: \n",
            "0.65\n",
            "\n",
            "Score of Training set: \n",
            "0.69\n",
            "\n",
            "Score of Testing set: \n",
            "0.76\n",
            "\n"
          ]
        }
      ]
    },
    {
      "cell_type": "code",
      "metadata": {
        "colab": {
          "base_uri": "https://localhost:8080/"
        },
        "id": "5W4muhYt-wOJ",
        "outputId": "c12d1d9e-4a52-41b0-8a30-524baf3c93f3"
      },
      "source": [
        "# CL_Decided = 1- SL = 1- 0.35 \n",
        "CL_Decided = 1- 0.35 \n",
        "\n",
        "# Create Train Test Split (90% training -10% testing)\n",
        "X_train, X_test, y_train, y_test = train_test_split(processedFeatures, label,  test_size= 0.1, random_state = 27)\n",
        "\n",
        "# Building Model\n",
        "model = RandomForestClassifier(n_estimators=10, max_depth=5, random_state=27)\n",
        "model.fit(X_train, y_train)\n",
        "\n",
        "# Checking Accuracy Using Training and Testing set.\n",
        "train_pred = model.predict(X_train)\n",
        "test_pred = model.predict(X_test)\n",
        "\n",
        "# Printing CL_decided, Training and testing scores to check Generalization of the model.\n",
        "print(f\"Decided CL: \\n{CL_Decided}\\n\")\n",
        "print(f\"Classification Report of Training set: \\n{metrics.classification_report(y_train, train_pred)}\\n\")\n",
        "print(f\"Classification Report of Testing set: \\n{metrics.classification_report(y_test, test_pred)}\\n\")\n"
      ],
      "execution_count": null,
      "outputs": [
        {
          "output_type": "stream",
          "name": "stdout",
          "text": [
            "Decided CL: \n",
            "0.65\n",
            "\n",
            "Classification Report of Training set: \n",
            "              precision    recall  f1-score   support\n",
            "\n",
            "           0       0.81      0.51      0.63       461\n",
            "           1       0.63      0.88      0.73       439\n",
            "\n",
            "    accuracy                           0.69       900\n",
            "   macro avg       0.72      0.69      0.68       900\n",
            "weighted avg       0.72      0.69      0.68       900\n",
            "\n",
            "\n",
            "Classification Report of Testing set: \n",
            "              precision    recall  f1-score   support\n",
            "\n",
            "           0       0.74      0.59      0.66        39\n",
            "           1       0.77      0.87      0.82        61\n",
            "\n",
            "    accuracy                           0.76       100\n",
            "   macro avg       0.76      0.73      0.74       100\n",
            "weighted avg       0.76      0.76      0.75       100\n",
            "\n",
            "\n"
          ]
        }
      ]
    },
    {
      "cell_type": "code",
      "metadata": {
        "colab": {
          "base_uri": "https://localhost:8080/"
        },
        "id": "47kNwAn7_HGE",
        "outputId": "0892fe78-e40e-45e0-ef6f-687fc82f67d4"
      },
      "source": [
        "pred = model.predict(processedFeatures)\n",
        "print(metrics.classification_report(pred, label))\n",
        "\n"
      ],
      "execution_count": null,
      "outputs": [
        {
          "output_type": "stream",
          "name": "stdout",
          "text": [
            "              precision    recall  f1-score   support\n",
            "\n",
            "           0       0.52      0.81      0.63       321\n",
            "           1       0.88      0.65      0.74       679\n",
            "\n",
            "    accuracy                           0.70      1000\n",
            "   macro avg       0.70      0.73      0.69      1000\n",
            "weighted avg       0.76      0.70      0.71      1000\n",
            "\n"
          ]
        }
      ]
    },
    {
      "cell_type": "code",
      "metadata": {
        "colab": {
          "base_uri": "https://localhost:8080/"
        },
        "id": "tXqNc4hn_ulP",
        "outputId": "6eede75d-ed79-4f6e-9b18-6f218831e8f5"
      },
      "source": [
        "print(data['Review'].iloc[33])\n",
        "print(data['Liked'].iloc[33])"
      ],
      "execution_count": null,
      "outputs": [
        {
          "output_type": "stream",
          "name": "stdout",
          "text": [
            "seems like a good quick place to grab a bite of some familiar pub food, but do yourself a favor and look elsewhere.\n",
            "0\n"
          ]
        }
      ]
    },
    {
      "cell_type": "code",
      "metadata": {
        "colab": {
          "base_uri": "https://localhost:8080/"
        },
        "id": "Emd3WsnZ_Mt9",
        "outputId": "13f476ad-c065-48b1-a90f-2ac41cdbbc13"
      },
      "source": [
        "# Take the review from user as input.\n",
        "query_review = input(\"Enter a review for the Restraunt: \")\n",
        "\n",
        "# Perform All preprocessing step on the given review.\n",
        "decon_query = decontracted(query_review)\n",
        "preprocessed_query = textPreprocessing(decon_query)  \n",
        "bagOfWords = finalWordVectorVocab.transform(preprocessed_query)\n",
        "processedquery = tfidfObject.transform(bagOfWords)\n",
        "print(f\"\\nPredictions: {model.predict(processedquery)}\\n\")\n",
        "print(f\"Selecting first value as final prediction : {model.predict(processedquery)[0]}\\n\")\n",
        "print(f\"Selecting mode as final prediction : {statistics.mode(model.predict(processedquery))}\\n\")"
      ],
      "execution_count": null,
      "outputs": [
        {
          "output_type": "stream",
          "name": "stdout",
          "text": [
            "Enter a review for the Restraunt:   seems like a good quick place to grab a bite of some familiar pub food, but do yourself a favor and look elsewhere.\n",
            "\n",
            "Predictions: [1 0 1 1 1 1 1 1 1 1 1 1 1]\n",
            "\n",
            "Selecting first value as final prediction : 1\n",
            "\n",
            "Selecting mode as final prediction : 1\n",
            "\n"
          ]
        }
      ]
    }
  ]
}