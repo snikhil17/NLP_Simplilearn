{
  "nbformat": 4,
  "nbformat_minor": 0,
  "metadata": {
    "colab": {
      "name": "Regular Expression.ipynb",
      "provenance": [],
      "collapsed_sections": [],
      "authorship_tag": "ABX9TyPGIOMq2iEm1301jhpLUTo2",
      "include_colab_link": true
    },
    "kernelspec": {
      "name": "python3",
      "display_name": "Python 3"
    },
    "language_info": {
      "name": "python"
    }
  },
  "cells": [
    {
      "cell_type": "markdown",
      "metadata": {
        "id": "view-in-github",
        "colab_type": "text"
      },
      "source": [
        "<a href=\"https://colab.research.google.com/github/snikhil17/NLP_course_Simplilearn/blob/main/Regular_Expression.ipynb\" target=\"_parent\"><img src=\"https://colab.research.google.com/assets/colab-badge.svg\" alt=\"Open In Colab\"/></a>"
      ]
    },
    {
      "cell_type": "code",
      "metadata": {
        "id": "9oFJv84Rf73A"
      },
      "source": [
        "text = \"The phone number of the agent is 408-555-1234. Call soon!\""
      ],
      "execution_count": 1,
      "outputs": []
    },
    {
      "cell_type": "code",
      "metadata": {
        "id": "LMnrr-HcjmMM"
      },
      "source": [
        "import re"
      ],
      "execution_count": 2,
      "outputs": []
    },
    {
      "cell_type": "code",
      "metadata": {
        "id": "-bEB7OnPjnUQ"
      },
      "source": [
        "pattern  = \"phone\""
      ],
      "execution_count": 3,
      "outputs": []
    },
    {
      "cell_type": "code",
      "metadata": {
        "colab": {
          "base_uri": "https://localhost:8080/"
        },
        "id": "QvRKm4Tojr4n",
        "outputId": "080ff869-0e8d-4a46-c472-0488193fe218"
      },
      "source": [
        "re.search(pattern, text)"
      ],
      "execution_count": 4,
      "outputs": [
        {
          "output_type": "execute_result",
          "data": {
            "text/plain": [
              "<re.Match object; span=(4, 9), match='phone'>"
            ]
          },
          "metadata": {},
          "execution_count": 4
        }
      ]
    },
    {
      "cell_type": "code",
      "metadata": {
        "id": "Z6xiVFbLjwvE"
      },
      "source": [
        "my_match = re.search(pattern, text)"
      ],
      "execution_count": 5,
      "outputs": []
    },
    {
      "cell_type": "code",
      "metadata": {
        "colab": {
          "base_uri": "https://localhost:8080/"
        },
        "id": "vY2ugFlJj2vN",
        "outputId": "81a37efc-bca3-435f-f6ce-f5059274ac44"
      },
      "source": [
        "my_match.span()"
      ],
      "execution_count": 6,
      "outputs": [
        {
          "output_type": "execute_result",
          "data": {
            "text/plain": [
              "(4, 9)"
            ]
          },
          "metadata": {},
          "execution_count": 6
        }
      ]
    },
    {
      "cell_type": "code",
      "metadata": {
        "colab": {
          "base_uri": "https://localhost:8080/",
          "height": 36
        },
        "id": "vC85JS5lj4O8",
        "outputId": "98fc3590-11c5-4844-d914-6150b7f497a9"
      },
      "source": [
        "text[4:9]"
      ],
      "execution_count": 7,
      "outputs": [
        {
          "output_type": "execute_result",
          "data": {
            "application/vnd.google.colaboratory.intrinsic+json": {
              "type": "string"
            },
            "text/plain": [
              "'phone'"
            ]
          },
          "metadata": {},
          "execution_count": 7
        }
      ]
    },
    {
      "cell_type": "code",
      "metadata": {
        "colab": {
          "base_uri": "https://localhost:8080/"
        },
        "id": "-gV5Qah1j9wn",
        "outputId": "997ea414-e10d-4248-d773-e2507ac927c1"
      },
      "source": [
        "my_match.start()"
      ],
      "execution_count": 8,
      "outputs": [
        {
          "output_type": "execute_result",
          "data": {
            "text/plain": [
              "4"
            ]
          },
          "metadata": {},
          "execution_count": 8
        }
      ]
    },
    {
      "cell_type": "code",
      "metadata": {
        "colab": {
          "base_uri": "https://localhost:8080/"
        },
        "id": "bge0PoEOkB9O",
        "outputId": "97d7cef3-a643-48c5-e6ba-88aa20751545"
      },
      "source": [
        "my_match.end()"
      ],
      "execution_count": 9,
      "outputs": [
        {
          "output_type": "execute_result",
          "data": {
            "text/plain": [
              "9"
            ]
          },
          "metadata": {},
          "execution_count": 9
        }
      ]
    },
    {
      "cell_type": "markdown",
      "metadata": {
        "id": "nQhEC3CTkTpR"
      },
      "source": [
        "## **``re.search`` only finds the first occurrence** "
      ]
    },
    {
      "cell_type": "code",
      "metadata": {
        "colab": {
          "base_uri": "https://localhost:8080/"
        },
        "id": "IwtXY7-1kDgb",
        "outputId": "22ce3c44-1c99-465c-b33d-9aa8a1a8ea47"
      },
      "source": [
        "text = \"my phone is a new phone\"\n",
        "match = re.search(pattern, text)\n",
        "match.span()"
      ],
      "execution_count": 10,
      "outputs": [
        {
          "output_type": "execute_result",
          "data": {
            "text/plain": [
              "(3, 8)"
            ]
          },
          "metadata": {},
          "execution_count": 10
        }
      ]
    },
    {
      "cell_type": "markdown",
      "metadata": {
        "id": "sJ8jAr_2kzhf"
      },
      "source": [
        "## **Use ``re.findall()`` to find the all matches**"
      ]
    },
    {
      "cell_type": "code",
      "metadata": {
        "colab": {
          "base_uri": "https://localhost:8080/"
        },
        "id": "HTyxQyoAkS5e",
        "outputId": "27c8ca1a-cb91-4361-ef84-392e44ee633e"
      },
      "source": [
        "all_matches = re.findall(\"phone\", text)\n",
        "all_matches"
      ],
      "execution_count": 12,
      "outputs": [
        {
          "output_type": "execute_result",
          "data": {
            "text/plain": [
              "['phone', 'phone']"
            ]
          },
          "metadata": {},
          "execution_count": 12
        }
      ]
    },
    {
      "cell_type": "code",
      "metadata": {
        "colab": {
          "base_uri": "https://localhost:8080/"
        },
        "id": "dfI9ErZgkj8Z",
        "outputId": "02b1211c-048b-4c09-e394-79ac806fba81"
      },
      "source": [
        "len(all_matches)"
      ],
      "execution_count": 13,
      "outputs": [
        {
          "output_type": "execute_result",
          "data": {
            "text/plain": [
              "2"
            ]
          },
          "metadata": {},
          "execution_count": 13
        }
      ]
    },
    {
      "cell_type": "markdown",
      "metadata": {
        "id": "o1MC68rDlA-K"
      },
      "source": [
        "## **To find the matched object. We loop over ``re.finditer()`` and can print:** \n",
        "- **.span()**\n",
        "- **.start()**\n",
        "- **.end()**"
      ]
    },
    {
      "cell_type": "code",
      "metadata": {
        "colab": {
          "base_uri": "https://localhost:8080/"
        },
        "id": "2T84cMPYkoWr",
        "outputId": "484f2ddb-ed08-4977-e912-50f6ad0bd1c7"
      },
      "source": [
        "for match in re.finditer(\"phone\", text):\n",
        "  print(match.span())\n",
        "  print(text[match.start():match.end()], '\\n')\n",
        "  "
      ],
      "execution_count": 18,
      "outputs": [
        {
          "output_type": "stream",
          "name": "stdout",
          "text": [
            "(3, 8)\n",
            "phone \n",
            "\n",
            "(18, 23)\n",
            "phone \n",
            "\n"
          ]
        }
      ]
    },
    {
      "cell_type": "markdown",
      "metadata": {
        "id": "m0G0fToDmahE"
      },
      "source": [
        "# **Identifiers for character in patterns**"
      ]
    },
    {
      "cell_type": "code",
      "metadata": {
        "id": "ildnrHBlkx8P"
      },
      "source": [
        "text = \"My telephone number is 777-555-1234\""
      ],
      "execution_count": 20,
      "outputs": []
    },
    {
      "cell_type": "code",
      "metadata": {
        "id": "e1I_VSWzmnH6"
      },
      "source": [
        "pattern = r'\\d\\d\\d-\\d\\d\\d-\\d\\d\\d\\d'"
      ],
      "execution_count": 21,
      "outputs": []
    },
    {
      "cell_type": "code",
      "metadata": {
        "colab": {
          "base_uri": "https://localhost:8080/"
        },
        "id": "aFtwCKTAm9Qh",
        "outputId": "d631902a-36ad-4c2b-8657-be8213705196"
      },
      "source": [
        "phone_number  = re.search(pattern, text)\n",
        "phone_number"
      ],
      "execution_count": 22,
      "outputs": [
        {
          "output_type": "execute_result",
          "data": {
            "text/plain": [
              "<re.Match object; span=(23, 35), match='777-555-1234'>"
            ]
          },
          "metadata": {},
          "execution_count": 22
        }
      ]
    },
    {
      "cell_type": "code",
      "metadata": {
        "colab": {
          "base_uri": "https://localhost:8080/",
          "height": 36
        },
        "id": "4ayrifnznD6l",
        "outputId": "6fc364ae-dc19-4e88-9118-8267501de787"
      },
      "source": [
        "phone_number.group()"
      ],
      "execution_count": 23,
      "outputs": [
        {
          "output_type": "execute_result",
          "data": {
            "application/vnd.google.colaboratory.intrinsic+json": {
              "type": "string"
            },
            "text/plain": [
              "'777-555-1234'"
            ]
          },
          "metadata": {},
          "execution_count": 23
        }
      ]
    },
    {
      "cell_type": "markdown",
      "metadata": {
        "id": "E_pFVnN4nmDg"
      },
      "source": [
        "## **Using ``quantifiers`` to get the above result**"
      ]
    },
    {
      "cell_type": "code",
      "metadata": {
        "id": "XgaQL9VYnGRr"
      },
      "source": [
        "pattern = r'\\d{3}-\\d{3}-\\d{4}'"
      ],
      "execution_count": 24,
      "outputs": []
    },
    {
      "cell_type": "code",
      "metadata": {
        "colab": {
          "base_uri": "https://localhost:8080/"
        },
        "id": "P_HLut9ln2sI",
        "outputId": "ffe4b2b9-97b5-4811-cb5b-7e9791db5122"
      },
      "source": [
        "phone_number  = re.search(pattern, text)\n",
        "phone_number"
      ],
      "execution_count": 25,
      "outputs": [
        {
          "output_type": "execute_result",
          "data": {
            "text/plain": [
              "<re.Match object; span=(23, 35), match='777-555-1234'>"
            ]
          },
          "metadata": {},
          "execution_count": 25
        }
      ]
    },
    {
      "cell_type": "code",
      "metadata": {
        "colab": {
          "base_uri": "https://localhost:8080/",
          "height": 36
        },
        "id": "FP5rPIs6n4WC",
        "outputId": "80bb0ef4-5156-4af1-fce6-fa14d5717bf4"
      },
      "source": [
        "phone_number.group()"
      ],
      "execution_count": 26,
      "outputs": [
        {
          "output_type": "execute_result",
          "data": {
            "application/vnd.google.colaboratory.intrinsic+json": {
              "type": "string"
            },
            "text/plain": [
              "'777-555-1234'"
            ]
          },
          "metadata": {},
          "execution_count": 26
        }
      ]
    },
    {
      "cell_type": "markdown",
      "metadata": {
        "id": "FsM2yvTeoY4P"
      },
      "source": [
        "## **Working with group** \n",
        "- we use paranthesis to separate the groups and we can access them using the index.\n",
        "- Index starts-with 1 and not 0."
      ]
    },
    {
      "cell_type": "code",
      "metadata": {
        "id": "gAESbNTmn5qy"
      },
      "source": [
        " pattern = r'(\\d{3})-(\\d{3})-(\\d{4})'"
      ],
      "execution_count": 30,
      "outputs": []
    },
    {
      "cell_type": "code",
      "metadata": {
        "colab": {
          "base_uri": "https://localhost:8080/"
        },
        "id": "RdL7A-aBpToX",
        "outputId": "74210cb8-5776-430b-edb3-18a449e2a690"
      },
      "source": [
        "phone_number  = re.search(pattern, text)\n",
        "phone_number"
      ],
      "execution_count": 31,
      "outputs": [
        {
          "output_type": "execute_result",
          "data": {
            "text/plain": [
              "<re.Match object; span=(23, 35), match='777-555-1234'>"
            ]
          },
          "metadata": {},
          "execution_count": 31
        }
      ]
    },
    {
      "cell_type": "code",
      "metadata": {
        "colab": {
          "base_uri": "https://localhost:8080/",
          "height": 36
        },
        "id": "iDl97JnApX6j",
        "outputId": "51012743-0449-4a99-d14b-ce381dd872fd"
      },
      "source": [
        "phone_number.group()"
      ],
      "execution_count": 32,
      "outputs": [
        {
          "output_type": "execute_result",
          "data": {
            "application/vnd.google.colaboratory.intrinsic+json": {
              "type": "string"
            },
            "text/plain": [
              "'777-555-1234'"
            ]
          },
          "metadata": {},
          "execution_count": 32
        }
      ]
    },
    {
      "cell_type": "code",
      "metadata": {
        "colab": {
          "base_uri": "https://localhost:8080/"
        },
        "id": "dQOIHOG0pZKZ",
        "outputId": "3c50ae73-d71a-47b9-a683-e78c1f987920"
      },
      "source": [
        "print(phone_number.group(1))\n",
        "print(phone_number.group(2))\n",
        "print(phone_number.group(3))"
      ],
      "execution_count": 34,
      "outputs": [
        {
          "output_type": "stream",
          "name": "stdout",
          "text": [
            "777\n",
            "555\n",
            "1234\n"
          ]
        }
      ]
    },
    {
      "cell_type": "markdown",
      "metadata": {
        "id": "SF0F8k7Fp4zK"
      },
      "source": [
        "## **pipe operator ``|``**\n",
        "- **used for ``OR``**"
      ]
    },
    {
      "cell_type": "code",
      "metadata": {
        "colab": {
          "base_uri": "https://localhost:8080/"
        },
        "id": "Fynt0gj5pbpc",
        "outputId": "a4a2c2d0-2b5f-4636-f1d0-c77ca717e5b8"
      },
      "source": [
        "re.search(r\"man|woman\", \"This man was here\")"
      ],
      "execution_count": 35,
      "outputs": [
        {
          "output_type": "execute_result",
          "data": {
            "text/plain": [
              "<re.Match object; span=(5, 8), match='man'>"
            ]
          },
          "metadata": {},
          "execution_count": 35
        }
      ]
    },
    {
      "cell_type": "code",
      "metadata": {
        "colab": {
          "base_uri": "https://localhost:8080/"
        },
        "id": "nzKw4ejcsymc",
        "outputId": "f3948e8d-4b65-4e5d-c45d-4961c4ba8a9b"
      },
      "source": [
        "re.search(r\"man|woman\", \"This woman was here\")"
      ],
      "execution_count": 36,
      "outputs": [
        {
          "output_type": "execute_result",
          "data": {
            "text/plain": [
              "<re.Match object; span=(5, 10), match='woman'>"
            ]
          },
          "metadata": {},
          "execution_count": 36
        }
      ]
    },
    {
      "cell_type": "markdown",
      "metadata": {
        "id": "IFRTzXhcuLWZ"
      },
      "source": [
        "## **Using a wild card character.**\n",
        "- **``.`` (dot) is used as wild card character**\n",
        "- **it is a placement that matches any character there.** \n",
        "- **returns the first closest letter. e.g. see ``splat``**   "
      ]
    },
    {
      "cell_type": "code",
      "metadata": {
        "colab": {
          "base_uri": "https://localhost:8080/"
        },
        "id": "i1nI1r5Xs0U_",
        "outputId": "ad45f31d-1c1a-481b-c7e8-e25719362b66"
      },
      "source": [
        "re.findall(r\".at\", \"cat, rat, splat\")"
      ],
      "execution_count": 37,
      "outputs": [
        {
          "output_type": "execute_result",
          "data": {
            "text/plain": [
              "['cat', 'rat', 'lat']"
            ]
          },
          "metadata": {},
          "execution_count": 37
        }
      ]
    },
    {
      "cell_type": "code",
      "metadata": {
        "id": "JjITFbtIvAS5"
      },
      "source": [
        ""
      ],
      "execution_count": null,
      "outputs": []
    }
  ]
}
